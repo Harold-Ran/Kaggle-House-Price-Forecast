{
 "cells": [
  {
   "cell_type": "code",
   "execution_count": 2,
   "metadata": {
    "colab": {
     "base_uri": "https://localhost:8080/",
     "height": 126
    },
    "colab_type": "code",
    "executionInfo": {
     "elapsed": 130941,
     "status": "ok",
     "timestamp": 1594044765389,
     "user": {
      "displayName": "Harold Ran",
      "photoUrl": "",
      "userId": "00745499557779892259"
     },
     "user_tz": -480
    },
    "id": "BBTLuYr-4K5Z",
    "outputId": "e88a59ba-a1e1-4586-ec79-68e417e6e90d"
   },
   "outputs": [
    {
     "name": "stdout",
     "output_type": "stream",
     "text": [
      "Go to this URL in a browser: https://accounts.google.com/o/oauth2/auth?client_id=947318989803-6bn6qk8qdgf4n4g3pfee6491hc0brc4i.apps.googleusercontent.com&redirect_uri=urn%3aietf%3awg%3aoauth%3a2.0%3aoob&response_type=code&scope=email%20https%3a%2f%2fwww.googleapis.com%2fauth%2fdocs.test%20https%3a%2f%2fwww.googleapis.com%2fauth%2fdrive%20https%3a%2f%2fwww.googleapis.com%2fauth%2fdrive.photos.readonly%20https%3a%2f%2fwww.googleapis.com%2fauth%2fpeopleapi.readonly\n",
      "\n",
      "Enter your authorization code:\n",
      "··········\n",
      "Mounted at /content/drive\n"
     ]
    }
   ],
   "source": [
    "from google.colab import drive\n",
    "drive.mount('/content/drive')"
   ]
  },
  {
   "cell_type": "code",
   "execution_count": 3,
   "metadata": {
    "colab": {
     "base_uri": "https://localhost:8080/",
     "height": 35
    },
    "colab_type": "code",
    "executionInfo": {
     "elapsed": 1197,
     "status": "ok",
     "timestamp": 1594044769658,
     "user": {
      "displayName": "Harold Ran",
      "photoUrl": "",
      "userId": "00745499557779892259"
     },
     "user_tz": -480
    },
    "id": "xAM8qxeC5CfX",
    "outputId": "3bd6443c-6173-488e-9ce7-919fa96f6261"
   },
   "outputs": [
    {
     "name": "stdout",
     "output_type": "stream",
     "text": [
      "/content/drive/My Drive/House-price-forecast\n"
     ]
    }
   ],
   "source": [
    "%cd '/content/drive/My Drive/House-price-forecast'"
   ]
  },
  {
   "cell_type": "code",
   "execution_count": 4,
   "metadata": {
    "colab": {
     "base_uri": "https://localhost:8080/",
     "height": 72
    },
    "colab_type": "code",
    "executionInfo": {
     "elapsed": 1538,
     "status": "ok",
     "timestamp": 1594044773476,
     "user": {
      "displayName": "Harold Ran",
      "photoUrl": "",
      "userId": "00745499557779892259"
     },
     "user_tz": -480
    },
    "id": "ZKW_x2o25Sxz",
    "outputId": "331dbb77-3ba4-47fb-a9af-1f9550625106"
   },
   "outputs": [
    {
     "name": "stderr",
     "output_type": "stream",
     "text": [
      "/usr/local/lib/python3.6/dist-packages/statsmodels/tools/_testing.py:19: FutureWarning: pandas.util.testing is deprecated. Use the functions in the public API at pandas.testing instead.\n",
      "  import pandas.util.testing as tm\n"
     ]
    }
   ],
   "source": [
    "#基础\n",
    "import numpy as np\n",
    "import pandas as pd\n",
    "import time\n",
    "\n",
    "#绘图\n",
    "import seaborn as sns\n",
    "import matplotlib.pyplot as plt\n",
    "%matplotlib inline\n",
    "\n",
    "#模型\n",
    "from sklearn.linear_model import Lasso, LassoCV, ElasticNet, ElasticNetCV, Ridge, RidgeCV\n",
    "from sklearn.ensemble import RandomForestRegressor, GradientBoostingRegressor, StackingRegressor\n",
    "from mlxtend.regressor import StackingCVRegressor\n",
    "from sklearn.svm import SVR\n",
    "import lightgbm as lgb\n",
    "import xgboost as xgb\n",
    "\n",
    "#模型相关\n",
    "from sklearn.pipeline import make_pipeline\n",
    "from sklearn.preprocessing import RobustScaler\n",
    "from sklearn.model_selection import KFold, cross_val_score, GridSearchCV\n",
    "from sklearn.metrics import mean_squared_error\n",
    "\n",
    "#忽略警告\n",
    "import warnings\n",
    "def ignore_warn(*args, **kwargs):\n",
    "    pass\n",
    "warnings.warn = ignore_warn"
   ]
  },
  {
   "cell_type": "code",
   "execution_count": 5,
   "metadata": {
    "colab": {
     "base_uri": "https://localhost:8080/",
     "height": 52
    },
    "colab_type": "code",
    "executionInfo": {
     "elapsed": 3603,
     "status": "ok",
     "timestamp": 1594044780227,
     "user": {
      "displayName": "Harold Ran",
      "photoUrl": "",
      "userId": "00745499557779892259"
     },
     "user_tz": -480
    },
    "id": "2mYt93F_5p0A",
    "outputId": "a7792545-0b2e-4f14-cb8b-6b89a00dbd7b"
   },
   "outputs": [
    {
     "name": "stdout",
     "output_type": "stream",
     "text": [
      "The shape of training data: (1458, 160)\n",
      "The shape of testing data: (1459, 159)\n"
     ]
    }
   ],
   "source": [
    "train = pd.read_csv('train_data.csv')\n",
    "test = pd.read_csv('test_data.csv')\n",
    "print('The shape of training data:', train.shape)\n",
    "print('The shape of testing data:', test.shape)"
   ]
  },
  {
   "cell_type": "code",
   "execution_count": 6,
   "metadata": {
    "colab": {
     "base_uri": "https://localhost:8080/",
     "height": 35
    },
    "colab_type": "code",
    "executionInfo": {
     "elapsed": 1774,
     "status": "ok",
     "timestamp": 1594044780235,
     "user": {
      "displayName": "Harold Ran",
      "photoUrl": "",
      "userId": "00745499557779892259"
     },
     "user_tz": -480
    },
    "id": "V8oHsCHP6ZPv",
    "outputId": "09870b4d-04c6-4bd6-9383-0a5122e795be"
   },
   "outputs": [
    {
     "data": {
      "text/plain": [
       "False"
      ]
     },
     "execution_count": 6,
     "metadata": {
      "tags": []
     },
     "output_type": "execute_result"
    }
   ],
   "source": [
    "train.isnull().sum().any()"
   ]
  },
  {
   "cell_type": "code",
   "execution_count": 7,
   "metadata": {
    "colab": {
     "base_uri": "https://localhost:8080/",
     "height": 70
    },
    "colab_type": "code",
    "executionInfo": {
     "elapsed": 1098,
     "status": "ok",
     "timestamp": 1594044783440,
     "user": {
      "displayName": "Harold Ran",
      "photoUrl": "",
      "userId": "00745499557779892259"
     },
     "user_tz": -480
    },
    "id": "0AoQjooj6bvQ",
    "outputId": "11de52c1-c957-4bcb-c44d-4f389a89fe8c"
   },
   "outputs": [
    {
     "name": "stdout",
     "output_type": "stream",
     "text": [
      "The shape of training data: (1458, 159)\n",
      "The length of y: 1458\n",
      "The shape of testing data: (1459, 159)\n"
     ]
    }
   ],
   "source": [
    "y = np.log1p(train['SalePrice'])\n",
    "train = train.drop('SalePrice', axis=1)\n",
    "\n",
    "#检查训练集与测试集的维度是否一致\n",
    "print('The shape of training data:', train.shape)\n",
    "print('The length of y:', len(y))\n",
    "print('The shape of testing data:', test.shape)"
   ]
  },
  {
   "cell_type": "code",
   "execution_count": 8,
   "metadata": {
    "colab": {
     "base_uri": "https://localhost:8080/",
     "height": 35
    },
    "colab_type": "code",
    "executionInfo": {
     "elapsed": 1148,
     "status": "ok",
     "timestamp": 1594044785884,
     "user": {
      "displayName": "Harold Ran",
      "photoUrl": "",
      "userId": "00745499557779892259"
     },
     "user_tz": -480
    },
    "id": "gWBPmyht6mx-",
    "outputId": "77837c74-50e7-4a57-9c04-c11ad661ae84"
   },
   "outputs": [
    {
     "data": {
      "text/plain": [
       "0"
      ]
     },
     "execution_count": 8,
     "metadata": {
      "tags": []
     },
     "output_type": "execute_result"
    }
   ],
   "source": [
    "y.isnull().sum()"
   ]
  },
  {
   "cell_type": "code",
   "execution_count": 9,
   "metadata": {
    "colab": {},
    "colab_type": "code",
    "executionInfo": {
     "elapsed": 1436,
     "status": "ok",
     "timestamp": 1594044787484,
     "user": {
      "displayName": "Harold Ran",
      "photoUrl": "",
      "userId": "00745499557779892259"
     },
     "user_tz": -480
    },
    "id": "OnafcxXI6uAv"
   },
   "outputs": [],
   "source": [
    "#采用十折交叉验证\n",
    "n_folds = 10\n",
    "\n",
    "def rmse_cv(model):\n",
    "  kf = KFold(n_folds, shuffle=True, random_state=20)\n",
    "  rmse = np.sqrt(-cross_val_score(model, train.values, y, scoring='neg_mean_squared_error', cv=kf))\n",
    "  return(rmse)\n",
    "\n",
    "def rmse(y, y_preds):\n",
    "  return np.sqrt(mean_squared_error(y, y_preds))"
   ]
  },
  {
   "cell_type": "markdown",
   "metadata": {
    "colab_type": "text",
    "id": "r_H1dkTd7Ga5"
   },
   "source": [
    "### XGBoost调参"
   ]
  },
  {
   "cell_type": "markdown",
   "metadata": {
    "colab_type": "text",
    "id": "Xoi2xXsE7d_5"
   },
   "source": [
    "#### 1、最佳迭代次数：n_estimators"
   ]
  },
  {
   "cell_type": "code",
   "execution_count": 9,
   "metadata": {
    "colab": {
     "base_uri": "https://localhost:8080/",
     "height": 1000
    },
    "colab_type": "code",
    "executionInfo": {
     "elapsed": 2194102,
     "status": "ok",
     "timestamp": 1593935539595,
     "user": {
      "displayName": "Harold Ran",
      "photoUrl": "",
      "userId": "00745499557779892259"
     },
     "user_tz": -480
    },
    "id": "P4oc-Bfg7Cry",
    "outputId": "38ace335-1b24-45d2-cba1-2ebdadd2670d"
   },
   "outputs": [
    {
     "name": "stdout",
     "output_type": "stream",
     "text": [
      "Fitting 10 folds for each of 9 candidates, totalling 90 fits\n",
      "[07:15:46] WARNING: /workspace/src/objective/regression_obj.cu:152: reg:linear is now deprecated in favor of reg:squarederror.\n"
     ]
    },
    {
     "name": "stderr",
     "output_type": "stream",
     "text": [
      "[Parallel(n_jobs=1)]: Using backend SequentialBackend with 1 concurrent workers.\n"
     ]
    },
    {
     "name": "stdout",
     "output_type": "stream",
     "text": [
      "[07:15:47] WARNING: /workspace/src/objective/regression_obj.cu:152: reg:linear is now deprecated in favor of reg:squarederror.\n",
      "[07:15:47] WARNING: /workspace/src/objective/regression_obj.cu:152: reg:linear is now deprecated in favor of reg:squarederror.\n",
      "[07:15:48] WARNING: /workspace/src/objective/regression_obj.cu:152: reg:linear is now deprecated in favor of reg:squarederror.\n",
      "[07:15:49] WARNING: /workspace/src/objective/regression_obj.cu:152: reg:linear is now deprecated in favor of reg:squarederror.\n",
      "[07:15:50] WARNING: /workspace/src/objective/regression_obj.cu:152: reg:linear is now deprecated in favor of reg:squarederror.\n",
      "[07:15:51] WARNING: /workspace/src/objective/regression_obj.cu:152: reg:linear is now deprecated in favor of reg:squarederror.\n",
      "[07:15:51] WARNING: /workspace/src/objective/regression_obj.cu:152: reg:linear is now deprecated in favor of reg:squarederror.\n",
      "[07:15:52] WARNING: /workspace/src/objective/regression_obj.cu:152: reg:linear is now deprecated in favor of reg:squarederror.\n",
      "[07:15:53] WARNING: /workspace/src/objective/regression_obj.cu:152: reg:linear is now deprecated in favor of reg:squarederror.\n",
      "[07:15:54] WARNING: /workspace/src/objective/regression_obj.cu:152: reg:linear is now deprecated in favor of reg:squarederror.\n",
      "[07:15:58] WARNING: /workspace/src/objective/regression_obj.cu:152: reg:linear is now deprecated in favor of reg:squarederror.\n",
      "[07:16:03] WARNING: /workspace/src/objective/regression_obj.cu:152: reg:linear is now deprecated in favor of reg:squarederror.\n",
      "[07:16:07] WARNING: /workspace/src/objective/regression_obj.cu:152: reg:linear is now deprecated in favor of reg:squarederror.\n",
      "[07:16:12] WARNING: /workspace/src/objective/regression_obj.cu:152: reg:linear is now deprecated in favor of reg:squarederror.\n",
      "[07:16:16] WARNING: /workspace/src/objective/regression_obj.cu:152: reg:linear is now deprecated in favor of reg:squarederror.\n",
      "[07:16:21] WARNING: /workspace/src/objective/regression_obj.cu:152: reg:linear is now deprecated in favor of reg:squarederror.\n",
      "[07:16:25] WARNING: /workspace/src/objective/regression_obj.cu:152: reg:linear is now deprecated in favor of reg:squarederror.\n",
      "[07:16:30] WARNING: /workspace/src/objective/regression_obj.cu:152: reg:linear is now deprecated in favor of reg:squarederror.\n",
      "[07:16:35] WARNING: /workspace/src/objective/regression_obj.cu:152: reg:linear is now deprecated in favor of reg:squarederror.\n",
      "[07:16:40] WARNING: /workspace/src/objective/regression_obj.cu:152: reg:linear is now deprecated in favor of reg:squarederror.\n",
      "[07:16:49] WARNING: /workspace/src/objective/regression_obj.cu:152: reg:linear is now deprecated in favor of reg:squarederror.\n",
      "[07:16:58] WARNING: /workspace/src/objective/regression_obj.cu:152: reg:linear is now deprecated in favor of reg:squarederror.\n",
      "[07:17:07] WARNING: /workspace/src/objective/regression_obj.cu:152: reg:linear is now deprecated in favor of reg:squarederror.\n",
      "[07:17:17] WARNING: /workspace/src/objective/regression_obj.cu:152: reg:linear is now deprecated in favor of reg:squarederror.\n",
      "[07:17:26] WARNING: /workspace/src/objective/regression_obj.cu:152: reg:linear is now deprecated in favor of reg:squarederror.\n",
      "[07:17:35] WARNING: /workspace/src/objective/regression_obj.cu:152: reg:linear is now deprecated in favor of reg:squarederror.\n",
      "[07:17:44] WARNING: /workspace/src/objective/regression_obj.cu:152: reg:linear is now deprecated in favor of reg:squarederror.\n",
      "[07:17:53] WARNING: /workspace/src/objective/regression_obj.cu:152: reg:linear is now deprecated in favor of reg:squarederror.\n",
      "[07:18:03] WARNING: /workspace/src/objective/regression_obj.cu:152: reg:linear is now deprecated in favor of reg:squarederror.\n",
      "[07:18:12] WARNING: /workspace/src/objective/regression_obj.cu:152: reg:linear is now deprecated in favor of reg:squarederror.\n",
      "[07:18:25] WARNING: /workspace/src/objective/regression_obj.cu:152: reg:linear is now deprecated in favor of reg:squarederror.\n",
      "[07:18:37] WARNING: /workspace/src/objective/regression_obj.cu:152: reg:linear is now deprecated in favor of reg:squarederror.\n",
      "[07:18:50] WARNING: /workspace/src/objective/regression_obj.cu:152: reg:linear is now deprecated in favor of reg:squarederror.\n",
      "[07:19:03] WARNING: /workspace/src/objective/regression_obj.cu:152: reg:linear is now deprecated in favor of reg:squarederror.\n",
      "[07:19:16] WARNING: /workspace/src/objective/regression_obj.cu:152: reg:linear is now deprecated in favor of reg:squarederror.\n",
      "[07:19:28] WARNING: /workspace/src/objective/regression_obj.cu:152: reg:linear is now deprecated in favor of reg:squarederror.\n",
      "[07:19:40] WARNING: /workspace/src/objective/regression_obj.cu:152: reg:linear is now deprecated in favor of reg:squarederror.\n",
      "[07:19:53] WARNING: /workspace/src/objective/regression_obj.cu:152: reg:linear is now deprecated in favor of reg:squarederror.\n",
      "[07:20:05] WARNING: /workspace/src/objective/regression_obj.cu:152: reg:linear is now deprecated in favor of reg:squarederror.\n",
      "[07:20:18] WARNING: /workspace/src/objective/regression_obj.cu:152: reg:linear is now deprecated in favor of reg:squarederror.\n",
      "[07:20:46] WARNING: /workspace/src/objective/regression_obj.cu:152: reg:linear is now deprecated in favor of reg:squarederror.\n",
      "[07:21:15] WARNING: /workspace/src/objective/regression_obj.cu:152: reg:linear is now deprecated in favor of reg:squarederror.\n",
      "[07:21:45] WARNING: /workspace/src/objective/regression_obj.cu:152: reg:linear is now deprecated in favor of reg:squarederror.\n",
      "[07:22:14] WARNING: /workspace/src/objective/regression_obj.cu:152: reg:linear is now deprecated in favor of reg:squarederror.\n",
      "[07:22:43] WARNING: /workspace/src/objective/regression_obj.cu:152: reg:linear is now deprecated in favor of reg:squarederror.\n",
      "[07:23:12] WARNING: /workspace/src/objective/regression_obj.cu:152: reg:linear is now deprecated in favor of reg:squarederror.\n",
      "[07:23:42] WARNING: /workspace/src/objective/regression_obj.cu:152: reg:linear is now deprecated in favor of reg:squarederror.\n",
      "[07:24:11] WARNING: /workspace/src/objective/regression_obj.cu:152: reg:linear is now deprecated in favor of reg:squarederror.\n",
      "[07:24:43] WARNING: /workspace/src/objective/regression_obj.cu:152: reg:linear is now deprecated in favor of reg:squarederror.\n",
      "[07:25:12] WARNING: /workspace/src/objective/regression_obj.cu:152: reg:linear is now deprecated in favor of reg:squarederror.\n",
      "[07:25:45] WARNING: /workspace/src/objective/regression_obj.cu:152: reg:linear is now deprecated in favor of reg:squarederror.\n",
      "[07:26:18] WARNING: /workspace/src/objective/regression_obj.cu:152: reg:linear is now deprecated in favor of reg:squarederror.\n",
      "[07:26:52] WARNING: /workspace/src/objective/regression_obj.cu:152: reg:linear is now deprecated in favor of reg:squarederror.\n",
      "[07:27:24] WARNING: /workspace/src/objective/regression_obj.cu:152: reg:linear is now deprecated in favor of reg:squarederror.\n",
      "[07:27:58] WARNING: /workspace/src/objective/regression_obj.cu:152: reg:linear is now deprecated in favor of reg:squarederror.\n",
      "[07:28:30] WARNING: /workspace/src/objective/regression_obj.cu:152: reg:linear is now deprecated in favor of reg:squarederror.\n",
      "[07:29:03] WARNING: /workspace/src/objective/regression_obj.cu:152: reg:linear is now deprecated in favor of reg:squarederror.\n",
      "[07:29:35] WARNING: /workspace/src/objective/regression_obj.cu:152: reg:linear is now deprecated in favor of reg:squarederror.\n",
      "[07:30:11] WARNING: /workspace/src/objective/regression_obj.cu:152: reg:linear is now deprecated in favor of reg:squarederror.\n",
      "[07:30:43] WARNING: /workspace/src/objective/regression_obj.cu:152: reg:linear is now deprecated in favor of reg:squarederror.\n",
      "[07:31:22] WARNING: /workspace/src/objective/regression_obj.cu:152: reg:linear is now deprecated in favor of reg:squarederror.\n",
      "[07:32:01] WARNING: /workspace/src/objective/regression_obj.cu:152: reg:linear is now deprecated in favor of reg:squarederror.\n",
      "[07:32:39] WARNING: /workspace/src/objective/regression_obj.cu:152: reg:linear is now deprecated in favor of reg:squarederror.\n",
      "[07:33:18] WARNING: /workspace/src/objective/regression_obj.cu:152: reg:linear is now deprecated in favor of reg:squarederror.\n",
      "[07:33:56] WARNING: /workspace/src/objective/regression_obj.cu:152: reg:linear is now deprecated in favor of reg:squarederror.\n",
      "[07:34:35] WARNING: /workspace/src/objective/regression_obj.cu:152: reg:linear is now deprecated in favor of reg:squarederror.\n",
      "[07:35:14] WARNING: /workspace/src/objective/regression_obj.cu:152: reg:linear is now deprecated in favor of reg:squarederror.\n",
      "[07:35:52] WARNING: /workspace/src/objective/regression_obj.cu:152: reg:linear is now deprecated in favor of reg:squarederror.\n",
      "[07:36:32] WARNING: /workspace/src/objective/regression_obj.cu:152: reg:linear is now deprecated in favor of reg:squarederror.\n",
      "[07:37:10] WARNING: /workspace/src/objective/regression_obj.cu:152: reg:linear is now deprecated in favor of reg:squarederror.\n",
      "[07:37:51] WARNING: /workspace/src/objective/regression_obj.cu:152: reg:linear is now deprecated in favor of reg:squarederror.\n",
      "[07:38:32] WARNING: /workspace/src/objective/regression_obj.cu:152: reg:linear is now deprecated in favor of reg:squarederror.\n",
      "[07:39:13] WARNING: /workspace/src/objective/regression_obj.cu:152: reg:linear is now deprecated in favor of reg:squarederror.\n",
      "[07:39:55] WARNING: /workspace/src/objective/regression_obj.cu:152: reg:linear is now deprecated in favor of reg:squarederror.\n",
      "[07:40:37] WARNING: /workspace/src/objective/regression_obj.cu:152: reg:linear is now deprecated in favor of reg:squarederror.\n",
      "[07:41:18] WARNING: /workspace/src/objective/regression_obj.cu:152: reg:linear is now deprecated in favor of reg:squarederror.\n",
      "[07:41:59] WARNING: /workspace/src/objective/regression_obj.cu:152: reg:linear is now deprecated in favor of reg:squarederror.\n",
      "[07:42:38] WARNING: /workspace/src/objective/regression_obj.cu:152: reg:linear is now deprecated in favor of reg:squarederror.\n",
      "[07:43:20] WARNING: /workspace/src/objective/regression_obj.cu:152: reg:linear is now deprecated in favor of reg:squarederror.\n",
      "[07:44:00] WARNING: /workspace/src/objective/regression_obj.cu:152: reg:linear is now deprecated in favor of reg:squarederror.\n",
      "[07:44:46] WARNING: /workspace/src/objective/regression_obj.cu:152: reg:linear is now deprecated in favor of reg:squarederror.\n",
      "[07:45:31] WARNING: /workspace/src/objective/regression_obj.cu:152: reg:linear is now deprecated in favor of reg:squarederror.\n",
      "[07:46:18] WARNING: /workspace/src/objective/regression_obj.cu:152: reg:linear is now deprecated in favor of reg:squarederror.\n",
      "[07:47:04] WARNING: /workspace/src/objective/regression_obj.cu:152: reg:linear is now deprecated in favor of reg:squarederror.\n",
      "[07:47:50] WARNING: /workspace/src/objective/regression_obj.cu:152: reg:linear is now deprecated in favor of reg:squarederror.\n",
      "[07:48:36] WARNING: /workspace/src/objective/regression_obj.cu:152: reg:linear is now deprecated in favor of reg:squarederror.\n",
      "[07:49:22] WARNING: /workspace/src/objective/regression_obj.cu:152: reg:linear is now deprecated in favor of reg:squarederror.\n",
      "[07:50:07] WARNING: /workspace/src/objective/regression_obj.cu:152: reg:linear is now deprecated in favor of reg:squarederror.\n",
      "[07:50:56] WARNING: /workspace/src/objective/regression_obj.cu:152: reg:linear is now deprecated in favor of reg:squarederror.\n"
     ]
    },
    {
     "name": "stderr",
     "output_type": "stream",
     "text": [
      "[Parallel(n_jobs=1)]: Done  90 out of  90 | elapsed: 35.9min finished\n"
     ]
    },
    {
     "name": "stdout",
     "output_type": "stream",
     "text": [
      "[07:51:42] WARNING: /workspace/src/objective/regression_obj.cu:152: reg:linear is now deprecated in favor of reg:squarederror.\n",
      "参数的最佳取值：{'n_estimators': 3000}\n",
      "最佳模型得分:-0.015104820300369842\n"
     ]
    }
   ],
   "source": [
    "params = {'learning_rate': 0.01,\n",
    "      'n_estimators': 6000, \n",
    "      'max_depth': 11,\n",
    "      'subsample': 0.9,\n",
    "      'colsample_bytree': 0.7,\n",
    "      'min_child_weight': 1,\n",
    "      'seed': 52,\n",
    "      'gamma': 0,\n",
    "      'reg_alpha': 0,\n",
    "      'reg_lambda': 1}\n",
    "cv_params = {'n_estimators': [200, 500, 800, 1000, 2000, 3000, 5000, 6000, 8000]}\n",
    "xgbr = xgb.XGBRegressor(**params)\n",
    "grid_xgbr = GridSearchCV(estimator=xgbr, param_grid=cv_params, scoring='neg_mean_squared_error', cv=10, verbose=1)\n",
    "grid_xgbr.fit(np.array(train), np.array(y))\n",
    "result = grid_xgbr.cv_results_\n",
    "#print('每轮迭代运行结果:{}, {}'.format(result['mean_train_score'], result['std_train_score']))\n",
    "print('参数的最佳取值：{}'.format(grid_xgbr.best_params_))\n",
    "print('最佳模型得分:{}'.format(grid_xgbr.best_score_))"
   ]
  },
  {
   "cell_type": "code",
   "execution_count": 10,
   "metadata": {
    "colab": {
     "base_uri": "https://localhost:8080/",
     "height": 870
    },
    "colab_type": "code",
    "executionInfo": {
     "elapsed": 1042,
     "status": "ok",
     "timestamp": 1593935606507,
     "user": {
      "displayName": "Harold Ran",
      "photoUrl": "",
      "userId": "00745499557779892259"
     },
     "user_tz": -480
    },
    "id": "NMe__aYzt5d1",
    "outputId": "8ee79700-0a68-4dd7-af03-f35ca0bc2b83"
   },
   "outputs": [
    {
     "data": {
      "text/plain": [
       "{'mean_fit_time': array([ 0.80616078,  4.57343869,  9.2300158 , 12.52786803, 29.33173862,\n",
       "        32.99010479, 38.52572479, 40.88207231, 46.12188926]),\n",
       " 'mean_score_time': array([0.00146346, 0.00635142, 0.01647627, 0.0268548 , 0.09837255,\n",
       "        0.11303117, 0.1313036 , 0.11626239, 0.12053096]),\n",
       " 'mean_test_score': array([-2.45330175, -0.0243604 , -0.01545904, -0.01520463, -0.01510573,\n",
       "        -0.01510482, -0.01510509, -0.01510523, -0.01510546]),\n",
       " 'param_n_estimators': masked_array(data=[200, 500, 800, 1000, 2000, 3000, 5000, 6000, 8000],\n",
       "              mask=[False, False, False, False, False, False, False, False,\n",
       "                    False],\n",
       "        fill_value='?',\n",
       "             dtype=object),\n",
       " 'params': [{'n_estimators': 200},\n",
       "  {'n_estimators': 500},\n",
       "  {'n_estimators': 800},\n",
       "  {'n_estimators': 1000},\n",
       "  {'n_estimators': 2000},\n",
       "  {'n_estimators': 3000},\n",
       "  {'n_estimators': 5000},\n",
       "  {'n_estimators': 6000},\n",
       "  {'n_estimators': 8000}],\n",
       " 'rank_test_score': array([9, 8, 7, 6, 5, 1, 2, 3, 4], dtype=int32),\n",
       " 'split0_test_score': array([-2.40809944, -0.02495255, -0.01679736, -0.01673155, -0.01668895,\n",
       "        -0.01668835, -0.01668801, -0.01668858, -0.01668915]),\n",
       " 'split1_test_score': array([-2.53358659, -0.0226868 , -0.01068941, -0.01030146, -0.01012512,\n",
       "        -0.01012432, -0.01012442, -0.01012439, -0.01012447]),\n",
       " 'split2_test_score': array([-2.4587806 , -0.02097202, -0.01264715, -0.01241397, -0.01234033,\n",
       "        -0.0123396 , -0.0123401 , -0.01234004, -0.0123402 ]),\n",
       " 'split3_test_score': array([-2.45641928, -0.02705183, -0.01906422, -0.01894412, -0.01891361,\n",
       "        -0.01891297, -0.01891325, -0.01891349, -0.01891352]),\n",
       " 'split4_test_score': array([-2.4774839 , -0.03000578, -0.02168673, -0.02144121, -0.02126766,\n",
       "        -0.02126478, -0.02126447, -0.02126453, -0.02126419]),\n",
       " 'split5_test_score': array([-2.50895546, -0.02500457, -0.01333405, -0.01291405, -0.01278457,\n",
       "        -0.01278367, -0.01278388, -0.01278387, -0.01278373]),\n",
       " 'split6_test_score': array([-2.35631815, -0.02124864, -0.01521143, -0.01509401, -0.01504021,\n",
       "        -0.01504078, -0.01504073, -0.01504081, -0.01504087]),\n",
       " 'split7_test_score': array([-2.39381847, -0.02029454, -0.01269801, -0.01257421, -0.01255346,\n",
       "        -0.01255339, -0.0125537 , -0.01255396, -0.01255422]),\n",
       " 'split8_test_score': array([-2.55396894, -0.02343794, -0.0111224 , -0.01047563, -0.01023758,\n",
       "        -0.01023568, -0.01023736, -0.01023785, -0.01023934]),\n",
       " 'split9_test_score': array([-2.38558664, -0.02794932, -0.02133965, -0.02115613, -0.02110578,\n",
       "        -0.02110466, -0.02110495, -0.02110478, -0.02110495]),\n",
       " 'std_fit_time': array([0.04159511, 0.11410117, 0.06392946, 0.20206222, 0.98357166,\n",
       "        0.99771292, 0.69690233, 0.81839907, 1.14537972]),\n",
       " 'std_score_time': array([5.82086937e-05, 7.31019146e-04, 8.94622258e-04, 1.57907019e-03,\n",
       "        8.49134229e-03, 8.57809038e-03, 1.19525894e-02, 1.22956044e-02,\n",
       "        3.75295989e-02]),\n",
       " 'std_test_score': array([0.0631459 , 0.00306769, 0.00387062, 0.00396233, 0.00398792,\n",
       "        0.00398767, 0.00398739, 0.00398735, 0.00398714])}"
      ]
     },
     "execution_count": 10,
     "metadata": {
      "tags": []
     },
     "output_type": "execute_result"
    }
   ],
   "source": [
    "result"
   ]
  },
  {
   "cell_type": "code",
   "execution_count": 12,
   "metadata": {
    "colab": {
     "base_uri": "https://localhost:8080/",
     "height": 1000
    },
    "colab_type": "code",
    "executionInfo": {
     "elapsed": 3769198,
     "status": "ok",
     "timestamp": 1593939505422,
     "user": {
      "displayName": "Harold Ran",
      "photoUrl": "",
      "userId": "00745499557779892259"
     },
     "user_tz": -480
    },
    "id": "bxEUa9fCAN6T",
    "outputId": "8d628333-bcff-4363-9ad0-64c8b5d38691"
   },
   "outputs": [
    {
     "name": "stdout",
     "output_type": "stream",
     "text": [
      "Fitting 10 folds for each of 11 candidates, totalling 110 fits\n",
      "[07:55:36] WARNING: /workspace/src/objective/regression_obj.cu:152: reg:linear is now deprecated in favor of reg:squarederror.\n"
     ]
    },
    {
     "name": "stderr",
     "output_type": "stream",
     "text": [
      "[Parallel(n_jobs=1)]: Using backend SequentialBackend with 1 concurrent workers.\n"
     ]
    },
    {
     "name": "stdout",
     "output_type": "stream",
     "text": [
      "[07:56:06] WARNING: /workspace/src/objective/regression_obj.cu:152: reg:linear is now deprecated in favor of reg:squarederror.\n",
      "[07:56:37] WARNING: /workspace/src/objective/regression_obj.cu:152: reg:linear is now deprecated in favor of reg:squarederror.\n",
      "[07:57:07] WARNING: /workspace/src/objective/regression_obj.cu:152: reg:linear is now deprecated in favor of reg:squarederror.\n",
      "[07:57:37] WARNING: /workspace/src/objective/regression_obj.cu:152: reg:linear is now deprecated in favor of reg:squarederror.\n",
      "[07:58:07] WARNING: /workspace/src/objective/regression_obj.cu:152: reg:linear is now deprecated in favor of reg:squarederror.\n",
      "[07:58:36] WARNING: /workspace/src/objective/regression_obj.cu:152: reg:linear is now deprecated in favor of reg:squarederror.\n",
      "[07:59:06] WARNING: /workspace/src/objective/regression_obj.cu:152: reg:linear is now deprecated in favor of reg:squarederror.\n",
      "[07:59:35] WARNING: /workspace/src/objective/regression_obj.cu:152: reg:linear is now deprecated in favor of reg:squarederror.\n",
      "[08:00:05] WARNING: /workspace/src/objective/regression_obj.cu:152: reg:linear is now deprecated in favor of reg:squarederror.\n",
      "[08:00:35] WARNING: /workspace/src/objective/regression_obj.cu:152: reg:linear is now deprecated in favor of reg:squarederror.\n",
      "[08:01:05] WARNING: /workspace/src/objective/regression_obj.cu:152: reg:linear is now deprecated in favor of reg:squarederror.\n",
      "[08:01:36] WARNING: /workspace/src/objective/regression_obj.cu:152: reg:linear is now deprecated in favor of reg:squarederror.\n",
      "[08:02:07] WARNING: /workspace/src/objective/regression_obj.cu:152: reg:linear is now deprecated in favor of reg:squarederror.\n",
      "[08:02:38] WARNING: /workspace/src/objective/regression_obj.cu:152: reg:linear is now deprecated in favor of reg:squarederror.\n",
      "[08:03:09] WARNING: /workspace/src/objective/regression_obj.cu:152: reg:linear is now deprecated in favor of reg:squarederror.\n",
      "[08:03:39] WARNING: /workspace/src/objective/regression_obj.cu:152: reg:linear is now deprecated in favor of reg:squarederror.\n",
      "[08:04:10] WARNING: /workspace/src/objective/regression_obj.cu:152: reg:linear is now deprecated in favor of reg:squarederror.\n",
      "[08:04:40] WARNING: /workspace/src/objective/regression_obj.cu:152: reg:linear is now deprecated in favor of reg:squarederror.\n",
      "[08:05:12] WARNING: /workspace/src/objective/regression_obj.cu:152: reg:linear is now deprecated in favor of reg:squarederror.\n",
      "[08:05:42] WARNING: /workspace/src/objective/regression_obj.cu:152: reg:linear is now deprecated in favor of reg:squarederror.\n",
      "[08:06:14] WARNING: /workspace/src/objective/regression_obj.cu:152: reg:linear is now deprecated in favor of reg:squarederror.\n",
      "[08:06:46] WARNING: /workspace/src/objective/regression_obj.cu:152: reg:linear is now deprecated in favor of reg:squarederror.\n",
      "[08:07:18] WARNING: /workspace/src/objective/regression_obj.cu:152: reg:linear is now deprecated in favor of reg:squarederror.\n",
      "[08:07:50] WARNING: /workspace/src/objective/regression_obj.cu:152: reg:linear is now deprecated in favor of reg:squarederror.\n",
      "[08:08:22] WARNING: /workspace/src/objective/regression_obj.cu:152: reg:linear is now deprecated in favor of reg:squarederror.\n",
      "[08:08:53] WARNING: /workspace/src/objective/regression_obj.cu:152: reg:linear is now deprecated in favor of reg:squarederror.\n",
      "[08:09:25] WARNING: /workspace/src/objective/regression_obj.cu:152: reg:linear is now deprecated in favor of reg:squarederror.\n",
      "[08:09:56] WARNING: /workspace/src/objective/regression_obj.cu:152: reg:linear is now deprecated in favor of reg:squarederror.\n",
      "[08:10:29] WARNING: /workspace/src/objective/regression_obj.cu:152: reg:linear is now deprecated in favor of reg:squarederror.\n",
      "[08:11:00] WARNING: /workspace/src/objective/regression_obj.cu:152: reg:linear is now deprecated in favor of reg:squarederror.\n",
      "[08:11:32] WARNING: /workspace/src/objective/regression_obj.cu:152: reg:linear is now deprecated in favor of reg:squarederror.\n",
      "[08:12:04] WARNING: /workspace/src/objective/regression_obj.cu:152: reg:linear is now deprecated in favor of reg:squarederror.\n",
      "[08:12:37] WARNING: /workspace/src/objective/regression_obj.cu:152: reg:linear is now deprecated in favor of reg:squarederror.\n",
      "[08:13:11] WARNING: /workspace/src/objective/regression_obj.cu:152: reg:linear is now deprecated in favor of reg:squarederror.\n",
      "[08:13:44] WARNING: /workspace/src/objective/regression_obj.cu:152: reg:linear is now deprecated in favor of reg:squarederror.\n",
      "[08:14:16] WARNING: /workspace/src/objective/regression_obj.cu:152: reg:linear is now deprecated in favor of reg:squarederror.\n",
      "[08:14:50] WARNING: /workspace/src/objective/regression_obj.cu:152: reg:linear is now deprecated in favor of reg:squarederror.\n",
      "[08:15:22] WARNING: /workspace/src/objective/regression_obj.cu:152: reg:linear is now deprecated in favor of reg:squarederror.\n",
      "[08:15:55] WARNING: /workspace/src/objective/regression_obj.cu:152: reg:linear is now deprecated in favor of reg:squarederror.\n",
      "[08:16:27] WARNING: /workspace/src/objective/regression_obj.cu:152: reg:linear is now deprecated in favor of reg:squarederror.\n",
      "[08:17:00] WARNING: /workspace/src/objective/regression_obj.cu:152: reg:linear is now deprecated in favor of reg:squarederror.\n",
      "[08:17:34] WARNING: /workspace/src/objective/regression_obj.cu:152: reg:linear is now deprecated in favor of reg:squarederror.\n",
      "[08:18:08] WARNING: /workspace/src/objective/regression_obj.cu:152: reg:linear is now deprecated in favor of reg:squarederror.\n",
      "[08:18:41] WARNING: /workspace/src/objective/regression_obj.cu:152: reg:linear is now deprecated in favor of reg:squarederror.\n",
      "[08:19:14] WARNING: /workspace/src/objective/regression_obj.cu:152: reg:linear is now deprecated in favor of reg:squarederror.\n",
      "[08:19:47] WARNING: /workspace/src/objective/regression_obj.cu:152: reg:linear is now deprecated in favor of reg:squarederror.\n",
      "[08:20:21] WARNING: /workspace/src/objective/regression_obj.cu:152: reg:linear is now deprecated in favor of reg:squarederror.\n",
      "[08:20:54] WARNING: /workspace/src/objective/regression_obj.cu:152: reg:linear is now deprecated in favor of reg:squarederror.\n",
      "[08:21:28] WARNING: /workspace/src/objective/regression_obj.cu:152: reg:linear is now deprecated in favor of reg:squarederror.\n",
      "[08:22:01] WARNING: /workspace/src/objective/regression_obj.cu:152: reg:linear is now deprecated in favor of reg:squarederror.\n",
      "[08:22:36] WARNING: /workspace/src/objective/regression_obj.cu:152: reg:linear is now deprecated in favor of reg:squarederror.\n",
      "[08:23:11] WARNING: /workspace/src/objective/regression_obj.cu:152: reg:linear is now deprecated in favor of reg:squarederror.\n",
      "[08:23:46] WARNING: /workspace/src/objective/regression_obj.cu:152: reg:linear is now deprecated in favor of reg:squarederror.\n",
      "[08:24:21] WARNING: /workspace/src/objective/regression_obj.cu:152: reg:linear is now deprecated in favor of reg:squarederror.\n",
      "[08:24:56] WARNING: /workspace/src/objective/regression_obj.cu:152: reg:linear is now deprecated in favor of reg:squarederror.\n",
      "[08:25:30] WARNING: /workspace/src/objective/regression_obj.cu:152: reg:linear is now deprecated in favor of reg:squarederror.\n",
      "[08:26:04] WARNING: /workspace/src/objective/regression_obj.cu:152: reg:linear is now deprecated in favor of reg:squarederror.\n",
      "[08:26:38] WARNING: /workspace/src/objective/regression_obj.cu:152: reg:linear is now deprecated in favor of reg:squarederror.\n",
      "[08:27:13] WARNING: /workspace/src/objective/regression_obj.cu:152: reg:linear is now deprecated in favor of reg:squarederror.\n",
      "[08:27:47] WARNING: /workspace/src/objective/regression_obj.cu:152: reg:linear is now deprecated in favor of reg:squarederror.\n",
      "[08:28:24] WARNING: /workspace/src/objective/regression_obj.cu:152: reg:linear is now deprecated in favor of reg:squarederror.\n",
      "[08:28:58] WARNING: /workspace/src/objective/regression_obj.cu:152: reg:linear is now deprecated in favor of reg:squarederror.\n",
      "[08:29:33] WARNING: /workspace/src/objective/regression_obj.cu:152: reg:linear is now deprecated in favor of reg:squarederror.\n",
      "[08:30:08] WARNING: /workspace/src/objective/regression_obj.cu:152: reg:linear is now deprecated in favor of reg:squarederror.\n",
      "[08:30:42] WARNING: /workspace/src/objective/regression_obj.cu:152: reg:linear is now deprecated in favor of reg:squarederror.\n",
      "[08:31:17] WARNING: /workspace/src/objective/regression_obj.cu:152: reg:linear is now deprecated in favor of reg:squarederror.\n",
      "[08:31:51] WARNING: /workspace/src/objective/regression_obj.cu:152: reg:linear is now deprecated in favor of reg:squarederror.\n",
      "[08:32:25] WARNING: /workspace/src/objective/regression_obj.cu:152: reg:linear is now deprecated in favor of reg:squarederror.\n",
      "[08:33:00] WARNING: /workspace/src/objective/regression_obj.cu:152: reg:linear is now deprecated in favor of reg:squarederror.\n",
      "[08:33:34] WARNING: /workspace/src/objective/regression_obj.cu:152: reg:linear is now deprecated in favor of reg:squarederror.\n",
      "[08:34:09] WARNING: /workspace/src/objective/regression_obj.cu:152: reg:linear is now deprecated in favor of reg:squarederror.\n",
      "[08:34:44] WARNING: /workspace/src/objective/regression_obj.cu:152: reg:linear is now deprecated in favor of reg:squarederror.\n",
      "[08:35:19] WARNING: /workspace/src/objective/regression_obj.cu:152: reg:linear is now deprecated in favor of reg:squarederror.\n",
      "[08:35:55] WARNING: /workspace/src/objective/regression_obj.cu:152: reg:linear is now deprecated in favor of reg:squarederror.\n",
      "[08:36:30] WARNING: /workspace/src/objective/regression_obj.cu:152: reg:linear is now deprecated in favor of reg:squarederror.\n",
      "[08:37:04] WARNING: /workspace/src/objective/regression_obj.cu:152: reg:linear is now deprecated in favor of reg:squarederror.\n",
      "[08:37:39] WARNING: /workspace/src/objective/regression_obj.cu:152: reg:linear is now deprecated in favor of reg:squarederror.\n",
      "[08:38:13] WARNING: /workspace/src/objective/regression_obj.cu:152: reg:linear is now deprecated in favor of reg:squarederror.\n",
      "[08:38:51] WARNING: /workspace/src/objective/regression_obj.cu:152: reg:linear is now deprecated in favor of reg:squarederror.\n",
      "[08:39:25] WARNING: /workspace/src/objective/regression_obj.cu:152: reg:linear is now deprecated in favor of reg:squarederror.\n",
      "[08:40:01] WARNING: /workspace/src/objective/regression_obj.cu:152: reg:linear is now deprecated in favor of reg:squarederror.\n",
      "[08:40:37] WARNING: /workspace/src/objective/regression_obj.cu:152: reg:linear is now deprecated in favor of reg:squarederror.\n",
      "[08:41:13] WARNING: /workspace/src/objective/regression_obj.cu:152: reg:linear is now deprecated in favor of reg:squarederror.\n",
      "[08:41:49] WARNING: /workspace/src/objective/regression_obj.cu:152: reg:linear is now deprecated in favor of reg:squarederror.\n",
      "[08:42:25] WARNING: /workspace/src/objective/regression_obj.cu:152: reg:linear is now deprecated in favor of reg:squarederror.\n",
      "[08:43:00] WARNING: /workspace/src/objective/regression_obj.cu:152: reg:linear is now deprecated in favor of reg:squarederror.\n",
      "[08:43:36] WARNING: /workspace/src/objective/regression_obj.cu:152: reg:linear is now deprecated in favor of reg:squarederror.\n",
      "[08:44:11] WARNING: /workspace/src/objective/regression_obj.cu:152: reg:linear is now deprecated in favor of reg:squarederror.\n",
      "[08:44:49] WARNING: /workspace/src/objective/regression_obj.cu:152: reg:linear is now deprecated in favor of reg:squarederror.\n",
      "[08:45:24] WARNING: /workspace/src/objective/regression_obj.cu:152: reg:linear is now deprecated in favor of reg:squarederror.\n",
      "[08:46:00] WARNING: /workspace/src/objective/regression_obj.cu:152: reg:linear is now deprecated in favor of reg:squarederror.\n",
      "[08:46:37] WARNING: /workspace/src/objective/regression_obj.cu:152: reg:linear is now deprecated in favor of reg:squarederror.\n",
      "[08:47:14] WARNING: /workspace/src/objective/regression_obj.cu:152: reg:linear is now deprecated in favor of reg:squarederror.\n",
      "[08:47:51] WARNING: /workspace/src/objective/regression_obj.cu:152: reg:linear is now deprecated in favor of reg:squarederror.\n",
      "[08:48:28] WARNING: /workspace/src/objective/regression_obj.cu:152: reg:linear is now deprecated in favor of reg:squarederror.\n",
      "[08:49:05] WARNING: /workspace/src/objective/regression_obj.cu:152: reg:linear is now deprecated in favor of reg:squarederror.\n",
      "[08:49:44] WARNING: /workspace/src/objective/regression_obj.cu:152: reg:linear is now deprecated in favor of reg:squarederror.\n",
      "[08:50:19] WARNING: /workspace/src/objective/regression_obj.cu:152: reg:linear is now deprecated in favor of reg:squarederror.\n",
      "[08:50:57] WARNING: /workspace/src/objective/regression_obj.cu:152: reg:linear is now deprecated in favor of reg:squarederror.\n",
      "[08:51:33] WARNING: /workspace/src/objective/regression_obj.cu:152: reg:linear is now deprecated in favor of reg:squarederror.\n",
      "[08:52:11] WARNING: /workspace/src/objective/regression_obj.cu:152: reg:linear is now deprecated in favor of reg:squarederror.\n",
      "[08:52:48] WARNING: /workspace/src/objective/regression_obj.cu:152: reg:linear is now deprecated in favor of reg:squarederror.\n",
      "[08:53:26] WARNING: /workspace/src/objective/regression_obj.cu:152: reg:linear is now deprecated in favor of reg:squarederror.\n",
      "[08:54:04] WARNING: /workspace/src/objective/regression_obj.cu:152: reg:linear is now deprecated in favor of reg:squarederror.\n",
      "[08:54:42] WARNING: /workspace/src/objective/regression_obj.cu:152: reg:linear is now deprecated in favor of reg:squarederror.\n",
      "[08:55:19] WARNING: /workspace/src/objective/regression_obj.cu:152: reg:linear is now deprecated in favor of reg:squarederror.\n",
      "[08:55:56] WARNING: /workspace/src/objective/regression_obj.cu:152: reg:linear is now deprecated in favor of reg:squarederror.\n",
      "[08:56:32] WARNING: /workspace/src/objective/regression_obj.cu:152: reg:linear is now deprecated in favor of reg:squarederror.\n",
      "[08:57:11] WARNING: /workspace/src/objective/regression_obj.cu:152: reg:linear is now deprecated in favor of reg:squarederror.\n"
     ]
    },
    {
     "name": "stderr",
     "output_type": "stream",
     "text": [
      "[Parallel(n_jobs=1)]: Done 110 out of 110 | elapsed: 62.2min finished\n"
     ]
    },
    {
     "name": "stdout",
     "output_type": "stream",
     "text": [
      "[08:57:48] WARNING: /workspace/src/objective/regression_obj.cu:152: reg:linear is now deprecated in favor of reg:squarederror.\n",
      "参数的最佳取值：{'n_estimators': 3000}\n",
      "最佳模型得分:-0.015104820300369842\n"
     ]
    }
   ],
   "source": [
    "params = {'learning_rate': 0.01,\n",
    "      'n_estimators': 3000, \n",
    "      'max_depth': 11,\n",
    "      'subsample': 0.9,\n",
    "      'colsample_bytree': 0.7,\n",
    "      'min_child_weight': 1,\n",
    "      'seed': 52,\n",
    "      'gamma': 0,\n",
    "      'reg_alpha': 0,\n",
    "      'reg_lambda': 1}\n",
    "cv_params = {'n_estimators': [2200, 2500, 2800, 3000, 3200, 3500, 3800, 4000, 4200, 4500, 4800]}\n",
    "xgbr = xgb.XGBRegressor(**params)\n",
    "grid_xgbr = GridSearchCV(estimator=xgbr, param_grid=cv_params, scoring='neg_mean_squared_error', cv=10, verbose=1)\n",
    "grid_xgbr.fit(np.array(train), np.array(y))\n",
    "result = grid_xgbr.cv_results_\n",
    "#print('每轮迭代运行结果:{}, {}'.format(result['mean_train_score'], result['std_train_score']))\n",
    "print('参数的最佳取值：{}'.format(grid_xgbr.best_params_))\n",
    "print('最佳模型得分:{}'.format(grid_xgbr.best_score_))"
   ]
  },
  {
   "cell_type": "code",
   "execution_count": 14,
   "metadata": {
    "colab": {
     "base_uri": "https://localhost:8080/",
     "height": 1000
    },
    "colab_type": "code",
    "executionInfo": {
     "elapsed": 795,
     "status": "ok",
     "timestamp": 1593944385931,
     "user": {
      "displayName": "Harold Ran",
      "photoUrl": "",
      "userId": "00745499557779892259"
     },
     "user_tz": -480
    },
    "id": "dESmmuYswRLD",
    "outputId": "b3a4f06b-7576-4b47-9370-6cf74ad579ac"
   },
   "outputs": [
    {
     "data": {
      "text/plain": [
       "{'mean_fit_time': array([29.73493893, 30.63010428, 31.72601666, 32.57875319, 33.29498451,\n",
       "        34.45654204, 34.63806009, 35.04645514, 35.73538365, 36.83729208,\n",
       "        37.36633852]),\n",
       " 'mean_score_time': array([0.09084637, 0.09593482, 0.09277196, 0.09652143, 0.10464144,\n",
       "        0.10375171, 0.10308754, 0.0891408 , 0.09101684, 0.09169021,\n",
       "        0.09786186]),\n",
       " 'mean_test_score': array([-0.01510513, -0.01510486, -0.01510486, -0.01510482, -0.01510489,\n",
       "        -0.01510493, -0.01510501, -0.01510497, -0.01510493, -0.01510491,\n",
       "        -0.01510509]),\n",
       " 'param_n_estimators': masked_array(data=[2200, 2500, 2800, 3000, 3200, 3500, 3800, 4000, 4200,\n",
       "                    4500, 4800],\n",
       "              mask=[False, False, False, False, False, False, False, False,\n",
       "                    False, False, False],\n",
       "        fill_value='?',\n",
       "             dtype=object),\n",
       " 'params': [{'n_estimators': 2200},\n",
       "  {'n_estimators': 2500},\n",
       "  {'n_estimators': 2800},\n",
       "  {'n_estimators': 3000},\n",
       "  {'n_estimators': 3200},\n",
       "  {'n_estimators': 3500},\n",
       "  {'n_estimators': 3800},\n",
       "  {'n_estimators': 4000},\n",
       "  {'n_estimators': 4200},\n",
       "  {'n_estimators': 4500},\n",
       "  {'n_estimators': 4800}],\n",
       " 'rank_test_score': array([11,  3,  2,  1,  4,  7,  9,  8,  6,  5, 10], dtype=int32),\n",
       " 'split0_test_score': array([-0.01668784, -0.0166876 , -0.016688  , -0.01668835, -0.01668844,\n",
       "        -0.01668856, -0.01668874, -0.01668829, -0.01668791, -0.01668765,\n",
       "        -0.01668793]),\n",
       " 'split1_test_score': array([-0.01012453, -0.01012413, -0.01012427, -0.01012432, -0.01012428,\n",
       "        -0.01012425, -0.01012426, -0.01012434, -0.01012441, -0.01012445,\n",
       "        -0.01012438]),\n",
       " 'split2_test_score': array([-0.01233916, -0.01233934, -0.01233975, -0.0123396 , -0.0123396 ,\n",
       "        -0.0123399 , -0.01234002, -0.01234005, -0.01234017, -0.01234016,\n",
       "        -0.01234014]),\n",
       " 'split3_test_score': array([-0.01891361, -0.01891333, -0.01891315, -0.01891297, -0.01891306,\n",
       "        -0.01891296, -0.01891298, -0.01891302, -0.01891306, -0.01891313,\n",
       "        -0.01891328]),\n",
       " 'split4_test_score': array([-0.02126612, -0.02126531, -0.02126498, -0.02126478, -0.02126486,\n",
       "        -0.02126511, -0.0212649 , -0.02126475, -0.02126463, -0.02126458,\n",
       "        -0.02126464]),\n",
       " 'split5_test_score': array([-0.01278415, -0.01278391, -0.01278377, -0.01278367, -0.01278362,\n",
       "        -0.01278359, -0.01278363, -0.01278379, -0.01278384, -0.01278389,\n",
       "        -0.01278399]),\n",
       " 'split6_test_score': array([-0.0150407 , -0.01504041, -0.01504084, -0.01504078, -0.01504079,\n",
       "        -0.0150405 , -0.01504077, -0.01504068, -0.01504054, -0.01504056,\n",
       "        -0.01504072]),\n",
       " 'split7_test_score': array([-0.01255341, -0.01255358, -0.01255343, -0.01255339, -0.01255342,\n",
       "        -0.01255351, -0.01255355, -0.01255363, -0.01255354, -0.01255354,\n",
       "        -0.01255355]),\n",
       " 'split8_test_score': array([-0.01023672, -0.01023628, -0.01023574, -0.01023568, -0.01023592,\n",
       "        -0.01023606, -0.01023636, -0.01023631, -0.01023632, -0.01023626,\n",
       "        -0.01023743]),\n",
       " 'split9_test_score': array([-0.02110503, -0.02110471, -0.02110467, -0.02110466, -0.02110491,\n",
       "        -0.02110485, -0.02110494, -0.02110486, -0.02110483, -0.02110487,\n",
       "        -0.02110478]),\n",
       " 'std_fit_time': array([0.5674324 , 0.43594896, 0.48780527, 0.67131074, 0.47460278,\n",
       "        0.67634067, 0.88078026, 0.98457362, 0.5411994 , 0.99390712,\n",
       "        0.7355899 ]),\n",
       " 'std_score_time': array([0.0091092 , 0.01857326, 0.00551639, 0.00815117, 0.01758949,\n",
       "        0.01203055, 0.03478991, 0.01012469, 0.00556857, 0.00854657,\n",
       "        0.02629983]),\n",
       " 'std_test_score': array([0.00398782, 0.0039877 , 0.00398768, 0.00398767, 0.00398771,\n",
       "        0.00398769, 0.00398763, 0.00398756, 0.00398751, 0.00398751,\n",
       "        0.00398739])}"
      ]
     },
     "execution_count": 14,
     "metadata": {
      "tags": []
     },
     "output_type": "execute_result"
    }
   ],
   "source": [
    "result"
   ]
  },
  {
   "cell_type": "markdown",
   "metadata": {
    "colab_type": "text",
    "id": "zXGha1gTfT2V"
   },
   "source": [
    "#### 2、min_child_weight和max_depth"
   ]
  },
  {
   "cell_type": "code",
   "execution_count": 15,
   "metadata": {
    "colab": {
     "base_uri": "https://localhost:8080/",
     "height": 1000
    },
    "colab_type": "code",
    "executionInfo": {
     "elapsed": 12410484,
     "status": "ok",
     "timestamp": 1593960652471,
     "user": {
      "displayName": "Harold Ran",
      "photoUrl": "",
      "userId": "00745499557779892259"
     },
     "user_tz": -480
    },
    "id": "IbAAYaV4uTFb",
    "outputId": "1d1d6b60-dce7-4326-d66a-fcd447c530f9"
   },
   "outputs": [
    {
     "name": "stdout",
     "output_type": "stream",
     "text": [
      "Fitting 10 folds for each of 42 candidates, totalling 420 fits\n",
      "[11:24:02] WARNING: /workspace/src/objective/regression_obj.cu:152: reg:linear is now deprecated in favor of reg:squarederror.\n"
     ]
    },
    {
     "name": "stderr",
     "output_type": "stream",
     "text": [
      "[Parallel(n_jobs=1)]: Using backend SequentialBackend with 1 concurrent workers.\n"
     ]
    },
    {
     "name": "stdout",
     "output_type": "stream",
     "text": [
      "[11:24:22] WARNING: /workspace/src/objective/regression_obj.cu:152: reg:linear is now deprecated in favor of reg:squarederror.\n",
      "[11:24:42] WARNING: /workspace/src/objective/regression_obj.cu:152: reg:linear is now deprecated in favor of reg:squarederror.\n",
      "[11:25:01] WARNING: /workspace/src/objective/regression_obj.cu:152: reg:linear is now deprecated in favor of reg:squarederror.\n",
      "[11:25:21] WARNING: /workspace/src/objective/regression_obj.cu:152: reg:linear is now deprecated in favor of reg:squarederror.\n",
      "[11:25:41] WARNING: /workspace/src/objective/regression_obj.cu:152: reg:linear is now deprecated in favor of reg:squarederror.\n",
      "[11:26:00] WARNING: /workspace/src/objective/regression_obj.cu:152: reg:linear is now deprecated in favor of reg:squarederror.\n",
      "[11:26:20] WARNING: /workspace/src/objective/regression_obj.cu:152: reg:linear is now deprecated in favor of reg:squarederror.\n",
      "[11:26:39] WARNING: /workspace/src/objective/regression_obj.cu:152: reg:linear is now deprecated in favor of reg:squarederror.\n",
      "[11:26:59] WARNING: /workspace/src/objective/regression_obj.cu:152: reg:linear is now deprecated in favor of reg:squarederror.\n",
      "[11:27:19] WARNING: /workspace/src/objective/regression_obj.cu:152: reg:linear is now deprecated in favor of reg:squarederror.\n",
      "[11:27:38] WARNING: /workspace/src/objective/regression_obj.cu:152: reg:linear is now deprecated in favor of reg:squarederror.\n",
      "[11:27:58] WARNING: /workspace/src/objective/regression_obj.cu:152: reg:linear is now deprecated in favor of reg:squarederror.\n",
      "[11:28:19] WARNING: /workspace/src/objective/regression_obj.cu:152: reg:linear is now deprecated in favor of reg:squarederror.\n",
      "[11:28:39] WARNING: /workspace/src/objective/regression_obj.cu:152: reg:linear is now deprecated in favor of reg:squarederror.\n",
      "[11:28:58] WARNING: /workspace/src/objective/regression_obj.cu:152: reg:linear is now deprecated in favor of reg:squarederror.\n",
      "[11:29:17] WARNING: /workspace/src/objective/regression_obj.cu:152: reg:linear is now deprecated in favor of reg:squarederror.\n",
      "[11:29:37] WARNING: /workspace/src/objective/regression_obj.cu:152: reg:linear is now deprecated in favor of reg:squarederror.\n",
      "[11:29:56] WARNING: /workspace/src/objective/regression_obj.cu:152: reg:linear is now deprecated in favor of reg:squarederror.\n",
      "[11:30:16] WARNING: /workspace/src/objective/regression_obj.cu:152: reg:linear is now deprecated in favor of reg:squarederror.\n",
      "[11:30:36] WARNING: /workspace/src/objective/regression_obj.cu:152: reg:linear is now deprecated in favor of reg:squarederror.\n",
      "[11:30:55] WARNING: /workspace/src/objective/regression_obj.cu:152: reg:linear is now deprecated in favor of reg:squarederror.\n",
      "[11:31:15] WARNING: /workspace/src/objective/regression_obj.cu:152: reg:linear is now deprecated in favor of reg:squarederror.\n",
      "[11:31:34] WARNING: /workspace/src/objective/regression_obj.cu:152: reg:linear is now deprecated in favor of reg:squarederror.\n",
      "[11:31:54] WARNING: /workspace/src/objective/regression_obj.cu:152: reg:linear is now deprecated in favor of reg:squarederror.\n",
      "[11:32:13] WARNING: /workspace/src/objective/regression_obj.cu:152: reg:linear is now deprecated in favor of reg:squarederror.\n",
      "[11:32:33] WARNING: /workspace/src/objective/regression_obj.cu:152: reg:linear is now deprecated in favor of reg:squarederror.\n",
      "[11:32:52] WARNING: /workspace/src/objective/regression_obj.cu:152: reg:linear is now deprecated in favor of reg:squarederror.\n",
      "[11:33:12] WARNING: /workspace/src/objective/regression_obj.cu:152: reg:linear is now deprecated in favor of reg:squarederror.\n",
      "[11:33:32] WARNING: /workspace/src/objective/regression_obj.cu:152: reg:linear is now deprecated in favor of reg:squarederror.\n",
      "[11:33:51] WARNING: /workspace/src/objective/regression_obj.cu:152: reg:linear is now deprecated in favor of reg:squarederror.\n",
      "[11:34:11] WARNING: /workspace/src/objective/regression_obj.cu:152: reg:linear is now deprecated in favor of reg:squarederror.\n",
      "[11:34:30] WARNING: /workspace/src/objective/regression_obj.cu:152: reg:linear is now deprecated in favor of reg:squarederror.\n",
      "[11:34:50] WARNING: /workspace/src/objective/regression_obj.cu:152: reg:linear is now deprecated in favor of reg:squarederror.\n",
      "[11:35:09] WARNING: /workspace/src/objective/regression_obj.cu:152: reg:linear is now deprecated in favor of reg:squarederror.\n",
      "[11:35:28] WARNING: /workspace/src/objective/regression_obj.cu:152: reg:linear is now deprecated in favor of reg:squarederror.\n",
      "[11:35:48] WARNING: /workspace/src/objective/regression_obj.cu:152: reg:linear is now deprecated in favor of reg:squarederror.\n",
      "[11:36:07] WARNING: /workspace/src/objective/regression_obj.cu:152: reg:linear is now deprecated in favor of reg:squarederror.\n",
      "[11:36:27] WARNING: /workspace/src/objective/regression_obj.cu:152: reg:linear is now deprecated in favor of reg:squarederror.\n",
      "[11:36:46] WARNING: /workspace/src/objective/regression_obj.cu:152: reg:linear is now deprecated in favor of reg:squarederror.\n",
      "[11:37:06] WARNING: /workspace/src/objective/regression_obj.cu:152: reg:linear is now deprecated in favor of reg:squarederror.\n",
      "[11:37:25] WARNING: /workspace/src/objective/regression_obj.cu:152: reg:linear is now deprecated in favor of reg:squarederror.\n",
      "[11:37:45] WARNING: /workspace/src/objective/regression_obj.cu:152: reg:linear is now deprecated in favor of reg:squarederror.\n",
      "[11:38:04] WARNING: /workspace/src/objective/regression_obj.cu:152: reg:linear is now deprecated in favor of reg:squarederror.\n",
      "[11:38:25] WARNING: /workspace/src/objective/regression_obj.cu:152: reg:linear is now deprecated in favor of reg:squarederror.\n",
      "[11:38:47] WARNING: /workspace/src/objective/regression_obj.cu:152: reg:linear is now deprecated in favor of reg:squarederror.\n",
      "[11:39:07] WARNING: /workspace/src/objective/regression_obj.cu:152: reg:linear is now deprecated in favor of reg:squarederror.\n",
      "[11:39:26] WARNING: /workspace/src/objective/regression_obj.cu:152: reg:linear is now deprecated in favor of reg:squarederror.\n",
      "[11:39:46] WARNING: /workspace/src/objective/regression_obj.cu:152: reg:linear is now deprecated in favor of reg:squarederror.\n",
      "[11:40:05] WARNING: /workspace/src/objective/regression_obj.cu:152: reg:linear is now deprecated in favor of reg:squarederror.\n",
      "[11:40:25] WARNING: /workspace/src/objective/regression_obj.cu:152: reg:linear is now deprecated in favor of reg:squarederror.\n",
      "[11:40:44] WARNING: /workspace/src/objective/regression_obj.cu:152: reg:linear is now deprecated in favor of reg:squarederror.\n",
      "[11:41:04] WARNING: /workspace/src/objective/regression_obj.cu:152: reg:linear is now deprecated in favor of reg:squarederror.\n",
      "[11:41:23] WARNING: /workspace/src/objective/regression_obj.cu:152: reg:linear is now deprecated in favor of reg:squarederror.\n",
      "[11:41:42] WARNING: /workspace/src/objective/regression_obj.cu:152: reg:linear is now deprecated in favor of reg:squarederror.\n",
      "[11:42:02] WARNING: /workspace/src/objective/regression_obj.cu:152: reg:linear is now deprecated in favor of reg:squarederror.\n",
      "[11:42:21] WARNING: /workspace/src/objective/regression_obj.cu:152: reg:linear is now deprecated in favor of reg:squarederror.\n",
      "[11:42:41] WARNING: /workspace/src/objective/regression_obj.cu:152: reg:linear is now deprecated in favor of reg:squarederror.\n",
      "[11:43:00] WARNING: /workspace/src/objective/regression_obj.cu:152: reg:linear is now deprecated in favor of reg:squarederror.\n",
      "[11:43:19] WARNING: /workspace/src/objective/regression_obj.cu:152: reg:linear is now deprecated in favor of reg:squarederror.\n",
      "[11:43:39] WARNING: /workspace/src/objective/regression_obj.cu:152: reg:linear is now deprecated in favor of reg:squarederror.\n",
      "[11:44:02] WARNING: /workspace/src/objective/regression_obj.cu:152: reg:linear is now deprecated in favor of reg:squarederror.\n",
      "[11:44:26] WARNING: /workspace/src/objective/regression_obj.cu:152: reg:linear is now deprecated in favor of reg:squarederror.\n",
      "[11:44:49] WARNING: /workspace/src/objective/regression_obj.cu:152: reg:linear is now deprecated in favor of reg:squarederror.\n",
      "[11:45:12] WARNING: /workspace/src/objective/regression_obj.cu:152: reg:linear is now deprecated in favor of reg:squarederror.\n",
      "[11:45:36] WARNING: /workspace/src/objective/regression_obj.cu:152: reg:linear is now deprecated in favor of reg:squarederror.\n",
      "[11:45:59] WARNING: /workspace/src/objective/regression_obj.cu:152: reg:linear is now deprecated in favor of reg:squarederror.\n",
      "[11:46:22] WARNING: /workspace/src/objective/regression_obj.cu:152: reg:linear is now deprecated in favor of reg:squarederror.\n",
      "[11:46:46] WARNING: /workspace/src/objective/regression_obj.cu:152: reg:linear is now deprecated in favor of reg:squarederror.\n",
      "[11:47:09] WARNING: /workspace/src/objective/regression_obj.cu:152: reg:linear is now deprecated in favor of reg:squarederror.\n",
      "[11:47:32] WARNING: /workspace/src/objective/regression_obj.cu:152: reg:linear is now deprecated in favor of reg:squarederror.\n",
      "[11:47:56] WARNING: /workspace/src/objective/regression_obj.cu:152: reg:linear is now deprecated in favor of reg:squarederror.\n",
      "[11:48:19] WARNING: /workspace/src/objective/regression_obj.cu:152: reg:linear is now deprecated in favor of reg:squarederror.\n",
      "[11:48:42] WARNING: /workspace/src/objective/regression_obj.cu:152: reg:linear is now deprecated in favor of reg:squarederror.\n",
      "[11:49:05] WARNING: /workspace/src/objective/regression_obj.cu:152: reg:linear is now deprecated in favor of reg:squarederror.\n",
      "[11:49:29] WARNING: /workspace/src/objective/regression_obj.cu:152: reg:linear is now deprecated in favor of reg:squarederror.\n",
      "[11:49:52] WARNING: /workspace/src/objective/regression_obj.cu:152: reg:linear is now deprecated in favor of reg:squarederror.\n",
      "[11:50:15] WARNING: /workspace/src/objective/regression_obj.cu:152: reg:linear is now deprecated in favor of reg:squarederror.\n",
      "[11:50:38] WARNING: /workspace/src/objective/regression_obj.cu:152: reg:linear is now deprecated in favor of reg:squarederror.\n",
      "[11:51:01] WARNING: /workspace/src/objective/regression_obj.cu:152: reg:linear is now deprecated in favor of reg:squarederror.\n",
      "[11:51:25] WARNING: /workspace/src/objective/regression_obj.cu:152: reg:linear is now deprecated in favor of reg:squarederror.\n",
      "[11:51:48] WARNING: /workspace/src/objective/regression_obj.cu:152: reg:linear is now deprecated in favor of reg:squarederror.\n",
      "[11:52:11] WARNING: /workspace/src/objective/regression_obj.cu:152: reg:linear is now deprecated in favor of reg:squarederror.\n",
      "[11:52:34] WARNING: /workspace/src/objective/regression_obj.cu:152: reg:linear is now deprecated in favor of reg:squarederror.\n",
      "[11:52:57] WARNING: /workspace/src/objective/regression_obj.cu:152: reg:linear is now deprecated in favor of reg:squarederror.\n",
      "[11:53:20] WARNING: /workspace/src/objective/regression_obj.cu:152: reg:linear is now deprecated in favor of reg:squarederror.\n",
      "[11:53:43] WARNING: /workspace/src/objective/regression_obj.cu:152: reg:linear is now deprecated in favor of reg:squarederror.\n",
      "[11:54:06] WARNING: /workspace/src/objective/regression_obj.cu:152: reg:linear is now deprecated in favor of reg:squarederror.\n",
      "[11:54:30] WARNING: /workspace/src/objective/regression_obj.cu:152: reg:linear is now deprecated in favor of reg:squarederror.\n",
      "[11:54:53] WARNING: /workspace/src/objective/regression_obj.cu:152: reg:linear is now deprecated in favor of reg:squarederror.\n",
      "[11:55:16] WARNING: /workspace/src/objective/regression_obj.cu:152: reg:linear is now deprecated in favor of reg:squarederror.\n",
      "[11:55:39] WARNING: /workspace/src/objective/regression_obj.cu:152: reg:linear is now deprecated in favor of reg:squarederror.\n",
      "[11:56:02] WARNING: /workspace/src/objective/regression_obj.cu:152: reg:linear is now deprecated in favor of reg:squarederror.\n",
      "[11:56:25] WARNING: /workspace/src/objective/regression_obj.cu:152: reg:linear is now deprecated in favor of reg:squarederror.\n",
      "[11:56:47] WARNING: /workspace/src/objective/regression_obj.cu:152: reg:linear is now deprecated in favor of reg:squarederror.\n",
      "[11:57:10] WARNING: /workspace/src/objective/regression_obj.cu:152: reg:linear is now deprecated in favor of reg:squarederror.\n",
      "[11:57:33] WARNING: /workspace/src/objective/regression_obj.cu:152: reg:linear is now deprecated in favor of reg:squarederror.\n",
      "[11:57:56] WARNING: /workspace/src/objective/regression_obj.cu:152: reg:linear is now deprecated in favor of reg:squarederror.\n",
      "[11:58:19] WARNING: /workspace/src/objective/regression_obj.cu:152: reg:linear is now deprecated in favor of reg:squarederror.\n",
      "[11:58:42] WARNING: /workspace/src/objective/regression_obj.cu:152: reg:linear is now deprecated in favor of reg:squarederror.\n",
      "[11:59:05] WARNING: /workspace/src/objective/regression_obj.cu:152: reg:linear is now deprecated in favor of reg:squarederror.\n",
      "[11:59:28] WARNING: /workspace/src/objective/regression_obj.cu:152: reg:linear is now deprecated in favor of reg:squarederror.\n",
      "[11:59:51] WARNING: /workspace/src/objective/regression_obj.cu:152: reg:linear is now deprecated in favor of reg:squarederror.\n",
      "[12:00:14] WARNING: /workspace/src/objective/regression_obj.cu:152: reg:linear is now deprecated in favor of reg:squarederror.\n",
      "[12:00:37] WARNING: /workspace/src/objective/regression_obj.cu:152: reg:linear is now deprecated in favor of reg:squarederror.\n",
      "[12:01:00] WARNING: /workspace/src/objective/regression_obj.cu:152: reg:linear is now deprecated in favor of reg:squarederror.\n",
      "[12:01:22] WARNING: /workspace/src/objective/regression_obj.cu:152: reg:linear is now deprecated in favor of reg:squarederror.\n",
      "[12:01:45] WARNING: /workspace/src/objective/regression_obj.cu:152: reg:linear is now deprecated in favor of reg:squarederror.\n",
      "[12:02:08] WARNING: /workspace/src/objective/regression_obj.cu:152: reg:linear is now deprecated in favor of reg:squarederror.\n",
      "[12:02:31] WARNING: /workspace/src/objective/regression_obj.cu:152: reg:linear is now deprecated in favor of reg:squarederror.\n",
      "[12:02:54] WARNING: /workspace/src/objective/regression_obj.cu:152: reg:linear is now deprecated in favor of reg:squarederror.\n",
      "[12:03:16] WARNING: /workspace/src/objective/regression_obj.cu:152: reg:linear is now deprecated in favor of reg:squarederror.\n",
      "[12:03:39] WARNING: /workspace/src/objective/regression_obj.cu:152: reg:linear is now deprecated in favor of reg:squarederror.\n",
      "[12:04:02] WARNING: /workspace/src/objective/regression_obj.cu:152: reg:linear is now deprecated in favor of reg:squarederror.\n",
      "[12:04:24] WARNING: /workspace/src/objective/regression_obj.cu:152: reg:linear is now deprecated in favor of reg:squarederror.\n",
      "[12:04:47] WARNING: /workspace/src/objective/regression_obj.cu:152: reg:linear is now deprecated in favor of reg:squarederror.\n",
      "[12:05:10] WARNING: /workspace/src/objective/regression_obj.cu:152: reg:linear is now deprecated in favor of reg:squarederror.\n",
      "[12:05:33] WARNING: /workspace/src/objective/regression_obj.cu:152: reg:linear is now deprecated in favor of reg:squarederror.\n",
      "[12:05:56] WARNING: /workspace/src/objective/regression_obj.cu:152: reg:linear is now deprecated in favor of reg:squarederror.\n",
      "[12:06:18] WARNING: /workspace/src/objective/regression_obj.cu:152: reg:linear is now deprecated in favor of reg:squarederror.\n",
      "[12:06:41] WARNING: /workspace/src/objective/regression_obj.cu:152: reg:linear is now deprecated in favor of reg:squarederror.\n",
      "[12:07:08] WARNING: /workspace/src/objective/regression_obj.cu:152: reg:linear is now deprecated in favor of reg:squarederror.\n",
      "[12:07:35] WARNING: /workspace/src/objective/regression_obj.cu:152: reg:linear is now deprecated in favor of reg:squarederror.\n",
      "[12:08:03] WARNING: /workspace/src/objective/regression_obj.cu:152: reg:linear is now deprecated in favor of reg:squarederror.\n",
      "[12:08:30] WARNING: /workspace/src/objective/regression_obj.cu:152: reg:linear is now deprecated in favor of reg:squarederror.\n",
      "[12:08:57] WARNING: /workspace/src/objective/regression_obj.cu:152: reg:linear is now deprecated in favor of reg:squarederror.\n",
      "[12:09:24] WARNING: /workspace/src/objective/regression_obj.cu:152: reg:linear is now deprecated in favor of reg:squarederror.\n",
      "[12:09:52] WARNING: /workspace/src/objective/regression_obj.cu:152: reg:linear is now deprecated in favor of reg:squarederror.\n",
      "[12:10:19] WARNING: /workspace/src/objective/regression_obj.cu:152: reg:linear is now deprecated in favor of reg:squarederror.\n",
      "[12:10:46] WARNING: /workspace/src/objective/regression_obj.cu:152: reg:linear is now deprecated in favor of reg:squarederror.\n",
      "[12:11:13] WARNING: /workspace/src/objective/regression_obj.cu:152: reg:linear is now deprecated in favor of reg:squarederror.\n",
      "[12:11:40] WARNING: /workspace/src/objective/regression_obj.cu:152: reg:linear is now deprecated in favor of reg:squarederror.\n",
      "[12:12:07] WARNING: /workspace/src/objective/regression_obj.cu:152: reg:linear is now deprecated in favor of reg:squarederror.\n",
      "[12:12:34] WARNING: /workspace/src/objective/regression_obj.cu:152: reg:linear is now deprecated in favor of reg:squarederror.\n",
      "[12:13:02] WARNING: /workspace/src/objective/regression_obj.cu:152: reg:linear is now deprecated in favor of reg:squarederror.\n",
      "[12:13:29] WARNING: /workspace/src/objective/regression_obj.cu:152: reg:linear is now deprecated in favor of reg:squarederror.\n",
      "[12:13:56] WARNING: /workspace/src/objective/regression_obj.cu:152: reg:linear is now deprecated in favor of reg:squarederror.\n",
      "[12:14:23] WARNING: /workspace/src/objective/regression_obj.cu:152: reg:linear is now deprecated in favor of reg:squarederror.\n",
      "[12:14:50] WARNING: /workspace/src/objective/regression_obj.cu:152: reg:linear is now deprecated in favor of reg:squarederror.\n",
      "[12:15:17] WARNING: /workspace/src/objective/regression_obj.cu:152: reg:linear is now deprecated in favor of reg:squarederror.\n",
      "[12:15:44] WARNING: /workspace/src/objective/regression_obj.cu:152: reg:linear is now deprecated in favor of reg:squarederror.\n",
      "[12:16:11] WARNING: /workspace/src/objective/regression_obj.cu:152: reg:linear is now deprecated in favor of reg:squarederror.\n",
      "[12:16:37] WARNING: /workspace/src/objective/regression_obj.cu:152: reg:linear is now deprecated in favor of reg:squarederror.\n",
      "[12:17:04] WARNING: /workspace/src/objective/regression_obj.cu:152: reg:linear is now deprecated in favor of reg:squarederror.\n",
      "[12:17:31] WARNING: /workspace/src/objective/regression_obj.cu:152: reg:linear is now deprecated in favor of reg:squarederror.\n",
      "[12:17:58] WARNING: /workspace/src/objective/regression_obj.cu:152: reg:linear is now deprecated in favor of reg:squarederror.\n",
      "[12:18:25] WARNING: /workspace/src/objective/regression_obj.cu:152: reg:linear is now deprecated in favor of reg:squarederror.\n",
      "[12:18:52] WARNING: /workspace/src/objective/regression_obj.cu:152: reg:linear is now deprecated in favor of reg:squarederror.\n",
      "[12:19:18] WARNING: /workspace/src/objective/regression_obj.cu:152: reg:linear is now deprecated in favor of reg:squarederror.\n",
      "[12:19:45] WARNING: /workspace/src/objective/regression_obj.cu:152: reg:linear is now deprecated in favor of reg:squarederror.\n",
      "[12:20:12] WARNING: /workspace/src/objective/regression_obj.cu:152: reg:linear is now deprecated in favor of reg:squarederror.\n",
      "[12:20:38] WARNING: /workspace/src/objective/regression_obj.cu:152: reg:linear is now deprecated in favor of reg:squarederror.\n",
      "[12:21:06] WARNING: /workspace/src/objective/regression_obj.cu:152: reg:linear is now deprecated in favor of reg:squarederror.\n",
      "[12:21:33] WARNING: /workspace/src/objective/regression_obj.cu:152: reg:linear is now deprecated in favor of reg:squarederror.\n",
      "[12:21:59] WARNING: /workspace/src/objective/regression_obj.cu:152: reg:linear is now deprecated in favor of reg:squarederror.\n",
      "[12:22:26] WARNING: /workspace/src/objective/regression_obj.cu:152: reg:linear is now deprecated in favor of reg:squarederror.\n",
      "[12:22:52] WARNING: /workspace/src/objective/regression_obj.cu:152: reg:linear is now deprecated in favor of reg:squarederror.\n",
      "[12:23:19] WARNING: /workspace/src/objective/regression_obj.cu:152: reg:linear is now deprecated in favor of reg:squarederror.\n",
      "[12:23:45] WARNING: /workspace/src/objective/regression_obj.cu:152: reg:linear is now deprecated in favor of reg:squarederror.\n",
      "[12:24:11] WARNING: /workspace/src/objective/regression_obj.cu:152: reg:linear is now deprecated in favor of reg:squarederror.\n",
      "[12:24:38] WARNING: /workspace/src/objective/regression_obj.cu:152: reg:linear is now deprecated in favor of reg:squarederror.\n",
      "[12:25:04] WARNING: /workspace/src/objective/regression_obj.cu:152: reg:linear is now deprecated in favor of reg:squarederror.\n",
      "[12:25:31] WARNING: /workspace/src/objective/regression_obj.cu:152: reg:linear is now deprecated in favor of reg:squarederror.\n",
      "[12:25:57] WARNING: /workspace/src/objective/regression_obj.cu:152: reg:linear is now deprecated in favor of reg:squarederror.\n",
      "[12:26:24] WARNING: /workspace/src/objective/regression_obj.cu:152: reg:linear is now deprecated in favor of reg:squarederror.\n",
      "[12:26:50] WARNING: /workspace/src/objective/regression_obj.cu:152: reg:linear is now deprecated in favor of reg:squarederror.\n",
      "[12:27:17] WARNING: /workspace/src/objective/regression_obj.cu:152: reg:linear is now deprecated in favor of reg:squarederror.\n",
      "[12:27:43] WARNING: /workspace/src/objective/regression_obj.cu:152: reg:linear is now deprecated in favor of reg:squarederror.\n",
      "[12:28:09] WARNING: /workspace/src/objective/regression_obj.cu:152: reg:linear is now deprecated in favor of reg:squarederror.\n",
      "[12:28:35] WARNING: /workspace/src/objective/regression_obj.cu:152: reg:linear is now deprecated in favor of reg:squarederror.\n",
      "[12:29:02] WARNING: /workspace/src/objective/regression_obj.cu:152: reg:linear is now deprecated in favor of reg:squarederror.\n",
      "[12:29:28] WARNING: /workspace/src/objective/regression_obj.cu:152: reg:linear is now deprecated in favor of reg:squarederror.\n",
      "[12:29:55] WARNING: /workspace/src/objective/regression_obj.cu:152: reg:linear is now deprecated in favor of reg:squarederror.\n",
      "[12:30:21] WARNING: /workspace/src/objective/regression_obj.cu:152: reg:linear is now deprecated in favor of reg:squarederror.\n",
      "[12:30:48] WARNING: /workspace/src/objective/regression_obj.cu:152: reg:linear is now deprecated in favor of reg:squarederror.\n",
      "[12:31:14] WARNING: /workspace/src/objective/regression_obj.cu:152: reg:linear is now deprecated in favor of reg:squarederror.\n",
      "[12:31:40] WARNING: /workspace/src/objective/regression_obj.cu:152: reg:linear is now deprecated in favor of reg:squarederror.\n",
      "[12:32:06] WARNING: /workspace/src/objective/regression_obj.cu:152: reg:linear is now deprecated in favor of reg:squarederror.\n",
      "[12:32:32] WARNING: /workspace/src/objective/regression_obj.cu:152: reg:linear is now deprecated in favor of reg:squarederror.\n",
      "[12:32:59] WARNING: /workspace/src/objective/regression_obj.cu:152: reg:linear is now deprecated in favor of reg:squarederror.\n",
      "[12:33:25] WARNING: /workspace/src/objective/regression_obj.cu:152: reg:linear is now deprecated in favor of reg:squarederror.\n",
      "[12:33:56] WARNING: /workspace/src/objective/regression_obj.cu:152: reg:linear is now deprecated in favor of reg:squarederror.\n",
      "[12:34:27] WARNING: /workspace/src/objective/regression_obj.cu:152: reg:linear is now deprecated in favor of reg:squarederror.\n",
      "[12:34:59] WARNING: /workspace/src/objective/regression_obj.cu:152: reg:linear is now deprecated in favor of reg:squarederror.\n",
      "[12:35:30] WARNING: /workspace/src/objective/regression_obj.cu:152: reg:linear is now deprecated in favor of reg:squarederror.\n",
      "[12:36:01] WARNING: /workspace/src/objective/regression_obj.cu:152: reg:linear is now deprecated in favor of reg:squarederror.\n",
      "[12:36:33] WARNING: /workspace/src/objective/regression_obj.cu:152: reg:linear is now deprecated in favor of reg:squarederror.\n",
      "[12:37:05] WARNING: /workspace/src/objective/regression_obj.cu:152: reg:linear is now deprecated in favor of reg:squarederror.\n",
      "[12:37:36] WARNING: /workspace/src/objective/regression_obj.cu:152: reg:linear is now deprecated in favor of reg:squarederror.\n",
      "[12:38:07] WARNING: /workspace/src/objective/regression_obj.cu:152: reg:linear is now deprecated in favor of reg:squarederror.\n",
      "[12:38:38] WARNING: /workspace/src/objective/regression_obj.cu:152: reg:linear is now deprecated in favor of reg:squarederror.\n",
      "[12:39:09] WARNING: /workspace/src/objective/regression_obj.cu:152: reg:linear is now deprecated in favor of reg:squarederror.\n",
      "[12:39:40] WARNING: /workspace/src/objective/regression_obj.cu:152: reg:linear is now deprecated in favor of reg:squarederror.\n",
      "[12:40:11] WARNING: /workspace/src/objective/regression_obj.cu:152: reg:linear is now deprecated in favor of reg:squarederror.\n",
      "[12:40:42] WARNING: /workspace/src/objective/regression_obj.cu:152: reg:linear is now deprecated in favor of reg:squarederror.\n",
      "[12:41:13] WARNING: /workspace/src/objective/regression_obj.cu:152: reg:linear is now deprecated in favor of reg:squarederror.\n",
      "[12:41:44] WARNING: /workspace/src/objective/regression_obj.cu:152: reg:linear is now deprecated in favor of reg:squarederror.\n",
      "[12:42:15] WARNING: /workspace/src/objective/regression_obj.cu:152: reg:linear is now deprecated in favor of reg:squarederror.\n",
      "[12:42:46] WARNING: /workspace/src/objective/regression_obj.cu:152: reg:linear is now deprecated in favor of reg:squarederror.\n",
      "[12:43:17] WARNING: /workspace/src/objective/regression_obj.cu:152: reg:linear is now deprecated in favor of reg:squarederror.\n",
      "[12:43:48] WARNING: /workspace/src/objective/regression_obj.cu:152: reg:linear is now deprecated in favor of reg:squarederror.\n",
      "[12:44:18] WARNING: /workspace/src/objective/regression_obj.cu:152: reg:linear is now deprecated in favor of reg:squarederror.\n",
      "[12:44:49] WARNING: /workspace/src/objective/regression_obj.cu:152: reg:linear is now deprecated in favor of reg:squarederror.\n",
      "[12:45:20] WARNING: /workspace/src/objective/regression_obj.cu:152: reg:linear is now deprecated in favor of reg:squarederror.\n",
      "[12:45:51] WARNING: /workspace/src/objective/regression_obj.cu:152: reg:linear is now deprecated in favor of reg:squarederror.\n",
      "[12:46:21] WARNING: /workspace/src/objective/regression_obj.cu:152: reg:linear is now deprecated in favor of reg:squarederror.\n",
      "[12:46:52] WARNING: /workspace/src/objective/regression_obj.cu:152: reg:linear is now deprecated in favor of reg:squarederror.\n",
      "[12:47:23] WARNING: /workspace/src/objective/regression_obj.cu:152: reg:linear is now deprecated in favor of reg:squarederror.\n",
      "[12:47:54] WARNING: /workspace/src/objective/regression_obj.cu:152: reg:linear is now deprecated in favor of reg:squarederror.\n",
      "[12:48:25] WARNING: /workspace/src/objective/regression_obj.cu:152: reg:linear is now deprecated in favor of reg:squarederror.\n",
      "[12:48:55] WARNING: /workspace/src/objective/regression_obj.cu:152: reg:linear is now deprecated in favor of reg:squarederror.\n",
      "[12:49:26] WARNING: /workspace/src/objective/regression_obj.cu:152: reg:linear is now deprecated in favor of reg:squarederror.\n",
      "[12:49:56] WARNING: /workspace/src/objective/regression_obj.cu:152: reg:linear is now deprecated in favor of reg:squarederror.\n",
      "[12:50:27] WARNING: /workspace/src/objective/regression_obj.cu:152: reg:linear is now deprecated in favor of reg:squarederror.\n",
      "[12:50:57] WARNING: /workspace/src/objective/regression_obj.cu:152: reg:linear is now deprecated in favor of reg:squarederror.\n",
      "[12:51:27] WARNING: /workspace/src/objective/regression_obj.cu:152: reg:linear is now deprecated in favor of reg:squarederror.\n",
      "[12:51:57] WARNING: /workspace/src/objective/regression_obj.cu:152: reg:linear is now deprecated in favor of reg:squarederror.\n",
      "[12:52:27] WARNING: /workspace/src/objective/regression_obj.cu:152: reg:linear is now deprecated in favor of reg:squarederror.\n",
      "[12:52:58] WARNING: /workspace/src/objective/regression_obj.cu:152: reg:linear is now deprecated in favor of reg:squarederror.\n",
      "[12:53:28] WARNING: /workspace/src/objective/regression_obj.cu:152: reg:linear is now deprecated in favor of reg:squarederror.\n",
      "[12:53:58] WARNING: /workspace/src/objective/regression_obj.cu:152: reg:linear is now deprecated in favor of reg:squarederror.\n",
      "[12:54:28] WARNING: /workspace/src/objective/regression_obj.cu:152: reg:linear is now deprecated in favor of reg:squarederror.\n",
      "[12:54:58] WARNING: /workspace/src/objective/regression_obj.cu:152: reg:linear is now deprecated in favor of reg:squarederror.\n",
      "[12:55:28] WARNING: /workspace/src/objective/regression_obj.cu:152: reg:linear is now deprecated in favor of reg:squarederror.\n",
      "[12:55:58] WARNING: /workspace/src/objective/regression_obj.cu:152: reg:linear is now deprecated in favor of reg:squarederror.\n",
      "[12:56:28] WARNING: /workspace/src/objective/regression_obj.cu:152: reg:linear is now deprecated in favor of reg:squarederror.\n",
      "[12:56:58] WARNING: /workspace/src/objective/regression_obj.cu:152: reg:linear is now deprecated in favor of reg:squarederror.\n",
      "[12:57:28] WARNING: /workspace/src/objective/regression_obj.cu:152: reg:linear is now deprecated in favor of reg:squarederror.\n",
      "[12:57:59] WARNING: /workspace/src/objective/regression_obj.cu:152: reg:linear is now deprecated in favor of reg:squarederror.\n",
      "[12:58:29] WARNING: /workspace/src/objective/regression_obj.cu:152: reg:linear is now deprecated in favor of reg:squarederror.\n",
      "[12:58:59] WARNING: /workspace/src/objective/regression_obj.cu:152: reg:linear is now deprecated in favor of reg:squarederror.\n",
      "[12:59:29] WARNING: /workspace/src/objective/regression_obj.cu:152: reg:linear is now deprecated in favor of reg:squarederror.\n",
      "[12:59:58] WARNING: /workspace/src/objective/regression_obj.cu:152: reg:linear is now deprecated in favor of reg:squarederror.\n",
      "[13:00:28] WARNING: /workspace/src/objective/regression_obj.cu:152: reg:linear is now deprecated in favor of reg:squarederror.\n",
      "[13:00:58] WARNING: /workspace/src/objective/regression_obj.cu:152: reg:linear is now deprecated in favor of reg:squarederror.\n",
      "[13:01:27] WARNING: /workspace/src/objective/regression_obj.cu:152: reg:linear is now deprecated in favor of reg:squarederror.\n",
      "[13:01:57] WARNING: /workspace/src/objective/regression_obj.cu:152: reg:linear is now deprecated in favor of reg:squarederror.\n",
      "[13:02:26] WARNING: /workspace/src/objective/regression_obj.cu:152: reg:linear is now deprecated in favor of reg:squarederror.\n",
      "[13:02:56] WARNING: /workspace/src/objective/regression_obj.cu:152: reg:linear is now deprecated in favor of reg:squarederror.\n",
      "[13:03:26] WARNING: /workspace/src/objective/regression_obj.cu:152: reg:linear is now deprecated in favor of reg:squarederror.\n",
      "[13:03:56] WARNING: /workspace/src/objective/regression_obj.cu:152: reg:linear is now deprecated in favor of reg:squarederror.\n",
      "[13:04:29] WARNING: /workspace/src/objective/regression_obj.cu:152: reg:linear is now deprecated in favor of reg:squarederror.\n",
      "[13:05:02] WARNING: /workspace/src/objective/regression_obj.cu:152: reg:linear is now deprecated in favor of reg:squarederror.\n",
      "[13:05:35] WARNING: /workspace/src/objective/regression_obj.cu:152: reg:linear is now deprecated in favor of reg:squarederror.\n",
      "[13:06:08] WARNING: /workspace/src/objective/regression_obj.cu:152: reg:linear is now deprecated in favor of reg:squarederror.\n",
      "[13:06:42] WARNING: /workspace/src/objective/regression_obj.cu:152: reg:linear is now deprecated in favor of reg:squarederror.\n",
      "[13:07:14] WARNING: /workspace/src/objective/regression_obj.cu:152: reg:linear is now deprecated in favor of reg:squarederror.\n",
      "[13:07:47] WARNING: /workspace/src/objective/regression_obj.cu:152: reg:linear is now deprecated in favor of reg:squarederror.\n",
      "[13:08:20] WARNING: /workspace/src/objective/regression_obj.cu:152: reg:linear is now deprecated in favor of reg:squarederror.\n",
      "[13:08:55] WARNING: /workspace/src/objective/regression_obj.cu:152: reg:linear is now deprecated in favor of reg:squarederror.\n",
      "[13:09:28] WARNING: /workspace/src/objective/regression_obj.cu:152: reg:linear is now deprecated in favor of reg:squarederror.\n",
      "[13:10:02] WARNING: /workspace/src/objective/regression_obj.cu:152: reg:linear is now deprecated in favor of reg:squarederror.\n",
      "[13:10:36] WARNING: /workspace/src/objective/regression_obj.cu:152: reg:linear is now deprecated in favor of reg:squarederror.\n",
      "[13:11:10] WARNING: /workspace/src/objective/regression_obj.cu:152: reg:linear is now deprecated in favor of reg:squarederror.\n",
      "[13:11:44] WARNING: /workspace/src/objective/regression_obj.cu:152: reg:linear is now deprecated in favor of reg:squarederror.\n",
      "[13:12:18] WARNING: /workspace/src/objective/regression_obj.cu:152: reg:linear is now deprecated in favor of reg:squarederror.\n",
      "[13:12:51] WARNING: /workspace/src/objective/regression_obj.cu:152: reg:linear is now deprecated in favor of reg:squarederror.\n",
      "[13:13:25] WARNING: /workspace/src/objective/regression_obj.cu:152: reg:linear is now deprecated in favor of reg:squarederror.\n",
      "[13:13:59] WARNING: /workspace/src/objective/regression_obj.cu:152: reg:linear is now deprecated in favor of reg:squarederror.\n",
      "[13:14:33] WARNING: /workspace/src/objective/regression_obj.cu:152: reg:linear is now deprecated in favor of reg:squarederror.\n",
      "[13:15:07] WARNING: /workspace/src/objective/regression_obj.cu:152: reg:linear is now deprecated in favor of reg:squarederror.\n",
      "[13:15:41] WARNING: /workspace/src/objective/regression_obj.cu:152: reg:linear is now deprecated in favor of reg:squarederror.\n",
      "[13:16:16] WARNING: /workspace/src/objective/regression_obj.cu:152: reg:linear is now deprecated in favor of reg:squarederror.\n",
      "[13:16:50] WARNING: /workspace/src/objective/regression_obj.cu:152: reg:linear is now deprecated in favor of reg:squarederror.\n",
      "[13:17:24] WARNING: /workspace/src/objective/regression_obj.cu:152: reg:linear is now deprecated in favor of reg:squarederror.\n",
      "[13:17:59] WARNING: /workspace/src/objective/regression_obj.cu:152: reg:linear is now deprecated in favor of reg:squarederror.\n",
      "[13:18:33] WARNING: /workspace/src/objective/regression_obj.cu:152: reg:linear is now deprecated in favor of reg:squarederror.\n",
      "[13:19:08] WARNING: /workspace/src/objective/regression_obj.cu:152: reg:linear is now deprecated in favor of reg:squarederror.\n",
      "[13:19:43] WARNING: /workspace/src/objective/regression_obj.cu:152: reg:linear is now deprecated in favor of reg:squarederror.\n",
      "[13:20:17] WARNING: /workspace/src/objective/regression_obj.cu:152: reg:linear is now deprecated in favor of reg:squarederror.\n",
      "[13:20:51] WARNING: /workspace/src/objective/regression_obj.cu:152: reg:linear is now deprecated in favor of reg:squarederror.\n",
      "[13:21:26] WARNING: /workspace/src/objective/regression_obj.cu:152: reg:linear is now deprecated in favor of reg:squarederror.\n",
      "[13:22:00] WARNING: /workspace/src/objective/regression_obj.cu:152: reg:linear is now deprecated in favor of reg:squarederror.\n",
      "[13:22:34] WARNING: /workspace/src/objective/regression_obj.cu:152: reg:linear is now deprecated in favor of reg:squarederror.\n",
      "[13:23:07] WARNING: /workspace/src/objective/regression_obj.cu:152: reg:linear is now deprecated in favor of reg:squarederror.\n",
      "[13:23:41] WARNING: /workspace/src/objective/regression_obj.cu:152: reg:linear is now deprecated in favor of reg:squarederror.\n",
      "[13:24:15] WARNING: /workspace/src/objective/regression_obj.cu:152: reg:linear is now deprecated in favor of reg:squarederror.\n",
      "[13:24:49] WARNING: /workspace/src/objective/regression_obj.cu:152: reg:linear is now deprecated in favor of reg:squarederror.\n",
      "[13:25:23] WARNING: /workspace/src/objective/regression_obj.cu:152: reg:linear is now deprecated in favor of reg:squarederror.\n",
      "[13:25:57] WARNING: /workspace/src/objective/regression_obj.cu:152: reg:linear is now deprecated in favor of reg:squarederror.\n",
      "[13:26:31] WARNING: /workspace/src/objective/regression_obj.cu:152: reg:linear is now deprecated in favor of reg:squarederror.\n",
      "[13:27:04] WARNING: /workspace/src/objective/regression_obj.cu:152: reg:linear is now deprecated in favor of reg:squarederror.\n",
      "[13:27:38] WARNING: /workspace/src/objective/regression_obj.cu:152: reg:linear is now deprecated in favor of reg:squarederror.\n",
      "[13:28:11] WARNING: /workspace/src/objective/regression_obj.cu:152: reg:linear is now deprecated in favor of reg:squarederror.\n",
      "[13:28:44] WARNING: /workspace/src/objective/regression_obj.cu:152: reg:linear is now deprecated in favor of reg:squarederror.\n",
      "[13:29:18] WARNING: /workspace/src/objective/regression_obj.cu:152: reg:linear is now deprecated in favor of reg:squarederror.\n",
      "[13:29:52] WARNING: /workspace/src/objective/regression_obj.cu:152: reg:linear is now deprecated in favor of reg:squarederror.\n",
      "[13:30:25] WARNING: /workspace/src/objective/regression_obj.cu:152: reg:linear is now deprecated in favor of reg:squarederror.\n",
      "[13:30:59] WARNING: /workspace/src/objective/regression_obj.cu:152: reg:linear is now deprecated in favor of reg:squarederror.\n",
      "[13:31:33] WARNING: /workspace/src/objective/regression_obj.cu:152: reg:linear is now deprecated in favor of reg:squarederror.\n",
      "[13:32:06] WARNING: /workspace/src/objective/regression_obj.cu:152: reg:linear is now deprecated in favor of reg:squarederror.\n",
      "[13:32:39] WARNING: /workspace/src/objective/regression_obj.cu:152: reg:linear is now deprecated in favor of reg:squarederror.\n",
      "[13:33:12] WARNING: /workspace/src/objective/regression_obj.cu:152: reg:linear is now deprecated in favor of reg:squarederror.\n",
      "[13:33:46] WARNING: /workspace/src/objective/regression_obj.cu:152: reg:linear is now deprecated in favor of reg:squarederror.\n",
      "[13:34:19] WARNING: /workspace/src/objective/regression_obj.cu:152: reg:linear is now deprecated in favor of reg:squarederror.\n",
      "[13:34:52] WARNING: /workspace/src/objective/regression_obj.cu:152: reg:linear is now deprecated in favor of reg:squarederror.\n",
      "[13:35:25] WARNING: /workspace/src/objective/regression_obj.cu:152: reg:linear is now deprecated in favor of reg:squarederror.\n",
      "[13:35:59] WARNING: /workspace/src/objective/regression_obj.cu:152: reg:linear is now deprecated in favor of reg:squarederror.\n",
      "[13:36:32] WARNING: /workspace/src/objective/regression_obj.cu:152: reg:linear is now deprecated in favor of reg:squarederror.\n",
      "[13:37:05] WARNING: /workspace/src/objective/regression_obj.cu:152: reg:linear is now deprecated in favor of reg:squarederror.\n",
      "[13:37:39] WARNING: /workspace/src/objective/regression_obj.cu:152: reg:linear is now deprecated in favor of reg:squarederror.\n",
      "[13:38:11] WARNING: /workspace/src/objective/regression_obj.cu:152: reg:linear is now deprecated in favor of reg:squarederror.\n",
      "[13:38:44] WARNING: /workspace/src/objective/regression_obj.cu:152: reg:linear is now deprecated in favor of reg:squarederror.\n",
      "[13:39:16] WARNING: /workspace/src/objective/regression_obj.cu:152: reg:linear is now deprecated in favor of reg:squarederror.\n",
      "[13:39:49] WARNING: /workspace/src/objective/regression_obj.cu:152: reg:linear is now deprecated in favor of reg:squarederror.\n",
      "[13:40:21] WARNING: /workspace/src/objective/regression_obj.cu:152: reg:linear is now deprecated in favor of reg:squarederror.\n",
      "[13:40:53] WARNING: /workspace/src/objective/regression_obj.cu:152: reg:linear is now deprecated in favor of reg:squarederror.\n",
      "[13:41:25] WARNING: /workspace/src/objective/regression_obj.cu:152: reg:linear is now deprecated in favor of reg:squarederror.\n",
      "[13:41:57] WARNING: /workspace/src/objective/regression_obj.cu:152: reg:linear is now deprecated in favor of reg:squarederror.\n",
      "[13:42:31] WARNING: /workspace/src/objective/regression_obj.cu:152: reg:linear is now deprecated in favor of reg:squarederror.\n",
      "[13:43:03] WARNING: /workspace/src/objective/regression_obj.cu:152: reg:linear is now deprecated in favor of reg:squarederror.\n",
      "[13:43:36] WARNING: /workspace/src/objective/regression_obj.cu:152: reg:linear is now deprecated in favor of reg:squarederror.\n",
      "[13:44:10] WARNING: /workspace/src/objective/regression_obj.cu:152: reg:linear is now deprecated in favor of reg:squarederror.\n",
      "[13:44:43] WARNING: /workspace/src/objective/regression_obj.cu:152: reg:linear is now deprecated in favor of reg:squarederror.\n",
      "[13:45:17] WARNING: /workspace/src/objective/regression_obj.cu:152: reg:linear is now deprecated in favor of reg:squarederror.\n",
      "[13:45:51] WARNING: /workspace/src/objective/regression_obj.cu:152: reg:linear is now deprecated in favor of reg:squarederror.\n",
      "[13:46:24] WARNING: /workspace/src/objective/regression_obj.cu:152: reg:linear is now deprecated in favor of reg:squarederror.\n",
      "[13:46:58] WARNING: /workspace/src/objective/regression_obj.cu:152: reg:linear is now deprecated in favor of reg:squarederror.\n",
      "[13:47:31] WARNING: /workspace/src/objective/regression_obj.cu:152: reg:linear is now deprecated in favor of reg:squarederror.\n",
      "[13:48:05] WARNING: /workspace/src/objective/regression_obj.cu:152: reg:linear is now deprecated in favor of reg:squarederror.\n",
      "[13:48:38] WARNING: /workspace/src/objective/regression_obj.cu:152: reg:linear is now deprecated in favor of reg:squarederror.\n",
      "[13:49:15] WARNING: /workspace/src/objective/regression_obj.cu:152: reg:linear is now deprecated in favor of reg:squarederror.\n",
      "[13:49:51] WARNING: /workspace/src/objective/regression_obj.cu:152: reg:linear is now deprecated in favor of reg:squarederror.\n",
      "[13:50:27] WARNING: /workspace/src/objective/regression_obj.cu:152: reg:linear is now deprecated in favor of reg:squarederror.\n",
      "[13:51:03] WARNING: /workspace/src/objective/regression_obj.cu:152: reg:linear is now deprecated in favor of reg:squarederror.\n",
      "[13:51:39] WARNING: /workspace/src/objective/regression_obj.cu:152: reg:linear is now deprecated in favor of reg:squarederror.\n",
      "[13:52:15] WARNING: /workspace/src/objective/regression_obj.cu:152: reg:linear is now deprecated in favor of reg:squarederror.\n",
      "[13:52:50] WARNING: /workspace/src/objective/regression_obj.cu:152: reg:linear is now deprecated in favor of reg:squarederror.\n",
      "[13:53:25] WARNING: /workspace/src/objective/regression_obj.cu:152: reg:linear is now deprecated in favor of reg:squarederror.\n",
      "[13:54:02] WARNING: /workspace/src/objective/regression_obj.cu:152: reg:linear is now deprecated in favor of reg:squarederror.\n",
      "[13:54:38] WARNING: /workspace/src/objective/regression_obj.cu:152: reg:linear is now deprecated in favor of reg:squarederror.\n",
      "[13:55:15] WARNING: /workspace/src/objective/regression_obj.cu:152: reg:linear is now deprecated in favor of reg:squarederror.\n",
      "[13:55:53] WARNING: /workspace/src/objective/regression_obj.cu:152: reg:linear is now deprecated in favor of reg:squarederror.\n",
      "[13:56:31] WARNING: /workspace/src/objective/regression_obj.cu:152: reg:linear is now deprecated in favor of reg:squarederror.\n",
      "[13:57:08] WARNING: /workspace/src/objective/regression_obj.cu:152: reg:linear is now deprecated in favor of reg:squarederror.\n",
      "[13:57:46] WARNING: /workspace/src/objective/regression_obj.cu:152: reg:linear is now deprecated in favor of reg:squarederror.\n",
      "[13:58:23] WARNING: /workspace/src/objective/regression_obj.cu:152: reg:linear is now deprecated in favor of reg:squarederror.\n",
      "[13:59:00] WARNING: /workspace/src/objective/regression_obj.cu:152: reg:linear is now deprecated in favor of reg:squarederror.\n",
      "[13:59:38] WARNING: /workspace/src/objective/regression_obj.cu:152: reg:linear is now deprecated in favor of reg:squarederror.\n",
      "[14:00:15] WARNING: /workspace/src/objective/regression_obj.cu:152: reg:linear is now deprecated in favor of reg:squarederror.\n",
      "[14:00:52] WARNING: /workspace/src/objective/regression_obj.cu:152: reg:linear is now deprecated in favor of reg:squarederror.\n",
      "[14:01:29] WARNING: /workspace/src/objective/regression_obj.cu:152: reg:linear is now deprecated in favor of reg:squarederror.\n",
      "[14:02:07] WARNING: /workspace/src/objective/regression_obj.cu:152: reg:linear is now deprecated in favor of reg:squarederror.\n",
      "[14:02:44] WARNING: /workspace/src/objective/regression_obj.cu:152: reg:linear is now deprecated in favor of reg:squarederror.\n",
      "[14:03:20] WARNING: /workspace/src/objective/regression_obj.cu:152: reg:linear is now deprecated in favor of reg:squarederror.\n",
      "[14:03:57] WARNING: /workspace/src/objective/regression_obj.cu:152: reg:linear is now deprecated in favor of reg:squarederror.\n",
      "[14:04:34] WARNING: /workspace/src/objective/regression_obj.cu:152: reg:linear is now deprecated in favor of reg:squarederror.\n",
      "[14:05:11] WARNING: /workspace/src/objective/regression_obj.cu:152: reg:linear is now deprecated in favor of reg:squarederror.\n",
      "[14:05:48] WARNING: /workspace/src/objective/regression_obj.cu:152: reg:linear is now deprecated in favor of reg:squarederror.\n",
      "[14:06:25] WARNING: /workspace/src/objective/regression_obj.cu:152: reg:linear is now deprecated in favor of reg:squarederror.\n",
      "[14:07:02] WARNING: /workspace/src/objective/regression_obj.cu:152: reg:linear is now deprecated in favor of reg:squarederror.\n",
      "[14:07:39] WARNING: /workspace/src/objective/regression_obj.cu:152: reg:linear is now deprecated in favor of reg:squarederror.\n",
      "[14:08:16] WARNING: /workspace/src/objective/regression_obj.cu:152: reg:linear is now deprecated in favor of reg:squarederror.\n",
      "[14:08:53] WARNING: /workspace/src/objective/regression_obj.cu:152: reg:linear is now deprecated in favor of reg:squarederror.\n",
      "[14:09:29] WARNING: /workspace/src/objective/regression_obj.cu:152: reg:linear is now deprecated in favor of reg:squarederror.\n",
      "[14:10:06] WARNING: /workspace/src/objective/regression_obj.cu:152: reg:linear is now deprecated in favor of reg:squarederror.\n",
      "[14:10:43] WARNING: /workspace/src/objective/regression_obj.cu:152: reg:linear is now deprecated in favor of reg:squarederror.\n",
      "[14:11:19] WARNING: /workspace/src/objective/regression_obj.cu:152: reg:linear is now deprecated in favor of reg:squarederror.\n",
      "[14:11:56] WARNING: /workspace/src/objective/regression_obj.cu:152: reg:linear is now deprecated in favor of reg:squarederror.\n",
      "[14:12:34] WARNING: /workspace/src/objective/regression_obj.cu:152: reg:linear is now deprecated in favor of reg:squarederror.\n",
      "[14:13:11] WARNING: /workspace/src/objective/regression_obj.cu:152: reg:linear is now deprecated in favor of reg:squarederror.\n",
      "[14:13:44] WARNING: /workspace/src/objective/regression_obj.cu:152: reg:linear is now deprecated in favor of reg:squarederror.\n",
      "[14:14:15] WARNING: /workspace/src/objective/regression_obj.cu:152: reg:linear is now deprecated in favor of reg:squarederror.\n",
      "[14:14:47] WARNING: /workspace/src/objective/regression_obj.cu:152: reg:linear is now deprecated in favor of reg:squarederror.\n",
      "[14:15:19] WARNING: /workspace/src/objective/regression_obj.cu:152: reg:linear is now deprecated in favor of reg:squarederror.\n",
      "[14:15:51] WARNING: /workspace/src/objective/regression_obj.cu:152: reg:linear is now deprecated in favor of reg:squarederror.\n",
      "[14:16:23] WARNING: /workspace/src/objective/regression_obj.cu:152: reg:linear is now deprecated in favor of reg:squarederror.\n",
      "[14:16:55] WARNING: /workspace/src/objective/regression_obj.cu:152: reg:linear is now deprecated in favor of reg:squarederror.\n",
      "[14:17:27] WARNING: /workspace/src/objective/regression_obj.cu:152: reg:linear is now deprecated in favor of reg:squarederror.\n",
      "[14:18:01] WARNING: /workspace/src/objective/regression_obj.cu:152: reg:linear is now deprecated in favor of reg:squarederror.\n",
      "[14:18:32] WARNING: /workspace/src/objective/regression_obj.cu:152: reg:linear is now deprecated in favor of reg:squarederror.\n",
      "[14:19:05] WARNING: /workspace/src/objective/regression_obj.cu:152: reg:linear is now deprecated in favor of reg:squarederror.\n",
      "[14:19:38] WARNING: /workspace/src/objective/regression_obj.cu:152: reg:linear is now deprecated in favor of reg:squarederror.\n",
      "[14:20:12] WARNING: /workspace/src/objective/regression_obj.cu:152: reg:linear is now deprecated in favor of reg:squarederror.\n",
      "[14:20:45] WARNING: /workspace/src/objective/regression_obj.cu:152: reg:linear is now deprecated in favor of reg:squarederror.\n",
      "[14:21:19] WARNING: /workspace/src/objective/regression_obj.cu:152: reg:linear is now deprecated in favor of reg:squarederror.\n",
      "[14:21:52] WARNING: /workspace/src/objective/regression_obj.cu:152: reg:linear is now deprecated in favor of reg:squarederror.\n",
      "[14:22:26] WARNING: /workspace/src/objective/regression_obj.cu:152: reg:linear is now deprecated in favor of reg:squarederror.\n",
      "[14:22:59] WARNING: /workspace/src/objective/regression_obj.cu:152: reg:linear is now deprecated in favor of reg:squarederror.\n",
      "[14:23:34] WARNING: /workspace/src/objective/regression_obj.cu:152: reg:linear is now deprecated in favor of reg:squarederror.\n",
      "[14:24:06] WARNING: /workspace/src/objective/regression_obj.cu:152: reg:linear is now deprecated in favor of reg:squarederror.\n",
      "[14:24:43] WARNING: /workspace/src/objective/regression_obj.cu:152: reg:linear is now deprecated in favor of reg:squarederror.\n",
      "[14:25:20] WARNING: /workspace/src/objective/regression_obj.cu:152: reg:linear is now deprecated in favor of reg:squarederror.\n",
      "[14:25:57] WARNING: /workspace/src/objective/regression_obj.cu:152: reg:linear is now deprecated in favor of reg:squarederror.\n",
      "[14:26:33] WARNING: /workspace/src/objective/regression_obj.cu:152: reg:linear is now deprecated in favor of reg:squarederror.\n",
      "[14:27:10] WARNING: /workspace/src/objective/regression_obj.cu:152: reg:linear is now deprecated in favor of reg:squarederror.\n",
      "[14:27:46] WARNING: /workspace/src/objective/regression_obj.cu:152: reg:linear is now deprecated in favor of reg:squarederror.\n",
      "[14:28:23] WARNING: /workspace/src/objective/regression_obj.cu:152: reg:linear is now deprecated in favor of reg:squarederror.\n",
      "[14:28:59] WARNING: /workspace/src/objective/regression_obj.cu:152: reg:linear is now deprecated in favor of reg:squarederror.\n",
      "[14:29:38] WARNING: /workspace/src/objective/regression_obj.cu:152: reg:linear is now deprecated in favor of reg:squarederror.\n",
      "[14:30:15] WARNING: /workspace/src/objective/regression_obj.cu:152: reg:linear is now deprecated in favor of reg:squarederror.\n",
      "[14:30:55] WARNING: /workspace/src/objective/regression_obj.cu:152: reg:linear is now deprecated in favor of reg:squarederror.\n",
      "[14:31:36] WARNING: /workspace/src/objective/regression_obj.cu:152: reg:linear is now deprecated in favor of reg:squarederror.\n",
      "[14:32:16] WARNING: /workspace/src/objective/regression_obj.cu:152: reg:linear is now deprecated in favor of reg:squarederror.\n",
      "[14:32:56] WARNING: /workspace/src/objective/regression_obj.cu:152: reg:linear is now deprecated in favor of reg:squarederror.\n",
      "[14:33:36] WARNING: /workspace/src/objective/regression_obj.cu:152: reg:linear is now deprecated in favor of reg:squarederror.\n",
      "[14:34:16] WARNING: /workspace/src/objective/regression_obj.cu:152: reg:linear is now deprecated in favor of reg:squarederror.\n",
      "[14:34:56] WARNING: /workspace/src/objective/regression_obj.cu:152: reg:linear is now deprecated in favor of reg:squarederror.\n",
      "[14:35:36] WARNING: /workspace/src/objective/regression_obj.cu:152: reg:linear is now deprecated in favor of reg:squarederror.\n",
      "[14:36:16] WARNING: /workspace/src/objective/regression_obj.cu:152: reg:linear is now deprecated in favor of reg:squarederror.\n",
      "[14:36:56] WARNING: /workspace/src/objective/regression_obj.cu:152: reg:linear is now deprecated in favor of reg:squarederror.\n",
      "[14:37:37] WARNING: /workspace/src/objective/regression_obj.cu:152: reg:linear is now deprecated in favor of reg:squarederror.\n",
      "[14:38:18] WARNING: /workspace/src/objective/regression_obj.cu:152: reg:linear is now deprecated in favor of reg:squarederror.\n",
      "[14:38:59] WARNING: /workspace/src/objective/regression_obj.cu:152: reg:linear is now deprecated in favor of reg:squarederror.\n",
      "[14:39:40] WARNING: /workspace/src/objective/regression_obj.cu:152: reg:linear is now deprecated in favor of reg:squarederror.\n",
      "[14:40:20] WARNING: /workspace/src/objective/regression_obj.cu:152: reg:linear is now deprecated in favor of reg:squarederror.\n",
      "[14:41:00] WARNING: /workspace/src/objective/regression_obj.cu:152: reg:linear is now deprecated in favor of reg:squarederror.\n",
      "[14:41:41] WARNING: /workspace/src/objective/regression_obj.cu:152: reg:linear is now deprecated in favor of reg:squarederror.\n",
      "[14:42:22] WARNING: /workspace/src/objective/regression_obj.cu:152: reg:linear is now deprecated in favor of reg:squarederror.\n",
      "[14:43:02] WARNING: /workspace/src/objective/regression_obj.cu:152: reg:linear is now deprecated in favor of reg:squarederror.\n",
      "[14:43:43] WARNING: /workspace/src/objective/regression_obj.cu:152: reg:linear is now deprecated in favor of reg:squarederror.\n",
      "[14:44:24] WARNING: /workspace/src/objective/regression_obj.cu:152: reg:linear is now deprecated in favor of reg:squarederror.\n",
      "[14:45:04] WARNING: /workspace/src/objective/regression_obj.cu:152: reg:linear is now deprecated in favor of reg:squarederror.\n",
      "[14:45:45] WARNING: /workspace/src/objective/regression_obj.cu:152: reg:linear is now deprecated in favor of reg:squarederror.\n",
      "[14:46:26] WARNING: /workspace/src/objective/regression_obj.cu:152: reg:linear is now deprecated in favor of reg:squarederror.\n",
      "[14:47:06] WARNING: /workspace/src/objective/regression_obj.cu:152: reg:linear is now deprecated in favor of reg:squarederror.\n",
      "[14:47:47] WARNING: /workspace/src/objective/regression_obj.cu:152: reg:linear is now deprecated in favor of reg:squarederror.\n",
      "[14:48:27] WARNING: /workspace/src/objective/regression_obj.cu:152: reg:linear is now deprecated in favor of reg:squarederror.\n",
      "[14:49:08] WARNING: /workspace/src/objective/regression_obj.cu:152: reg:linear is now deprecated in favor of reg:squarederror.\n",
      "[14:49:49] WARNING: /workspace/src/objective/regression_obj.cu:152: reg:linear is now deprecated in favor of reg:squarederror.\n"
     ]
    },
    {
     "name": "stderr",
     "output_type": "stream",
     "text": [
      "[Parallel(n_jobs=1)]: Done 420 out of 420 | elapsed: 206.5min finished\n"
     ]
    },
    {
     "name": "stdout",
     "output_type": "stream",
     "text": [
      "[14:50:30] WARNING: /workspace/src/objective/regression_obj.cu:152: reg:linear is now deprecated in favor of reg:squarederror.\n",
      "参数的最佳取值：{'max_depth': 5, 'min_child_weight': 3}\n",
      "最佳模型得分:-0.013844205234061244\n"
     ]
    }
   ],
   "source": [
    "params = {'learning_rate': 0.01,\n",
    "      'n_estimators': 3000, \n",
    "      'max_depth': 11,\n",
    "      'subsample': 0.9,\n",
    "      'colsample_bytree': 0.7,\n",
    "      'min_child_weight': 1,\n",
    "      'seed': 52,\n",
    "      'gamma': 0,\n",
    "      'reg_alpha': 0,\n",
    "      'reg_lambda': 1}\n",
    "cv_params = {'min_child_weight': [1, 2, 3, 4, 5, 6], 'max_depth': [5, 6, 7, 8, 9, 10, 11]}\n",
    "xgbr = xgb.XGBRegressor(**params)\n",
    "grid_xgbr = GridSearchCV(estimator=xgbr, param_grid=cv_params, scoring='neg_mean_squared_error', cv=10, verbose=1)\n",
    "grid_xgbr.fit(np.array(train), np.array(y))\n",
    "result = grid_xgbr.cv_results_\n",
    "#print('每轮迭代运行结果:{}, {}'.format(result['mean_train_score'], result['std_train_score']))\n",
    "print('参数的最佳取值：{}'.format(grid_xgbr.best_params_))\n",
    "print('最佳模型得分:{}'.format(grid_xgbr.best_score_))"
   ]
  },
  {
   "cell_type": "code",
   "execution_count": 16,
   "metadata": {
    "colab": {
     "base_uri": "https://localhost:8080/",
     "height": 1000
    },
    "colab_type": "code",
    "executionInfo": {
     "elapsed": 2289,
     "status": "ok",
     "timestamp": 1593960896222,
     "user": {
      "displayName": "Harold Ran",
      "photoUrl": "",
      "userId": "00745499557779892259"
     },
     "user_tz": -480
    },
    "id": "WdDd6_JkePn3",
    "outputId": "0b2d3ddc-3390-4e73-8403-a636febf21dc"
   },
   "outputs": [
    {
     "data": {
      "text/plain": [
       "{'mean_fit_time': array([19.6026027 , 19.66422234, 19.54717247, 19.39716184, 19.88876374,\n",
       "        19.33176496, 23.29881861, 23.20702763, 23.07030642, 22.89300139,\n",
       "        22.79358137, 22.70243242, 27.15496264, 27.03648202, 26.71968372,\n",
       "        26.55672479, 26.31905994, 26.25255034, 31.23664985, 30.91732395,\n",
       "        30.68790443, 30.22166474, 29.98374367, 29.63154485, 33.11391943,\n",
       "        33.82720792, 34.35954187, 33.85635808, 33.46703243, 33.16850238,\n",
       "        32.31499701, 33.49989839, 35.87422695, 37.32481959, 36.92933478,\n",
       "        36.82451563, 31.97521274, 33.33556056, 36.76831179, 40.02029898,\n",
       "        40.57615101, 40.58199427]),\n",
       " 'mean_score_time': array([0.03296959, 0.03303051, 0.03300784, 0.03343878, 0.04465194,\n",
       "        0.03202214, 0.04586766, 0.04530866, 0.04477415, 0.04331725,\n",
       "        0.04073465, 0.04079299, 0.06109149, 0.05962648, 0.05636654,\n",
       "        0.05446839, 0.05306561, 0.05137095, 0.07439389, 0.07216885,\n",
       "        0.07225838, 0.06598446, 0.06441405, 0.05943353, 0.08303468,\n",
       "        0.08531032, 0.08291857, 0.08311448, 0.07460732, 0.06933093,\n",
       "        0.0812896 , 0.08465815, 0.08958113, 0.08863428, 0.08589883,\n",
       "        0.08337371, 0.09100685, 0.08787096, 0.09255557, 0.0976619 ,\n",
       "        0.09646463, 0.0894371 ]),\n",
       " 'mean_test_score': array([-0.01417492, -0.01392396, -0.01384421, -0.013937  , -0.01397076,\n",
       "        -0.01394354, -0.01437476, -0.01410764, -0.01394151, -0.01408798,\n",
       "        -0.01409158, -0.01414288, -0.01464366, -0.01432042, -0.01407305,\n",
       "        -0.01424661, -0.01423469, -0.01422752, -0.01481364, -0.01450098,\n",
       "        -0.01423562, -0.01437527, -0.01438205, -0.01431753, -0.01487689,\n",
       "        -0.01455262, -0.01436505, -0.01444935, -0.01450394, -0.01447087,\n",
       "        -0.01499001, -0.01456498, -0.01446096, -0.0144299 , -0.0144932 ,\n",
       "        -0.01449499, -0.01510482, -0.01467278, -0.01448473, -0.01447306,\n",
       "        -0.01457441, -0.01452016]),\n",
       " 'param_max_depth': masked_array(data=[5, 5, 5, 5, 5, 5, 6, 6, 6, 6, 6, 6, 7, 7, 7, 7, 7, 7,\n",
       "                    8, 8, 8, 8, 8, 8, 9, 9, 9, 9, 9, 9, 10, 10, 10, 10, 10,\n",
       "                    10, 11, 11, 11, 11, 11, 11],\n",
       "              mask=[False, False, False, False, False, False, False, False,\n",
       "                    False, False, False, False, False, False, False, False,\n",
       "                    False, False, False, False, False, False, False, False,\n",
       "                    False, False, False, False, False, False, False, False,\n",
       "                    False, False, False, False, False, False, False, False,\n",
       "                    False, False],\n",
       "        fill_value='?',\n",
       "             dtype=object),\n",
       " 'param_min_child_weight': masked_array(data=[1, 2, 3, 4, 5, 6, 1, 2, 3, 4, 5, 6, 1, 2, 3, 4, 5, 6,\n",
       "                    1, 2, 3, 4, 5, 6, 1, 2, 3, 4, 5, 6, 1, 2, 3, 4, 5, 6,\n",
       "                    1, 2, 3, 4, 5, 6],\n",
       "              mask=[False, False, False, False, False, False, False, False,\n",
       "                    False, False, False, False, False, False, False, False,\n",
       "                    False, False, False, False, False, False, False, False,\n",
       "                    False, False, False, False, False, False, False, False,\n",
       "                    False, False, False, False, False, False, False, False,\n",
       "                    False, False],\n",
       "        fill_value='?',\n",
       "             dtype=object),\n",
       " 'params': [{'max_depth': 5, 'min_child_weight': 1},\n",
       "  {'max_depth': 5, 'min_child_weight': 2},\n",
       "  {'max_depth': 5, 'min_child_weight': 3},\n",
       "  {'max_depth': 5, 'min_child_weight': 4},\n",
       "  {'max_depth': 5, 'min_child_weight': 5},\n",
       "  {'max_depth': 5, 'min_child_weight': 6},\n",
       "  {'max_depth': 6, 'min_child_weight': 1},\n",
       "  {'max_depth': 6, 'min_child_weight': 2},\n",
       "  {'max_depth': 6, 'min_child_weight': 3},\n",
       "  {'max_depth': 6, 'min_child_weight': 4},\n",
       "  {'max_depth': 6, 'min_child_weight': 5},\n",
       "  {'max_depth': 6, 'min_child_weight': 6},\n",
       "  {'max_depth': 7, 'min_child_weight': 1},\n",
       "  {'max_depth': 7, 'min_child_weight': 2},\n",
       "  {'max_depth': 7, 'min_child_weight': 3},\n",
       "  {'max_depth': 7, 'min_child_weight': 4},\n",
       "  {'max_depth': 7, 'min_child_weight': 5},\n",
       "  {'max_depth': 7, 'min_child_weight': 6},\n",
       "  {'max_depth': 8, 'min_child_weight': 1},\n",
       "  {'max_depth': 8, 'min_child_weight': 2},\n",
       "  {'max_depth': 8, 'min_child_weight': 3},\n",
       "  {'max_depth': 8, 'min_child_weight': 4},\n",
       "  {'max_depth': 8, 'min_child_weight': 5},\n",
       "  {'max_depth': 8, 'min_child_weight': 6},\n",
       "  {'max_depth': 9, 'min_child_weight': 1},\n",
       "  {'max_depth': 9, 'min_child_weight': 2},\n",
       "  {'max_depth': 9, 'min_child_weight': 3},\n",
       "  {'max_depth': 9, 'min_child_weight': 4},\n",
       "  {'max_depth': 9, 'min_child_weight': 5},\n",
       "  {'max_depth': 9, 'min_child_weight': 6},\n",
       "  {'max_depth': 10, 'min_child_weight': 1},\n",
       "  {'max_depth': 10, 'min_child_weight': 2},\n",
       "  {'max_depth': 10, 'min_child_weight': 3},\n",
       "  {'max_depth': 10, 'min_child_weight': 4},\n",
       "  {'max_depth': 10, 'min_child_weight': 5},\n",
       "  {'max_depth': 10, 'min_child_weight': 6},\n",
       "  {'max_depth': 11, 'min_child_weight': 1},\n",
       "  {'max_depth': 11, 'min_child_weight': 2},\n",
       "  {'max_depth': 11, 'min_child_weight': 3},\n",
       "  {'max_depth': 11, 'min_child_weight': 4},\n",
       "  {'max_depth': 11, 'min_child_weight': 5},\n",
       "  {'max_depth': 11, 'min_child_weight': 6}],\n",
       " 'rank_test_score': array([12,  2,  1,  3,  6,  5, 20, 10,  4,  8,  9, 11, 37, 18,  7, 16, 14,\n",
       "        13, 39, 31, 15, 21, 22, 17, 40, 34, 19, 24, 32, 26, 41, 35, 25, 23,\n",
       "        29, 30, 42, 38, 28, 27, 36, 33], dtype=int32),\n",
       " 'split0_test_score': array([-0.01576594, -0.01544518, -0.01573438, -0.01554603, -0.01569084,\n",
       "        -0.01562353, -0.01596893, -0.01585516, -0.01602326, -0.01583046,\n",
       "        -0.01584394, -0.01607309, -0.01656946, -0.01613963, -0.01620819,\n",
       "        -0.01597172, -0.01583334, -0.01618269, -0.01669668, -0.01635902,\n",
       "        -0.01642276, -0.01629622, -0.01587971, -0.01611373, -0.01645388,\n",
       "        -0.01602465, -0.01654922, -0.01639112, -0.01627941, -0.01613547,\n",
       "        -0.01657119, -0.01631755, -0.01681879, -0.01621773, -0.01611183,\n",
       "        -0.01616747, -0.01668835, -0.01647409, -0.01675537, -0.01645456,\n",
       "        -0.01623638, -0.01611998]),\n",
       " 'split1_test_score': array([-0.00936372, -0.00943621, -0.00929441, -0.00926364, -0.00931802,\n",
       "        -0.00945135, -0.0095229 , -0.00969767, -0.00939116, -0.00946016,\n",
       "        -0.00942397, -0.00917875, -0.00984465, -0.00964574, -0.00928195,\n",
       "        -0.00951272, -0.00961265, -0.00933002, -0.00994739, -0.00991985,\n",
       "        -0.00968889, -0.00976046, -0.00981022, -0.00961859, -0.01011416,\n",
       "        -0.01008685, -0.00975609, -0.00979145, -0.00977179, -0.00967665,\n",
       "        -0.01019954, -0.01009594, -0.01007791, -0.00978553, -0.00994055,\n",
       "        -0.0096272 , -0.01012432, -0.01034514, -0.01006396, -0.00970918,\n",
       "        -0.00986223, -0.00991079]),\n",
       " 'split2_test_score': array([-0.01066487, -0.01066009, -0.01063991, -0.01088413, -0.01082424,\n",
       "        -0.01085223, -0.01096873, -0.0108847 , -0.01081502, -0.01117737,\n",
       "        -0.01127869, -0.0112233 , -0.01145721, -0.01098015, -0.01127138,\n",
       "        -0.0116283 , -0.01151433, -0.01148585, -0.01139444, -0.01146557,\n",
       "        -0.01146081, -0.01181165, -0.01188908, -0.01173191, -0.01182747,\n",
       "        -0.01168916, -0.0117496 , -0.01184411, -0.01212751, -0.01187664,\n",
       "        -0.01192206, -0.01171792, -0.01183985, -0.01227118, -0.01240436,\n",
       "        -0.01216303, -0.0123396 , -0.01181349, -0.01186211, -0.01225064,\n",
       "        -0.01257413, -0.01219459]),\n",
       " 'split3_test_score': array([-0.01894057, -0.01902083, -0.01929564, -0.01955161, -0.0195688 ,\n",
       "        -0.01955747, -0.01894637, -0.0190053 , -0.01936937, -0.0198008 ,\n",
       "        -0.01953098, -0.01996658, -0.01901842, -0.01898657, -0.01914296,\n",
       "        -0.0195065 , -0.01919669, -0.01975972, -0.01917055, -0.01895685,\n",
       "        -0.01919684, -0.01930224, -0.01932938, -0.01947716, -0.01898591,\n",
       "        -0.01882888, -0.01902838, -0.01925632, -0.01924442, -0.01959838,\n",
       "        -0.01883803, -0.01871857, -0.01888441, -0.01896978, -0.01909478,\n",
       "        -0.01950998, -0.01891297, -0.01886274, -0.01885878, -0.01896173,\n",
       "        -0.01923084, -0.01950795]),\n",
       " 'split4_test_score': array([-0.01981614, -0.0199976 , -0.01998055, -0.02009261, -0.02000565,\n",
       "        -0.01986661, -0.02009483, -0.02033768, -0.01991198, -0.02025649,\n",
       "        -0.01993285, -0.01983774, -0.02054505, -0.02066736, -0.02025247,\n",
       "        -0.02060216, -0.02029217, -0.0200491 , -0.02057418, -0.02061706,\n",
       "        -0.02035222, -0.02062201, -0.02031244, -0.02004264, -0.02089957,\n",
       "        -0.02117836, -0.0207506 , -0.02078028, -0.02033313, -0.02050566,\n",
       "        -0.0213059 , -0.02114883, -0.02067724, -0.02105676, -0.02053742,\n",
       "        -0.0203439 , -0.02126478, -0.02133083, -0.02067426, -0.02121011,\n",
       "        -0.02071082, -0.02034173]),\n",
       " 'split5_test_score': array([-0.01172441, -0.01149194, -0.01127698, -0.01174784, -0.01169849,\n",
       "        -0.01171312, -0.01192433, -0.01170016, -0.0114401 , -0.01184718,\n",
       "        -0.01202704, -0.0117684 , -0.01207931, -0.01200811, -0.0117158 ,\n",
       "        -0.01210442, -0.01220855, -0.01192052, -0.01241447, -0.01220159,\n",
       "        -0.01169892, -0.01246944, -0.01243898, -0.0121956 , -0.01250024,\n",
       "        -0.01226503, -0.01207692, -0.01234496, -0.0127549 , -0.01245874,\n",
       "        -0.01254948, -0.01237214, -0.01213977, -0.01217377, -0.01265476,\n",
       "        -0.01246449, -0.01278367, -0.01238945, -0.01221852, -0.01240771,\n",
       "        -0.01275345, -0.01237015]),\n",
       " 'split6_test_score': array([-0.01460679, -0.01367991, -0.01411229, -0.01419134, -0.01456919,\n",
       "        -0.01466697, -0.01470343, -0.01391503, -0.01387684, -0.01397192,\n",
       "        -0.01435175, -0.01477417, -0.01473348, -0.014073  , -0.01394641,\n",
       "        -0.01439633, -0.01456373, -0.01494595, -0.01497821, -0.01454767,\n",
       "        -0.01412903, -0.01411656, -0.01461436, -0.01492659, -0.01492715,\n",
       "        -0.01460741, -0.01417822, -0.01435041, -0.01486797, -0.01511245,\n",
       "        -0.01499785, -0.01450736, -0.01437394, -0.0144252 , -0.01455901,\n",
       "        -0.01515036, -0.01504078, -0.01450991, -0.01470324, -0.01447115,\n",
       "        -0.01472328, -0.01519679]),\n",
       " 'split7_test_score': array([-0.01142809, -0.01174517, -0.0112805 , -0.01092458, -0.01123173,\n",
       "        -0.01111502, -0.01182149, -0.01173159, -0.01132721, -0.01106108,\n",
       "        -0.01137572, -0.01110294, -0.01193887, -0.01214549, -0.01135807,\n",
       "        -0.01098059, -0.01158854, -0.01128143, -0.01210459, -0.01205176,\n",
       "        -0.0115906 , -0.01140172, -0.01157764, -0.01137653, -0.01216887,\n",
       "        -0.01210667, -0.0115659 , -0.01153113, -0.01172294, -0.01143996,\n",
       "        -0.01235045, -0.01202825, -0.01178007, -0.01134912, -0.01166509,\n",
       "        -0.01168143, -0.01255339, -0.01215173, -0.01170595, -0.01141629,\n",
       "        -0.01172853, -0.01178437]),\n",
       " 'split8_test_score': array([-0.00999709, -0.00989117, -0.00963683, -0.00986223, -0.00966811,\n",
       "        -0.00963442, -0.01008781, -0.00993151, -0.00985826, -0.00998251,\n",
       "        -0.00992572, -0.01009809, -0.01033548, -0.01021062, -0.00996908,\n",
       "        -0.01011911, -0.01027039, -0.01004379, -0.01047253, -0.01030113,\n",
       "        -0.01005326, -0.01031044, -0.01038099, -0.01008137, -0.01044885,\n",
       "        -0.01018105, -0.01029511, -0.01035329, -0.01025439, -0.01028406,\n",
       "        -0.01025062, -0.00992486, -0.01002378, -0.01018012, -0.01018596,\n",
       "        -0.01003686, -0.01023568, -0.00973529, -0.00997877, -0.00995263,\n",
       "        -0.01001154, -0.00991552]),\n",
       " 'split9_test_score': array([-0.01944161, -0.01787152, -0.01719056, -0.01730596, -0.01713257,\n",
       "        -0.01695467, -0.01970878, -0.01801764, -0.01740194, -0.01749181,\n",
       "        -0.01722517, -0.01740574, -0.01991464, -0.01834751, -0.01758424,\n",
       "        -0.0176443 , -0.0172665 , -0.01727616, -0.02038337, -0.01858931,\n",
       "        -0.01776285, -0.01766195, -0.01758772, -0.0176112 , -0.02044281,\n",
       "        -0.0185581 , -0.01770049, -0.01785041, -0.01768295, -0.01762072,\n",
       "        -0.02091498, -0.01881834, -0.01799383, -0.0178698 , -0.01777819,\n",
       "        -0.01780517, -0.02110466, -0.01911512, -0.01802639, -0.01789659,\n",
       "        -0.01791294, -0.01785975]),\n",
       " 'std_fit_time': array([0.06711536, 0.52393727, 0.18288626, 0.05556665, 0.99084454,\n",
       "        0.09658156, 0.12249531, 0.0929691 , 0.21613343, 0.06296649,\n",
       "        0.13512945, 0.14620709, 0.06246275, 0.14947793, 0.10771609,\n",
       "        0.2823078 , 0.17569627, 0.37468579, 0.25924403, 0.20170954,\n",
       "        0.27553117, 0.25640235, 0.22293978, 0.11453195, 0.69399539,\n",
       "        0.25771625, 0.35102369, 0.16422763, 0.21161677, 0.18041119,\n",
       "        0.40883766, 0.43305854, 0.39888893, 0.23243335, 0.17608572,\n",
       "        0.41266831, 0.5830779 , 0.72878617, 1.01445461, 0.23366816,\n",
       "        0.24286522, 0.19303011]),\n",
       " 'std_score_time': array([0.00190149, 0.00133172, 0.00165683, 0.00319513, 0.03912607,\n",
       "        0.00173016, 0.00063251, 0.00152636, 0.00265912, 0.00151792,\n",
       "        0.00077714, 0.00129998, 0.00194509, 0.00156749, 0.00211655,\n",
       "        0.00096379, 0.00299957, 0.00146144, 0.00245027, 0.00387779,\n",
       "        0.00568718, 0.00206115, 0.00905792, 0.00172521, 0.00399698,\n",
       "        0.00778919, 0.00454994, 0.00918113, 0.00297395, 0.00228793,\n",
       "        0.00414941, 0.00350033, 0.00625118, 0.00362445, 0.00253831,\n",
       "        0.00899387, 0.02864325, 0.00962587, 0.00399781, 0.0048692 ,\n",
       "        0.00685473, 0.00390887]),\n",
       " 'std_test_score': array([0.00389183, 0.00372212, 0.00379538, 0.00380854, 0.00379208,\n",
       "        0.00374555, 0.00388282, 0.00374027, 0.00376385, 0.00382425,\n",
       "        0.00367909, 0.00381476, 0.00388717, 0.00376328, 0.00375988,\n",
       "        0.00379684, 0.00358827, 0.00375682, 0.00392521, 0.00369534,\n",
       "        0.00372234, 0.00367044, 0.00356348, 0.00365659, 0.00388841,\n",
       "        0.00372652, 0.00369013, 0.00369785, 0.00355999, 0.00369179,\n",
       "        0.00400062, 0.00377647, 0.00366882, 0.00372058, 0.00355166,\n",
       "        0.00366867, 0.00398767, 0.00384374, 0.00367113, 0.00377969,\n",
       "        0.00362917, 0.00364559])}"
      ]
     },
     "execution_count": 16,
     "metadata": {
      "tags": []
     },
     "output_type": "execute_result"
    }
   ],
   "source": [
    "result"
   ]
  },
  {
   "cell_type": "markdown",
   "metadata": {
    "colab_type": "text",
    "id": "RNCjBlNAwfUy"
   },
   "source": [
    "#### 3、gamma "
   ]
  },
  {
   "cell_type": "code",
   "execution_count": 17,
   "metadata": {
    "colab": {
     "base_uri": "https://localhost:8080/",
     "height": 1000
    },
    "colab_type": "code",
    "executionInfo": {
     "elapsed": 1407955,
     "status": "ok",
     "timestamp": 1593962373679,
     "user": {
      "displayName": "Harold Ran",
      "photoUrl": "",
      "userId": "00745499557779892259"
     },
     "user_tz": -480
    },
    "id": "eKENAKLfwkYT",
    "outputId": "ef36f854-4455-4f17-81a3-7a4e604524be"
   },
   "outputs": [
    {
     "name": "stdout",
     "output_type": "stream",
     "text": [
      "Fitting 10 folds for each of 7 candidates, totalling 70 fits\n",
      "[14:56:06] WARNING: /workspace/src/objective/regression_obj.cu:152: reg:linear is now deprecated in favor of reg:squarederror.\n"
     ]
    },
    {
     "name": "stderr",
     "output_type": "stream",
     "text": [
      "[Parallel(n_jobs=1)]: Using backend SequentialBackend with 1 concurrent workers.\n"
     ]
    },
    {
     "name": "stdout",
     "output_type": "stream",
     "text": [
      "[14:56:26] WARNING: /workspace/src/objective/regression_obj.cu:152: reg:linear is now deprecated in favor of reg:squarederror.\n",
      "[14:56:46] WARNING: /workspace/src/objective/regression_obj.cu:152: reg:linear is now deprecated in favor of reg:squarederror.\n",
      "[14:57:05] WARNING: /workspace/src/objective/regression_obj.cu:152: reg:linear is now deprecated in favor of reg:squarederror.\n",
      "[14:57:25] WARNING: /workspace/src/objective/regression_obj.cu:152: reg:linear is now deprecated in favor of reg:squarederror.\n",
      "[14:57:45] WARNING: /workspace/src/objective/regression_obj.cu:152: reg:linear is now deprecated in favor of reg:squarederror.\n",
      "[14:58:05] WARNING: /workspace/src/objective/regression_obj.cu:152: reg:linear is now deprecated in favor of reg:squarederror.\n",
      "[14:58:25] WARNING: /workspace/src/objective/regression_obj.cu:152: reg:linear is now deprecated in favor of reg:squarederror.\n",
      "[14:58:45] WARNING: /workspace/src/objective/regression_obj.cu:152: reg:linear is now deprecated in favor of reg:squarederror.\n",
      "[14:59:05] WARNING: /workspace/src/objective/regression_obj.cu:152: reg:linear is now deprecated in favor of reg:squarederror.\n",
      "[14:59:24] WARNING: /workspace/src/objective/regression_obj.cu:152: reg:linear is now deprecated in favor of reg:squarederror.\n",
      "[14:59:44] WARNING: /workspace/src/objective/regression_obj.cu:152: reg:linear is now deprecated in favor of reg:squarederror.\n",
      "[15:00:04] WARNING: /workspace/src/objective/regression_obj.cu:152: reg:linear is now deprecated in favor of reg:squarederror.\n",
      "[15:00:24] WARNING: /workspace/src/objective/regression_obj.cu:152: reg:linear is now deprecated in favor of reg:squarederror.\n",
      "[15:00:43] WARNING: /workspace/src/objective/regression_obj.cu:152: reg:linear is now deprecated in favor of reg:squarederror.\n",
      "[15:01:03] WARNING: /workspace/src/objective/regression_obj.cu:152: reg:linear is now deprecated in favor of reg:squarederror.\n",
      "[15:01:23] WARNING: /workspace/src/objective/regression_obj.cu:152: reg:linear is now deprecated in favor of reg:squarederror.\n",
      "[15:01:42] WARNING: /workspace/src/objective/regression_obj.cu:152: reg:linear is now deprecated in favor of reg:squarederror.\n",
      "[15:02:02] WARNING: /workspace/src/objective/regression_obj.cu:152: reg:linear is now deprecated in favor of reg:squarederror.\n",
      "[15:02:21] WARNING: /workspace/src/objective/regression_obj.cu:152: reg:linear is now deprecated in favor of reg:squarederror.\n",
      "[15:02:41] WARNING: /workspace/src/objective/regression_obj.cu:152: reg:linear is now deprecated in favor of reg:squarederror.\n",
      "[15:03:00] WARNING: /workspace/src/objective/regression_obj.cu:152: reg:linear is now deprecated in favor of reg:squarederror.\n",
      "[15:03:20] WARNING: /workspace/src/objective/regression_obj.cu:152: reg:linear is now deprecated in favor of reg:squarederror.\n",
      "[15:03:39] WARNING: /workspace/src/objective/regression_obj.cu:152: reg:linear is now deprecated in favor of reg:squarederror.\n",
      "[15:03:59] WARNING: /workspace/src/objective/regression_obj.cu:152: reg:linear is now deprecated in favor of reg:squarederror.\n",
      "[15:04:19] WARNING: /workspace/src/objective/regression_obj.cu:152: reg:linear is now deprecated in favor of reg:squarederror.\n",
      "[15:04:38] WARNING: /workspace/src/objective/regression_obj.cu:152: reg:linear is now deprecated in favor of reg:squarederror.\n",
      "[15:04:58] WARNING: /workspace/src/objective/regression_obj.cu:152: reg:linear is now deprecated in favor of reg:squarederror.\n",
      "[15:05:18] WARNING: /workspace/src/objective/regression_obj.cu:152: reg:linear is now deprecated in favor of reg:squarederror.\n",
      "[15:05:38] WARNING: /workspace/src/objective/regression_obj.cu:152: reg:linear is now deprecated in favor of reg:squarederror.\n",
      "[15:05:57] WARNING: /workspace/src/objective/regression_obj.cu:152: reg:linear is now deprecated in favor of reg:squarederror.\n",
      "[15:06:17] WARNING: /workspace/src/objective/regression_obj.cu:152: reg:linear is now deprecated in favor of reg:squarederror.\n",
      "[15:06:37] WARNING: /workspace/src/objective/regression_obj.cu:152: reg:linear is now deprecated in favor of reg:squarederror.\n",
      "[15:06:57] WARNING: /workspace/src/objective/regression_obj.cu:152: reg:linear is now deprecated in favor of reg:squarederror.\n",
      "[15:07:17] WARNING: /workspace/src/objective/regression_obj.cu:152: reg:linear is now deprecated in favor of reg:squarederror.\n",
      "[15:07:36] WARNING: /workspace/src/objective/regression_obj.cu:152: reg:linear is now deprecated in favor of reg:squarederror.\n",
      "[15:07:56] WARNING: /workspace/src/objective/regression_obj.cu:152: reg:linear is now deprecated in favor of reg:squarederror.\n",
      "[15:08:16] WARNING: /workspace/src/objective/regression_obj.cu:152: reg:linear is now deprecated in favor of reg:squarederror.\n",
      "[15:08:36] WARNING: /workspace/src/objective/regression_obj.cu:152: reg:linear is now deprecated in favor of reg:squarederror.\n",
      "[15:08:56] WARNING: /workspace/src/objective/regression_obj.cu:152: reg:linear is now deprecated in favor of reg:squarederror.\n",
      "[15:09:16] WARNING: /workspace/src/objective/regression_obj.cu:152: reg:linear is now deprecated in favor of reg:squarederror.\n",
      "[15:09:36] WARNING: /workspace/src/objective/regression_obj.cu:152: reg:linear is now deprecated in favor of reg:squarederror.\n",
      "[15:09:56] WARNING: /workspace/src/objective/regression_obj.cu:152: reg:linear is now deprecated in favor of reg:squarederror.\n",
      "[15:10:15] WARNING: /workspace/src/objective/regression_obj.cu:152: reg:linear is now deprecated in favor of reg:squarederror.\n",
      "[15:10:36] WARNING: /workspace/src/objective/regression_obj.cu:152: reg:linear is now deprecated in favor of reg:squarederror.\n",
      "[15:10:57] WARNING: /workspace/src/objective/regression_obj.cu:152: reg:linear is now deprecated in favor of reg:squarederror.\n",
      "[15:11:16] WARNING: /workspace/src/objective/regression_obj.cu:152: reg:linear is now deprecated in favor of reg:squarederror.\n",
      "[15:11:36] WARNING: /workspace/src/objective/regression_obj.cu:152: reg:linear is now deprecated in favor of reg:squarederror.\n",
      "[15:11:56] WARNING: /workspace/src/objective/regression_obj.cu:152: reg:linear is now deprecated in favor of reg:squarederror.\n",
      "[15:12:15] WARNING: /workspace/src/objective/regression_obj.cu:152: reg:linear is now deprecated in favor of reg:squarederror.\n",
      "[15:12:35] WARNING: /workspace/src/objective/regression_obj.cu:152: reg:linear is now deprecated in favor of reg:squarederror.\n",
      "[15:12:55] WARNING: /workspace/src/objective/regression_obj.cu:152: reg:linear is now deprecated in favor of reg:squarederror.\n",
      "[15:13:15] WARNING: /workspace/src/objective/regression_obj.cu:152: reg:linear is now deprecated in favor of reg:squarederror.\n",
      "[15:13:34] WARNING: /workspace/src/objective/regression_obj.cu:152: reg:linear is now deprecated in favor of reg:squarederror.\n",
      "[15:13:54] WARNING: /workspace/src/objective/regression_obj.cu:152: reg:linear is now deprecated in favor of reg:squarederror.\n",
      "[15:14:14] WARNING: /workspace/src/objective/regression_obj.cu:152: reg:linear is now deprecated in favor of reg:squarederror.\n",
      "[15:14:34] WARNING: /workspace/src/objective/regression_obj.cu:152: reg:linear is now deprecated in favor of reg:squarederror.\n",
      "[15:14:54] WARNING: /workspace/src/objective/regression_obj.cu:152: reg:linear is now deprecated in favor of reg:squarederror.\n",
      "[15:15:13] WARNING: /workspace/src/objective/regression_obj.cu:152: reg:linear is now deprecated in favor of reg:squarederror.\n",
      "[15:15:33] WARNING: /workspace/src/objective/regression_obj.cu:152: reg:linear is now deprecated in favor of reg:squarederror.\n",
      "[15:15:53] WARNING: /workspace/src/objective/regression_obj.cu:152: reg:linear is now deprecated in favor of reg:squarederror.\n",
      "[15:16:13] WARNING: /workspace/src/objective/regression_obj.cu:152: reg:linear is now deprecated in favor of reg:squarederror.\n",
      "[15:16:33] WARNING: /workspace/src/objective/regression_obj.cu:152: reg:linear is now deprecated in favor of reg:squarederror.\n",
      "[15:16:52] WARNING: /workspace/src/objective/regression_obj.cu:152: reg:linear is now deprecated in favor of reg:squarederror.\n",
      "[15:17:12] WARNING: /workspace/src/objective/regression_obj.cu:152: reg:linear is now deprecated in favor of reg:squarederror.\n",
      "[15:17:32] WARNING: /workspace/src/objective/regression_obj.cu:152: reg:linear is now deprecated in favor of reg:squarederror.\n",
      "[15:17:52] WARNING: /workspace/src/objective/regression_obj.cu:152: reg:linear is now deprecated in favor of reg:squarederror.\n",
      "[15:18:11] WARNING: /workspace/src/objective/regression_obj.cu:152: reg:linear is now deprecated in favor of reg:squarederror.\n",
      "[15:18:31] WARNING: /workspace/src/objective/regression_obj.cu:152: reg:linear is now deprecated in favor of reg:squarederror.\n",
      "[15:18:51] WARNING: /workspace/src/objective/regression_obj.cu:152: reg:linear is now deprecated in favor of reg:squarederror.\n"
     ]
    },
    {
     "name": "stderr",
     "output_type": "stream",
     "text": [
      "[Parallel(n_jobs=1)]: Done  70 out of  70 | elapsed: 23.1min finished\n"
     ]
    },
    {
     "name": "stdout",
     "output_type": "stream",
     "text": [
      "[15:19:11] WARNING: /workspace/src/objective/regression_obj.cu:152: reg:linear is now deprecated in favor of reg:squarederror.\n",
      "参数的最佳取值：{'gamma': 0}\n",
      "最佳模型得分:-0.013844205234061244\n"
     ]
    }
   ],
   "source": [
    "params = {'learning_rate': 0.01,\n",
    "      'n_estimators': 3000, \n",
    "      'max_depth': 5,\n",
    "      'subsample': 0.9,\n",
    "      'colsample_bytree': 0.7,\n",
    "      'min_child_weight': 3,\n",
    "      'seed': 52,\n",
    "      'gamma': 0,\n",
    "      'reg_alpha': 0,\n",
    "      'reg_lambda': 1}\n",
    "cv_params = {'gamma': [0, 0.1, 0.2, 0.3, 0.4, 0.5, 0.6]}\n",
    "xgbr = xgb.XGBRegressor(**params)\n",
    "grid_xgbr = GridSearchCV(estimator=xgbr, param_grid=cv_params, scoring='neg_mean_squared_error', cv=10, verbose=1)\n",
    "grid_xgbr.fit(np.array(train), np.array(y))\n",
    "result = grid_xgbr.cv_results_\n",
    "#print('每轮迭代运行结果:{}, {}'.format(result['mean_train_score'], result['std_train_score']))\n",
    "print('参数的最佳取值：{}'.format(grid_xgbr.best_params_))\n",
    "print('最佳模型得分:{}'.format(grid_xgbr.best_score_))"
   ]
  },
  {
   "cell_type": "markdown",
   "metadata": {
    "colab_type": "text",
    "id": "kykL3cdX6nma"
   },
   "source": [
    "#### 4、subsample和colsample_bytree"
   ]
  },
  {
   "cell_type": "code",
   "execution_count": 9,
   "metadata": {
    "colab": {
     "base_uri": "https://localhost:8080/",
     "height": 1000
    },
    "colab_type": "code",
    "executionInfo": {
     "elapsed": 5895376,
     "status": "ok",
     "timestamp": 1594007040351,
     "user": {
      "displayName": "Harold Ran",
      "photoUrl": "",
      "userId": "00745499557779892259"
     },
     "user_tz": -480
    },
    "id": "30MYcKNC6uxK",
    "outputId": "e5981bdc-e496-4ab3-8eff-2975f2b18a7b"
   },
   "outputs": [
    {
     "name": "stdout",
     "output_type": "stream",
     "text": [
      "Fitting 10 folds for each of 25 candidates, totalling 250 fits\n",
      "[02:05:45] WARNING: /workspace/src/objective/regression_obj.cu:152: reg:linear is now deprecated in favor of reg:squarederror.\n"
     ]
    },
    {
     "name": "stderr",
     "output_type": "stream",
     "text": [
      "[Parallel(n_jobs=1)]: Using backend SequentialBackend with 1 concurrent workers.\n"
     ]
    },
    {
     "name": "stdout",
     "output_type": "stream",
     "text": [
      "[02:06:06] WARNING: /workspace/src/objective/regression_obj.cu:152: reg:linear is now deprecated in favor of reg:squarederror.\n",
      "[02:06:27] WARNING: /workspace/src/objective/regression_obj.cu:152: reg:linear is now deprecated in favor of reg:squarederror.\n",
      "[02:06:48] WARNING: /workspace/src/objective/regression_obj.cu:152: reg:linear is now deprecated in favor of reg:squarederror.\n",
      "[02:07:09] WARNING: /workspace/src/objective/regression_obj.cu:152: reg:linear is now deprecated in favor of reg:squarederror.\n",
      "[02:07:30] WARNING: /workspace/src/objective/regression_obj.cu:152: reg:linear is now deprecated in favor of reg:squarederror.\n",
      "[02:07:50] WARNING: /workspace/src/objective/regression_obj.cu:152: reg:linear is now deprecated in favor of reg:squarederror.\n",
      "[02:08:11] WARNING: /workspace/src/objective/regression_obj.cu:152: reg:linear is now deprecated in favor of reg:squarederror.\n",
      "[02:08:32] WARNING: /workspace/src/objective/regression_obj.cu:152: reg:linear is now deprecated in favor of reg:squarederror.\n",
      "[02:08:52] WARNING: /workspace/src/objective/regression_obj.cu:152: reg:linear is now deprecated in favor of reg:squarederror.\n",
      "[02:09:14] WARNING: /workspace/src/objective/regression_obj.cu:152: reg:linear is now deprecated in favor of reg:squarederror.\n",
      "[02:09:33] WARNING: /workspace/src/objective/regression_obj.cu:152: reg:linear is now deprecated in favor of reg:squarederror.\n",
      "[02:09:53] WARNING: /workspace/src/objective/regression_obj.cu:152: reg:linear is now deprecated in favor of reg:squarederror.\n",
      "[02:10:13] WARNING: /workspace/src/objective/regression_obj.cu:152: reg:linear is now deprecated in favor of reg:squarederror.\n",
      "[02:10:32] WARNING: /workspace/src/objective/regression_obj.cu:152: reg:linear is now deprecated in favor of reg:squarederror.\n",
      "[02:10:52] WARNING: /workspace/src/objective/regression_obj.cu:152: reg:linear is now deprecated in favor of reg:squarederror.\n",
      "[02:11:12] WARNING: /workspace/src/objective/regression_obj.cu:152: reg:linear is now deprecated in favor of reg:squarederror.\n",
      "[02:11:31] WARNING: /workspace/src/objective/regression_obj.cu:152: reg:linear is now deprecated in favor of reg:squarederror.\n",
      "[02:11:51] WARNING: /workspace/src/objective/regression_obj.cu:152: reg:linear is now deprecated in favor of reg:squarederror.\n",
      "[02:12:11] WARNING: /workspace/src/objective/regression_obj.cu:152: reg:linear is now deprecated in favor of reg:squarederror.\n",
      "[02:12:30] WARNING: /workspace/src/objective/regression_obj.cu:152: reg:linear is now deprecated in favor of reg:squarederror.\n",
      "[02:12:50] WARNING: /workspace/src/objective/regression_obj.cu:152: reg:linear is now deprecated in favor of reg:squarederror.\n",
      "[02:13:08] WARNING: /workspace/src/objective/regression_obj.cu:152: reg:linear is now deprecated in favor of reg:squarederror.\n",
      "[02:13:27] WARNING: /workspace/src/objective/regression_obj.cu:152: reg:linear is now deprecated in favor of reg:squarederror.\n",
      "[02:13:45] WARNING: /workspace/src/objective/regression_obj.cu:152: reg:linear is now deprecated in favor of reg:squarederror.\n",
      "[02:14:04] WARNING: /workspace/src/objective/regression_obj.cu:152: reg:linear is now deprecated in favor of reg:squarederror.\n",
      "[02:14:22] WARNING: /workspace/src/objective/regression_obj.cu:152: reg:linear is now deprecated in favor of reg:squarederror.\n",
      "[02:14:41] WARNING: /workspace/src/objective/regression_obj.cu:152: reg:linear is now deprecated in favor of reg:squarederror.\n",
      "[02:14:59] WARNING: /workspace/src/objective/regression_obj.cu:152: reg:linear is now deprecated in favor of reg:squarederror.\n",
      "[02:15:18] WARNING: /workspace/src/objective/regression_obj.cu:152: reg:linear is now deprecated in favor of reg:squarederror.\n",
      "[02:15:36] WARNING: /workspace/src/objective/regression_obj.cu:152: reg:linear is now deprecated in favor of reg:squarederror.\n",
      "[02:15:54] WARNING: /workspace/src/objective/regression_obj.cu:152: reg:linear is now deprecated in favor of reg:squarederror.\n",
      "[02:16:11] WARNING: /workspace/src/objective/regression_obj.cu:152: reg:linear is now deprecated in favor of reg:squarederror.\n",
      "[02:16:29] WARNING: /workspace/src/objective/regression_obj.cu:152: reg:linear is now deprecated in favor of reg:squarederror.\n",
      "[02:16:46] WARNING: /workspace/src/objective/regression_obj.cu:152: reg:linear is now deprecated in favor of reg:squarederror.\n",
      "[02:17:04] WARNING: /workspace/src/objective/regression_obj.cu:152: reg:linear is now deprecated in favor of reg:squarederror.\n",
      "[02:17:21] WARNING: /workspace/src/objective/regression_obj.cu:152: reg:linear is now deprecated in favor of reg:squarederror.\n",
      "[02:17:39] WARNING: /workspace/src/objective/regression_obj.cu:152: reg:linear is now deprecated in favor of reg:squarederror.\n",
      "[02:17:57] WARNING: /workspace/src/objective/regression_obj.cu:152: reg:linear is now deprecated in favor of reg:squarederror.\n",
      "[02:18:15] WARNING: /workspace/src/objective/regression_obj.cu:152: reg:linear is now deprecated in favor of reg:squarederror.\n",
      "[02:18:32] WARNING: /workspace/src/objective/regression_obj.cu:152: reg:linear is now deprecated in favor of reg:squarederror.\n",
      "[02:18:48] WARNING: /workspace/src/objective/regression_obj.cu:152: reg:linear is now deprecated in favor of reg:squarederror.\n",
      "[02:19:04] WARNING: /workspace/src/objective/regression_obj.cu:152: reg:linear is now deprecated in favor of reg:squarederror.\n",
      "[02:19:20] WARNING: /workspace/src/objective/regression_obj.cu:152: reg:linear is now deprecated in favor of reg:squarederror.\n",
      "[02:19:36] WARNING: /workspace/src/objective/regression_obj.cu:152: reg:linear is now deprecated in favor of reg:squarederror.\n",
      "[02:19:52] WARNING: /workspace/src/objective/regression_obj.cu:152: reg:linear is now deprecated in favor of reg:squarederror.\n",
      "[02:20:08] WARNING: /workspace/src/objective/regression_obj.cu:152: reg:linear is now deprecated in favor of reg:squarederror.\n",
      "[02:20:24] WARNING: /workspace/src/objective/regression_obj.cu:152: reg:linear is now deprecated in favor of reg:squarederror.\n",
      "[02:20:40] WARNING: /workspace/src/objective/regression_obj.cu:152: reg:linear is now deprecated in favor of reg:squarederror.\n",
      "[02:20:56] WARNING: /workspace/src/objective/regression_obj.cu:152: reg:linear is now deprecated in favor of reg:squarederror.\n",
      "[02:21:11] WARNING: /workspace/src/objective/regression_obj.cu:152: reg:linear is now deprecated in favor of reg:squarederror.\n",
      "[02:21:35] WARNING: /workspace/src/objective/regression_obj.cu:152: reg:linear is now deprecated in favor of reg:squarederror.\n",
      "[02:21:58] WARNING: /workspace/src/objective/regression_obj.cu:152: reg:linear is now deprecated in favor of reg:squarederror.\n",
      "[02:22:22] WARNING: /workspace/src/objective/regression_obj.cu:152: reg:linear is now deprecated in favor of reg:squarederror.\n",
      "[02:22:45] WARNING: /workspace/src/objective/regression_obj.cu:152: reg:linear is now deprecated in favor of reg:squarederror.\n",
      "[02:23:09] WARNING: /workspace/src/objective/regression_obj.cu:152: reg:linear is now deprecated in favor of reg:squarederror.\n",
      "[02:23:32] WARNING: /workspace/src/objective/regression_obj.cu:152: reg:linear is now deprecated in favor of reg:squarederror.\n",
      "[02:23:56] WARNING: /workspace/src/objective/regression_obj.cu:152: reg:linear is now deprecated in favor of reg:squarederror.\n",
      "[02:24:20] WARNING: /workspace/src/objective/regression_obj.cu:152: reg:linear is now deprecated in favor of reg:squarederror.\n",
      "[02:24:43] WARNING: /workspace/src/objective/regression_obj.cu:152: reg:linear is now deprecated in favor of reg:squarederror.\n",
      "[02:25:07] WARNING: /workspace/src/objective/regression_obj.cu:152: reg:linear is now deprecated in favor of reg:squarederror.\n",
      "[02:25:29] WARNING: /workspace/src/objective/regression_obj.cu:152: reg:linear is now deprecated in favor of reg:squarederror.\n",
      "[02:25:51] WARNING: /workspace/src/objective/regression_obj.cu:152: reg:linear is now deprecated in favor of reg:squarederror.\n",
      "[02:26:14] WARNING: /workspace/src/objective/regression_obj.cu:152: reg:linear is now deprecated in favor of reg:squarederror.\n",
      "[02:26:36] WARNING: /workspace/src/objective/regression_obj.cu:152: reg:linear is now deprecated in favor of reg:squarederror.\n",
      "[02:27:00] WARNING: /workspace/src/objective/regression_obj.cu:152: reg:linear is now deprecated in favor of reg:squarederror.\n",
      "[02:27:24] WARNING: /workspace/src/objective/regression_obj.cu:152: reg:linear is now deprecated in favor of reg:squarederror.\n",
      "[02:27:47] WARNING: /workspace/src/objective/regression_obj.cu:152: reg:linear is now deprecated in favor of reg:squarederror.\n",
      "[02:28:09] WARNING: /workspace/src/objective/regression_obj.cu:152: reg:linear is now deprecated in favor of reg:squarederror.\n",
      "[02:28:32] WARNING: /workspace/src/objective/regression_obj.cu:152: reg:linear is now deprecated in favor of reg:squarederror.\n",
      "[02:28:55] WARNING: /workspace/src/objective/regression_obj.cu:152: reg:linear is now deprecated in favor of reg:squarederror.\n",
      "[02:29:16] WARNING: /workspace/src/objective/regression_obj.cu:152: reg:linear is now deprecated in favor of reg:squarederror.\n",
      "[02:29:38] WARNING: /workspace/src/objective/regression_obj.cu:152: reg:linear is now deprecated in favor of reg:squarederror.\n",
      "[02:29:59] WARNING: /workspace/src/objective/regression_obj.cu:152: reg:linear is now deprecated in favor of reg:squarederror.\n",
      "[02:30:20] WARNING: /workspace/src/objective/regression_obj.cu:152: reg:linear is now deprecated in favor of reg:squarederror.\n",
      "[02:30:41] WARNING: /workspace/src/objective/regression_obj.cu:152: reg:linear is now deprecated in favor of reg:squarederror.\n",
      "[02:31:02] WARNING: /workspace/src/objective/regression_obj.cu:152: reg:linear is now deprecated in favor of reg:squarederror.\n",
      "[02:31:23] WARNING: /workspace/src/objective/regression_obj.cu:152: reg:linear is now deprecated in favor of reg:squarederror.\n",
      "[02:31:44] WARNING: /workspace/src/objective/regression_obj.cu:152: reg:linear is now deprecated in favor of reg:squarederror.\n",
      "[02:32:05] WARNING: /workspace/src/objective/regression_obj.cu:152: reg:linear is now deprecated in favor of reg:squarederror.\n",
      "[02:32:27] WARNING: /workspace/src/objective/regression_obj.cu:152: reg:linear is now deprecated in favor of reg:squarederror.\n",
      "[02:32:46] WARNING: /workspace/src/objective/regression_obj.cu:152: reg:linear is now deprecated in favor of reg:squarederror.\n",
      "[02:33:06] WARNING: /workspace/src/objective/regression_obj.cu:152: reg:linear is now deprecated in favor of reg:squarederror.\n",
      "[02:33:26] WARNING: /workspace/src/objective/regression_obj.cu:152: reg:linear is now deprecated in favor of reg:squarederror.\n",
      "[02:33:46] WARNING: /workspace/src/objective/regression_obj.cu:152: reg:linear is now deprecated in favor of reg:squarederror.\n",
      "[02:34:05] WARNING: /workspace/src/objective/regression_obj.cu:152: reg:linear is now deprecated in favor of reg:squarederror.\n",
      "[02:34:25] WARNING: /workspace/src/objective/regression_obj.cu:152: reg:linear is now deprecated in favor of reg:squarederror.\n",
      "[02:34:45] WARNING: /workspace/src/objective/regression_obj.cu:152: reg:linear is now deprecated in favor of reg:squarederror.\n",
      "[02:35:04] WARNING: /workspace/src/objective/regression_obj.cu:152: reg:linear is now deprecated in favor of reg:squarederror.\n",
      "[02:35:24] WARNING: /workspace/src/objective/regression_obj.cu:152: reg:linear is now deprecated in favor of reg:squarederror.\n",
      "[02:35:43] WARNING: /workspace/src/objective/regression_obj.cu:152: reg:linear is now deprecated in favor of reg:squarederror.\n",
      "[02:36:01] WARNING: /workspace/src/objective/regression_obj.cu:152: reg:linear is now deprecated in favor of reg:squarederror.\n",
      "[02:36:19] WARNING: /workspace/src/objective/regression_obj.cu:152: reg:linear is now deprecated in favor of reg:squarederror.\n",
      "[02:36:37] WARNING: /workspace/src/objective/regression_obj.cu:152: reg:linear is now deprecated in favor of reg:squarederror.\n",
      "[02:36:55] WARNING: /workspace/src/objective/regression_obj.cu:152: reg:linear is now deprecated in favor of reg:squarederror.\n",
      "[02:37:17] WARNING: /workspace/src/objective/regression_obj.cu:152: reg:linear is now deprecated in favor of reg:squarederror.\n",
      "[02:37:35] WARNING: /workspace/src/objective/regression_obj.cu:152: reg:linear is now deprecated in favor of reg:squarederror.\n",
      "[02:37:53] WARNING: /workspace/src/objective/regression_obj.cu:152: reg:linear is now deprecated in favor of reg:squarederror.\n",
      "[02:38:10] WARNING: /workspace/src/objective/regression_obj.cu:152: reg:linear is now deprecated in favor of reg:squarederror.\n",
      "[02:38:28] WARNING: /workspace/src/objective/regression_obj.cu:152: reg:linear is now deprecated in favor of reg:squarederror.\n",
      "[02:38:46] WARNING: /workspace/src/objective/regression_obj.cu:152: reg:linear is now deprecated in favor of reg:squarederror.\n",
      "[02:39:14] WARNING: /workspace/src/objective/regression_obj.cu:152: reg:linear is now deprecated in favor of reg:squarederror.\n",
      "[02:39:40] WARNING: /workspace/src/objective/regression_obj.cu:152: reg:linear is now deprecated in favor of reg:squarederror.\n",
      "[02:40:06] WARNING: /workspace/src/objective/regression_obj.cu:152: reg:linear is now deprecated in favor of reg:squarederror.\n",
      "[02:40:32] WARNING: /workspace/src/objective/regression_obj.cu:152: reg:linear is now deprecated in favor of reg:squarederror.\n",
      "[02:40:59] WARNING: /workspace/src/objective/regression_obj.cu:152: reg:linear is now deprecated in favor of reg:squarederror.\n",
      "[02:41:25] WARNING: /workspace/src/objective/regression_obj.cu:152: reg:linear is now deprecated in favor of reg:squarederror.\n",
      "[02:41:51] WARNING: /workspace/src/objective/regression_obj.cu:152: reg:linear is now deprecated in favor of reg:squarederror.\n",
      "[02:42:17] WARNING: /workspace/src/objective/regression_obj.cu:152: reg:linear is now deprecated in favor of reg:squarederror.\n",
      "[02:42:43] WARNING: /workspace/src/objective/regression_obj.cu:152: reg:linear is now deprecated in favor of reg:squarederror.\n",
      "[02:43:09] WARNING: /workspace/src/objective/regression_obj.cu:152: reg:linear is now deprecated in favor of reg:squarederror.\n",
      "[02:43:34] WARNING: /workspace/src/objective/regression_obj.cu:152: reg:linear is now deprecated in favor of reg:squarederror.\n",
      "[02:43:59] WARNING: /workspace/src/objective/regression_obj.cu:152: reg:linear is now deprecated in favor of reg:squarederror.\n",
      "[02:44:24] WARNING: /workspace/src/objective/regression_obj.cu:152: reg:linear is now deprecated in favor of reg:squarederror.\n",
      "[02:44:49] WARNING: /workspace/src/objective/regression_obj.cu:152: reg:linear is now deprecated in favor of reg:squarederror.\n",
      "[02:45:14] WARNING: /workspace/src/objective/regression_obj.cu:152: reg:linear is now deprecated in favor of reg:squarederror.\n",
      "[02:45:39] WARNING: /workspace/src/objective/regression_obj.cu:152: reg:linear is now deprecated in favor of reg:squarederror.\n",
      "[02:46:04] WARNING: /workspace/src/objective/regression_obj.cu:152: reg:linear is now deprecated in favor of reg:squarederror.\n",
      "[02:46:29] WARNING: /workspace/src/objective/regression_obj.cu:152: reg:linear is now deprecated in favor of reg:squarederror.\n",
      "[02:46:54] WARNING: /workspace/src/objective/regression_obj.cu:152: reg:linear is now deprecated in favor of reg:squarederror.\n",
      "[02:47:19] WARNING: /workspace/src/objective/regression_obj.cu:152: reg:linear is now deprecated in favor of reg:squarederror.\n",
      "[02:47:42] WARNING: /workspace/src/objective/regression_obj.cu:152: reg:linear is now deprecated in favor of reg:squarederror.\n",
      "[02:48:05] WARNING: /workspace/src/objective/regression_obj.cu:152: reg:linear is now deprecated in favor of reg:squarederror.\n",
      "[02:48:29] WARNING: /workspace/src/objective/regression_obj.cu:152: reg:linear is now deprecated in favor of reg:squarederror.\n",
      "[02:48:52] WARNING: /workspace/src/objective/regression_obj.cu:152: reg:linear is now deprecated in favor of reg:squarederror.\n",
      "[02:49:15] WARNING: /workspace/src/objective/regression_obj.cu:152: reg:linear is now deprecated in favor of reg:squarederror.\n",
      "[02:49:39] WARNING: /workspace/src/objective/regression_obj.cu:152: reg:linear is now deprecated in favor of reg:squarederror.\n",
      "[02:50:03] WARNING: /workspace/src/objective/regression_obj.cu:152: reg:linear is now deprecated in favor of reg:squarederror.\n",
      "[02:50:27] WARNING: /workspace/src/objective/regression_obj.cu:152: reg:linear is now deprecated in favor of reg:squarederror.\n",
      "[02:50:50] WARNING: /workspace/src/objective/regression_obj.cu:152: reg:linear is now deprecated in favor of reg:squarederror.\n",
      "[02:51:13] WARNING: /workspace/src/objective/regression_obj.cu:152: reg:linear is now deprecated in favor of reg:squarederror.\n",
      "[02:51:35] WARNING: /workspace/src/objective/regression_obj.cu:152: reg:linear is now deprecated in favor of reg:squarederror.\n",
      "[02:51:57] WARNING: /workspace/src/objective/regression_obj.cu:152: reg:linear is now deprecated in favor of reg:squarederror.\n",
      "[02:52:19] WARNING: /workspace/src/objective/regression_obj.cu:152: reg:linear is now deprecated in favor of reg:squarederror.\n",
      "[02:52:41] WARNING: /workspace/src/objective/regression_obj.cu:152: reg:linear is now deprecated in favor of reg:squarederror.\n",
      "[02:53:03] WARNING: /workspace/src/objective/regression_obj.cu:152: reg:linear is now deprecated in favor of reg:squarederror.\n",
      "[02:53:24] WARNING: /workspace/src/objective/regression_obj.cu:152: reg:linear is now deprecated in favor of reg:squarederror.\n",
      "[02:53:46] WARNING: /workspace/src/objective/regression_obj.cu:152: reg:linear is now deprecated in favor of reg:squarederror.\n",
      "[02:54:08] WARNING: /workspace/src/objective/regression_obj.cu:152: reg:linear is now deprecated in favor of reg:squarederror.\n",
      "[02:54:30] WARNING: /workspace/src/objective/regression_obj.cu:152: reg:linear is now deprecated in favor of reg:squarederror.\n",
      "[02:54:52] WARNING: /workspace/src/objective/regression_obj.cu:152: reg:linear is now deprecated in favor of reg:squarederror.\n",
      "[02:55:13] WARNING: /workspace/src/objective/regression_obj.cu:152: reg:linear is now deprecated in favor of reg:squarederror.\n",
      "[02:55:32] WARNING: /workspace/src/objective/regression_obj.cu:152: reg:linear is now deprecated in favor of reg:squarederror.\n",
      "[02:55:52] WARNING: /workspace/src/objective/regression_obj.cu:152: reg:linear is now deprecated in favor of reg:squarederror.\n",
      "[02:56:13] WARNING: /workspace/src/objective/regression_obj.cu:152: reg:linear is now deprecated in favor of reg:squarederror.\n",
      "[02:56:33] WARNING: /workspace/src/objective/regression_obj.cu:152: reg:linear is now deprecated in favor of reg:squarederror.\n",
      "[02:56:53] WARNING: /workspace/src/objective/regression_obj.cu:152: reg:linear is now deprecated in favor of reg:squarederror.\n",
      "[02:57:13] WARNING: /workspace/src/objective/regression_obj.cu:152: reg:linear is now deprecated in favor of reg:squarederror.\n",
      "[02:57:32] WARNING: /workspace/src/objective/regression_obj.cu:152: reg:linear is now deprecated in favor of reg:squarederror.\n",
      "[02:57:52] WARNING: /workspace/src/objective/regression_obj.cu:152: reg:linear is now deprecated in favor of reg:squarederror.\n",
      "[02:58:12] WARNING: /workspace/src/objective/regression_obj.cu:152: reg:linear is now deprecated in favor of reg:squarederror.\n",
      "[02:58:41] WARNING: /workspace/src/objective/regression_obj.cu:152: reg:linear is now deprecated in favor of reg:squarederror.\n",
      "[02:59:10] WARNING: /workspace/src/objective/regression_obj.cu:152: reg:linear is now deprecated in favor of reg:squarederror.\n",
      "[02:59:39] WARNING: /workspace/src/objective/regression_obj.cu:152: reg:linear is now deprecated in favor of reg:squarederror.\n",
      "[03:00:08] WARNING: /workspace/src/objective/regression_obj.cu:152: reg:linear is now deprecated in favor of reg:squarederror.\n",
      "[03:00:38] WARNING: /workspace/src/objective/regression_obj.cu:152: reg:linear is now deprecated in favor of reg:squarederror.\n",
      "[03:01:07] WARNING: /workspace/src/objective/regression_obj.cu:152: reg:linear is now deprecated in favor of reg:squarederror.\n",
      "[03:01:36] WARNING: /workspace/src/objective/regression_obj.cu:152: reg:linear is now deprecated in favor of reg:squarederror.\n",
      "[03:02:05] WARNING: /workspace/src/objective/regression_obj.cu:152: reg:linear is now deprecated in favor of reg:squarederror.\n",
      "[03:02:33] WARNING: /workspace/src/objective/regression_obj.cu:152: reg:linear is now deprecated in favor of reg:squarederror.\n",
      "[03:03:02] WARNING: /workspace/src/objective/regression_obj.cu:152: reg:linear is now deprecated in favor of reg:squarederror.\n",
      "[03:03:30] WARNING: /workspace/src/objective/regression_obj.cu:152: reg:linear is now deprecated in favor of reg:squarederror.\n",
      "[03:03:57] WARNING: /workspace/src/objective/regression_obj.cu:152: reg:linear is now deprecated in favor of reg:squarederror.\n",
      "[03:04:25] WARNING: /workspace/src/objective/regression_obj.cu:152: reg:linear is now deprecated in favor of reg:squarederror.\n",
      "[03:04:54] WARNING: /workspace/src/objective/regression_obj.cu:152: reg:linear is now deprecated in favor of reg:squarederror.\n",
      "[03:05:23] WARNING: /workspace/src/objective/regression_obj.cu:152: reg:linear is now deprecated in favor of reg:squarederror.\n",
      "[03:05:51] WARNING: /workspace/src/objective/regression_obj.cu:152: reg:linear is now deprecated in favor of reg:squarederror.\n",
      "[03:06:18] WARNING: /workspace/src/objective/regression_obj.cu:152: reg:linear is now deprecated in favor of reg:squarederror.\n",
      "[03:06:46] WARNING: /workspace/src/objective/regression_obj.cu:152: reg:linear is now deprecated in favor of reg:squarederror.\n",
      "[03:07:13] WARNING: /workspace/src/objective/regression_obj.cu:152: reg:linear is now deprecated in favor of reg:squarederror.\n",
      "[03:07:41] WARNING: /workspace/src/objective/regression_obj.cu:152: reg:linear is now deprecated in favor of reg:squarederror.\n",
      "[03:08:07] WARNING: /workspace/src/objective/regression_obj.cu:152: reg:linear is now deprecated in favor of reg:squarederror.\n",
      "[03:08:32] WARNING: /workspace/src/objective/regression_obj.cu:152: reg:linear is now deprecated in favor of reg:squarederror.\n",
      "[03:08:58] WARNING: /workspace/src/objective/regression_obj.cu:152: reg:linear is now deprecated in favor of reg:squarederror.\n",
      "[03:09:24] WARNING: /workspace/src/objective/regression_obj.cu:152: reg:linear is now deprecated in favor of reg:squarederror.\n",
      "[03:09:50] WARNING: /workspace/src/objective/regression_obj.cu:152: reg:linear is now deprecated in favor of reg:squarederror.\n",
      "[03:10:16] WARNING: /workspace/src/objective/regression_obj.cu:152: reg:linear is now deprecated in favor of reg:squarederror.\n",
      "[03:10:43] WARNING: /workspace/src/objective/regression_obj.cu:152: reg:linear is now deprecated in favor of reg:squarederror.\n",
      "[03:11:09] WARNING: /workspace/src/objective/regression_obj.cu:152: reg:linear is now deprecated in favor of reg:squarederror.\n",
      "[03:11:35] WARNING: /workspace/src/objective/regression_obj.cu:152: reg:linear is now deprecated in favor of reg:squarederror.\n",
      "[03:12:01] WARNING: /workspace/src/objective/regression_obj.cu:152: reg:linear is now deprecated in favor of reg:squarederror.\n",
      "[03:12:25] WARNING: /workspace/src/objective/regression_obj.cu:152: reg:linear is now deprecated in favor of reg:squarederror.\n",
      "[03:12:49] WARNING: /workspace/src/objective/regression_obj.cu:152: reg:linear is now deprecated in favor of reg:squarederror.\n",
      "[03:13:13] WARNING: /workspace/src/objective/regression_obj.cu:152: reg:linear is now deprecated in favor of reg:squarederror.\n",
      "[03:13:38] WARNING: /workspace/src/objective/regression_obj.cu:152: reg:linear is now deprecated in favor of reg:squarederror.\n",
      "[03:14:02] WARNING: /workspace/src/objective/regression_obj.cu:152: reg:linear is now deprecated in favor of reg:squarederror.\n",
      "[03:14:26] WARNING: /workspace/src/objective/regression_obj.cu:152: reg:linear is now deprecated in favor of reg:squarederror.\n",
      "[03:14:50] WARNING: /workspace/src/objective/regression_obj.cu:152: reg:linear is now deprecated in favor of reg:squarederror.\n",
      "[03:15:15] WARNING: /workspace/src/objective/regression_obj.cu:152: reg:linear is now deprecated in favor of reg:squarederror.\n",
      "[03:15:40] WARNING: /workspace/src/objective/regression_obj.cu:152: reg:linear is now deprecated in favor of reg:squarederror.\n",
      "[03:16:04] WARNING: /workspace/src/objective/regression_obj.cu:152: reg:linear is now deprecated in favor of reg:squarederror.\n",
      "[03:16:26] WARNING: /workspace/src/objective/regression_obj.cu:152: reg:linear is now deprecated in favor of reg:squarederror.\n",
      "[03:16:48] WARNING: /workspace/src/objective/regression_obj.cu:152: reg:linear is now deprecated in favor of reg:squarederror.\n",
      "[03:17:09] WARNING: /workspace/src/objective/regression_obj.cu:152: reg:linear is now deprecated in favor of reg:squarederror.\n",
      "[03:17:31] WARNING: /workspace/src/objective/regression_obj.cu:152: reg:linear is now deprecated in favor of reg:squarederror.\n",
      "[03:17:54] WARNING: /workspace/src/objective/regression_obj.cu:152: reg:linear is now deprecated in favor of reg:squarederror.\n",
      "[03:18:16] WARNING: /workspace/src/objective/regression_obj.cu:152: reg:linear is now deprecated in favor of reg:squarederror.\n",
      "[03:18:38] WARNING: /workspace/src/objective/regression_obj.cu:152: reg:linear is now deprecated in favor of reg:squarederror.\n",
      "[03:19:00] WARNING: /workspace/src/objective/regression_obj.cu:152: reg:linear is now deprecated in favor of reg:squarederror.\n",
      "[03:19:22] WARNING: /workspace/src/objective/regression_obj.cu:152: reg:linear is now deprecated in favor of reg:squarederror.\n",
      "[03:19:44] WARNING: /workspace/src/objective/regression_obj.cu:152: reg:linear is now deprecated in favor of reg:squarederror.\n",
      "[03:20:16] WARNING: /workspace/src/objective/regression_obj.cu:152: reg:linear is now deprecated in favor of reg:squarederror.\n",
      "[03:20:50] WARNING: /workspace/src/objective/regression_obj.cu:152: reg:linear is now deprecated in favor of reg:squarederror.\n",
      "[03:21:22] WARNING: /workspace/src/objective/regression_obj.cu:152: reg:linear is now deprecated in favor of reg:squarederror.\n",
      "[03:21:54] WARNING: /workspace/src/objective/regression_obj.cu:152: reg:linear is now deprecated in favor of reg:squarederror.\n",
      "[03:22:26] WARNING: /workspace/src/objective/regression_obj.cu:152: reg:linear is now deprecated in favor of reg:squarederror.\n",
      "[03:22:58] WARNING: /workspace/src/objective/regression_obj.cu:152: reg:linear is now deprecated in favor of reg:squarederror.\n",
      "[03:23:30] WARNING: /workspace/src/objective/regression_obj.cu:152: reg:linear is now deprecated in favor of reg:squarederror.\n",
      "[03:24:02] WARNING: /workspace/src/objective/regression_obj.cu:152: reg:linear is now deprecated in favor of reg:squarederror.\n",
      "[03:24:34] WARNING: /workspace/src/objective/regression_obj.cu:152: reg:linear is now deprecated in favor of reg:squarederror.\n",
      "[03:25:05] WARNING: /workspace/src/objective/regression_obj.cu:152: reg:linear is now deprecated in favor of reg:squarederror.\n",
      "[03:25:35] WARNING: /workspace/src/objective/regression_obj.cu:152: reg:linear is now deprecated in favor of reg:squarederror.\n",
      "[03:26:07] WARNING: /workspace/src/objective/regression_obj.cu:152: reg:linear is now deprecated in favor of reg:squarederror.\n",
      "[03:26:37] WARNING: /workspace/src/objective/regression_obj.cu:152: reg:linear is now deprecated in favor of reg:squarederror.\n",
      "[03:27:07] WARNING: /workspace/src/objective/regression_obj.cu:152: reg:linear is now deprecated in favor of reg:squarederror.\n",
      "[03:27:38] WARNING: /workspace/src/objective/regression_obj.cu:152: reg:linear is now deprecated in favor of reg:squarederror.\n",
      "[03:28:13] WARNING: /workspace/src/objective/regression_obj.cu:152: reg:linear is now deprecated in favor of reg:squarederror.\n",
      "[03:28:44] WARNING: /workspace/src/objective/regression_obj.cu:152: reg:linear is now deprecated in favor of reg:squarederror.\n",
      "[03:29:15] WARNING: /workspace/src/objective/regression_obj.cu:152: reg:linear is now deprecated in favor of reg:squarederror.\n",
      "[03:29:46] WARNING: /workspace/src/objective/regression_obj.cu:152: reg:linear is now deprecated in favor of reg:squarederror.\n",
      "[03:30:17] WARNING: /workspace/src/objective/regression_obj.cu:152: reg:linear is now deprecated in favor of reg:squarederror.\n",
      "[03:30:46] WARNING: /workspace/src/objective/regression_obj.cu:152: reg:linear is now deprecated in favor of reg:squarederror.\n",
      "[03:31:18] WARNING: /workspace/src/objective/regression_obj.cu:152: reg:linear is now deprecated in favor of reg:squarederror.\n",
      "[03:31:47] WARNING: /workspace/src/objective/regression_obj.cu:152: reg:linear is now deprecated in favor of reg:squarederror.\n",
      "[03:32:16] WARNING: /workspace/src/objective/regression_obj.cu:152: reg:linear is now deprecated in favor of reg:squarederror.\n",
      "[03:32:45] WARNING: /workspace/src/objective/regression_obj.cu:152: reg:linear is now deprecated in favor of reg:squarederror.\n",
      "[03:33:13] WARNING: /workspace/src/objective/regression_obj.cu:152: reg:linear is now deprecated in favor of reg:squarederror.\n",
      "[03:33:41] WARNING: /workspace/src/objective/regression_obj.cu:152: reg:linear is now deprecated in favor of reg:squarederror.\n",
      "[03:34:10] WARNING: /workspace/src/objective/regression_obj.cu:152: reg:linear is now deprecated in favor of reg:squarederror.\n",
      "[03:34:39] WARNING: /workspace/src/objective/regression_obj.cu:152: reg:linear is now deprecated in favor of reg:squarederror.\n",
      "[03:35:07] WARNING: /workspace/src/objective/regression_obj.cu:152: reg:linear is now deprecated in favor of reg:squarederror.\n",
      "[03:35:33] WARNING: /workspace/src/objective/regression_obj.cu:152: reg:linear is now deprecated in favor of reg:squarederror.\n",
      "[03:36:00] WARNING: /workspace/src/objective/regression_obj.cu:152: reg:linear is now deprecated in favor of reg:squarederror.\n",
      "[03:36:26] WARNING: /workspace/src/objective/regression_obj.cu:152: reg:linear is now deprecated in favor of reg:squarederror.\n",
      "[03:36:53] WARNING: /workspace/src/objective/regression_obj.cu:152: reg:linear is now deprecated in favor of reg:squarederror.\n",
      "[03:37:19] WARNING: /workspace/src/objective/regression_obj.cu:152: reg:linear is now deprecated in favor of reg:squarederror.\n",
      "[03:37:46] WARNING: /workspace/src/objective/regression_obj.cu:152: reg:linear is now deprecated in favor of reg:squarederror.\n",
      "[03:38:15] WARNING: /workspace/src/objective/regression_obj.cu:152: reg:linear is now deprecated in favor of reg:squarederror.\n",
      "[03:38:42] WARNING: /workspace/src/objective/regression_obj.cu:152: reg:linear is now deprecated in favor of reg:squarederror.\n",
      "[03:39:08] WARNING: /workspace/src/objective/regression_obj.cu:152: reg:linear is now deprecated in favor of reg:squarederror.\n",
      "[03:39:34] WARNING: /workspace/src/objective/regression_obj.cu:152: reg:linear is now deprecated in favor of reg:squarederror.\n",
      "[03:39:58] WARNING: /workspace/src/objective/regression_obj.cu:152: reg:linear is now deprecated in favor of reg:squarederror.\n",
      "[03:40:22] WARNING: /workspace/src/objective/regression_obj.cu:152: reg:linear is now deprecated in favor of reg:squarederror.\n",
      "[03:40:46] WARNING: /workspace/src/objective/regression_obj.cu:152: reg:linear is now deprecated in favor of reg:squarederror.\n",
      "[03:41:10] WARNING: /workspace/src/objective/regression_obj.cu:152: reg:linear is now deprecated in favor of reg:squarederror.\n",
      "[03:41:34] WARNING: /workspace/src/objective/regression_obj.cu:152: reg:linear is now deprecated in favor of reg:squarederror.\n",
      "[03:41:58] WARNING: /workspace/src/objective/regression_obj.cu:152: reg:linear is now deprecated in favor of reg:squarederror.\n",
      "[03:42:22] WARNING: /workspace/src/objective/regression_obj.cu:152: reg:linear is now deprecated in favor of reg:squarederror.\n",
      "[03:42:46] WARNING: /workspace/src/objective/regression_obj.cu:152: reg:linear is now deprecated in favor of reg:squarederror.\n",
      "[03:43:10] WARNING: /workspace/src/objective/regression_obj.cu:152: reg:linear is now deprecated in favor of reg:squarederror.\n"
     ]
    },
    {
     "name": "stderr",
     "output_type": "stream",
     "text": [
      "[Parallel(n_jobs=1)]: Done 250 out of 250 | elapsed: 97.8min finished\n"
     ]
    },
    {
     "name": "stdout",
     "output_type": "stream",
     "text": [
      "[03:43:34] WARNING: /workspace/src/objective/regression_obj.cu:152: reg:linear is now deprecated in favor of reg:squarederror.\n",
      "参数的最佳取值：{'colsample_bytree': 0.7, 'subsample': 0.6}\n",
      "最佳模型得分:-0.01350188742592883\n"
     ]
    }
   ],
   "source": [
    "params = {'learning_rate': 0.01,\n",
    "      'n_estimators': 3000, \n",
    "      'max_depth': 5,\n",
    "      'subsample': 0.9,\n",
    "      'colsample_bytree': 0.7,\n",
    "      'min_child_weight': 3,\n",
    "      'seed': 52,\n",
    "      'gamma': 0,\n",
    "      'reg_alpha': 0,\n",
    "      'reg_lambda': 1}\n",
    "cv_params = {'subsample': [0.6, 0.7, 0.8, 0.9, 1.0], 'colsample_bytree': [0.6, 0.7, 0.8, 0.9, 1.0]}\n",
    "xgbr = xgb.XGBRegressor(**params)\n",
    "grid_xgbr = GridSearchCV(estimator=xgbr, param_grid=cv_params, scoring='neg_mean_squared_error', cv=10, verbose=1)\n",
    "grid_xgbr.fit(np.array(train), np.array(y))\n",
    "result = grid_xgbr.cv_results_\n",
    "#print('每轮迭代运行结果:{}, {}'.format(result['mean_train_score'], result['std_train_score']))\n",
    "print('参数的最佳取值：{}'.format(grid_xgbr.best_params_))\n",
    "print('最佳模型得分:{}'.format(grid_xgbr.best_score_))"
   ]
  },
  {
   "cell_type": "code",
   "execution_count": 10,
   "metadata": {
    "colab": {
     "base_uri": "https://localhost:8080/",
     "height": 1000
    },
    "colab_type": "code",
    "executionInfo": {
     "elapsed": 870,
     "status": "ok",
     "timestamp": 1594007056226,
     "user": {
      "displayName": "Harold Ran",
      "photoUrl": "",
      "userId": "00745499557779892259"
     },
     "user_tz": -480
    },
    "id": "koBhofVS32bK",
    "outputId": "fe450549-97df-4204-a1aa-d243b1f64b27"
   },
   "outputs": [
    {
     "data": {
      "text/plain": [
       "{'mean_fit_time': array([20.77341776, 19.65849676, 18.55563574, 17.5307189 , 15.91322839,\n",
       "        23.47974966, 22.80694509, 21.12292247, 19.61606972, 18.290941  ,\n",
       "        26.23824685, 24.92024889, 23.42352347, 21.8632555 , 19.91830678,\n",
       "        29.01571393, 27.83774695, 25.96293855, 24.25251181, 22.00881391,\n",
       "        32.06285958, 31.10121098, 28.98479025, 26.71920235, 23.89011576]),\n",
       " 'mean_score_time': array([0.03220036, 0.03164058, 0.03258028, 0.03437645, 0.03120821,\n",
       "        0.03374813, 0.03567753, 0.03360198, 0.03341243, 0.03327582,\n",
       "        0.03566151, 0.03459668, 0.03432472, 0.03400421, 0.03252289,\n",
       "        0.03415229, 0.03508239, 0.03476913, 0.03551581, 0.03358364,\n",
       "        0.03500044, 0.03552749, 0.0356365 , 0.03645473, 0.03292286]),\n",
       " 'mean_test_score': array([-0.01351611, -0.01352714, -0.01359658, -0.01371164, -0.01405421,\n",
       "        -0.01350189, -0.01374173, -0.01377598, -0.01384421, -0.01418901,\n",
       "        -0.0136482 , -0.01367606, -0.01375212, -0.01390798, -0.01433508,\n",
       "        -0.01353724, -0.0136349 , -0.01380242, -0.01402223, -0.01453774,\n",
       "        -0.01364573, -0.01360048, -0.01371907, -0.01415325, -0.01464678]),\n",
       " 'param_colsample_bytree': masked_array(data=[0.6, 0.6, 0.6, 0.6, 0.6, 0.7, 0.7, 0.7, 0.7, 0.7, 0.8,\n",
       "                    0.8, 0.8, 0.8, 0.8, 0.9, 0.9, 0.9, 0.9, 0.9, 1.0, 1.0,\n",
       "                    1.0, 1.0, 1.0],\n",
       "              mask=[False, False, False, False, False, False, False, False,\n",
       "                    False, False, False, False, False, False, False, False,\n",
       "                    False, False, False, False, False, False, False, False,\n",
       "                    False],\n",
       "        fill_value='?',\n",
       "             dtype=object),\n",
       " 'param_subsample': masked_array(data=[0.6, 0.7, 0.8, 0.9, 1.0, 0.6, 0.7, 0.8, 0.9, 1.0, 0.6,\n",
       "                    0.7, 0.8, 0.9, 1.0, 0.6, 0.7, 0.8, 0.9, 1.0, 0.6, 0.7,\n",
       "                    0.8, 0.9, 1.0],\n",
       "              mask=[False, False, False, False, False, False, False, False,\n",
       "                    False, False, False, False, False, False, False, False,\n",
       "                    False, False, False, False, False, False, False, False,\n",
       "                    False],\n",
       "        fill_value='?',\n",
       "             dtype=object),\n",
       " 'params': [{'colsample_bytree': 0.6, 'subsample': 0.6},\n",
       "  {'colsample_bytree': 0.6, 'subsample': 0.7},\n",
       "  {'colsample_bytree': 0.6, 'subsample': 0.8},\n",
       "  {'colsample_bytree': 0.6, 'subsample': 0.9},\n",
       "  {'colsample_bytree': 0.6, 'subsample': 1.0},\n",
       "  {'colsample_bytree': 0.7, 'subsample': 0.6},\n",
       "  {'colsample_bytree': 0.7, 'subsample': 0.7},\n",
       "  {'colsample_bytree': 0.7, 'subsample': 0.8},\n",
       "  {'colsample_bytree': 0.7, 'subsample': 0.9},\n",
       "  {'colsample_bytree': 0.7, 'subsample': 1.0},\n",
       "  {'colsample_bytree': 0.8, 'subsample': 0.6},\n",
       "  {'colsample_bytree': 0.8, 'subsample': 0.7},\n",
       "  {'colsample_bytree': 0.8, 'subsample': 0.8},\n",
       "  {'colsample_bytree': 0.8, 'subsample': 0.9},\n",
       "  {'colsample_bytree': 0.8, 'subsample': 1.0},\n",
       "  {'colsample_bytree': 0.9, 'subsample': 0.6},\n",
       "  {'colsample_bytree': 0.9, 'subsample': 0.7},\n",
       "  {'colsample_bytree': 0.9, 'subsample': 0.8},\n",
       "  {'colsample_bytree': 0.9, 'subsample': 0.9},\n",
       "  {'colsample_bytree': 0.9, 'subsample': 1.0},\n",
       "  {'colsample_bytree': 1.0, 'subsample': 0.6},\n",
       "  {'colsample_bytree': 1.0, 'subsample': 0.7},\n",
       "  {'colsample_bytree': 1.0, 'subsample': 0.8},\n",
       "  {'colsample_bytree': 1.0, 'subsample': 0.9},\n",
       "  {'colsample_bytree': 1.0, 'subsample': 1.0}],\n",
       " 'rank_test_score': array([ 2,  3,  5, 11, 20,  1, 13, 15, 17, 22,  9, 10, 14, 18, 23,  4,  7,\n",
       "        16, 19, 24,  8,  6, 12, 21, 25], dtype=int32),\n",
       " 'split0_test_score': array([-0.01547333, -0.01514415, -0.01560921, -0.01563603, -0.01580766,\n",
       "        -0.01531004, -0.01536805, -0.01561566, -0.01573438, -0.01623136,\n",
       "        -0.0158425 , -0.01537093, -0.01579872, -0.01555862, -0.01656048,\n",
       "        -0.0154076 , -0.01532996, -0.01593444, -0.01598741, -0.01663478,\n",
       "        -0.01565469, -0.01548473, -0.01585864, -0.01602479, -0.01620887]),\n",
       " 'split1_test_score': array([-0.0089488 , -0.0090953 , -0.00907444, -0.00941198, -0.00974607,\n",
       "        -0.00913283, -0.0089471 , -0.00921697, -0.00929441, -0.00943765,\n",
       "        -0.00871496, -0.00927809, -0.00937524, -0.00940658, -0.00954078,\n",
       "        -0.00873418, -0.00912526, -0.00930503, -0.00968732, -0.01003694,\n",
       "        -0.00887977, -0.00917801, -0.00922458, -0.00949021, -0.00978367]),\n",
       " 'split2_test_score': array([-0.01083794, -0.01076232, -0.01054861, -0.01060534, -0.01118785,\n",
       "        -0.01042817, -0.0109695 , -0.01096211, -0.01063991, -0.01093061,\n",
       "        -0.01053026, -0.01048916, -0.01074476, -0.0109045 , -0.01112324,\n",
       "        -0.01066441, -0.01072258, -0.01097423, -0.01082239, -0.01142363,\n",
       "        -0.0102888 , -0.0106093 , -0.01084426, -0.01122174, -0.0117619 ]),\n",
       " 'split3_test_score': array([-0.01824681, -0.01918503, -0.01922709, -0.01928885, -0.01996415,\n",
       "        -0.0183623 , -0.01911398, -0.01952775, -0.01929564, -0.02002049,\n",
       "        -0.0187695 , -0.01940583, -0.01917114, -0.01914189, -0.02045426,\n",
       "        -0.01912419, -0.01903111, -0.01931657, -0.01958357, -0.02078082,\n",
       "        -0.01909742, -0.01946569, -0.01960116, -0.01945223, -0.02084938]),\n",
       " 'split4_test_score': array([-0.01958192, -0.01981078, -0.01978218, -0.01972248, -0.02066932,\n",
       "        -0.01981358, -0.02034221, -0.02018531, -0.01998055, -0.0202918 ,\n",
       "        -0.01974987, -0.01987122, -0.01991181, -0.01999681, -0.02026106,\n",
       "        -0.01955894, -0.02006437, -0.01996061, -0.01994164, -0.02031854,\n",
       "        -0.02008128, -0.02010938, -0.01923676, -0.02039116, -0.02084108]),\n",
       " 'split5_test_score': array([-0.01152091, -0.01149265, -0.01159991, -0.01138596, -0.01115319,\n",
       "        -0.01154007, -0.01181523, -0.01151393, -0.01127698, -0.01137508,\n",
       "        -0.01170312, -0.01165867, -0.01140428, -0.01153862, -0.01138968,\n",
       "        -0.0118777 , -0.01195177, -0.01126418, -0.01122927, -0.01213978,\n",
       "        -0.01183368, -0.01161581, -0.0114747 , -0.01158724, -0.0118218 ]),\n",
       " 'split6_test_score': array([-0.01376321, -0.01324656, -0.01365005, -0.01364068, -0.01429063,\n",
       "        -0.01321554, -0.0135912 , -0.01331882, -0.01411229, -0.0144473 ,\n",
       "        -0.01376661, -0.01356884, -0.01370957, -0.01436818, -0.01501528,\n",
       "        -0.01348465, -0.01370164, -0.0138114 , -0.01461788, -0.01494154,\n",
       "        -0.01367758, -0.01353181, -0.01321653, -0.01418023, -0.01455903]),\n",
       " 'split7_test_score': array([-0.0104149 , -0.01004697, -0.01017898, -0.01090359, -0.01043527,\n",
       "        -0.01030289, -0.01021107, -0.01029843, -0.0112805 , -0.0113085 ,\n",
       "        -0.01006736, -0.01030142, -0.01043636, -0.01096128, -0.01141808,\n",
       "        -0.0100253 , -0.01035301, -0.01044616, -0.01136575, -0.01127571,\n",
       "        -0.010167  , -0.00995363, -0.01044406, -0.01148407, -0.01148151]),\n",
       " 'split8_test_score': array([-0.00911984, -0.00944506, -0.00949777, -0.00960689, -0.00991235,\n",
       "        -0.00932349, -0.00939861, -0.00958815, -0.00963683, -0.0099944 ,\n",
       "        -0.0093285 , -0.00934286, -0.00945575, -0.0097443 , -0.00970957,\n",
       "        -0.00908726, -0.0090757 , -0.00955414, -0.00952755, -0.00960257,\n",
       "        -0.00925928, -0.00915496, -0.00977219, -0.0097112 , -0.00994931]),\n",
       " 'split9_test_score': array([-0.01725341, -0.0170426 , -0.01679754, -0.01691457, -0.01737556,\n",
       "        -0.01758996, -0.01766039, -0.0175327 , -0.01719056, -0.01785293,\n",
       "        -0.01800929, -0.01747356, -0.01751351, -0.01745899, -0.01787836,\n",
       "        -0.01740822, -0.01699365, -0.01745741, -0.01745953, -0.01822307,\n",
       "        -0.01751781, -0.01690148, -0.01751786, -0.01798967, -0.01921129]),\n",
       " 'std_fit_time': array([0.1502324 , 0.08986717, 0.18047669, 0.20007194, 0.12139178,\n",
       "        0.16470858, 0.64426327, 0.1536962 , 0.1375773 , 1.17044561,\n",
       "        0.35657134, 0.1895533 , 0.24249303, 0.13663464, 0.20711514,\n",
       "        0.2627239 , 0.68827425, 0.33132195, 0.30696711, 0.18931357,\n",
       "        0.38515548, 1.23156817, 1.196964  , 0.77648306, 0.19702894]),\n",
       " 'std_score_time': array([0.00091038, 0.00072736, 0.00052427, 0.00333229, 0.00206758,\n",
       "        0.00170971, 0.00440161, 0.00078841, 0.00069505, 0.00331979,\n",
       "        0.00291431, 0.00115678, 0.00138989, 0.00104702, 0.00135664,\n",
       "        0.00060948, 0.00187212, 0.00111421, 0.00324932, 0.00178385,\n",
       "        0.00128172, 0.00098347, 0.00318427, 0.00418856, 0.00228442]),\n",
       " 'std_test_score': array([0.00371472, 0.00383076, 0.00382715, 0.00373472, 0.0039786 ,\n",
       "        0.00378949, 0.00395176, 0.00394106, 0.00379538, 0.00394861,\n",
       "        0.00395765, 0.0039019 , 0.00385763, 0.00375407, 0.00403004,\n",
       "        0.00390094, 0.00384479, 0.00387574, 0.00382217, 0.00401544,\n",
       "        0.00398468, 0.00395885, 0.00379619, 0.00385993, 0.00414924])}"
      ]
     },
     "execution_count": 10,
     "metadata": {
      "tags": []
     },
     "output_type": "execute_result"
    }
   ],
   "source": [
    "result"
   ]
  },
  {
   "cell_type": "markdown",
   "metadata": {
    "colab_type": "text",
    "id": "g0nh7Sla6vdH"
   },
   "source": [
    "#### 5、reg_alpha和reg_lambda"
   ]
  },
  {
   "cell_type": "code",
   "execution_count": 11,
   "metadata": {
    "colab": {
     "base_uri": "https://localhost:8080/",
     "height": 1000
    },
    "colab_type": "code",
    "executionInfo": {
     "elapsed": 5667343,
     "status": "ok",
     "timestamp": 1594015525313,
     "user": {
      "displayName": "Harold Ran",
      "photoUrl": "",
      "userId": "00745499557779892259"
     },
     "user_tz": -480
    },
    "id": "ZFzO6zTz611_",
    "outputId": "81b739da-892e-4588-bf0c-5fcd3ff17b87"
   },
   "outputs": [
    {
     "name": "stdout",
     "output_type": "stream",
     "text": [
      "Fitting 10 folds for each of 36 candidates, totalling 360 fits\n",
      "[03:47:09] WARNING: /workspace/src/objective/regression_obj.cu:152: reg:linear is now deprecated in favor of reg:squarederror.\n"
     ]
    },
    {
     "name": "stderr",
     "output_type": "stream",
     "text": [
      "[Parallel(n_jobs=1)]: Using backend SequentialBackend with 1 concurrent workers.\n"
     ]
    },
    {
     "name": "stdout",
     "output_type": "stream",
     "text": [
      "[03:47:34] WARNING: /workspace/src/objective/regression_obj.cu:152: reg:linear is now deprecated in favor of reg:squarederror.\n",
      "[03:47:58] WARNING: /workspace/src/objective/regression_obj.cu:152: reg:linear is now deprecated in favor of reg:squarederror.\n",
      "[03:48:23] WARNING: /workspace/src/objective/regression_obj.cu:152: reg:linear is now deprecated in favor of reg:squarederror.\n",
      "[03:48:47] WARNING: /workspace/src/objective/regression_obj.cu:152: reg:linear is now deprecated in favor of reg:squarederror.\n",
      "[03:49:11] WARNING: /workspace/src/objective/regression_obj.cu:152: reg:linear is now deprecated in favor of reg:squarederror.\n",
      "[03:49:36] WARNING: /workspace/src/objective/regression_obj.cu:152: reg:linear is now deprecated in favor of reg:squarederror.\n",
      "[03:50:01] WARNING: /workspace/src/objective/regression_obj.cu:152: reg:linear is now deprecated in favor of reg:squarederror.\n",
      "[03:50:25] WARNING: /workspace/src/objective/regression_obj.cu:152: reg:linear is now deprecated in favor of reg:squarederror.\n",
      "[03:50:49] WARNING: /workspace/src/objective/regression_obj.cu:152: reg:linear is now deprecated in favor of reg:squarederror.\n",
      "[03:51:14] WARNING: /workspace/src/objective/regression_obj.cu:152: reg:linear is now deprecated in favor of reg:squarederror.\n",
      "[03:51:38] WARNING: /workspace/src/objective/regression_obj.cu:152: reg:linear is now deprecated in favor of reg:squarederror.\n",
      "[03:52:03] WARNING: /workspace/src/objective/regression_obj.cu:152: reg:linear is now deprecated in favor of reg:squarederror.\n",
      "[03:52:28] WARNING: /workspace/src/objective/regression_obj.cu:152: reg:linear is now deprecated in favor of reg:squarederror.\n",
      "[03:52:52] WARNING: /workspace/src/objective/regression_obj.cu:152: reg:linear is now deprecated in favor of reg:squarederror.\n",
      "[03:53:16] WARNING: /workspace/src/objective/regression_obj.cu:152: reg:linear is now deprecated in favor of reg:squarederror.\n",
      "[03:53:40] WARNING: /workspace/src/objective/regression_obj.cu:152: reg:linear is now deprecated in favor of reg:squarederror.\n",
      "[03:54:05] WARNING: /workspace/src/objective/regression_obj.cu:152: reg:linear is now deprecated in favor of reg:squarederror.\n",
      "[03:54:29] WARNING: /workspace/src/objective/regression_obj.cu:152: reg:linear is now deprecated in favor of reg:squarederror.\n",
      "[03:54:53] WARNING: /workspace/src/objective/regression_obj.cu:152: reg:linear is now deprecated in favor of reg:squarederror.\n",
      "[03:55:18] WARNING: /workspace/src/objective/regression_obj.cu:152: reg:linear is now deprecated in favor of reg:squarederror.\n",
      "[03:55:41] WARNING: /workspace/src/objective/regression_obj.cu:152: reg:linear is now deprecated in favor of reg:squarederror.\n",
      "[03:56:05] WARNING: /workspace/src/objective/regression_obj.cu:152: reg:linear is now deprecated in favor of reg:squarederror.\n",
      "[03:56:29] WARNING: /workspace/src/objective/regression_obj.cu:152: reg:linear is now deprecated in favor of reg:squarederror.\n",
      "[03:56:53] WARNING: /workspace/src/objective/regression_obj.cu:152: reg:linear is now deprecated in favor of reg:squarederror.\n",
      "[03:57:17] WARNING: /workspace/src/objective/regression_obj.cu:152: reg:linear is now deprecated in favor of reg:squarederror.\n",
      "[03:57:41] WARNING: /workspace/src/objective/regression_obj.cu:152: reg:linear is now deprecated in favor of reg:squarederror.\n",
      "[03:58:04] WARNING: /workspace/src/objective/regression_obj.cu:152: reg:linear is now deprecated in favor of reg:squarederror.\n",
      "[03:58:28] WARNING: /workspace/src/objective/regression_obj.cu:152: reg:linear is now deprecated in favor of reg:squarederror.\n",
      "[03:58:52] WARNING: /workspace/src/objective/regression_obj.cu:152: reg:linear is now deprecated in favor of reg:squarederror.\n",
      "[03:59:16] WARNING: /workspace/src/objective/regression_obj.cu:152: reg:linear is now deprecated in favor of reg:squarederror.\n",
      "[03:59:39] WARNING: /workspace/src/objective/regression_obj.cu:152: reg:linear is now deprecated in favor of reg:squarederror.\n",
      "[04:00:03] WARNING: /workspace/src/objective/regression_obj.cu:152: reg:linear is now deprecated in favor of reg:squarederror.\n",
      "[04:00:27] WARNING: /workspace/src/objective/regression_obj.cu:152: reg:linear is now deprecated in favor of reg:squarederror.\n",
      "[04:00:51] WARNING: /workspace/src/objective/regression_obj.cu:152: reg:linear is now deprecated in favor of reg:squarederror.\n",
      "[04:01:15] WARNING: /workspace/src/objective/regression_obj.cu:152: reg:linear is now deprecated in favor of reg:squarederror.\n",
      "[04:01:39] WARNING: /workspace/src/objective/regression_obj.cu:152: reg:linear is now deprecated in favor of reg:squarederror.\n",
      "[04:02:03] WARNING: /workspace/src/objective/regression_obj.cu:152: reg:linear is now deprecated in favor of reg:squarederror.\n",
      "[04:02:27] WARNING: /workspace/src/objective/regression_obj.cu:152: reg:linear is now deprecated in favor of reg:squarederror.\n",
      "[04:02:51] WARNING: /workspace/src/objective/regression_obj.cu:152: reg:linear is now deprecated in favor of reg:squarederror.\n",
      "[04:03:15] WARNING: /workspace/src/objective/regression_obj.cu:152: reg:linear is now deprecated in favor of reg:squarederror.\n",
      "[04:03:38] WARNING: /workspace/src/objective/regression_obj.cu:152: reg:linear is now deprecated in favor of reg:squarederror.\n",
      "[04:04:02] WARNING: /workspace/src/objective/regression_obj.cu:152: reg:linear is now deprecated in favor of reg:squarederror.\n",
      "[04:04:25] WARNING: /workspace/src/objective/regression_obj.cu:152: reg:linear is now deprecated in favor of reg:squarederror.\n",
      "[04:04:49] WARNING: /workspace/src/objective/regression_obj.cu:152: reg:linear is now deprecated in favor of reg:squarederror.\n",
      "[04:05:13] WARNING: /workspace/src/objective/regression_obj.cu:152: reg:linear is now deprecated in favor of reg:squarederror.\n",
      "[04:05:37] WARNING: /workspace/src/objective/regression_obj.cu:152: reg:linear is now deprecated in favor of reg:squarederror.\n",
      "[04:06:01] WARNING: /workspace/src/objective/regression_obj.cu:152: reg:linear is now deprecated in favor of reg:squarederror.\n",
      "[04:06:25] WARNING: /workspace/src/objective/regression_obj.cu:152: reg:linear is now deprecated in favor of reg:squarederror.\n",
      "[04:06:48] WARNING: /workspace/src/objective/regression_obj.cu:152: reg:linear is now deprecated in favor of reg:squarederror.\n",
      "[04:07:12] WARNING: /workspace/src/objective/regression_obj.cu:152: reg:linear is now deprecated in favor of reg:squarederror.\n",
      "[04:07:36] WARNING: /workspace/src/objective/regression_obj.cu:152: reg:linear is now deprecated in favor of reg:squarederror.\n",
      "[04:07:59] WARNING: /workspace/src/objective/regression_obj.cu:152: reg:linear is now deprecated in favor of reg:squarederror.\n",
      "[04:08:23] WARNING: /workspace/src/objective/regression_obj.cu:152: reg:linear is now deprecated in favor of reg:squarederror.\n",
      "[04:08:46] WARNING: /workspace/src/objective/regression_obj.cu:152: reg:linear is now deprecated in favor of reg:squarederror.\n",
      "[04:09:09] WARNING: /workspace/src/objective/regression_obj.cu:152: reg:linear is now deprecated in favor of reg:squarederror.\n",
      "[04:09:33] WARNING: /workspace/src/objective/regression_obj.cu:152: reg:linear is now deprecated in favor of reg:squarederror.\n",
      "[04:09:56] WARNING: /workspace/src/objective/regression_obj.cu:152: reg:linear is now deprecated in favor of reg:squarederror.\n",
      "[04:10:19] WARNING: /workspace/src/objective/regression_obj.cu:152: reg:linear is now deprecated in favor of reg:squarederror.\n",
      "[04:10:43] WARNING: /workspace/src/objective/regression_obj.cu:152: reg:linear is now deprecated in favor of reg:squarederror.\n",
      "[04:11:06] WARNING: /workspace/src/objective/regression_obj.cu:152: reg:linear is now deprecated in favor of reg:squarederror.\n",
      "[04:11:30] WARNING: /workspace/src/objective/regression_obj.cu:152: reg:linear is now deprecated in favor of reg:squarederror.\n",
      "[04:11:55] WARNING: /workspace/src/objective/regression_obj.cu:152: reg:linear is now deprecated in favor of reg:squarederror.\n",
      "[04:12:19] WARNING: /workspace/src/objective/regression_obj.cu:152: reg:linear is now deprecated in favor of reg:squarederror.\n",
      "[04:12:44] WARNING: /workspace/src/objective/regression_obj.cu:152: reg:linear is now deprecated in favor of reg:squarederror.\n",
      "[04:13:09] WARNING: /workspace/src/objective/regression_obj.cu:152: reg:linear is now deprecated in favor of reg:squarederror.\n",
      "[04:13:34] WARNING: /workspace/src/objective/regression_obj.cu:152: reg:linear is now deprecated in favor of reg:squarederror.\n",
      "[04:13:58] WARNING: /workspace/src/objective/regression_obj.cu:152: reg:linear is now deprecated in favor of reg:squarederror.\n",
      "[04:14:22] WARNING: /workspace/src/objective/regression_obj.cu:152: reg:linear is now deprecated in favor of reg:squarederror.\n",
      "[04:14:47] WARNING: /workspace/src/objective/regression_obj.cu:152: reg:linear is now deprecated in favor of reg:squarederror.\n",
      "[04:15:11] WARNING: /workspace/src/objective/regression_obj.cu:152: reg:linear is now deprecated in favor of reg:squarederror.\n",
      "[04:15:35] WARNING: /workspace/src/objective/regression_obj.cu:152: reg:linear is now deprecated in favor of reg:squarederror.\n",
      "[04:16:00] WARNING: /workspace/src/objective/regression_obj.cu:152: reg:linear is now deprecated in favor of reg:squarederror.\n",
      "[04:16:24] WARNING: /workspace/src/objective/regression_obj.cu:152: reg:linear is now deprecated in favor of reg:squarederror.\n",
      "[04:16:48] WARNING: /workspace/src/objective/regression_obj.cu:152: reg:linear is now deprecated in favor of reg:squarederror.\n",
      "[04:17:13] WARNING: /workspace/src/objective/regression_obj.cu:152: reg:linear is now deprecated in favor of reg:squarederror.\n",
      "[04:17:37] WARNING: /workspace/src/objective/regression_obj.cu:152: reg:linear is now deprecated in favor of reg:squarederror.\n",
      "[04:18:02] WARNING: /workspace/src/objective/regression_obj.cu:152: reg:linear is now deprecated in favor of reg:squarederror.\n",
      "[04:18:26] WARNING: /workspace/src/objective/regression_obj.cu:152: reg:linear is now deprecated in favor of reg:squarederror.\n",
      "[04:18:51] WARNING: /workspace/src/objective/regression_obj.cu:152: reg:linear is now deprecated in favor of reg:squarederror.\n",
      "[04:19:15] WARNING: /workspace/src/objective/regression_obj.cu:152: reg:linear is now deprecated in favor of reg:squarederror.\n",
      "[04:19:39] WARNING: /workspace/src/objective/regression_obj.cu:152: reg:linear is now deprecated in favor of reg:squarederror.\n",
      "[04:20:03] WARNING: /workspace/src/objective/regression_obj.cu:152: reg:linear is now deprecated in favor of reg:squarederror.\n",
      "[04:20:27] WARNING: /workspace/src/objective/regression_obj.cu:152: reg:linear is now deprecated in favor of reg:squarederror.\n",
      "[04:20:51] WARNING: /workspace/src/objective/regression_obj.cu:152: reg:linear is now deprecated in favor of reg:squarederror.\n",
      "[04:21:15] WARNING: /workspace/src/objective/regression_obj.cu:152: reg:linear is now deprecated in favor of reg:squarederror.\n",
      "[04:21:39] WARNING: /workspace/src/objective/regression_obj.cu:152: reg:linear is now deprecated in favor of reg:squarederror.\n",
      "[04:22:03] WARNING: /workspace/src/objective/regression_obj.cu:152: reg:linear is now deprecated in favor of reg:squarederror.\n",
      "[04:22:27] WARNING: /workspace/src/objective/regression_obj.cu:152: reg:linear is now deprecated in favor of reg:squarederror.\n",
      "[04:22:51] WARNING: /workspace/src/objective/regression_obj.cu:152: reg:linear is now deprecated in favor of reg:squarederror.\n",
      "[04:23:15] WARNING: /workspace/src/objective/regression_obj.cu:152: reg:linear is now deprecated in favor of reg:squarederror.\n",
      "[04:23:39] WARNING: /workspace/src/objective/regression_obj.cu:152: reg:linear is now deprecated in favor of reg:squarederror.\n",
      "[04:24:03] WARNING: /workspace/src/objective/regression_obj.cu:152: reg:linear is now deprecated in favor of reg:squarederror.\n",
      "[04:24:27] WARNING: /workspace/src/objective/regression_obj.cu:152: reg:linear is now deprecated in favor of reg:squarederror.\n",
      "[04:24:51] WARNING: /workspace/src/objective/regression_obj.cu:152: reg:linear is now deprecated in favor of reg:squarederror.\n",
      "[04:25:15] WARNING: /workspace/src/objective/regression_obj.cu:152: reg:linear is now deprecated in favor of reg:squarederror.\n",
      "[04:25:39] WARNING: /workspace/src/objective/regression_obj.cu:152: reg:linear is now deprecated in favor of reg:squarederror.\n",
      "[04:26:02] WARNING: /workspace/src/objective/regression_obj.cu:152: reg:linear is now deprecated in favor of reg:squarederror.\n",
      "[04:26:26] WARNING: /workspace/src/objective/regression_obj.cu:152: reg:linear is now deprecated in favor of reg:squarederror.\n",
      "[04:26:50] WARNING: /workspace/src/objective/regression_obj.cu:152: reg:linear is now deprecated in favor of reg:squarederror.\n",
      "[04:27:14] WARNING: /workspace/src/objective/regression_obj.cu:152: reg:linear is now deprecated in favor of reg:squarederror.\n",
      "[04:27:38] WARNING: /workspace/src/objective/regression_obj.cu:152: reg:linear is now deprecated in favor of reg:squarederror.\n",
      "[04:28:02] WARNING: /workspace/src/objective/regression_obj.cu:152: reg:linear is now deprecated in favor of reg:squarederror.\n",
      "[04:28:27] WARNING: /workspace/src/objective/regression_obj.cu:152: reg:linear is now deprecated in favor of reg:squarederror.\n",
      "[04:28:52] WARNING: /workspace/src/objective/regression_obj.cu:152: reg:linear is now deprecated in favor of reg:squarederror.\n",
      "[04:29:17] WARNING: /workspace/src/objective/regression_obj.cu:152: reg:linear is now deprecated in favor of reg:squarederror.\n",
      "[04:29:45] WARNING: /workspace/src/objective/regression_obj.cu:152: reg:linear is now deprecated in favor of reg:squarederror.\n",
      "[04:30:10] WARNING: /workspace/src/objective/regression_obj.cu:152: reg:linear is now deprecated in favor of reg:squarederror.\n",
      "[04:30:34] WARNING: /workspace/src/objective/regression_obj.cu:152: reg:linear is now deprecated in favor of reg:squarederror.\n",
      "[04:30:58] WARNING: /workspace/src/objective/regression_obj.cu:152: reg:linear is now deprecated in favor of reg:squarederror.\n",
      "[04:31:22] WARNING: /workspace/src/objective/regression_obj.cu:152: reg:linear is now deprecated in favor of reg:squarederror.\n",
      "[04:31:45] WARNING: /workspace/src/objective/regression_obj.cu:152: reg:linear is now deprecated in favor of reg:squarederror.\n",
      "[04:32:09] WARNING: /workspace/src/objective/regression_obj.cu:152: reg:linear is now deprecated in favor of reg:squarederror.\n",
      "[04:32:33] WARNING: /workspace/src/objective/regression_obj.cu:152: reg:linear is now deprecated in favor of reg:squarederror.\n",
      "[04:32:57] WARNING: /workspace/src/objective/regression_obj.cu:152: reg:linear is now deprecated in favor of reg:squarederror.\n",
      "[04:33:20] WARNING: /workspace/src/objective/regression_obj.cu:152: reg:linear is now deprecated in favor of reg:squarederror.\n",
      "[04:33:44] WARNING: /workspace/src/objective/regression_obj.cu:152: reg:linear is now deprecated in favor of reg:squarederror.\n",
      "[04:34:07] WARNING: /workspace/src/objective/regression_obj.cu:152: reg:linear is now deprecated in favor of reg:squarederror.\n",
      "[04:34:31] WARNING: /workspace/src/objective/regression_obj.cu:152: reg:linear is now deprecated in favor of reg:squarederror.\n",
      "[04:34:54] WARNING: /workspace/src/objective/regression_obj.cu:152: reg:linear is now deprecated in favor of reg:squarederror.\n",
      "[04:35:18] WARNING: /workspace/src/objective/regression_obj.cu:152: reg:linear is now deprecated in favor of reg:squarederror.\n",
      "[04:35:42] WARNING: /workspace/src/objective/regression_obj.cu:152: reg:linear is now deprecated in favor of reg:squarederror.\n",
      "[04:36:06] WARNING: /workspace/src/objective/regression_obj.cu:152: reg:linear is now deprecated in favor of reg:squarederror.\n",
      "[04:36:30] WARNING: /workspace/src/objective/regression_obj.cu:152: reg:linear is now deprecated in favor of reg:squarederror.\n",
      "[04:36:53] WARNING: /workspace/src/objective/regression_obj.cu:152: reg:linear is now deprecated in favor of reg:squarederror.\n",
      "[04:37:17] WARNING: /workspace/src/objective/regression_obj.cu:152: reg:linear is now deprecated in favor of reg:squarederror.\n",
      "[04:37:41] WARNING: /workspace/src/objective/regression_obj.cu:152: reg:linear is now deprecated in favor of reg:squarederror.\n",
      "[04:38:05] WARNING: /workspace/src/objective/regression_obj.cu:152: reg:linear is now deprecated in favor of reg:squarederror.\n",
      "[04:38:29] WARNING: /workspace/src/objective/regression_obj.cu:152: reg:linear is now deprecated in favor of reg:squarederror.\n",
      "[04:38:53] WARNING: /workspace/src/objective/regression_obj.cu:152: reg:linear is now deprecated in favor of reg:squarederror.\n",
      "[04:39:17] WARNING: /workspace/src/objective/regression_obj.cu:152: reg:linear is now deprecated in favor of reg:squarederror.\n",
      "[04:39:42] WARNING: /workspace/src/objective/regression_obj.cu:152: reg:linear is now deprecated in favor of reg:squarederror.\n",
      "[04:40:08] WARNING: /workspace/src/objective/regression_obj.cu:152: reg:linear is now deprecated in favor of reg:squarederror.\n",
      "[04:40:32] WARNING: /workspace/src/objective/regression_obj.cu:152: reg:linear is now deprecated in favor of reg:squarederror.\n",
      "[04:40:56] WARNING: /workspace/src/objective/regression_obj.cu:152: reg:linear is now deprecated in favor of reg:squarederror.\n",
      "[04:41:20] WARNING: /workspace/src/objective/regression_obj.cu:152: reg:linear is now deprecated in favor of reg:squarederror.\n",
      "[04:41:44] WARNING: /workspace/src/objective/regression_obj.cu:152: reg:linear is now deprecated in favor of reg:squarederror.\n",
      "[04:42:08] WARNING: /workspace/src/objective/regression_obj.cu:152: reg:linear is now deprecated in favor of reg:squarederror.\n",
      "[04:42:32] WARNING: /workspace/src/objective/regression_obj.cu:152: reg:linear is now deprecated in favor of reg:squarederror.\n",
      "[04:42:56] WARNING: /workspace/src/objective/regression_obj.cu:152: reg:linear is now deprecated in favor of reg:squarederror.\n",
      "[04:43:21] WARNING: /workspace/src/objective/regression_obj.cu:152: reg:linear is now deprecated in favor of reg:squarederror.\n",
      "[04:43:45] WARNING: /workspace/src/objective/regression_obj.cu:152: reg:linear is now deprecated in favor of reg:squarederror.\n",
      "[04:44:08] WARNING: /workspace/src/objective/regression_obj.cu:152: reg:linear is now deprecated in favor of reg:squarederror.\n",
      "[04:44:32] WARNING: /workspace/src/objective/regression_obj.cu:152: reg:linear is now deprecated in favor of reg:squarederror.\n",
      "[04:44:57] WARNING: /workspace/src/objective/regression_obj.cu:152: reg:linear is now deprecated in favor of reg:squarederror.\n",
      "[04:45:21] WARNING: /workspace/src/objective/regression_obj.cu:152: reg:linear is now deprecated in favor of reg:squarederror.\n",
      "[04:45:45] WARNING: /workspace/src/objective/regression_obj.cu:152: reg:linear is now deprecated in favor of reg:squarederror.\n",
      "[04:46:09] WARNING: /workspace/src/objective/regression_obj.cu:152: reg:linear is now deprecated in favor of reg:squarederror.\n",
      "[04:46:32] WARNING: /workspace/src/objective/regression_obj.cu:152: reg:linear is now deprecated in favor of reg:squarederror.\n",
      "[04:46:56] WARNING: /workspace/src/objective/regression_obj.cu:152: reg:linear is now deprecated in favor of reg:squarederror.\n",
      "[04:47:20] WARNING: /workspace/src/objective/regression_obj.cu:152: reg:linear is now deprecated in favor of reg:squarederror.\n",
      "[04:47:44] WARNING: /workspace/src/objective/regression_obj.cu:152: reg:linear is now deprecated in favor of reg:squarederror.\n",
      "[04:48:07] WARNING: /workspace/src/objective/regression_obj.cu:152: reg:linear is now deprecated in favor of reg:squarederror.\n",
      "[04:48:31] WARNING: /workspace/src/objective/regression_obj.cu:152: reg:linear is now deprecated in favor of reg:squarederror.\n",
      "[04:48:54] WARNING: /workspace/src/objective/regression_obj.cu:152: reg:linear is now deprecated in favor of reg:squarederror.\n",
      "[04:49:18] WARNING: /workspace/src/objective/regression_obj.cu:152: reg:linear is now deprecated in favor of reg:squarederror.\n",
      "[04:49:42] WARNING: /workspace/src/objective/regression_obj.cu:152: reg:linear is now deprecated in favor of reg:squarederror.\n",
      "[04:50:05] WARNING: /workspace/src/objective/regression_obj.cu:152: reg:linear is now deprecated in favor of reg:squarederror.\n",
      "[04:50:29] WARNING: /workspace/src/objective/regression_obj.cu:152: reg:linear is now deprecated in favor of reg:squarederror.\n",
      "[04:50:52] WARNING: /workspace/src/objective/regression_obj.cu:152: reg:linear is now deprecated in favor of reg:squarederror.\n",
      "[04:51:16] WARNING: /workspace/src/objective/regression_obj.cu:152: reg:linear is now deprecated in favor of reg:squarederror.\n",
      "[04:51:40] WARNING: /workspace/src/objective/regression_obj.cu:152: reg:linear is now deprecated in favor of reg:squarederror.\n",
      "[04:52:03] WARNING: /workspace/src/objective/regression_obj.cu:152: reg:linear is now deprecated in favor of reg:squarederror.\n",
      "[04:52:27] WARNING: /workspace/src/objective/regression_obj.cu:152: reg:linear is now deprecated in favor of reg:squarederror.\n",
      "[04:52:50] WARNING: /workspace/src/objective/regression_obj.cu:152: reg:linear is now deprecated in favor of reg:squarederror.\n",
      "[04:53:14] WARNING: /workspace/src/objective/regression_obj.cu:152: reg:linear is now deprecated in favor of reg:squarederror.\n",
      "[04:53:38] WARNING: /workspace/src/objective/regression_obj.cu:152: reg:linear is now deprecated in favor of reg:squarederror.\n",
      "[04:54:01] WARNING: /workspace/src/objective/regression_obj.cu:152: reg:linear is now deprecated in favor of reg:squarederror.\n",
      "[04:54:25] WARNING: /workspace/src/objective/regression_obj.cu:152: reg:linear is now deprecated in favor of reg:squarederror.\n",
      "[04:54:49] WARNING: /workspace/src/objective/regression_obj.cu:152: reg:linear is now deprecated in favor of reg:squarederror.\n",
      "[04:55:13] WARNING: /workspace/src/objective/regression_obj.cu:152: reg:linear is now deprecated in favor of reg:squarederror.\n",
      "[04:55:37] WARNING: /workspace/src/objective/regression_obj.cu:152: reg:linear is now deprecated in favor of reg:squarederror.\n",
      "[04:56:00] WARNING: /workspace/src/objective/regression_obj.cu:152: reg:linear is now deprecated in favor of reg:squarederror.\n",
      "[04:56:23] WARNING: /workspace/src/objective/regression_obj.cu:152: reg:linear is now deprecated in favor of reg:squarederror.\n",
      "[04:56:47] WARNING: /workspace/src/objective/regression_obj.cu:152: reg:linear is now deprecated in favor of reg:squarederror.\n",
      "[04:57:10] WARNING: /workspace/src/objective/regression_obj.cu:152: reg:linear is now deprecated in favor of reg:squarederror.\n",
      "[04:57:34] WARNING: /workspace/src/objective/regression_obj.cu:152: reg:linear is now deprecated in favor of reg:squarederror.\n",
      "[04:57:57] WARNING: /workspace/src/objective/regression_obj.cu:152: reg:linear is now deprecated in favor of reg:squarederror.\n",
      "[04:58:21] WARNING: /workspace/src/objective/regression_obj.cu:152: reg:linear is now deprecated in favor of reg:squarederror.\n",
      "[04:58:44] WARNING: /workspace/src/objective/regression_obj.cu:152: reg:linear is now deprecated in favor of reg:squarederror.\n",
      "[04:59:08] WARNING: /workspace/src/objective/regression_obj.cu:152: reg:linear is now deprecated in favor of reg:squarederror.\n",
      "[04:59:31] WARNING: /workspace/src/objective/regression_obj.cu:152: reg:linear is now deprecated in favor of reg:squarederror.\n",
      "[04:59:55] WARNING: /workspace/src/objective/regression_obj.cu:152: reg:linear is now deprecated in favor of reg:squarederror.\n",
      "[05:00:18] WARNING: /workspace/src/objective/regression_obj.cu:152: reg:linear is now deprecated in favor of reg:squarederror.\n",
      "[05:00:43] WARNING: /workspace/src/objective/regression_obj.cu:152: reg:linear is now deprecated in favor of reg:squarederror.\n",
      "[05:01:06] WARNING: /workspace/src/objective/regression_obj.cu:152: reg:linear is now deprecated in favor of reg:squarederror.\n",
      "[05:01:29] WARNING: /workspace/src/objective/regression_obj.cu:152: reg:linear is now deprecated in favor of reg:squarederror.\n",
      "[05:01:53] WARNING: /workspace/src/objective/regression_obj.cu:152: reg:linear is now deprecated in favor of reg:squarederror.\n",
      "[05:02:16] WARNING: /workspace/src/objective/regression_obj.cu:152: reg:linear is now deprecated in favor of reg:squarederror.\n",
      "[05:02:40] WARNING: /workspace/src/objective/regression_obj.cu:152: reg:linear is now deprecated in favor of reg:squarederror.\n",
      "[05:03:03] WARNING: /workspace/src/objective/regression_obj.cu:152: reg:linear is now deprecated in favor of reg:squarederror.\n",
      "[05:03:27] WARNING: /workspace/src/objective/regression_obj.cu:152: reg:linear is now deprecated in favor of reg:squarederror.\n",
      "[05:03:51] WARNING: /workspace/src/objective/regression_obj.cu:152: reg:linear is now deprecated in favor of reg:squarederror.\n",
      "[05:04:15] WARNING: /workspace/src/objective/regression_obj.cu:152: reg:linear is now deprecated in favor of reg:squarederror.\n",
      "[05:04:38] WARNING: /workspace/src/objective/regression_obj.cu:152: reg:linear is now deprecated in favor of reg:squarederror.\n",
      "[05:05:01] WARNING: /workspace/src/objective/regression_obj.cu:152: reg:linear is now deprecated in favor of reg:squarederror.\n",
      "[05:05:25] WARNING: /workspace/src/objective/regression_obj.cu:152: reg:linear is now deprecated in favor of reg:squarederror.\n",
      "[05:05:49] WARNING: /workspace/src/objective/regression_obj.cu:152: reg:linear is now deprecated in favor of reg:squarederror.\n",
      "[05:06:13] WARNING: /workspace/src/objective/regression_obj.cu:152: reg:linear is now deprecated in favor of reg:squarederror.\n",
      "[05:06:36] WARNING: /workspace/src/objective/regression_obj.cu:152: reg:linear is now deprecated in favor of reg:squarederror.\n",
      "[05:06:59] WARNING: /workspace/src/objective/regression_obj.cu:152: reg:linear is now deprecated in favor of reg:squarederror.\n",
      "[05:07:23] WARNING: /workspace/src/objective/regression_obj.cu:152: reg:linear is now deprecated in favor of reg:squarederror.\n",
      "[05:07:47] WARNING: /workspace/src/objective/regression_obj.cu:152: reg:linear is now deprecated in favor of reg:squarederror.\n",
      "[05:08:10] WARNING: /workspace/src/objective/regression_obj.cu:152: reg:linear is now deprecated in favor of reg:squarederror.\n",
      "[05:08:34] WARNING: /workspace/src/objective/regression_obj.cu:152: reg:linear is now deprecated in favor of reg:squarederror.\n",
      "[05:08:58] WARNING: /workspace/src/objective/regression_obj.cu:152: reg:linear is now deprecated in favor of reg:squarederror.\n",
      "[05:09:22] WARNING: /workspace/src/objective/regression_obj.cu:152: reg:linear is now deprecated in favor of reg:squarederror.\n",
      "[05:09:46] WARNING: /workspace/src/objective/regression_obj.cu:152: reg:linear is now deprecated in favor of reg:squarederror.\n",
      "[05:10:09] WARNING: /workspace/src/objective/regression_obj.cu:152: reg:linear is now deprecated in favor of reg:squarederror.\n",
      "[05:10:33] WARNING: /workspace/src/objective/regression_obj.cu:152: reg:linear is now deprecated in favor of reg:squarederror.\n",
      "[05:10:58] WARNING: /workspace/src/objective/regression_obj.cu:152: reg:linear is now deprecated in favor of reg:squarederror.\n",
      "[05:11:22] WARNING: /workspace/src/objective/regression_obj.cu:152: reg:linear is now deprecated in favor of reg:squarederror.\n",
      "[05:11:45] WARNING: /workspace/src/objective/regression_obj.cu:152: reg:linear is now deprecated in favor of reg:squarederror.\n",
      "[05:12:08] WARNING: /workspace/src/objective/regression_obj.cu:152: reg:linear is now deprecated in favor of reg:squarederror.\n",
      "[05:12:32] WARNING: /workspace/src/objective/regression_obj.cu:152: reg:linear is now deprecated in favor of reg:squarederror.\n",
      "[05:12:55] WARNING: /workspace/src/objective/regression_obj.cu:152: reg:linear is now deprecated in favor of reg:squarederror.\n",
      "[05:13:18] WARNING: /workspace/src/objective/regression_obj.cu:152: reg:linear is now deprecated in favor of reg:squarederror.\n",
      "[05:13:41] WARNING: /workspace/src/objective/regression_obj.cu:152: reg:linear is now deprecated in favor of reg:squarederror.\n",
      "[05:14:05] WARNING: /workspace/src/objective/regression_obj.cu:152: reg:linear is now deprecated in favor of reg:squarederror.\n",
      "[05:14:28] WARNING: /workspace/src/objective/regression_obj.cu:152: reg:linear is now deprecated in favor of reg:squarederror.\n",
      "[05:14:51] WARNING: /workspace/src/objective/regression_obj.cu:152: reg:linear is now deprecated in favor of reg:squarederror.\n",
      "[05:15:15] WARNING: /workspace/src/objective/regression_obj.cu:152: reg:linear is now deprecated in favor of reg:squarederror.\n",
      "[05:15:38] WARNING: /workspace/src/objective/regression_obj.cu:152: reg:linear is now deprecated in favor of reg:squarederror.\n",
      "[05:16:01] WARNING: /workspace/src/objective/regression_obj.cu:152: reg:linear is now deprecated in favor of reg:squarederror.\n",
      "[05:16:24] WARNING: /workspace/src/objective/regression_obj.cu:152: reg:linear is now deprecated in favor of reg:squarederror.\n",
      "[05:16:48] WARNING: /workspace/src/objective/regression_obj.cu:152: reg:linear is now deprecated in favor of reg:squarederror.\n",
      "[05:17:11] WARNING: /workspace/src/objective/regression_obj.cu:152: reg:linear is now deprecated in favor of reg:squarederror.\n",
      "[05:17:34] WARNING: /workspace/src/objective/regression_obj.cu:152: reg:linear is now deprecated in favor of reg:squarederror.\n",
      "[05:17:57] WARNING: /workspace/src/objective/regression_obj.cu:152: reg:linear is now deprecated in favor of reg:squarederror.\n",
      "[05:18:20] WARNING: /workspace/src/objective/regression_obj.cu:152: reg:linear is now deprecated in favor of reg:squarederror.\n",
      "[05:18:43] WARNING: /workspace/src/objective/regression_obj.cu:152: reg:linear is now deprecated in favor of reg:squarederror.\n",
      "[05:19:07] WARNING: /workspace/src/objective/regression_obj.cu:152: reg:linear is now deprecated in favor of reg:squarederror.\n",
      "[05:19:30] WARNING: /workspace/src/objective/regression_obj.cu:152: reg:linear is now deprecated in favor of reg:squarederror.\n",
      "[05:19:53] WARNING: /workspace/src/objective/regression_obj.cu:152: reg:linear is now deprecated in favor of reg:squarederror.\n",
      "[05:20:16] WARNING: /workspace/src/objective/regression_obj.cu:152: reg:linear is now deprecated in favor of reg:squarederror.\n",
      "[05:20:39] WARNING: /workspace/src/objective/regression_obj.cu:152: reg:linear is now deprecated in favor of reg:squarederror.\n",
      "[05:21:02] WARNING: /workspace/src/objective/regression_obj.cu:152: reg:linear is now deprecated in favor of reg:squarederror.\n",
      "[05:21:25] WARNING: /workspace/src/objective/regression_obj.cu:152: reg:linear is now deprecated in favor of reg:squarederror.\n",
      "[05:21:49] WARNING: /workspace/src/objective/regression_obj.cu:152: reg:linear is now deprecated in favor of reg:squarederror.\n",
      "[05:22:12] WARNING: /workspace/src/objective/regression_obj.cu:152: reg:linear is now deprecated in favor of reg:squarederror.\n",
      "[05:22:35] WARNING: /workspace/src/objective/regression_obj.cu:152: reg:linear is now deprecated in favor of reg:squarederror.\n",
      "[05:22:57] WARNING: /workspace/src/objective/regression_obj.cu:152: reg:linear is now deprecated in favor of reg:squarederror.\n",
      "[05:23:19] WARNING: /workspace/src/objective/regression_obj.cu:152: reg:linear is now deprecated in favor of reg:squarederror.\n",
      "[05:23:42] WARNING: /workspace/src/objective/regression_obj.cu:152: reg:linear is now deprecated in favor of reg:squarederror.\n",
      "[05:24:04] WARNING: /workspace/src/objective/regression_obj.cu:152: reg:linear is now deprecated in favor of reg:squarederror.\n",
      "[05:24:26] WARNING: /workspace/src/objective/regression_obj.cu:152: reg:linear is now deprecated in favor of reg:squarederror.\n",
      "[05:24:48] WARNING: /workspace/src/objective/regression_obj.cu:152: reg:linear is now deprecated in favor of reg:squarederror.\n",
      "[05:25:10] WARNING: /workspace/src/objective/regression_obj.cu:152: reg:linear is now deprecated in favor of reg:squarederror.\n",
      "[05:25:32] WARNING: /workspace/src/objective/regression_obj.cu:152: reg:linear is now deprecated in favor of reg:squarederror.\n",
      "[05:25:55] WARNING: /workspace/src/objective/regression_obj.cu:152: reg:linear is now deprecated in favor of reg:squarederror.\n",
      "[05:26:17] WARNING: /workspace/src/objective/regression_obj.cu:152: reg:linear is now deprecated in favor of reg:squarederror.\n",
      "[05:26:39] WARNING: /workspace/src/objective/regression_obj.cu:152: reg:linear is now deprecated in favor of reg:squarederror.\n",
      "[05:27:02] WARNING: /workspace/src/objective/regression_obj.cu:152: reg:linear is now deprecated in favor of reg:squarederror.\n",
      "[05:27:24] WARNING: /workspace/src/objective/regression_obj.cu:152: reg:linear is now deprecated in favor of reg:squarederror.\n",
      "[05:27:46] WARNING: /workspace/src/objective/regression_obj.cu:152: reg:linear is now deprecated in favor of reg:squarederror.\n",
      "[05:28:08] WARNING: /workspace/src/objective/regression_obj.cu:152: reg:linear is now deprecated in favor of reg:squarederror.\n",
      "[05:28:31] WARNING: /workspace/src/objective/regression_obj.cu:152: reg:linear is now deprecated in favor of reg:squarederror.\n",
      "[05:28:53] WARNING: /workspace/src/objective/regression_obj.cu:152: reg:linear is now deprecated in favor of reg:squarederror.\n",
      "[05:29:16] WARNING: /workspace/src/objective/regression_obj.cu:152: reg:linear is now deprecated in favor of reg:squarederror.\n",
      "[05:29:38] WARNING: /workspace/src/objective/regression_obj.cu:152: reg:linear is now deprecated in favor of reg:squarederror.\n",
      "[05:30:00] WARNING: /workspace/src/objective/regression_obj.cu:152: reg:linear is now deprecated in favor of reg:squarederror.\n",
      "[05:30:23] WARNING: /workspace/src/objective/regression_obj.cu:152: reg:linear is now deprecated in favor of reg:squarederror.\n",
      "[05:30:45] WARNING: /workspace/src/objective/regression_obj.cu:152: reg:linear is now deprecated in favor of reg:squarederror.\n",
      "[05:31:07] WARNING: /workspace/src/objective/regression_obj.cu:152: reg:linear is now deprecated in favor of reg:squarederror.\n",
      "[05:31:29] WARNING: /workspace/src/objective/regression_obj.cu:152: reg:linear is now deprecated in favor of reg:squarederror.\n",
      "[05:31:52] WARNING: /workspace/src/objective/regression_obj.cu:152: reg:linear is now deprecated in favor of reg:squarederror.\n",
      "[05:32:15] WARNING: /workspace/src/objective/regression_obj.cu:152: reg:linear is now deprecated in favor of reg:squarederror.\n",
      "[05:32:38] WARNING: /workspace/src/objective/regression_obj.cu:152: reg:linear is now deprecated in favor of reg:squarederror.\n",
      "[05:33:01] WARNING: /workspace/src/objective/regression_obj.cu:152: reg:linear is now deprecated in favor of reg:squarederror.\n",
      "[05:33:23] WARNING: /workspace/src/objective/regression_obj.cu:152: reg:linear is now deprecated in favor of reg:squarederror.\n",
      "[05:33:46] WARNING: /workspace/src/objective/regression_obj.cu:152: reg:linear is now deprecated in favor of reg:squarederror.\n",
      "[05:34:08] WARNING: /workspace/src/objective/regression_obj.cu:152: reg:linear is now deprecated in favor of reg:squarederror.\n",
      "[05:34:32] WARNING: /workspace/src/objective/regression_obj.cu:152: reg:linear is now deprecated in favor of reg:squarederror.\n",
      "[05:34:57] WARNING: /workspace/src/objective/regression_obj.cu:152: reg:linear is now deprecated in favor of reg:squarederror.\n",
      "[05:35:19] WARNING: /workspace/src/objective/regression_obj.cu:152: reg:linear is now deprecated in favor of reg:squarederror.\n",
      "[05:35:41] WARNING: /workspace/src/objective/regression_obj.cu:152: reg:linear is now deprecated in favor of reg:squarederror.\n",
      "[05:36:03] WARNING: /workspace/src/objective/regression_obj.cu:152: reg:linear is now deprecated in favor of reg:squarederror.\n",
      "[05:36:25] WARNING: /workspace/src/objective/regression_obj.cu:152: reg:linear is now deprecated in favor of reg:squarederror.\n",
      "[05:36:48] WARNING: /workspace/src/objective/regression_obj.cu:152: reg:linear is now deprecated in favor of reg:squarederror.\n",
      "[05:37:10] WARNING: /workspace/src/objective/regression_obj.cu:152: reg:linear is now deprecated in favor of reg:squarederror.\n",
      "[05:37:32] WARNING: /workspace/src/objective/regression_obj.cu:152: reg:linear is now deprecated in favor of reg:squarederror.\n",
      "[05:37:55] WARNING: /workspace/src/objective/regression_obj.cu:152: reg:linear is now deprecated in favor of reg:squarederror.\n",
      "[05:38:17] WARNING: /workspace/src/objective/regression_obj.cu:152: reg:linear is now deprecated in favor of reg:squarederror.\n",
      "[05:38:39] WARNING: /workspace/src/objective/regression_obj.cu:152: reg:linear is now deprecated in favor of reg:squarederror.\n",
      "[05:39:01] WARNING: /workspace/src/objective/regression_obj.cu:152: reg:linear is now deprecated in favor of reg:squarederror.\n",
      "[05:39:23] WARNING: /workspace/src/objective/regression_obj.cu:152: reg:linear is now deprecated in favor of reg:squarederror.\n",
      "[05:39:46] WARNING: /workspace/src/objective/regression_obj.cu:152: reg:linear is now deprecated in favor of reg:squarederror.\n",
      "[05:40:09] WARNING: /workspace/src/objective/regression_obj.cu:152: reg:linear is now deprecated in favor of reg:squarederror.\n",
      "[05:40:31] WARNING: /workspace/src/objective/regression_obj.cu:152: reg:linear is now deprecated in favor of reg:squarederror.\n",
      "[05:40:53] WARNING: /workspace/src/objective/regression_obj.cu:152: reg:linear is now deprecated in favor of reg:squarederror.\n",
      "[05:41:16] WARNING: /workspace/src/objective/regression_obj.cu:152: reg:linear is now deprecated in favor of reg:squarederror.\n",
      "[05:41:38] WARNING: /workspace/src/objective/regression_obj.cu:152: reg:linear is now deprecated in favor of reg:squarederror.\n",
      "[05:42:00] WARNING: /workspace/src/objective/regression_obj.cu:152: reg:linear is now deprecated in favor of reg:squarederror.\n",
      "[05:42:22] WARNING: /workspace/src/objective/regression_obj.cu:152: reg:linear is now deprecated in favor of reg:squarederror.\n",
      "[05:42:45] WARNING: /workspace/src/objective/regression_obj.cu:152: reg:linear is now deprecated in favor of reg:squarederror.\n",
      "[05:43:07] WARNING: /workspace/src/objective/regression_obj.cu:152: reg:linear is now deprecated in favor of reg:squarederror.\n",
      "[05:43:29] WARNING: /workspace/src/objective/regression_obj.cu:152: reg:linear is now deprecated in favor of reg:squarederror.\n",
      "[05:43:51] WARNING: /workspace/src/objective/regression_obj.cu:152: reg:linear is now deprecated in favor of reg:squarederror.\n",
      "[05:44:14] WARNING: /workspace/src/objective/regression_obj.cu:152: reg:linear is now deprecated in favor of reg:squarederror.\n",
      "[05:44:36] WARNING: /workspace/src/objective/regression_obj.cu:152: reg:linear is now deprecated in favor of reg:squarederror.\n",
      "[05:45:01] WARNING: /workspace/src/objective/regression_obj.cu:152: reg:linear is now deprecated in favor of reg:squarederror.\n",
      "[05:45:21] WARNING: /workspace/src/objective/regression_obj.cu:152: reg:linear is now deprecated in favor of reg:squarederror.\n",
      "[05:45:41] WARNING: /workspace/src/objective/regression_obj.cu:152: reg:linear is now deprecated in favor of reg:squarederror.\n",
      "[05:46:01] WARNING: /workspace/src/objective/regression_obj.cu:152: reg:linear is now deprecated in favor of reg:squarederror.\n",
      "[05:46:21] WARNING: /workspace/src/objective/regression_obj.cu:152: reg:linear is now deprecated in favor of reg:squarederror.\n",
      "[05:46:41] WARNING: /workspace/src/objective/regression_obj.cu:152: reg:linear is now deprecated in favor of reg:squarederror.\n",
      "[05:47:00] WARNING: /workspace/src/objective/regression_obj.cu:152: reg:linear is now deprecated in favor of reg:squarederror.\n",
      "[05:47:20] WARNING: /workspace/src/objective/regression_obj.cu:152: reg:linear is now deprecated in favor of reg:squarederror.\n",
      "[05:47:40] WARNING: /workspace/src/objective/regression_obj.cu:152: reg:linear is now deprecated in favor of reg:squarederror.\n",
      "[05:48:00] WARNING: /workspace/src/objective/regression_obj.cu:152: reg:linear is now deprecated in favor of reg:squarederror.\n",
      "[05:48:21] WARNING: /workspace/src/objective/regression_obj.cu:152: reg:linear is now deprecated in favor of reg:squarederror.\n",
      "[05:48:40] WARNING: /workspace/src/objective/regression_obj.cu:152: reg:linear is now deprecated in favor of reg:squarederror.\n",
      "[05:49:00] WARNING: /workspace/src/objective/regression_obj.cu:152: reg:linear is now deprecated in favor of reg:squarederror.\n",
      "[05:49:20] WARNING: /workspace/src/objective/regression_obj.cu:152: reg:linear is now deprecated in favor of reg:squarederror.\n",
      "[05:49:40] WARNING: /workspace/src/objective/regression_obj.cu:152: reg:linear is now deprecated in favor of reg:squarederror.\n",
      "[05:50:00] WARNING: /workspace/src/objective/regression_obj.cu:152: reg:linear is now deprecated in favor of reg:squarederror.\n",
      "[05:50:20] WARNING: /workspace/src/objective/regression_obj.cu:152: reg:linear is now deprecated in favor of reg:squarederror.\n",
      "[05:50:40] WARNING: /workspace/src/objective/regression_obj.cu:152: reg:linear is now deprecated in favor of reg:squarederror.\n",
      "[05:51:00] WARNING: /workspace/src/objective/regression_obj.cu:152: reg:linear is now deprecated in favor of reg:squarederror.\n",
      "[05:51:20] WARNING: /workspace/src/objective/regression_obj.cu:152: reg:linear is now deprecated in favor of reg:squarederror.\n",
      "[05:51:39] WARNING: /workspace/src/objective/regression_obj.cu:152: reg:linear is now deprecated in favor of reg:squarederror.\n",
      "[05:51:59] WARNING: /workspace/src/objective/regression_obj.cu:152: reg:linear is now deprecated in favor of reg:squarederror.\n",
      "[05:52:19] WARNING: /workspace/src/objective/regression_obj.cu:152: reg:linear is now deprecated in favor of reg:squarederror.\n",
      "[05:52:39] WARNING: /workspace/src/objective/regression_obj.cu:152: reg:linear is now deprecated in favor of reg:squarederror.\n",
      "[05:52:59] WARNING: /workspace/src/objective/regression_obj.cu:152: reg:linear is now deprecated in favor of reg:squarederror.\n",
      "[05:53:18] WARNING: /workspace/src/objective/regression_obj.cu:152: reg:linear is now deprecated in favor of reg:squarederror.\n",
      "[05:53:39] WARNING: /workspace/src/objective/regression_obj.cu:152: reg:linear is now deprecated in favor of reg:squarederror.\n",
      "[05:53:59] WARNING: /workspace/src/objective/regression_obj.cu:152: reg:linear is now deprecated in favor of reg:squarederror.\n",
      "[05:54:19] WARNING: /workspace/src/objective/regression_obj.cu:152: reg:linear is now deprecated in favor of reg:squarederror.\n",
      "[05:54:39] WARNING: /workspace/src/objective/regression_obj.cu:152: reg:linear is now deprecated in favor of reg:squarederror.\n",
      "[05:55:00] WARNING: /workspace/src/objective/regression_obj.cu:152: reg:linear is now deprecated in favor of reg:squarederror.\n",
      "[05:55:20] WARNING: /workspace/src/objective/regression_obj.cu:152: reg:linear is now deprecated in favor of reg:squarederror.\n",
      "[05:55:40] WARNING: /workspace/src/objective/regression_obj.cu:152: reg:linear is now deprecated in favor of reg:squarederror.\n",
      "[05:56:00] WARNING: /workspace/src/objective/regression_obj.cu:152: reg:linear is now deprecated in favor of reg:squarederror.\n",
      "[05:56:20] WARNING: /workspace/src/objective/regression_obj.cu:152: reg:linear is now deprecated in favor of reg:squarederror.\n",
      "[05:56:39] WARNING: /workspace/src/objective/regression_obj.cu:152: reg:linear is now deprecated in favor of reg:squarederror.\n",
      "[05:56:59] WARNING: /workspace/src/objective/regression_obj.cu:152: reg:linear is now deprecated in favor of reg:squarederror.\n",
      "[05:57:19] WARNING: /workspace/src/objective/regression_obj.cu:152: reg:linear is now deprecated in favor of reg:squarederror.\n",
      "[05:57:39] WARNING: /workspace/src/objective/regression_obj.cu:152: reg:linear is now deprecated in favor of reg:squarederror.\n",
      "[05:57:59] WARNING: /workspace/src/objective/regression_obj.cu:152: reg:linear is now deprecated in favor of reg:squarederror.\n",
      "[05:58:18] WARNING: /workspace/src/objective/regression_obj.cu:152: reg:linear is now deprecated in favor of reg:squarederror.\n",
      "[05:58:39] WARNING: /workspace/src/objective/regression_obj.cu:152: reg:linear is now deprecated in favor of reg:squarederror.\n",
      "[05:58:59] WARNING: /workspace/src/objective/regression_obj.cu:152: reg:linear is now deprecated in favor of reg:squarederror.\n",
      "[05:59:19] WARNING: /workspace/src/objective/regression_obj.cu:152: reg:linear is now deprecated in favor of reg:squarederror.\n",
      "[05:59:38] WARNING: /workspace/src/objective/regression_obj.cu:152: reg:linear is now deprecated in favor of reg:squarederror.\n",
      "[05:59:58] WARNING: /workspace/src/objective/regression_obj.cu:152: reg:linear is now deprecated in favor of reg:squarederror.\n",
      "[06:00:19] WARNING: /workspace/src/objective/regression_obj.cu:152: reg:linear is now deprecated in favor of reg:squarederror.\n",
      "[06:00:38] WARNING: /workspace/src/objective/regression_obj.cu:152: reg:linear is now deprecated in favor of reg:squarederror.\n",
      "[06:00:58] WARNING: /workspace/src/objective/regression_obj.cu:152: reg:linear is now deprecated in favor of reg:squarederror.\n",
      "[06:01:18] WARNING: /workspace/src/objective/regression_obj.cu:152: reg:linear is now deprecated in favor of reg:squarederror.\n",
      "[06:01:38] WARNING: /workspace/src/objective/regression_obj.cu:152: reg:linear is now deprecated in favor of reg:squarederror.\n",
      "[06:01:58] WARNING: /workspace/src/objective/regression_obj.cu:152: reg:linear is now deprecated in favor of reg:squarederror.\n",
      "[06:02:18] WARNING: /workspace/src/objective/regression_obj.cu:152: reg:linear is now deprecated in favor of reg:squarederror.\n",
      "[06:02:38] WARNING: /workspace/src/objective/regression_obj.cu:152: reg:linear is now deprecated in favor of reg:squarederror.\n",
      "[06:02:57] WARNING: /workspace/src/objective/regression_obj.cu:152: reg:linear is now deprecated in favor of reg:squarederror.\n",
      "[06:03:17] WARNING: /workspace/src/objective/regression_obj.cu:152: reg:linear is now deprecated in favor of reg:squarederror.\n",
      "[06:03:37] WARNING: /workspace/src/objective/regression_obj.cu:152: reg:linear is now deprecated in favor of reg:squarederror.\n",
      "[06:03:57] WARNING: /workspace/src/objective/regression_obj.cu:152: reg:linear is now deprecated in favor of reg:squarederror.\n",
      "[06:04:18] WARNING: /workspace/src/objective/regression_obj.cu:152: reg:linear is now deprecated in favor of reg:squarederror.\n",
      "[06:04:38] WARNING: /workspace/src/objective/regression_obj.cu:152: reg:linear is now deprecated in favor of reg:squarederror.\n"
     ]
    },
    {
     "name": "stderr",
     "output_type": "stream",
     "text": [
      "[Parallel(n_jobs=1)]: Done 360 out of 360 | elapsed: 137.8min finished\n"
     ]
    },
    {
     "name": "stdout",
     "output_type": "stream",
     "text": [
      "[06:04:58] WARNING: /workspace/src/objective/regression_obj.cu:152: reg:linear is now deprecated in favor of reg:squarederror.\n",
      "参数的最佳取值：{'reg_alpha': 0.05, 'reg_lambda': 1}\n",
      "最佳模型得分:-0.013575151169877083\n"
     ]
    }
   ],
   "source": [
    "params = {'learning_rate': 0.01,\n",
    "      'n_estimators': 3000, \n",
    "      'max_depth': 5,\n",
    "      'subsample': 0.6,\n",
    "      'colsample_bytree': 0.7,\n",
    "      'min_child_weight': 3,\n",
    "      'seed': 52,\n",
    "      'gamma': 0,\n",
    "      'reg_alpha': 0,\n",
    "      'reg_lambda': 1}\n",
    "cv_params = {'reg_alpha': [0.05, 0.1, 0.5, 1, 2, 3], 'reg_lambda': [0.05, 0.1, 0.5, 1, 2, 3]}\n",
    "xgbr = xgb.XGBRegressor(**params)\n",
    "grid_xgbr = GridSearchCV(estimator=xgbr, param_grid=cv_params, scoring='neg_mean_squared_error', cv=10, verbose=1)\n",
    "grid_xgbr.fit(np.array(train), np.array(y))\n",
    "result = grid_xgbr.cv_results_\n",
    "#print('每轮迭代运行结果:{}, {}'.format(result['mean_train_score'], result['std_train_score']))\n",
    "print('参数的最佳取值：{}'.format(grid_xgbr.best_params_))\n",
    "print('最佳模型得分:{}'.format(grid_xgbr.best_score_))"
   ]
  },
  {
   "cell_type": "code",
   "execution_count": 12,
   "metadata": {
    "colab": {
     "base_uri": "https://localhost:8080/",
     "height": 1000
    },
    "colab_type": "code",
    "executionInfo": {
     "elapsed": 2097,
     "status": "ok",
     "timestamp": 1594018309285,
     "user": {
      "displayName": "Harold Ran",
      "photoUrl": "",
      "userId": "00745499557779892259"
     },
     "user_tz": -480
    },
    "id": "By_J9Rm9fTcV",
    "outputId": "96a4ef0f-5dea-45a1-ac9d-cfb01afc5c63"
   },
   "outputs": [
    {
     "data": {
      "text/plain": [
       "{'mean_fit_time': array([24.44246793, 24.32434533, 23.79427948, 23.84461319, 23.71915658,\n",
       "        23.3632189 , 24.46509485, 24.37283423, 23.97710097, 23.83697555,\n",
       "        24.72607501, 23.57180893, 23.88799355, 24.31556458, 23.88998697,\n",
       "        23.57199731, 23.66110601, 23.46586192, 23.49158411, 23.5859081 ,\n",
       "        23.78411326, 23.33546581, 23.15567186, 23.15948248, 22.12988596,\n",
       "        22.30778565, 22.52216864, 22.63585901, 22.28099625, 22.5293606 ,\n",
       "        19.91074243, 19.85986459, 20.00638669, 19.8292279 , 19.95238528,\n",
       "        19.94295964]),\n",
       " 'mean_score_time': array([0.03648353, 0.03702261, 0.03511884, 0.03568435, 0.03501341,\n",
       "        0.0348393 , 0.03602324, 0.0365046 , 0.03504469, 0.03550222,\n",
       "        0.03662097, 0.03529384, 0.0363363 , 0.03737619, 0.03567433,\n",
       "        0.034794  , 0.03508124, 0.03500435, 0.03346391, 0.03448246,\n",
       "        0.0344888 , 0.03321295, 0.03366249, 0.03257771, 0.03029318,\n",
       "        0.03022802, 0.02962396, 0.03069394, 0.02948647, 0.03147342,\n",
       "        0.02576511, 0.02559888, 0.02610924, 0.02567434, 0.02609055,\n",
       "        0.02556276]),\n",
       " 'mean_test_score': array([-0.01367213, -0.01361026, -0.01358685, -0.01357515, -0.01363742,\n",
       "        -0.01362266, -0.0137598 , -0.01367795, -0.01360274, -0.01366098,\n",
       "        -0.01368293, -0.01364916, -0.0137522 , -0.0137901 , -0.01388342,\n",
       "        -0.0139104 , -0.01375523, -0.01381081, -0.0139198 , -0.01387247,\n",
       "        -0.01391704, -0.01392568, -0.01393491, -0.01391342, -0.0143469 ,\n",
       "        -0.01424926, -0.01428097, -0.01436359, -0.01433475, -0.01437423,\n",
       "        -0.0151056 , -0.01507671, -0.0150984 , -0.01510714, -0.01514819,\n",
       "        -0.01516867]),\n",
       " 'param_reg_alpha': masked_array(data=[0.05, 0.05, 0.05, 0.05, 0.05, 0.05, 0.1, 0.1, 0.1, 0.1,\n",
       "                    0.1, 0.1, 0.5, 0.5, 0.5, 0.5, 0.5, 0.5, 1, 1, 1, 1, 1,\n",
       "                    1, 2, 2, 2, 2, 2, 2, 3, 3, 3, 3, 3, 3],\n",
       "              mask=[False, False, False, False, False, False, False, False,\n",
       "                    False, False, False, False, False, False, False, False,\n",
       "                    False, False, False, False, False, False, False, False,\n",
       "                    False, False, False, False, False, False, False, False,\n",
       "                    False, False, False, False],\n",
       "        fill_value='?',\n",
       "             dtype=object),\n",
       " 'param_reg_lambda': masked_array(data=[0.05, 0.1, 0.5, 1, 2, 3, 0.05, 0.1, 0.5, 1, 2, 3, 0.05,\n",
       "                    0.1, 0.5, 1, 2, 3, 0.05, 0.1, 0.5, 1, 2, 3, 0.05, 0.1,\n",
       "                    0.5, 1, 2, 3, 0.05, 0.1, 0.5, 1, 2, 3],\n",
       "              mask=[False, False, False, False, False, False, False, False,\n",
       "                    False, False, False, False, False, False, False, False,\n",
       "                    False, False, False, False, False, False, False, False,\n",
       "                    False, False, False, False, False, False, False, False,\n",
       "                    False, False, False, False],\n",
       "        fill_value='?',\n",
       "             dtype=object),\n",
       " 'params': [{'reg_alpha': 0.05, 'reg_lambda': 0.05},\n",
       "  {'reg_alpha': 0.05, 'reg_lambda': 0.1},\n",
       "  {'reg_alpha': 0.05, 'reg_lambda': 0.5},\n",
       "  {'reg_alpha': 0.05, 'reg_lambda': 1},\n",
       "  {'reg_alpha': 0.05, 'reg_lambda': 2},\n",
       "  {'reg_alpha': 0.05, 'reg_lambda': 3},\n",
       "  {'reg_alpha': 0.1, 'reg_lambda': 0.05},\n",
       "  {'reg_alpha': 0.1, 'reg_lambda': 0.1},\n",
       "  {'reg_alpha': 0.1, 'reg_lambda': 0.5},\n",
       "  {'reg_alpha': 0.1, 'reg_lambda': 1},\n",
       "  {'reg_alpha': 0.1, 'reg_lambda': 2},\n",
       "  {'reg_alpha': 0.1, 'reg_lambda': 3},\n",
       "  {'reg_alpha': 0.5, 'reg_lambda': 0.05},\n",
       "  {'reg_alpha': 0.5, 'reg_lambda': 0.1},\n",
       "  {'reg_alpha': 0.5, 'reg_lambda': 0.5},\n",
       "  {'reg_alpha': 0.5, 'reg_lambda': 1},\n",
       "  {'reg_alpha': 0.5, 'reg_lambda': 2},\n",
       "  {'reg_alpha': 0.5, 'reg_lambda': 3},\n",
       "  {'reg_alpha': 1, 'reg_lambda': 0.05},\n",
       "  {'reg_alpha': 1, 'reg_lambda': 0.1},\n",
       "  {'reg_alpha': 1, 'reg_lambda': 0.5},\n",
       "  {'reg_alpha': 1, 'reg_lambda': 1},\n",
       "  {'reg_alpha': 1, 'reg_lambda': 2},\n",
       "  {'reg_alpha': 1, 'reg_lambda': 3},\n",
       "  {'reg_alpha': 2, 'reg_lambda': 0.05},\n",
       "  {'reg_alpha': 2, 'reg_lambda': 0.1},\n",
       "  {'reg_alpha': 2, 'reg_lambda': 0.5},\n",
       "  {'reg_alpha': 2, 'reg_lambda': 1},\n",
       "  {'reg_alpha': 2, 'reg_lambda': 2},\n",
       "  {'reg_alpha': 2, 'reg_lambda': 3},\n",
       "  {'reg_alpha': 3, 'reg_lambda': 0.05},\n",
       "  {'reg_alpha': 3, 'reg_lambda': 0.1},\n",
       "  {'reg_alpha': 3, 'reg_lambda': 0.5},\n",
       "  {'reg_alpha': 3, 'reg_lambda': 1},\n",
       "  {'reg_alpha': 3, 'reg_lambda': 2},\n",
       "  {'reg_alpha': 3, 'reg_lambda': 3}],\n",
       " 'rank_test_score': array([ 9,  4,  2,  1,  6,  5, 14, 10,  3,  8, 11,  7, 12, 15, 18, 19, 13,\n",
       "        16, 22, 17, 21, 23, 24, 20, 28, 25, 26, 29, 27, 30, 33, 31, 32, 34,\n",
       "        35, 36], dtype=int32),\n",
       " 'split0_test_score': array([-0.01425942, -0.01463538, -0.01498028, -0.01519342, -0.01517813,\n",
       "        -0.01497266, -0.01431615, -0.01469678, -0.01519128, -0.01503514,\n",
       "        -0.01509735, -0.01495127, -0.01499852, -0.01476515, -0.01494501,\n",
       "        -0.01491365, -0.01487633, -0.01495878, -0.01453638, -0.01449011,\n",
       "        -0.01443262, -0.01439881, -0.01463441, -0.01460382, -0.01430617,\n",
       "        -0.01410797, -0.01414008, -0.01421683, -0.01434884, -0.01434182,\n",
       "        -0.01481614, -0.01473469, -0.01492239, -0.01495442, -0.01502577,\n",
       "        -0.01471565]),\n",
       " 'split1_test_score': array([-0.0089028 , -0.00916523, -0.00916156, -0.00893247, -0.00938797,\n",
       "        -0.00959268, -0.00910699, -0.00892299, -0.00909606, -0.00905309,\n",
       "        -0.00965064, -0.00957637, -0.00919268, -0.00924325, -0.0093661 ,\n",
       "        -0.00937594, -0.00962746, -0.00967615, -0.0095419 , -0.00952645,\n",
       "        -0.00957742, -0.00954378, -0.00970896, -0.00959383, -0.0100782 ,\n",
       "        -0.00998252, -0.0102585 , -0.01035595, -0.01024878, -0.01034343,\n",
       "        -0.01102781, -0.01088528, -0.01105193, -0.01100131, -0.01089841,\n",
       "        -0.01103856]),\n",
       " 'split2_test_score': array([-0.01189583, -0.01147044, -0.01081239, -0.01102746, -0.01101765,\n",
       "        -0.01098613, -0.01128025, -0.01107768, -0.01069118, -0.01092805,\n",
       "        -0.01106547, -0.01115316, -0.01094482, -0.01127412, -0.01133358,\n",
       "        -0.01145963, -0.01133433, -0.01140693, -0.01088231, -0.01091367,\n",
       "        -0.0110725 , -0.0110724 , -0.01134239, -0.0116412 , -0.01151324,\n",
       "        -0.01147565, -0.01116355, -0.01123896, -0.01154157, -0.01149963,\n",
       "        -0.01148998, -0.01148215, -0.01164609, -0.01143445, -0.01144257,\n",
       "        -0.01147826]),\n",
       " 'split3_test_score': array([-0.01867128, -0.01849109, -0.01854555, -0.01833132, -0.01834535,\n",
       "        -0.01845982, -0.01929693, -0.01851267, -0.01866906, -0.01860514,\n",
       "        -0.01825154, -0.01873677, -0.01878314, -0.01878946, -0.01873799,\n",
       "        -0.01853638, -0.01835155, -0.01885163, -0.01917612, -0.01910723,\n",
       "        -0.01918256, -0.01875985, -0.01877844, -0.0189298 , -0.01956959,\n",
       "        -0.01961202, -0.01935619, -0.019708  , -0.0190827 , -0.01935587,\n",
       "        -0.02023163, -0.02008079, -0.01999516, -0.01994324, -0.02016777,\n",
       "        -0.02011866]),\n",
       " 'split4_test_score': array([-0.02047118, -0.02028016, -0.01972385, -0.0197996 , -0.01962852,\n",
       "        -0.01973825, -0.02024152, -0.02009477, -0.01969376, -0.01982844,\n",
       "        -0.01970804, -0.0197605 , -0.01988226, -0.01984165, -0.019876  ,\n",
       "        -0.01999172, -0.01983886, -0.01986088, -0.0199375 , -0.01988313,\n",
       "        -0.02007789, -0.02039364, -0.02018653, -0.02002292, -0.02102897,\n",
       "        -0.02091674, -0.02125242, -0.02123715, -0.02098402, -0.02110959,\n",
       "        -0.02223669, -0.02224106, -0.02205379, -0.021993  , -0.02205039,\n",
       "        -0.02237422]),\n",
       " 'split5_test_score': array([-0.01191708, -0.01177947, -0.0119251 , -0.01173106, -0.0116826 ,\n",
       "        -0.01180716, -0.01209175, -0.01223875, -0.01200428, -0.01193955,\n",
       "        -0.01198248, -0.01162159, -0.01184805, -0.01195635, -0.01203922,\n",
       "        -0.01176672, -0.01155462, -0.0117645 , -0.01214164, -0.01218775,\n",
       "        -0.01188949, -0.01160883, -0.01182828, -0.01188764, -0.0125303 ,\n",
       "        -0.01250431, -0.01235431, -0.01227624, -0.01209117, -0.01226371,\n",
       "        -0.01327936, -0.01339425, -0.01340896, -0.01324988, -0.01324131,\n",
       "        -0.01341832]),\n",
       " 'split6_test_score': array([-0.01410249, -0.01338258, -0.01329567, -0.01340524, -0.01316087,\n",
       "        -0.01350477, -0.01378352, -0.013745  , -0.01334522, -0.01383069,\n",
       "        -0.01347236, -0.01327095, -0.01391758, -0.0136883 , -0.01415965,\n",
       "        -0.01424615, -0.01367918, -0.01328007, -0.01384639, -0.01354445,\n",
       "        -0.01376814, -0.01407752, -0.01383578, -0.01314546, -0.01385501,\n",
       "        -0.01355413, -0.01363206, -0.01376634, -0.0138226 , -0.01357518,\n",
       "        -0.01499779, -0.01491604, -0.01454586, -0.01444771, -0.01434341,\n",
       "        -0.01439454]),\n",
       " 'split7_test_score': array([-0.00939649, -0.0100456 , -0.01040536, -0.01037486, -0.01068304,\n",
       "        -0.0104877 , -0.0100403 , -0.01017478, -0.01051192, -0.01052538,\n",
       "        -0.01047061, -0.01064726, -0.0106632 , -0.01086298, -0.01098917,\n",
       "        -0.01085075, -0.01103863, -0.01105553, -0.01144389, -0.01138165,\n",
       "        -0.0111961 , -0.0113032 , -0.01128513, -0.01111885, -0.01155594,\n",
       "        -0.01128408, -0.01143051, -0.01154389, -0.01173894, -0.01169419,\n",
       "        -0.01180311, -0.01179805, -0.01190223, -0.01222473, -0.01230249,\n",
       "        -0.0121941 ]),\n",
       " 'split8_test_score': array([-0.00914894, -0.00898405, -0.00938477, -0.00934859, -0.00908633,\n",
       "        -0.00934583, -0.00951075, -0.00947944, -0.00959881, -0.00940452,\n",
       "        -0.00920823, -0.00922479, -0.01006868, -0.01012028, -0.0102296 ,\n",
       "        -0.01027592, -0.01029005, -0.01013576, -0.01061319, -0.01056683,\n",
       "        -0.01084191, -0.01080071, -0.01074751, -0.01070087, -0.01151728,\n",
       "        -0.01151178, -0.01136555, -0.01142532, -0.01164785, -0.01175037,\n",
       "        -0.01290871, -0.01284071, -0.01286898, -0.01310332, -0.01308687,\n",
       "        -0.01300391]),\n",
       " 'split9_test_score': array([-0.01795577, -0.01786863, -0.01763395, -0.01760747, -0.01820371,\n",
       "        -0.01733156, -0.0179298 , -0.01783663, -0.01722578, -0.01745982,\n",
       "        -0.01792261, -0.01754898, -0.01722308, -0.01735948, -0.01715786,\n",
       "        -0.01768713, -0.01696129, -0.0171179 , -0.01707873, -0.0171234 ,\n",
       "        -0.01713181, -0.01729806, -0.01700172, -0.01748984, -0.01751429,\n",
       "        -0.01754338, -0.01785648, -0.01786724, -0.01784103, -0.01780849,\n",
       "        -0.01826476, -0.01839409, -0.01858858, -0.01871936, -0.01892286,\n",
       "        -0.01895052]),\n",
       " 'std_fit_time': array([0.13024733, 0.26656455, 0.10047378, 0.16684195, 0.18693013,\n",
       "        0.07901694, 0.2303786 , 0.133314  , 0.07299314, 0.08395976,\n",
       "        1.2359277 , 0.12503968, 0.05383287, 0.77226682, 0.26865706,\n",
       "        0.08129658, 0.23599199, 0.07981253, 0.23200461, 0.19877632,\n",
       "        0.29517939, 0.21747783, 0.11538677, 0.18832299, 0.11660432,\n",
       "        0.27062099, 0.46281053, 0.84738013, 0.29943725, 0.872952  ,\n",
       "        0.24906181, 0.10223747, 0.31039137, 0.15936824, 0.28858369,\n",
       "        0.3743243 ]),\n",
       " 'std_score_time': array([0.00113993, 0.00171429, 0.0005996 , 0.00169466, 0.00114046,\n",
       "        0.00132794, 0.00078147, 0.00111174, 0.00048831, 0.00162542,\n",
       "        0.00273598, 0.0020345 , 0.00368852, 0.00364898, 0.00102604,\n",
       "        0.00071026, 0.00098525, 0.00152253, 0.00111612, 0.00205641,\n",
       "        0.00073274, 0.00097592, 0.00167523, 0.00065645, 0.001511  ,\n",
       "        0.00116265, 0.00076477, 0.00143053, 0.00038765, 0.00303136,\n",
       "        0.00075407, 0.00044873, 0.00092951, 0.00072266, 0.00089631,\n",
       "        0.00069906]),\n",
       " 'std_test_score': array([0.00397266, 0.00386451, 0.00372127, 0.0037393 , 0.00373755,\n",
       "        0.00361937, 0.00390947, 0.00379775, 0.00367983, 0.00372082,\n",
       "        0.00365429, 0.00368503, 0.00363211, 0.00357377, 0.00351339,\n",
       "        0.0035707 , 0.00341771, 0.00350298, 0.00350463, 0.00349572,\n",
       "        0.00352419, 0.00355213, 0.0034445 , 0.00349861, 0.00357142,\n",
       "        0.00360275, 0.00365814, 0.00367734, 0.00350429, 0.00354468,\n",
       "        0.00368746, 0.00369575, 0.00362223, 0.00361149, 0.00368134,\n",
       "        0.00372564])}"
      ]
     },
     "execution_count": 12,
     "metadata": {
      "tags": []
     },
     "output_type": "execute_result"
    }
   ],
   "source": [
    "result"
   ]
  },
  {
   "cell_type": "markdown",
   "metadata": {
    "colab_type": "text",
    "id": "G8VhCBnG-P65"
   },
   "source": [
    "#### 6、learning_rate"
   ]
  },
  {
   "cell_type": "code",
   "execution_count": 13,
   "metadata": {
    "colab": {
     "base_uri": "https://localhost:8080/",
     "height": 1000
    },
    "colab_type": "code",
    "executionInfo": {
     "elapsed": 1359130,
     "status": "ok",
     "timestamp": 1594019822236,
     "user": {
      "displayName": "Harold Ran",
      "photoUrl": "",
      "userId": "00745499557779892259"
     },
     "user_tz": -480
    },
    "id": "B1emxhXH-VeO",
    "outputId": "192752ba-97ee-4e76-bafd-a53fd35caad5"
   },
   "outputs": [
    {
     "name": "stdout",
     "output_type": "stream",
     "text": [
      "Fitting 10 folds for each of 6 candidates, totalling 60 fits\n",
      "[06:54:24] WARNING: /workspace/src/objective/regression_obj.cu:152: reg:linear is now deprecated in favor of reg:squarederror.\n"
     ]
    },
    {
     "name": "stderr",
     "output_type": "stream",
     "text": [
      "[Parallel(n_jobs=1)]: Using backend SequentialBackend with 1 concurrent workers.\n"
     ]
    },
    {
     "name": "stdout",
     "output_type": "stream",
     "text": [
      "[06:54:46] WARNING: /workspace/src/objective/regression_obj.cu:152: reg:linear is now deprecated in favor of reg:squarederror.\n",
      "[06:55:09] WARNING: /workspace/src/objective/regression_obj.cu:152: reg:linear is now deprecated in favor of reg:squarederror.\n",
      "[06:55:31] WARNING: /workspace/src/objective/regression_obj.cu:152: reg:linear is now deprecated in favor of reg:squarederror.\n",
      "[06:55:54] WARNING: /workspace/src/objective/regression_obj.cu:152: reg:linear is now deprecated in favor of reg:squarederror.\n",
      "[06:56:16] WARNING: /workspace/src/objective/regression_obj.cu:152: reg:linear is now deprecated in favor of reg:squarederror.\n",
      "[06:56:39] WARNING: /workspace/src/objective/regression_obj.cu:152: reg:linear is now deprecated in favor of reg:squarederror.\n",
      "[06:57:03] WARNING: /workspace/src/objective/regression_obj.cu:152: reg:linear is now deprecated in favor of reg:squarederror.\n",
      "[06:57:25] WARNING: /workspace/src/objective/regression_obj.cu:152: reg:linear is now deprecated in favor of reg:squarederror.\n",
      "[06:57:48] WARNING: /workspace/src/objective/regression_obj.cu:152: reg:linear is now deprecated in favor of reg:squarederror.\n",
      "[06:58:10] WARNING: /workspace/src/objective/regression_obj.cu:152: reg:linear is now deprecated in favor of reg:squarederror.\n",
      "[06:58:34] WARNING: /workspace/src/objective/regression_obj.cu:152: reg:linear is now deprecated in favor of reg:squarederror.\n",
      "[06:58:58] WARNING: /workspace/src/objective/regression_obj.cu:152: reg:linear is now deprecated in favor of reg:squarederror.\n",
      "[06:59:21] WARNING: /workspace/src/objective/regression_obj.cu:152: reg:linear is now deprecated in favor of reg:squarederror.\n",
      "[06:59:45] WARNING: /workspace/src/objective/regression_obj.cu:152: reg:linear is now deprecated in favor of reg:squarederror.\n",
      "[07:00:08] WARNING: /workspace/src/objective/regression_obj.cu:152: reg:linear is now deprecated in favor of reg:squarederror.\n",
      "[07:00:32] WARNING: /workspace/src/objective/regression_obj.cu:152: reg:linear is now deprecated in favor of reg:squarederror.\n",
      "[07:00:56] WARNING: /workspace/src/objective/regression_obj.cu:152: reg:linear is now deprecated in favor of reg:squarederror.\n",
      "[07:01:20] WARNING: /workspace/src/objective/regression_obj.cu:152: reg:linear is now deprecated in favor of reg:squarederror.\n",
      "[07:01:44] WARNING: /workspace/src/objective/regression_obj.cu:152: reg:linear is now deprecated in favor of reg:squarederror.\n",
      "[07:02:09] WARNING: /workspace/src/objective/regression_obj.cu:152: reg:linear is now deprecated in favor of reg:squarederror.\n",
      "[07:02:34] WARNING: /workspace/src/objective/regression_obj.cu:152: reg:linear is now deprecated in favor of reg:squarederror.\n",
      "[07:02:59] WARNING: /workspace/src/objective/regression_obj.cu:152: reg:linear is now deprecated in favor of reg:squarederror.\n",
      "[07:03:23] WARNING: /workspace/src/objective/regression_obj.cu:152: reg:linear is now deprecated in favor of reg:squarederror.\n",
      "[07:03:48] WARNING: /workspace/src/objective/regression_obj.cu:152: reg:linear is now deprecated in favor of reg:squarederror.\n",
      "[07:04:12] WARNING: /workspace/src/objective/regression_obj.cu:152: reg:linear is now deprecated in favor of reg:squarederror.\n",
      "[07:04:36] WARNING: /workspace/src/objective/regression_obj.cu:152: reg:linear is now deprecated in favor of reg:squarederror.\n",
      "[07:05:01] WARNING: /workspace/src/objective/regression_obj.cu:152: reg:linear is now deprecated in favor of reg:squarederror.\n",
      "[07:05:25] WARNING: /workspace/src/objective/regression_obj.cu:152: reg:linear is now deprecated in favor of reg:squarederror.\n",
      "[07:05:49] WARNING: /workspace/src/objective/regression_obj.cu:152: reg:linear is now deprecated in favor of reg:squarederror.\n",
      "[07:06:14] WARNING: /workspace/src/objective/regression_obj.cu:152: reg:linear is now deprecated in favor of reg:squarederror.\n",
      "[07:06:38] WARNING: /workspace/src/objective/regression_obj.cu:152: reg:linear is now deprecated in favor of reg:squarederror.\n",
      "[07:07:02] WARNING: /workspace/src/objective/regression_obj.cu:152: reg:linear is now deprecated in favor of reg:squarederror.\n",
      "[07:07:29] WARNING: /workspace/src/objective/regression_obj.cu:152: reg:linear is now deprecated in favor of reg:squarederror.\n",
      "[07:07:58] WARNING: /workspace/src/objective/regression_obj.cu:152: reg:linear is now deprecated in favor of reg:squarederror.\n",
      "[07:08:21] WARNING: /workspace/src/objective/regression_obj.cu:152: reg:linear is now deprecated in favor of reg:squarederror.\n",
      "[07:08:45] WARNING: /workspace/src/objective/regression_obj.cu:152: reg:linear is now deprecated in favor of reg:squarederror.\n",
      "[07:09:09] WARNING: /workspace/src/objective/regression_obj.cu:152: reg:linear is now deprecated in favor of reg:squarederror.\n",
      "[07:09:32] WARNING: /workspace/src/objective/regression_obj.cu:152: reg:linear is now deprecated in favor of reg:squarederror.\n",
      "[07:09:56] WARNING: /workspace/src/objective/regression_obj.cu:152: reg:linear is now deprecated in favor of reg:squarederror.\n",
      "[07:10:20] WARNING: /workspace/src/objective/regression_obj.cu:152: reg:linear is now deprecated in favor of reg:squarederror.\n",
      "[07:10:40] WARNING: /workspace/src/objective/regression_obj.cu:152: reg:linear is now deprecated in favor of reg:squarederror.\n",
      "[07:10:58] WARNING: /workspace/src/objective/regression_obj.cu:152: reg:linear is now deprecated in favor of reg:squarederror.\n",
      "[07:11:19] WARNING: /workspace/src/objective/regression_obj.cu:152: reg:linear is now deprecated in favor of reg:squarederror.\n",
      "[07:11:39] WARNING: /workspace/src/objective/regression_obj.cu:152: reg:linear is now deprecated in favor of reg:squarederror.\n",
      "[07:11:58] WARNING: /workspace/src/objective/regression_obj.cu:152: reg:linear is now deprecated in favor of reg:squarederror.\n",
      "[07:12:19] WARNING: /workspace/src/objective/regression_obj.cu:152: reg:linear is now deprecated in favor of reg:squarederror.\n",
      "[07:12:39] WARNING: /workspace/src/objective/regression_obj.cu:152: reg:linear is now deprecated in favor of reg:squarederror.\n",
      "[07:12:59] WARNING: /workspace/src/objective/regression_obj.cu:152: reg:linear is now deprecated in favor of reg:squarederror.\n",
      "[07:13:19] WARNING: /workspace/src/objective/regression_obj.cu:152: reg:linear is now deprecated in favor of reg:squarederror.\n",
      "[07:13:38] WARNING: /workspace/src/objective/regression_obj.cu:152: reg:linear is now deprecated in favor of reg:squarederror.\n",
      "[07:13:56] WARNING: /workspace/src/objective/regression_obj.cu:152: reg:linear is now deprecated in favor of reg:squarederror.\n",
      "[07:14:13] WARNING: /workspace/src/objective/regression_obj.cu:152: reg:linear is now deprecated in favor of reg:squarederror.\n",
      "[07:14:32] WARNING: /workspace/src/objective/regression_obj.cu:152: reg:linear is now deprecated in favor of reg:squarederror.\n",
      "[07:14:50] WARNING: /workspace/src/objective/regression_obj.cu:152: reg:linear is now deprecated in favor of reg:squarederror.\n",
      "[07:15:08] WARNING: /workspace/src/objective/regression_obj.cu:152: reg:linear is now deprecated in favor of reg:squarederror.\n",
      "[07:15:26] WARNING: /workspace/src/objective/regression_obj.cu:152: reg:linear is now deprecated in favor of reg:squarederror.\n",
      "[07:15:44] WARNING: /workspace/src/objective/regression_obj.cu:152: reg:linear is now deprecated in favor of reg:squarederror.\n",
      "[07:16:01] WARNING: /workspace/src/objective/regression_obj.cu:152: reg:linear is now deprecated in favor of reg:squarederror.\n",
      "[07:16:19] WARNING: /workspace/src/objective/regression_obj.cu:152: reg:linear is now deprecated in favor of reg:squarederror.\n"
     ]
    },
    {
     "name": "stderr",
     "output_type": "stream",
     "text": [
      "[Parallel(n_jobs=1)]: Done  60 out of  60 | elapsed: 22.2min finished\n"
     ]
    },
    {
     "name": "stdout",
     "output_type": "stream",
     "text": [
      "[07:16:36] WARNING: /workspace/src/objective/regression_obj.cu:152: reg:linear is now deprecated in favor of reg:squarederror.\n",
      "参数的最佳取值：{'learning_rate': 0.01}\n",
      "最佳模型得分:-0.01350188742592883\n"
     ]
    }
   ],
   "source": [
    "params = {'learning_rate': 0.01,\n",
    "      'n_estimators': 3000, \n",
    "      'max_depth': 5,\n",
    "      'subsample': 0.6,\n",
    "      'colsample_bytree': 0.7,\n",
    "      'min_child_weight': 3,\n",
    "      'seed': 52,\n",
    "      'gamma': 0,\n",
    "      'reg_alpha': 0,\n",
    "      'reg_lambda': 1}\n",
    "cv_params = {'learning_rate': [0.005, 0.01, 0.02, 0.05, 0.08, 0.1]}\n",
    "xgbr = xgb.XGBRegressor(**params)\n",
    "grid_xgbr = GridSearchCV(estimator=xgbr, param_grid=cv_params, scoring='neg_mean_squared_error', cv=10, verbose=1)\n",
    "grid_xgbr.fit(np.array(train), np.array(y))\n",
    "result = grid_xgbr.cv_results_\n",
    "#print('每轮迭代运行结果:{}, {}'.format(result['mean_train_score'], result['std_train_score']))\n",
    "print('参数的最佳取值：{}'.format(grid_xgbr.best_params_))\n",
    "print('最佳模型得分:{}'.format(grid_xgbr.best_score_))"
   ]
  },
  {
   "cell_type": "code",
   "execution_count": 14,
   "metadata": {
    "colab": {
     "base_uri": "https://localhost:8080/",
     "height": 781
    },
    "colab_type": "code",
    "executionInfo": {
     "elapsed": 764,
     "status": "ok",
     "timestamp": 1594019850489,
     "user": {
      "displayName": "Harold Ran",
      "photoUrl": "",
      "userId": "00745499557779892259"
     },
     "user_tz": -480
    },
    "id": "BgetSlBj53ym",
    "outputId": "ed783738-2767-40ec-e47c-d9b2ff0fe83c"
   },
   "outputs": [
    {
     "data": {
      "text/plain": [
       "{'mean_fit_time': array([22.64382863, 23.76768003, 24.46850123, 24.57234902, 19.76114542,\n",
       "        17.77851887]),\n",
       " 'mean_score_time': array([0.03292613, 0.03662748, 0.03691981, 0.04037585, 0.02833889,\n",
       "        0.02395337]),\n",
       " 'mean_test_score': array([-0.01365635, -0.01350189, -0.01394416, -0.01411136, -0.01528652,\n",
       "        -0.01494301]),\n",
       " 'param_learning_rate': masked_array(data=[0.005, 0.01, 0.02, 0.05, 0.08, 0.1],\n",
       "              mask=[False, False, False, False, False, False],\n",
       "        fill_value='?',\n",
       "             dtype=object),\n",
       " 'params': [{'learning_rate': 0.005},\n",
       "  {'learning_rate': 0.01},\n",
       "  {'learning_rate': 0.02},\n",
       "  {'learning_rate': 0.05},\n",
       "  {'learning_rate': 0.08},\n",
       "  {'learning_rate': 0.1}],\n",
       " 'rank_test_score': array([2, 1, 3, 4, 6, 5], dtype=int32),\n",
       " 'split0_test_score': array([-0.0153815 , -0.01531004, -0.01556661, -0.01681207, -0.01777331,\n",
       "        -0.0168177 ]),\n",
       " 'split1_test_score': array([-0.00952055, -0.00913283, -0.0093937 , -0.0099533 , -0.00982569,\n",
       "        -0.01049724]),\n",
       " 'split2_test_score': array([-0.01093701, -0.01042817, -0.01115356, -0.01116818, -0.01139353,\n",
       "        -0.01197754]),\n",
       " 'split3_test_score': array([-0.01883362, -0.0183623 , -0.01917414, -0.01878325, -0.02111489,\n",
       "        -0.01883974]),\n",
       " 'split4_test_score': array([-0.01983846, -0.01981358, -0.02042905, -0.01982742, -0.02141891,\n",
       "        -0.02215464]),\n",
       " 'split5_test_score': array([-0.01124688, -0.01154007, -0.01216328, -0.01146261, -0.01417239,\n",
       "        -0.0134344 ]),\n",
       " 'split6_test_score': array([-0.01371585, -0.01321554, -0.01372229, -0.01468332, -0.01512692,\n",
       "        -0.01422597]),\n",
       " 'split7_test_score': array([-0.01040329, -0.01030289, -0.01042691, -0.0109308 , -0.01338875,\n",
       "        -0.01132979]),\n",
       " 'split8_test_score': array([-0.00950522, -0.00932349, -0.00917307, -0.00962012, -0.00967888,\n",
       "        -0.010918  ]),\n",
       " 'split9_test_score': array([-0.01718114, -0.01758996, -0.018239  , -0.0178725 , -0.01897197,\n",
       "        -0.01923505]),\n",
       " 'std_fit_time': array([0.35866552, 0.40832296, 0.44407012, 1.63941721, 0.83310179,\n",
       "        0.57885926]),\n",
       " 'std_score_time': array([0.00088997, 0.00242409, 0.00149326, 0.01180968, 0.00278102,\n",
       "        0.0023356 ]),\n",
       " 'std_test_score': array([0.00372218, 0.00378949, 0.00396653, 0.00373526, 0.00415491,\n",
       "        0.00386954])}"
      ]
     },
     "execution_count": 14,
     "metadata": {
      "tags": []
     },
     "output_type": "execute_result"
    }
   ],
   "source": [
    "result"
   ]
  },
  {
   "cell_type": "markdown",
   "metadata": {
    "colab_type": "text",
    "id": "HNhFf09R_LaQ"
   },
   "source": [
    "#### 7、模型评估"
   ]
  },
  {
   "cell_type": "code",
   "execution_count": 16,
   "metadata": {
    "colab": {
     "base_uri": "https://localhost:8080/",
     "height": 212
    },
    "colab_type": "code",
    "executionInfo": {
     "elapsed": 245453,
     "status": "ok",
     "timestamp": 1594020724650,
     "user": {
      "displayName": "Harold Ran",
      "photoUrl": "",
      "userId": "00745499557779892259"
     },
     "user_tz": -480
    },
    "id": "1ikiR9Up_KUe",
    "outputId": "1697f594-afa5-4a9a-9222-4f6dc88e0578"
   },
   "outputs": [
    {
     "name": "stdout",
     "output_type": "stream",
     "text": [
      "[07:28:00] WARNING: /workspace/src/objective/regression_obj.cu:152: reg:linear is now deprecated in favor of reg:squarederror.\n",
      "[07:28:24] WARNING: /workspace/src/objective/regression_obj.cu:152: reg:linear is now deprecated in favor of reg:squarederror.\n",
      "[07:28:48] WARNING: /workspace/src/objective/regression_obj.cu:152: reg:linear is now deprecated in favor of reg:squarederror.\n",
      "[07:29:14] WARNING: /workspace/src/objective/regression_obj.cu:152: reg:linear is now deprecated in favor of reg:squarederror.\n",
      "[07:29:39] WARNING: /workspace/src/objective/regression_obj.cu:152: reg:linear is now deprecated in favor of reg:squarederror.\n",
      "[07:30:03] WARNING: /workspace/src/objective/regression_obj.cu:152: reg:linear is now deprecated in favor of reg:squarederror.\n",
      "[07:30:27] WARNING: /workspace/src/objective/regression_obj.cu:152: reg:linear is now deprecated in favor of reg:squarederror.\n",
      "[07:30:51] WARNING: /workspace/src/objective/regression_obj.cu:152: reg:linear is now deprecated in favor of reg:squarederror.\n",
      "[07:31:16] WARNING: /workspace/src/objective/regression_obj.cu:152: reg:linear is now deprecated in favor of reg:squarederror.\n",
      "[07:31:40] WARNING: /workspace/src/objective/regression_obj.cu:152: reg:linear is now deprecated in favor of reg:squarederror.\n",
      "RMSE of XGBoost: 0.11765395230885649(0.008765082104957694)\n"
     ]
    }
   ],
   "source": [
    "params = {'learning_rate': 0.01,\n",
    "      'n_estimators': 3000, \n",
    "      'max_depth': 5,\n",
    "      'subsample': 0.6,\n",
    "      'colsample_bytree': 0.7,\n",
    "      'min_child_weight': 3,\n",
    "      'seed': 52,\n",
    "      'gamma': 0,\n",
    "      'reg_alpha': 0,\n",
    "      'reg_lambda': 1}\n",
    "xgbr = xgb.XGBRegressor(**params)\n",
    "score = rmse_cv(xgbr)\n",
    "print('RMSE of XGBoost: {}({})'.format(score.mean(), score.std()))"
   ]
  },
  {
   "cell_type": "markdown",
   "metadata": {
    "colab_type": "text",
    "id": "VTbTnFNtAmEz"
   },
   "source": [
    "#### 8、在训练集上训练模型并提交预测结果"
   ]
  },
  {
   "cell_type": "code",
   "execution_count": 19,
   "metadata": {
    "colab": {
     "base_uri": "https://localhost:8080/",
     "height": 52
    },
    "colab_type": "code",
    "executionInfo": {
     "elapsed": 27559,
     "status": "ok",
     "timestamp": 1594021362791,
     "user": {
      "displayName": "Harold Ran",
      "photoUrl": "",
      "userId": "00745499557779892259"
     },
     "user_tz": -480
    },
    "id": "H0yj-nk-AYuZ",
    "outputId": "7797beb4-611b-44f0-b5a3-d5be50d1f2a5"
   },
   "outputs": [
    {
     "name": "stdout",
     "output_type": "stream",
     "text": [
      "[07:42:16] WARNING: /workspace/src/objective/regression_obj.cu:152: reg:linear is now deprecated in favor of reg:squarederror.\n",
      "RMSE of XGBoost: 0.02286417135304461\n"
     ]
    }
   ],
   "source": [
    "xgbr_trained = xgbr.fit(np.array(train), np.array(y))\n",
    "y_preds = xgbr.predict(np.array(train))\n",
    "model_score = rmse(y, y_preds)\n",
    "print('RMSE of XGBoost: {}'.format(model_score))"
   ]
  },
  {
   "cell_type": "code",
   "execution_count": 22,
   "metadata": {
    "colab": {},
    "colab_type": "code",
    "executionInfo": {
     "elapsed": 843,
     "status": "ok",
     "timestamp": 1594021536247,
     "user": {
      "displayName": "Harold Ran",
      "photoUrl": "",
      "userId": "00745499557779892259"
     },
     "user_tz": -480
    },
    "id": "9Xc_m19JA2LA"
   },
   "outputs": [],
   "source": [
    "sample_submission = pd.read_csv('sample_submission.csv')\n",
    "xgbr_preds = xgbr.predict(np.array(test))\n",
    "xgbr_submission = pd.DataFrame({'Id': sample_submission['Id'], 'SalePrice': np.expm1(xgbr_preds)})\n",
    "xgbr_submission.to_csv('xgb_optimation_submission.csv', index=False)"
   ]
  },
  {
   "cell_type": "markdown",
   "metadata": {
    "colab_type": "text",
    "id": "e1j4QFODFnUj"
   },
   "source": [
    "### LightGBM调参"
   ]
  },
  {
   "cell_type": "markdown",
   "metadata": {
    "colab_type": "text",
    "id": "AqckuyqBSul8"
   },
   "source": [
    "#### 1、n_estimators"
   ]
  },
  {
   "cell_type": "code",
   "execution_count": 23,
   "metadata": {
    "colab": {
     "base_uri": "https://localhost:8080/",
     "height": 106
    },
    "colab_type": "code",
    "executionInfo": {
     "elapsed": 220825,
     "status": "ok",
     "timestamp": 1594025587542,
     "user": {
      "displayName": "Harold Ran",
      "photoUrl": "",
      "userId": "00745499557779892259"
     },
     "user_tz": -480
    },
    "id": "Qi1bFcaAFd1C",
    "outputId": "079ef22d-fabe-4171-d736-9feb1c61f44d"
   },
   "outputs": [
    {
     "name": "stdout",
     "output_type": "stream",
     "text": [
      "Fitting 10 folds for each of 8 candidates, totalling 80 fits\n"
     ]
    },
    {
     "name": "stderr",
     "output_type": "stream",
     "text": [
      "[Parallel(n_jobs=1)]: Using backend SequentialBackend with 1 concurrent workers.\n",
      "[Parallel(n_jobs=1)]: Done  80 out of  80 | elapsed:  3.6min finished\n"
     ]
    },
    {
     "name": "stdout",
     "output_type": "stream",
     "text": [
      "参数的最佳取值：{'n_estimators': 2000}\n",
      "最佳模型得分:-0.01416341091297445\n"
     ]
    }
   ],
   "source": [
    "params = {'learning_rate': 0.01,\n",
    "      'n_estimators': 3000, \n",
    "      'max_depth': 5,\n",
    "      'num_leaves': 40,\n",
    "      'subsample': 0.6,\n",
    "      'colsample_bytree': 0.7,\n",
    "      'min_child_weight': 0.001,\n",
    "      'min_child_samples': 21,\n",
    "      'random_state': 42,\n",
    "      'reg_alpha': 0,\n",
    "      'reg_lambda': 1}\n",
    "cv_params = {'n_estimators': [200, 500, 800, 1000, 2000, 3000, 5000, 6000]}\n",
    "lgbr = lgb.LGBMRegressor(**params)\n",
    "grid_lgbr = GridSearchCV(estimator=lgbr, param_grid=cv_params, scoring='neg_mean_squared_error', cv=10, verbose=1)\n",
    "grid_lgbr.fit(np.array(train), np.array(y))\n",
    "result = grid_lgbr.cv_results_\n",
    "#print('每轮迭代运行结果:{}, {}'.format(result['mean_train_score'], result['std_train_score']))\n",
    "print('参数的最佳取值：{}'.format(grid_lgbr.best_params_))\n",
    "print('最佳模型得分:{}'.format(grid_lgbr.best_score_))"
   ]
  },
  {
   "cell_type": "code",
   "execution_count": 24,
   "metadata": {
    "colab": {
     "base_uri": "https://localhost:8080/",
     "height": 817
    },
    "colab_type": "code",
    "executionInfo": {
     "elapsed": 775,
     "status": "ok",
     "timestamp": 1594025615194,
     "user": {
      "displayName": "Harold Ran",
      "photoUrl": "",
      "userId": "00745499557779892259"
     },
     "user_tz": -480
    },
    "id": "IbXYUhRTUNOC",
    "outputId": "3de81c02-4dc7-4e28-cc75-f8d655635cb1"
   },
   "outputs": [
    {
     "data": {
      "text/plain": [
       "{'mean_fit_time': array([0.36328118, 0.74690835, 1.17250834, 1.32298245, 2.36145921,\n",
       "        3.42600355, 5.47474439, 6.61960335]),\n",
       " 'mean_score_time': array([0.00251958, 0.00552309, 0.00920691, 0.01176021, 0.02603095,\n",
       "        0.03897507, 0.06709406, 0.08671322]),\n",
       " 'mean_test_score': array([-0.02406443, -0.01547769, -0.01453452, -0.01437802, -0.01416341,\n",
       "        -0.01427535, -0.01463245, -0.01477547]),\n",
       " 'param_n_estimators': masked_array(data=[200, 500, 800, 1000, 2000, 3000, 5000, 6000],\n",
       "              mask=[False, False, False, False, False, False, False, False],\n",
       "        fill_value='?',\n",
       "             dtype=object),\n",
       " 'params': [{'n_estimators': 200},\n",
       "  {'n_estimators': 500},\n",
       "  {'n_estimators': 800},\n",
       "  {'n_estimators': 1000},\n",
       "  {'n_estimators': 2000},\n",
       "  {'n_estimators': 3000},\n",
       "  {'n_estimators': 5000},\n",
       "  {'n_estimators': 6000}],\n",
       " 'rank_test_score': array([8, 7, 4, 3, 1, 2, 5, 6], dtype=int32),\n",
       " 'split0_test_score': array([-0.0216625 , -0.01532561, -0.01492827, -0.0149614 , -0.01507986,\n",
       "        -0.01498781, -0.01511837, -0.0152399 ]),\n",
       " 'split1_test_score': array([-0.01999758, -0.01152949, -0.01034649, -0.01007357, -0.00947664,\n",
       "        -0.00953592, -0.00976671, -0.00986947]),\n",
       " 'split2_test_score': array([-0.02661795, -0.0146152 , -0.0133426 , -0.0130644 , -0.01264373,\n",
       "        -0.01262473, -0.0130501 , -0.01318748]),\n",
       " 'split3_test_score': array([-0.02725976, -0.01928217, -0.01860509, -0.01858424, -0.01864662,\n",
       "        -0.01904037, -0.019638  , -0.01976904]),\n",
       " 'split4_test_score': array([-0.03531655, -0.02256454, -0.02144741, -0.02133511, -0.02100004,\n",
       "        -0.02105761, -0.02152751, -0.02165129]),\n",
       " 'split5_test_score': array([-0.02006449, -0.01234467, -0.01098921, -0.01083515, -0.0108457 ,\n",
       "        -0.01108918, -0.011473  , -0.01168013]),\n",
       " 'split6_test_score': array([-0.02529669, -0.01677676, -0.01595246, -0.01569837, -0.01522946,\n",
       "        -0.01519563, -0.01561869, -0.01577216]),\n",
       " 'split7_test_score': array([-0.01781751, -0.01062932, -0.01011028, -0.01000239, -0.01004891,\n",
       "        -0.01018952, -0.01048694, -0.01064187]),\n",
       " 'split8_test_score': array([-0.02062755, -0.01243136, -0.01139008, -0.0111488 , -0.01086686,\n",
       "        -0.01086385, -0.01090998, -0.01103863]),\n",
       " 'split9_test_score': array([-0.02598371, -0.01927783, -0.0182333 , -0.01807679, -0.01779628,\n",
       "        -0.01816886, -0.01873516, -0.01890475]),\n",
       " 'std_fit_time': array([0.01412399, 0.00753277, 0.08178831, 0.02496004, 0.02432884,\n",
       "        0.05093004, 0.07338715, 0.12564399]),\n",
       " 'std_score_time': array([6.29637648e-05, 5.33223845e-04, 1.12583986e-03, 3.32431248e-04,\n",
       "        2.31969433e-03, 1.05602674e-03, 3.77438349e-03, 7.44015201e-03]),\n",
       " 'std_test_score': array([0.00487532, 0.00373877, 0.00375759, 0.00379787, 0.00380909,\n",
       "        0.00385862, 0.00397293, 0.00397108])}"
      ]
     },
     "execution_count": 24,
     "metadata": {
      "tags": []
     },
     "output_type": "execute_result"
    }
   ],
   "source": [
    "result"
   ]
  },
  {
   "cell_type": "code",
   "execution_count": 25,
   "metadata": {
    "colab": {
     "base_uri": "https://localhost:8080/",
     "height": 106
    },
    "colab_type": "code",
    "executionInfo": {
     "elapsed": 174667,
     "status": "ok",
     "timestamp": 1594025970182,
     "user": {
      "displayName": "Harold Ran",
      "photoUrl": "",
      "userId": "00745499557779892259"
     },
     "user_tz": -480
    },
    "id": "ydY7hth8Vi3r",
    "outputId": "5184d89e-e926-4205-db6d-9ad3c8cd1cf9"
   },
   "outputs": [
    {
     "name": "stdout",
     "output_type": "stream",
     "text": [
      "Fitting 10 folds for each of 7 candidates, totalling 70 fits\n"
     ]
    },
    {
     "name": "stderr",
     "output_type": "stream",
     "text": [
      "[Parallel(n_jobs=1)]: Using backend SequentialBackend with 1 concurrent workers.\n",
      "[Parallel(n_jobs=1)]: Done  70 out of  70 | elapsed:  2.9min finished\n"
     ]
    },
    {
     "name": "stdout",
     "output_type": "stream",
     "text": [
      "参数的最佳取值：{'n_estimators': 1800}\n",
      "最佳模型得分:-0.014137903179556275\n"
     ]
    }
   ],
   "source": [
    "params = {'learning_rate': 0.01,\n",
    "      'n_estimators': 2000, \n",
    "      'max_depth': 5,\n",
    "      'num_leaves': 40,\n",
    "      'subsample': 0.6,\n",
    "      'colsample_bytree': 0.7,\n",
    "      'min_child_weight': 0.001,\n",
    "      'min_child_samples': 21,\n",
    "      'random_state': 42,\n",
    "      'reg_alpha': 0,\n",
    "      'reg_lambda': 1}\n",
    "cv_params = {'n_estimators': [1200, 1500, 1800, 2000, 2200, 2500, 2800]}\n",
    "lgbr = lgb.LGBMRegressor(**params)\n",
    "grid_lgbr = GridSearchCV(estimator=lgbr, param_grid=cv_params, scoring='neg_mean_squared_error', cv=10, verbose=1)\n",
    "grid_lgbr.fit(np.array(train), np.array(y))\n",
    "result = grid_lgbr.cv_results_\n",
    "#print('每轮迭代运行结果:{}, {}'.format(result['mean_train_score'], result['std_train_score']))\n",
    "print('参数的最佳取值：{}'.format(grid_lgbr.best_params_))\n",
    "print('最佳模型得分:{}'.format(grid_lgbr.best_score_))"
   ]
  },
  {
   "cell_type": "code",
   "execution_count": 26,
   "metadata": {
    "colab": {
     "base_uri": "https://localhost:8080/",
     "height": 106
    },
    "colab_type": "code",
    "executionInfo": {
     "elapsed": 182897,
     "status": "ok",
     "timestamp": 1594026417338,
     "user": {
      "displayName": "Harold Ran",
      "photoUrl": "",
      "userId": "00745499557779892259"
     },
     "user_tz": -480
    },
    "id": "DrKfjyCzXTd7",
    "outputId": "1d4d6043-e022-4b33-b36f-404394642fbf"
   },
   "outputs": [
    {
     "name": "stdout",
     "output_type": "stream",
     "text": [
      "Fitting 10 folds for each of 8 candidates, totalling 80 fits\n"
     ]
    },
    {
     "name": "stderr",
     "output_type": "stream",
     "text": [
      "[Parallel(n_jobs=1)]: Using backend SequentialBackend with 1 concurrent workers.\n",
      "[Parallel(n_jobs=1)]: Done  80 out of  80 | elapsed:  3.0min finished\n"
     ]
    },
    {
     "name": "stdout",
     "output_type": "stream",
     "text": [
      "参数的最佳取值：{'n_estimators': 1850}\n",
      "最佳模型得分:-0.014133655367300883\n"
     ]
    }
   ],
   "source": [
    "params = {'learning_rate': 0.01,\n",
    "      'n_estimators': 1800, \n",
    "      'max_depth': 5,\n",
    "      'num_leaves': 40,\n",
    "      'subsample': 0.6,\n",
    "      'colsample_bytree': 0.7,\n",
    "      'min_child_weight': 0.001,\n",
    "      'min_child_samples': 21,\n",
    "      'random_state': 42,\n",
    "      'reg_alpha': 0,\n",
    "      'reg_lambda': 1}\n",
    "cv_params = {'n_estimators': [1600, 1650, 1700, 1750, 1800, 1850, 1900, 1950]}\n",
    "lgbr = lgb.LGBMRegressor(**params)\n",
    "grid_lgbr = GridSearchCV(estimator=lgbr, param_grid=cv_params, scoring='neg_mean_squared_error', cv=10, verbose=1)\n",
    "grid_lgbr.fit(np.array(train), np.array(y))\n",
    "result = grid_lgbr.cv_results_\n",
    "#print('每轮迭代运行结果:{}, {}'.format(result['mean_train_score'], result['std_train_score']))\n",
    "print('参数的最佳取值：{}'.format(grid_lgbr.best_params_))\n",
    "print('最佳模型得分:{}'.format(grid_lgbr.best_score_))"
   ]
  },
  {
   "cell_type": "markdown",
   "metadata": {
    "colab_type": "text",
    "id": "fJuky0LSVL3k"
   },
   "source": [
    "#### 2、max_depth和num_leaves"
   ]
  },
  {
   "cell_type": "code",
   "execution_count": 27,
   "metadata": {
    "colab": {
     "base_uri": "https://localhost:8080/",
     "height": 106
    },
    "colab_type": "code",
    "executionInfo": {
     "elapsed": 806337,
     "status": "ok",
     "timestamp": 1594028254352,
     "user": {
      "displayName": "Harold Ran",
      "photoUrl": "",
      "userId": "00745499557779892259"
     },
     "user_tz": -480
    },
    "id": "hFiYR7mOVJuI",
    "outputId": "6769bbdf-ff01-40f5-85df-379727c8f2bd"
   },
   "outputs": [
    {
     "name": "stdout",
     "output_type": "stream",
     "text": [
      "Fitting 10 folds for each of 28 candidates, totalling 280 fits\n"
     ]
    },
    {
     "name": "stderr",
     "output_type": "stream",
     "text": [
      "[Parallel(n_jobs=1)]: Using backend SequentialBackend with 1 concurrent workers.\n",
      "[Parallel(n_jobs=1)]: Done 280 out of 280 | elapsed: 13.4min finished\n"
     ]
    },
    {
     "name": "stdout",
     "output_type": "stream",
     "text": [
      "参数的最佳取值：{'max_depth': 4, 'num_leaves': 20}\n",
      "最佳模型得分:-0.013875783066601685\n"
     ]
    }
   ],
   "source": [
    "params = {'learning_rate': 0.01,\n",
    "      'n_estimators': 1850, \n",
    "      'max_depth': 5,\n",
    "      'num_leaves': 40,\n",
    "      'subsample': 0.6,\n",
    "      'colsample_bytree': 0.7,\n",
    "      'min_child_weight': 0.001,\n",
    "      'min_child_samples': 21,\n",
    "      'random_state': 42,\n",
    "      'reg_alpha': 0,\n",
    "      'reg_lambda': 1}\n",
    "cv_params = {'max_depth': [4, 5, 6, 7, 8, 9, 10], 'num_leaves': [10, 20, 30, 40]}\n",
    "lgbr = lgb.LGBMRegressor(**params)\n",
    "grid_lgbr = GridSearchCV(estimator=lgbr, param_grid=cv_params, scoring='neg_mean_squared_error', cv=10, verbose=1)\n",
    "grid_lgbr.fit(np.array(train), np.array(y))\n",
    "result = grid_lgbr.cv_results_\n",
    "#print('每轮迭代运行结果:{}, {}'.format(result['mean_train_score'], result['std_train_score']))\n",
    "print('参数的最佳取值：{}'.format(grid_lgbr.best_params_))\n",
    "print('最佳模型得分:{}'.format(grid_lgbr.best_score_))"
   ]
  },
  {
   "cell_type": "code",
   "execution_count": 28,
   "metadata": {
    "colab": {
     "base_uri": "https://localhost:8080/",
     "height": 1000
    },
    "colab_type": "code",
    "executionInfo": {
     "elapsed": 1002,
     "status": "ok",
     "timestamp": 1594028503984,
     "user": {
      "displayName": "Harold Ran",
      "photoUrl": "",
      "userId": "00745499557779892259"
     },
     "user_tz": -480
    },
    "id": "pPA4BMjIcJXa",
    "outputId": "d494fbe7-9ea0-4961-f428-695985f9e501"
   },
   "outputs": [
    {
     "data": {
      "text/plain": [
       "{'mean_fit_time': array([1.73396497, 1.79216259, 1.78766384, 1.79327052, 2.85061455,\n",
       "        2.30685484, 2.25096986, 2.30711894, 2.15980508, 2.75754461,\n",
       "        2.74899204, 2.67503693, 2.24028909, 3.05165689, 3.11824713,\n",
       "        3.10729084, 2.90240254, 3.45427744, 3.61876843, 3.51873364,\n",
       "        2.22276514, 3.4164    , 3.75529287, 3.81231632, 2.21431904,\n",
       "        3.57637467, 4.05682294, 4.11013718]),\n",
       " 'mean_score_time': array([0.02262681, 0.02307589, 0.02305231, 0.02279124, 0.03460968,\n",
       "        0.02893906, 0.02885568, 0.02880771, 0.02818291, 0.03521419,\n",
       "        0.03435841, 0.03349514, 0.02857547, 0.03863497, 0.03853676,\n",
       "        0.03904788, 0.03471916, 0.04216104, 0.04475651, 0.04381151,\n",
       "        0.02774668, 0.04179821, 0.04536602, 0.04657865, 0.02812948,\n",
       "        0.04291713, 0.04761159, 0.04919436]),\n",
       " 'mean_test_score': array([-0.01409869, -0.01387578, -0.01387578, -0.01387578, -0.01406463,\n",
       "        -0.01417941, -0.0141109 , -0.01413366, -0.01407212, -0.01429851,\n",
       "        -0.01446278, -0.01449491, -0.01418227, -0.01434978, -0.0146237 ,\n",
       "        -0.01465137, -0.01412865, -0.01440379, -0.01465005, -0.01478733,\n",
       "        -0.01418099, -0.01453426, -0.01471408, -0.01481794, -0.01418099,\n",
       "        -0.01441626, -0.01476573, -0.0148409 ]),\n",
       " 'param_max_depth': masked_array(data=[4, 4, 4, 4, 5, 5, 5, 5, 6, 6, 6, 6, 7, 7, 7, 7, 8, 8,\n",
       "                    8, 8, 9, 9, 9, 9, 10, 10, 10, 10],\n",
       "              mask=[False, False, False, False, False, False, False, False,\n",
       "                    False, False, False, False, False, False, False, False,\n",
       "                    False, False, False, False, False, False, False, False,\n",
       "                    False, False, False, False],\n",
       "        fill_value='?',\n",
       "             dtype=object),\n",
       " 'param_num_leaves': masked_array(data=[10, 20, 30, 40, 10, 20, 30, 40, 10, 20, 30, 40, 10, 20,\n",
       "                    30, 40, 10, 20, 30, 40, 10, 20, 30, 40, 10, 20, 30, 40],\n",
       "              mask=[False, False, False, False, False, False, False, False,\n",
       "                    False, False, False, False, False, False, False, False,\n",
       "                    False, False, False, False, False, False, False, False,\n",
       "                    False, False, False, False],\n",
       "        fill_value='?',\n",
       "             dtype=object),\n",
       " 'params': [{'max_depth': 4, 'num_leaves': 10},\n",
       "  {'max_depth': 4, 'num_leaves': 20},\n",
       "  {'max_depth': 4, 'num_leaves': 30},\n",
       "  {'max_depth': 4, 'num_leaves': 40},\n",
       "  {'max_depth': 5, 'num_leaves': 10},\n",
       "  {'max_depth': 5, 'num_leaves': 20},\n",
       "  {'max_depth': 5, 'num_leaves': 30},\n",
       "  {'max_depth': 5, 'num_leaves': 40},\n",
       "  {'max_depth': 6, 'num_leaves': 10},\n",
       "  {'max_depth': 6, 'num_leaves': 20},\n",
       "  {'max_depth': 6, 'num_leaves': 30},\n",
       "  {'max_depth': 6, 'num_leaves': 40},\n",
       "  {'max_depth': 7, 'num_leaves': 10},\n",
       "  {'max_depth': 7, 'num_leaves': 20},\n",
       "  {'max_depth': 7, 'num_leaves': 30},\n",
       "  {'max_depth': 7, 'num_leaves': 40},\n",
       "  {'max_depth': 8, 'num_leaves': 10},\n",
       "  {'max_depth': 8, 'num_leaves': 20},\n",
       "  {'max_depth': 8, 'num_leaves': 30},\n",
       "  {'max_depth': 8, 'num_leaves': 40},\n",
       "  {'max_depth': 9, 'num_leaves': 10},\n",
       "  {'max_depth': 9, 'num_leaves': 20},\n",
       "  {'max_depth': 9, 'num_leaves': 30},\n",
       "  {'max_depth': 9, 'num_leaves': 40},\n",
       "  {'max_depth': 10, 'num_leaves': 10},\n",
       "  {'max_depth': 10, 'num_leaves': 20},\n",
       "  {'max_depth': 10, 'num_leaves': 30},\n",
       "  {'max_depth': 10, 'num_leaves': 40}],\n",
       " 'rank_test_score': array([ 6,  1,  1,  1,  4, 10,  7,  9,  5, 14, 18, 19, 13, 15, 21, 23,  8,\n",
       "        16, 22, 26, 11, 20, 24, 27, 11, 17, 25, 28], dtype=int32),\n",
       " 'split0_test_score': array([-0.01539245, -0.0147727 , -0.0147727 , -0.0147727 , -0.01550692,\n",
       "        -0.01506068, -0.01503111, -0.01503111, -0.01545241, -0.01514453,\n",
       "        -0.01539677, -0.01541539, -0.01561561, -0.01518172, -0.01549941,\n",
       "        -0.01548066, -0.01532189, -0.01515958, -0.01563258, -0.01571002,\n",
       "        -0.01556695, -0.01538073, -0.01529837, -0.01544224, -0.01556695,\n",
       "        -0.01535516, -0.01539474, -0.01548545]),\n",
       " 'split1_test_score': array([-0.00981569, -0.00995326, -0.00995326, -0.00995326, -0.00998736,\n",
       "        -0.00971372, -0.0094591 , -0.0094591 , -0.00989559, -0.00993805,\n",
       "        -0.00973403, -0.01006188, -0.00997003, -0.00987453, -0.00984686,\n",
       "        -0.00982033, -0.01004378, -0.00992128, -0.00975507, -0.01007721,\n",
       "        -0.00998672, -0.00988787, -0.01001657, -0.01018719, -0.00998672,\n",
       "        -0.0097591 , -0.00992629, -0.01018117]),\n",
       " 'split2_test_score': array([-0.01151962, -0.0118747 , -0.0118747 , -0.0118747 , -0.01136421,\n",
       "        -0.01238466, -0.01262987, -0.01262987, -0.01134919, -0.01244924,\n",
       "        -0.01326201, -0.0135687 , -0.01137706, -0.01251561, -0.01379062,\n",
       "        -0.0140326 , -0.01147606, -0.0126598 , -0.01351477, -0.01355533,\n",
       "        -0.01150859, -0.01295335, -0.01342701, -0.0137969 , -0.01150859,\n",
       "        -0.01274983, -0.01364999, -0.01388115]),\n",
       " 'split3_test_score': array([-0.01961771, -0.01871921, -0.01871921, -0.01871921, -0.01960783,\n",
       "        -0.01879603, -0.01861463, -0.01861463, -0.01960447, -0.01901982,\n",
       "        -0.01953671, -0.01935123, -0.01968312, -0.01895569, -0.01947613,\n",
       "        -0.01961506, -0.01972308, -0.01884823, -0.01930822, -0.01966969,\n",
       "        -0.01959277, -0.01908672, -0.01897453, -0.01915238, -0.01959277,\n",
       "        -0.01875366, -0.01912221, -0.01897192]),\n",
       " 'split4_test_score': array([-0.01973868, -0.02030219, -0.02030219, -0.02030219, -0.0194124 ,\n",
       "        -0.02108278, -0.02099992, -0.02099992, -0.01939864, -0.02116722,\n",
       "        -0.02116248, -0.02145652, -0.01972992, -0.02120947, -0.02152806,\n",
       "        -0.02133417, -0.01952329, -0.02135603, -0.02153187, -0.02118495,\n",
       "        -0.01957944, -0.02155334, -0.02170267, -0.02145501, -0.01957944,\n",
       "        -0.0211616 , -0.0214313 , -0.02127989]),\n",
       " 'split5_test_score': array([-0.01026135, -0.01043874, -0.01043874, -0.01043874, -0.01012185,\n",
       "        -0.01065793, -0.01075298, -0.01075298, -0.0101139 , -0.01044391,\n",
       "        -0.01068899, -0.01043407, -0.01033158, -0.01056075, -0.01061995,\n",
       "        -0.01068626, -0.01029105, -0.01051219, -0.01083409, -0.01101361,\n",
       "        -0.0103071 , -0.01066144, -0.01139483, -0.01130178, -0.0103071 ,\n",
       "        -0.01070414, -0.011302  , -0.0115836 ]),\n",
       " 'split6_test_score': array([-0.01644447, -0.01523439, -0.01523439, -0.01523439, -0.01619863,\n",
       "        -0.01539454, -0.01525449, -0.01525449, -0.01656369, -0.01504315,\n",
       "        -0.01526583, -0.01498758, -0.01642862, -0.01520376, -0.01529642,\n",
       "        -0.01535513, -0.01640947, -0.01549205, -0.01519888, -0.01545517,\n",
       "        -0.01655921, -0.01545152, -0.01547009, -0.01548873, -0.01655921,\n",
       "        -0.01543748, -0.01539355, -0.01558738]),\n",
       " 'split7_test_score': array([-0.00974261, -0.00956485, -0.00956485, -0.00956485, -0.00984008,\n",
       "        -0.01001966, -0.01000078, -0.01000078, -0.00975409, -0.01039882,\n",
       "        -0.0102261 , -0.01017007, -0.00991379, -0.01021181, -0.01057509,\n",
       "        -0.01066408, -0.00987037, -0.01024851, -0.01053089, -0.0108699 ,\n",
       "        -0.00975957, -0.01050702, -0.01082666, -0.01097551, -0.00975957,\n",
       "        -0.01033254, -0.01091052, -0.01091641]),\n",
       " 'split8_test_score': array([-0.0110501 , -0.01075627, -0.01075627, -0.01075627, -0.01092862,\n",
       "        -0.01080178, -0.01062875, -0.01085633, -0.01077408, -0.01087693,\n",
       "        -0.0107656 , -0.01095255, -0.01094772, -0.01093791, -0.01072849,\n",
       "        -0.01048567, -0.01101883, -0.01084686, -0.01064081, -0.01059505,\n",
       "        -0.0110314 , -0.01079855, -0.01051302, -0.01044117, -0.0110314 ,\n",
       "        -0.01094055, -0.01066314, -0.01053421]),\n",
       " 'split9_test_score': array([-0.01740422, -0.01714153, -0.01714153, -0.01714153, -0.0176784 ,\n",
       "        -0.01788235, -0.01773733, -0.01773733, -0.01781512, -0.01850343,\n",
       "        -0.01858929, -0.01855117, -0.01782521, -0.01884656, -0.01887594,\n",
       "        -0.01903978, -0.01760869, -0.01899337, -0.01955333, -0.01974241,\n",
       "        -0.0179182 , -0.01906207, -0.01951708, -0.01993847, -0.0179182 ,\n",
       "        -0.01896859, -0.01986359, -0.01998784]),\n",
       " 'std_fit_time': array([0.02827984, 0.05604825, 0.03863173, 0.02218044, 0.99587657,\n",
       "        0.04193332, 0.03242356, 0.04931153, 0.03520225, 0.0928733 ,\n",
       "        0.08914005, 0.03823811, 0.03486181, 0.03063931, 0.04454359,\n",
       "        0.04681208, 0.8860806 , 0.14866874, 0.10595435, 0.06298985,\n",
       "        0.03059222, 0.03910242, 0.06788283, 0.09771415, 0.02196315,\n",
       "        0.1253092 , 0.1386866 , 0.07679585]),\n",
       " 'std_score_time': array([0.00086426, 0.0015168 , 0.00070271, 0.00087012, 0.00769872,\n",
       "        0.00090045, 0.00126859, 0.00096314, 0.00117609, 0.00205776,\n",
       "        0.0016778 , 0.0006899 , 0.00150748, 0.00233599, 0.00116612,\n",
       "        0.00147783, 0.00921834, 0.00178088, 0.00341596, 0.00144431,\n",
       "        0.00092481, 0.00149055, 0.0004747 , 0.00050826, 0.00187491,\n",
       "        0.00131218, 0.00209002, 0.00086259]),\n",
       " 'std_test_score': array([0.00385178, 0.00370934, 0.00370934, 0.00370934, 0.00382312,\n",
       "        0.00386278, 0.00383633, 0.00381623, 0.0038878 , 0.00390676,\n",
       "        0.00398546, 0.00397296, 0.00387981, 0.00395505, 0.00402024,\n",
       "        0.00403032, 0.003813  , 0.00398878, 0.00408925, 0.00401849,\n",
       "        0.00386243, 0.00401637, 0.00398089, 0.00398331, 0.00386243,\n",
       "        0.00392383, 0.00398175, 0.00391386])}"
      ]
     },
     "execution_count": 28,
     "metadata": {
      "tags": []
     },
     "output_type": "execute_result"
    }
   ],
   "source": [
    "result"
   ]
  },
  {
   "cell_type": "markdown",
   "metadata": {
    "colab_type": "text",
    "id": "a9fKaMtigMND"
   },
   "source": [
    "#### 3、subsample和colsample_bytree"
   ]
  },
  {
   "cell_type": "code",
   "execution_count": 30,
   "metadata": {
    "colab": {
     "base_uri": "https://localhost:8080/",
     "height": 106
    },
    "colab_type": "code",
    "executionInfo": {
     "elapsed": 505102,
     "status": "ok",
     "timestamp": 1594030828741,
     "user": {
      "displayName": "Harold Ran",
      "photoUrl": "",
      "userId": "00745499557779892259"
     },
     "user_tz": -480
    },
    "id": "_7KrtrmtgK4D",
    "outputId": "48040e68-7ab6-42e6-ef45-f327a7aa727a"
   },
   "outputs": [
    {
     "name": "stdout",
     "output_type": "stream",
     "text": [
      "Fitting 10 folds for each of 25 candidates, totalling 250 fits\n"
     ]
    },
    {
     "name": "stderr",
     "output_type": "stream",
     "text": [
      "[Parallel(n_jobs=1)]: Using backend SequentialBackend with 1 concurrent workers.\n",
      "[Parallel(n_jobs=1)]: Done 250 out of 250 | elapsed:  8.4min finished\n"
     ]
    },
    {
     "name": "stdout",
     "output_type": "stream",
     "text": [
      "参数的最佳取值：{'colsample_bytree': 0.6, 'subsample': 0.6}\n",
      "最佳模型得分:-0.013818279893477114\n"
     ]
    }
   ],
   "source": [
    "params = {'learning_rate': 0.01,\n",
    "      'n_estimators': 1850, \n",
    "      'max_depth': 4,\n",
    "      'num_leaves': 20,\n",
    "      'subsample': 0.6,\n",
    "      'colsample_bytree': 0.7,\n",
    "      'min_child_weight': 0.001,\n",
    "      'min_child_samples': 21,\n",
    "      'random_state': 42,\n",
    "      'reg_alpha': 0,\n",
    "      'reg_lambda': 1}\n",
    "cv_params = {'subsample': [0.6, 0.7, 0.8, 0.9, 1.0], 'colsample_bytree': [0.6, 0.7, 0.8, 0.9, 1.0]}\n",
    "lgbr = lgb.LGBMRegressor(**params)\n",
    "grid_lgbr = GridSearchCV(estimator=lgbr, param_grid=cv_params, scoring='neg_mean_squared_error', cv=10, verbose=1)\n",
    "grid_lgbr.fit(np.array(train), np.array(y))\n",
    "result = grid_lgbr.cv_results_\n",
    "#print('每轮迭代运行结果:{}, {}'.format(result['mean_train_score'], result['std_train_score']))\n",
    "print('参数的最佳取值：{}'.format(grid_lgbr.best_params_))\n",
    "print('最佳模型得分:{}'.format(grid_lgbr.best_score_))"
   ]
  },
  {
   "cell_type": "code",
   "execution_count": 31,
   "metadata": {
    "colab": {
     "base_uri": "https://localhost:8080/",
     "height": 1000
    },
    "colab_type": "code",
    "executionInfo": {
     "elapsed": 769,
     "status": "ok",
     "timestamp": 1594031224545,
     "user": {
      "displayName": "Harold Ran",
      "photoUrl": "",
      "userId": "00745499557779892259"
     },
     "user_tz": -480
    },
    "id": "zivmeKSfqhzt",
    "outputId": "f4caf06e-ce79-4828-ac44-891636ed94a6"
   },
   "outputs": [
    {
     "data": {
      "text/plain": [
       "{'mean_fit_time': array([1.64396176, 1.61300182, 1.61825509, 1.60039117, 1.73362584,\n",
       "        1.79676082, 1.76831002, 1.77585108, 1.76979437, 1.77159867,\n",
       "        1.95731888, 1.95850058, 1.96509817, 1.97931077, 1.95889766,\n",
       "        2.15079374, 2.2094703 , 2.12838409, 2.15558629, 2.16080089,\n",
       "        2.47246084, 2.32840312, 2.35173106, 2.38614638, 2.36009274]),\n",
       " 'mean_score_time': array([0.02441113, 0.02384112, 0.02402968, 0.02366283, 0.02950702,\n",
       "        0.02416947, 0.02359538, 0.02436526, 0.02381809, 0.02408462,\n",
       "        0.02464352, 0.02377119, 0.02477858, 0.02418201, 0.02440002,\n",
       "        0.02469022, 0.02437212, 0.0241565 , 0.02365475, 0.02412951,\n",
       "        0.02569928, 0.02338061, 0.02508268, 0.02431736, 0.02386799]),\n",
       " 'mean_test_score': array([-0.01381828, -0.01381828, -0.01381828, -0.01381828, -0.01381828,\n",
       "        -0.01387578, -0.01387578, -0.01387578, -0.01387578, -0.01387578,\n",
       "        -0.01419723, -0.01419723, -0.01419723, -0.01419723, -0.01419723,\n",
       "        -0.01439637, -0.01439637, -0.01439637, -0.01439637, -0.01439637,\n",
       "        -0.01445299, -0.01445299, -0.01445299, -0.01445299, -0.01445299]),\n",
       " 'param_colsample_bytree': masked_array(data=[0.6, 0.6, 0.6, 0.6, 0.6, 0.7, 0.7, 0.7, 0.7, 0.7, 0.8,\n",
       "                    0.8, 0.8, 0.8, 0.8, 0.9, 0.9, 0.9, 0.9, 0.9, 1.0, 1.0,\n",
       "                    1.0, 1.0, 1.0],\n",
       "              mask=[False, False, False, False, False, False, False, False,\n",
       "                    False, False, False, False, False, False, False, False,\n",
       "                    False, False, False, False, False, False, False, False,\n",
       "                    False],\n",
       "        fill_value='?',\n",
       "             dtype=object),\n",
       " 'param_subsample': masked_array(data=[0.6, 0.7, 0.8, 0.9, 1.0, 0.6, 0.7, 0.8, 0.9, 1.0, 0.6,\n",
       "                    0.7, 0.8, 0.9, 1.0, 0.6, 0.7, 0.8, 0.9, 1.0, 0.6, 0.7,\n",
       "                    0.8, 0.9, 1.0],\n",
       "              mask=[False, False, False, False, False, False, False, False,\n",
       "                    False, False, False, False, False, False, False, False,\n",
       "                    False, False, False, False, False, False, False, False,\n",
       "                    False],\n",
       "        fill_value='?',\n",
       "             dtype=object),\n",
       " 'params': [{'colsample_bytree': 0.6, 'subsample': 0.6},\n",
       "  {'colsample_bytree': 0.6, 'subsample': 0.7},\n",
       "  {'colsample_bytree': 0.6, 'subsample': 0.8},\n",
       "  {'colsample_bytree': 0.6, 'subsample': 0.9},\n",
       "  {'colsample_bytree': 0.6, 'subsample': 1.0},\n",
       "  {'colsample_bytree': 0.7, 'subsample': 0.6},\n",
       "  {'colsample_bytree': 0.7, 'subsample': 0.7},\n",
       "  {'colsample_bytree': 0.7, 'subsample': 0.8},\n",
       "  {'colsample_bytree': 0.7, 'subsample': 0.9},\n",
       "  {'colsample_bytree': 0.7, 'subsample': 1.0},\n",
       "  {'colsample_bytree': 0.8, 'subsample': 0.6},\n",
       "  {'colsample_bytree': 0.8, 'subsample': 0.7},\n",
       "  {'colsample_bytree': 0.8, 'subsample': 0.8},\n",
       "  {'colsample_bytree': 0.8, 'subsample': 0.9},\n",
       "  {'colsample_bytree': 0.8, 'subsample': 1.0},\n",
       "  {'colsample_bytree': 0.9, 'subsample': 0.6},\n",
       "  {'colsample_bytree': 0.9, 'subsample': 0.7},\n",
       "  {'colsample_bytree': 0.9, 'subsample': 0.8},\n",
       "  {'colsample_bytree': 0.9, 'subsample': 0.9},\n",
       "  {'colsample_bytree': 0.9, 'subsample': 1.0},\n",
       "  {'colsample_bytree': 1.0, 'subsample': 0.6},\n",
       "  {'colsample_bytree': 1.0, 'subsample': 0.7},\n",
       "  {'colsample_bytree': 1.0, 'subsample': 0.8},\n",
       "  {'colsample_bytree': 1.0, 'subsample': 0.9},\n",
       "  {'colsample_bytree': 1.0, 'subsample': 1.0}],\n",
       " 'rank_test_score': array([ 1,  1,  1,  1,  1,  6,  6,  6,  6,  6, 11, 11, 11, 11, 11, 16, 16,\n",
       "        16, 16, 16, 21, 21, 21, 21, 21], dtype=int32),\n",
       " 'split0_test_score': array([-0.01476743, -0.01476743, -0.01476743, -0.01476743, -0.01476743,\n",
       "        -0.0147727 , -0.0147727 , -0.0147727 , -0.0147727 , -0.0147727 ,\n",
       "        -0.01533954, -0.01533954, -0.01533954, -0.01533954, -0.01533954,\n",
       "        -0.01572493, -0.01572493, -0.01572493, -0.01572493, -0.01572493,\n",
       "        -0.01560819, -0.01560819, -0.01560819, -0.01560819, -0.01560819]),\n",
       " 'split1_test_score': array([-0.00983057, -0.00983057, -0.00983057, -0.00983057, -0.00983057,\n",
       "        -0.00995326, -0.00995326, -0.00995326, -0.00995326, -0.00995326,\n",
       "        -0.01039705, -0.01039705, -0.01039705, -0.01039705, -0.01039705,\n",
       "        -0.01038104, -0.01038104, -0.01038104, -0.01038104, -0.01038104,\n",
       "        -0.01058056, -0.01058056, -0.01058056, -0.01058056, -0.01058056]),\n",
       " 'split2_test_score': array([-0.011802  , -0.011802  , -0.011802  , -0.011802  , -0.011802  ,\n",
       "        -0.0118747 , -0.0118747 , -0.0118747 , -0.0118747 , -0.0118747 ,\n",
       "        -0.01260009, -0.01260009, -0.01260009, -0.01260009, -0.01260009,\n",
       "        -0.01296366, -0.01296366, -0.01296366, -0.01296366, -0.01296366,\n",
       "        -0.01268449, -0.01268449, -0.01268449, -0.01268449, -0.01268449]),\n",
       " 'split3_test_score': array([-0.01876117, -0.01876117, -0.01876117, -0.01876117, -0.01876117,\n",
       "        -0.01871921, -0.01871921, -0.01871921, -0.01871921, -0.01871921,\n",
       "        -0.01891539, -0.01891539, -0.01891539, -0.01891539, -0.01891539,\n",
       "        -0.01918181, -0.01918181, -0.01918181, -0.01918181, -0.01918181,\n",
       "        -0.0193376 , -0.0193376 , -0.0193376 , -0.0193376 , -0.0193376 ]),\n",
       " 'split4_test_score': array([-0.02006828, -0.02006828, -0.02006828, -0.02006828, -0.02006828,\n",
       "        -0.02030219, -0.02030219, -0.02030219, -0.02030219, -0.02030219,\n",
       "        -0.02069483, -0.02069483, -0.02069483, -0.02069483, -0.02069483,\n",
       "        -0.02072425, -0.02072425, -0.02072425, -0.02072425, -0.02072425,\n",
       "        -0.02051032, -0.02051032, -0.02051032, -0.02051032, -0.02051032]),\n",
       " 'split5_test_score': array([-0.01056728, -0.01056728, -0.01056728, -0.01056728, -0.01056728,\n",
       "        -0.01043874, -0.01043874, -0.01043874, -0.01043874, -0.01043874,\n",
       "        -0.01054075, -0.01054075, -0.01054075, -0.01054075, -0.01054075,\n",
       "        -0.01060271, -0.01060271, -0.01060271, -0.01060271, -0.01060271,\n",
       "        -0.01082747, -0.01082747, -0.01082747, -0.01082747, -0.01082747]),\n",
       " 'split6_test_score': array([-0.01513369, -0.01513369, -0.01513369, -0.01513369, -0.01513369,\n",
       "        -0.01523439, -0.01523439, -0.01523439, -0.01523439, -0.01523439,\n",
       "        -0.01559114, -0.01559114, -0.01559114, -0.01559114, -0.01559114,\n",
       "        -0.01556521, -0.01556521, -0.01556521, -0.01556521, -0.01556521,\n",
       "        -0.01569648, -0.01569648, -0.01569648, -0.01569648, -0.01569648]),\n",
       " 'split7_test_score': array([-0.009452  , -0.009452  , -0.009452  , -0.009452  , -0.009452  ,\n",
       "        -0.00956485, -0.00956485, -0.00956485, -0.00956485, -0.00956485,\n",
       "        -0.00980147, -0.00980147, -0.00980147, -0.00980147, -0.00980147,\n",
       "        -0.01034518, -0.01034518, -0.01034518, -0.01034518, -0.01034518,\n",
       "        -0.01050294, -0.01050294, -0.01050294, -0.01050294, -0.01050294]),\n",
       " 'split8_test_score': array([-0.01049808, -0.01049808, -0.01049808, -0.01049808, -0.01049808,\n",
       "        -0.01075627, -0.01075627, -0.01075627, -0.01075627, -0.01075627,\n",
       "        -0.01100393, -0.01100393, -0.01100393, -0.01100393, -0.01100393,\n",
       "        -0.01125573, -0.01125573, -0.01125573, -0.01125573, -0.01125573,\n",
       "        -0.01098539, -0.01098539, -0.01098539, -0.01098539, -0.01098539]),\n",
       " 'split9_test_score': array([-0.01730231, -0.01730231, -0.01730231, -0.01730231, -0.01730231,\n",
       "        -0.01714153, -0.01714153, -0.01714153, -0.01714153, -0.01714153,\n",
       "        -0.01708816, -0.01708816, -0.01708816, -0.01708816, -0.01708816,\n",
       "        -0.0172192 , -0.0172192 , -0.0172192 , -0.0172192 , -0.0172192 ,\n",
       "        -0.0177965 , -0.0177965 , -0.0177965 , -0.0177965 , -0.0177965 ]),\n",
       " 'std_fit_time': array([0.10066936, 0.01661151, 0.02164539, 0.01824596, 0.04975507,\n",
       "        0.08007204, 0.0166871 , 0.02706528, 0.02399214, 0.03238416,\n",
       "        0.0230592 , 0.01848398, 0.0245794 , 0.03049549, 0.01517557,\n",
       "        0.02642342, 0.11132186, 0.02455495, 0.03089342, 0.02790142,\n",
       "        0.18426235, 0.03206581, 0.03312008, 0.04593449, 0.04251388]),\n",
       " 'std_score_time': array([0.00105512, 0.00072276, 0.00034883, 0.00030356, 0.01107612,\n",
       "        0.0012999 , 0.00052964, 0.00106304, 0.00034925, 0.00069796,\n",
       "        0.00173107, 0.00065733, 0.00220972, 0.00111861, 0.0009095 ,\n",
       "        0.00304092, 0.00143554, 0.00114576, 0.00059443, 0.00063067,\n",
       "        0.00363444, 0.00043824, 0.00436104, 0.00095   , 0.00113467]),\n",
       " 'std_test_score': array([0.00372678, 0.00372678, 0.00372678, 0.00372678, 0.00372678,\n",
       "        0.00370934, 0.00370934, 0.00370934, 0.00370934, 0.00370934,\n",
       "        0.00368737, 0.00368737, 0.00368737, 0.00368737, 0.00368737,\n",
       "        0.00364534, 0.00364534, 0.00364534, 0.00364534, 0.00364534,\n",
       "        0.00365384, 0.00365384, 0.00365384, 0.00365384, 0.00365384])}"
      ]
     },
     "execution_count": 31,
     "metadata": {
      "tags": []
     },
     "output_type": "execute_result"
    }
   ],
   "source": [
    "result"
   ]
  },
  {
   "cell_type": "markdown",
   "metadata": {
    "colab_type": "text",
    "id": "0vnO5h5ZqkGF"
   },
   "source": [
    "#### 4、min_child_weight和min_child_samples"
   ]
  },
  {
   "cell_type": "code",
   "execution_count": 32,
   "metadata": {
    "colab": {
     "base_uri": "https://localhost:8080/",
     "height": 106
    },
    "colab_type": "code",
    "executionInfo": {
     "elapsed": 740275,
     "status": "ok",
     "timestamp": 1594032200614,
     "user": {
      "displayName": "Harold Ran",
      "photoUrl": "",
      "userId": "00745499557779892259"
     },
     "user_tz": -480
    },
    "id": "06FywQOcgkhh",
    "outputId": "4cd03595-50cf-496f-c536-c92434c2f968"
   },
   "outputs": [
    {
     "name": "stdout",
     "output_type": "stream",
     "text": [
      "Fitting 10 folds for each of 42 candidates, totalling 420 fits\n"
     ]
    },
    {
     "name": "stderr",
     "output_type": "stream",
     "text": [
      "[Parallel(n_jobs=1)]: Using backend SequentialBackend with 1 concurrent workers.\n",
      "[Parallel(n_jobs=1)]: Done 420 out of 420 | elapsed: 12.3min finished\n"
     ]
    },
    {
     "name": "stdout",
     "output_type": "stream",
     "text": [
      "参数的最佳取值：{'min_child_samples': 21, 'min_child_weight': 0.001}\n",
      "最佳模型得分:-0.013818279893477114\n"
     ]
    }
   ],
   "source": [
    "params = {'learning_rate': 0.01,\n",
    "      'n_estimators': 1850, \n",
    "      'max_depth': 4,\n",
    "      'num_leaves': 20,\n",
    "      'subsample': 0.6,\n",
    "      'colsample_bytree': 0.6,\n",
    "      'min_child_weight': 0.001,\n",
    "      'min_child_samples': 21,\n",
    "      'random_state': 42,\n",
    "      'reg_alpha': 0,\n",
    "      'reg_lambda': 1}\n",
    "cv_params = {'min_child_weight': [0.001, 0.002, 0.005, 0.008, 0.01, 0.02, 0.05], 'min_child_samples': [5, 10, 15, 20, 21, 25]}\n",
    "lgbr = lgb.LGBMRegressor(**params)\n",
    "grid_lgbr = GridSearchCV(estimator=lgbr, param_grid=cv_params, scoring='neg_mean_squared_error', cv=10, verbose=1)\n",
    "grid_lgbr.fit(np.array(train), np.array(y))\n",
    "result = grid_lgbr.cv_results_\n",
    "#print('每轮迭代运行结果:{}, {}'.format(result['mean_train_score'], result['std_train_score']))\n",
    "print('参数的最佳取值：{}'.format(grid_lgbr.best_params_))\n",
    "print('最佳模型得分:{}'.format(grid_lgbr.best_score_))"
   ]
  },
  {
   "cell_type": "code",
   "execution_count": 33,
   "metadata": {
    "colab": {
     "base_uri": "https://localhost:8080/",
     "height": 1000
    },
    "colab_type": "code",
    "executionInfo": {
     "elapsed": 1047,
     "status": "ok",
     "timestamp": 1594032291893,
     "user": {
      "displayName": "Harold Ran",
      "photoUrl": "",
      "userId": "00745499557779892259"
     },
     "user_tz": -480
    },
    "id": "knxVrm1urc5e",
    "outputId": "49a1cfe9-a49d-4cfe-ba14-15898861ca7a"
   },
   "outputs": [
    {
     "data": {
      "text/plain": [
       "{'mean_fit_time': array([1.9689527 , 1.95498285, 1.95396619, 1.95819476, 2.02154586,\n",
       "        1.97477007, 1.96248043, 1.81906269, 1.81380773, 1.81392717,\n",
       "        1.922031  , 1.91738238, 1.82323477, 1.82308898, 1.69869943,\n",
       "        1.73395798, 1.72690392, 1.7759913 , 1.78114302, 1.78387098,\n",
       "        1.74740906, 1.79377067, 1.6225359 , 1.60954332, 1.60326838,\n",
       "        1.609126  , 1.60696466, 1.60342436, 1.59300976, 1.67651534,\n",
       "        1.60292559, 1.58916082, 1.59629402, 1.6079495 , 1.60067475,\n",
       "        1.53513186, 1.56054807, 1.55584438, 1.54361894, 1.54104311,\n",
       "        1.70833974, 1.54863577]),\n",
       " 'mean_score_time': array([0.02445314, 0.02432151, 0.02422614, 0.02452335, 0.02471414,\n",
       "        0.02413599, 0.02422316, 0.02422619, 0.02445507, 0.02458189,\n",
       "        0.02527494, 0.02539561, 0.02404635, 0.02465789, 0.02464151,\n",
       "        0.02465591, 0.02506652, 0.02513893, 0.02460186, 0.02656541,\n",
       "        0.02501915, 0.02696495, 0.02458901, 0.02431498, 0.02436025,\n",
       "        0.02405581, 0.02422616, 0.02444775, 0.02388492, 0.02448123,\n",
       "        0.02432466, 0.02422645, 0.02476287, 0.02404876, 0.02509506,\n",
       "        0.02420428, 0.02456336, 0.02479384, 0.02433712, 0.02493508,\n",
       "        0.02641017, 0.02395196]),\n",
       " 'mean_test_score': array([-0.01415658, -0.01415658, -0.01415658, -0.01415658, -0.01415658,\n",
       "        -0.01415658, -0.01415658, -0.01422634, -0.01422634, -0.01422634,\n",
       "        -0.01422634, -0.01422634, -0.01422634, -0.01422634, -0.01398241,\n",
       "        -0.01398241, -0.01398241, -0.01398241, -0.01398241, -0.01398241,\n",
       "        -0.01398241, -0.01383046, -0.01383046, -0.01383046, -0.01383046,\n",
       "        -0.01383046, -0.01383046, -0.01383046, -0.01381828, -0.01381828,\n",
       "        -0.01381828, -0.01381828, -0.01381828, -0.01381828, -0.01381828,\n",
       "        -0.01388959, -0.01388959, -0.01388959, -0.01388959, -0.01388959,\n",
       "        -0.01388959, -0.01388959]),\n",
       " 'param_min_child_samples': masked_array(data=[5, 5, 5, 5, 5, 5, 5, 10, 10, 10, 10, 10, 10, 10, 15,\n",
       "                    15, 15, 15, 15, 15, 15, 20, 20, 20, 20, 20, 20, 20, 21,\n",
       "                    21, 21, 21, 21, 21, 21, 25, 25, 25, 25, 25, 25, 25],\n",
       "              mask=[False, False, False, False, False, False, False, False,\n",
       "                    False, False, False, False, False, False, False, False,\n",
       "                    False, False, False, False, False, False, False, False,\n",
       "                    False, False, False, False, False, False, False, False,\n",
       "                    False, False, False, False, False, False, False, False,\n",
       "                    False, False],\n",
       "        fill_value='?',\n",
       "             dtype=object),\n",
       " 'param_min_child_weight': masked_array(data=[0.001, 0.002, 0.005, 0.008, 0.01, 0.02, 0.05, 0.001,\n",
       "                    0.002, 0.005, 0.008, 0.01, 0.02, 0.05, 0.001, 0.002,\n",
       "                    0.005, 0.008, 0.01, 0.02, 0.05, 0.001, 0.002, 0.005,\n",
       "                    0.008, 0.01, 0.02, 0.05, 0.001, 0.002, 0.005, 0.008,\n",
       "                    0.01, 0.02, 0.05, 0.001, 0.002, 0.005, 0.008, 0.01,\n",
       "                    0.02, 0.05],\n",
       "              mask=[False, False, False, False, False, False, False, False,\n",
       "                    False, False, False, False, False, False, False, False,\n",
       "                    False, False, False, False, False, False, False, False,\n",
       "                    False, False, False, False, False, False, False, False,\n",
       "                    False, False, False, False, False, False, False, False,\n",
       "                    False, False],\n",
       "        fill_value='?',\n",
       "             dtype=object),\n",
       " 'params': [{'min_child_samples': 5, 'min_child_weight': 0.001},\n",
       "  {'min_child_samples': 5, 'min_child_weight': 0.002},\n",
       "  {'min_child_samples': 5, 'min_child_weight': 0.005},\n",
       "  {'min_child_samples': 5, 'min_child_weight': 0.008},\n",
       "  {'min_child_samples': 5, 'min_child_weight': 0.01},\n",
       "  {'min_child_samples': 5, 'min_child_weight': 0.02},\n",
       "  {'min_child_samples': 5, 'min_child_weight': 0.05},\n",
       "  {'min_child_samples': 10, 'min_child_weight': 0.001},\n",
       "  {'min_child_samples': 10, 'min_child_weight': 0.002},\n",
       "  {'min_child_samples': 10, 'min_child_weight': 0.005},\n",
       "  {'min_child_samples': 10, 'min_child_weight': 0.008},\n",
       "  {'min_child_samples': 10, 'min_child_weight': 0.01},\n",
       "  {'min_child_samples': 10, 'min_child_weight': 0.02},\n",
       "  {'min_child_samples': 10, 'min_child_weight': 0.05},\n",
       "  {'min_child_samples': 15, 'min_child_weight': 0.001},\n",
       "  {'min_child_samples': 15, 'min_child_weight': 0.002},\n",
       "  {'min_child_samples': 15, 'min_child_weight': 0.005},\n",
       "  {'min_child_samples': 15, 'min_child_weight': 0.008},\n",
       "  {'min_child_samples': 15, 'min_child_weight': 0.01},\n",
       "  {'min_child_samples': 15, 'min_child_weight': 0.02},\n",
       "  {'min_child_samples': 15, 'min_child_weight': 0.05},\n",
       "  {'min_child_samples': 20, 'min_child_weight': 0.001},\n",
       "  {'min_child_samples': 20, 'min_child_weight': 0.002},\n",
       "  {'min_child_samples': 20, 'min_child_weight': 0.005},\n",
       "  {'min_child_samples': 20, 'min_child_weight': 0.008},\n",
       "  {'min_child_samples': 20, 'min_child_weight': 0.01},\n",
       "  {'min_child_samples': 20, 'min_child_weight': 0.02},\n",
       "  {'min_child_samples': 20, 'min_child_weight': 0.05},\n",
       "  {'min_child_samples': 21, 'min_child_weight': 0.001},\n",
       "  {'min_child_samples': 21, 'min_child_weight': 0.002},\n",
       "  {'min_child_samples': 21, 'min_child_weight': 0.005},\n",
       "  {'min_child_samples': 21, 'min_child_weight': 0.008},\n",
       "  {'min_child_samples': 21, 'min_child_weight': 0.01},\n",
       "  {'min_child_samples': 21, 'min_child_weight': 0.02},\n",
       "  {'min_child_samples': 21, 'min_child_weight': 0.05},\n",
       "  {'min_child_samples': 25, 'min_child_weight': 0.001},\n",
       "  {'min_child_samples': 25, 'min_child_weight': 0.002},\n",
       "  {'min_child_samples': 25, 'min_child_weight': 0.005},\n",
       "  {'min_child_samples': 25, 'min_child_weight': 0.008},\n",
       "  {'min_child_samples': 25, 'min_child_weight': 0.01},\n",
       "  {'min_child_samples': 25, 'min_child_weight': 0.02},\n",
       "  {'min_child_samples': 25, 'min_child_weight': 0.05}],\n",
       " 'rank_test_score': array([29, 29, 29, 29, 29, 29, 29, 36, 36, 36, 36, 36, 36, 36, 22, 22, 22,\n",
       "        22, 22, 22, 22,  8,  8,  8,  8,  8,  8,  8,  1,  1,  1,  1,  1,  1,\n",
       "         1, 15, 15, 15, 15, 15, 15, 15], dtype=int32),\n",
       " 'split0_test_score': array([-0.01456888, -0.01456888, -0.01456888, -0.01456888, -0.01456888,\n",
       "        -0.01456888, -0.01456888, -0.01443552, -0.01443552, -0.01443552,\n",
       "        -0.01443552, -0.01443552, -0.01443552, -0.01443552, -0.01457215,\n",
       "        -0.01457215, -0.01457215, -0.01457215, -0.01457215, -0.01457215,\n",
       "        -0.01457215, -0.01488996, -0.01488996, -0.01488996, -0.01488996,\n",
       "        -0.01488996, -0.01488996, -0.01488996, -0.01476743, -0.01476743,\n",
       "        -0.01476743, -0.01476743, -0.01476743, -0.01476743, -0.01476743,\n",
       "        -0.0143872 , -0.0143872 , -0.0143872 , -0.0143872 , -0.0143872 ,\n",
       "        -0.0143872 , -0.0143872 ]),\n",
       " 'split1_test_score': array([-0.00984885, -0.00984885, -0.00984885, -0.00984885, -0.00984885,\n",
       "        -0.00984885, -0.00984885, -0.00939996, -0.00939996, -0.00939996,\n",
       "        -0.00939996, -0.00939996, -0.00939996, -0.00939996, -0.00985143,\n",
       "        -0.00985143, -0.00985143, -0.00985143, -0.00985143, -0.00985143,\n",
       "        -0.00985143, -0.00986664, -0.00986664, -0.00986664, -0.00986664,\n",
       "        -0.00986664, -0.00986664, -0.00986664, -0.00983057, -0.00983057,\n",
       "        -0.00983057, -0.00983057, -0.00983057, -0.00983057, -0.00983057,\n",
       "        -0.00973032, -0.00973032, -0.00973032, -0.00973032, -0.00973032,\n",
       "        -0.00973032, -0.00973032]),\n",
       " 'split2_test_score': array([-0.01205705, -0.01205705, -0.01205705, -0.01205705, -0.01205705,\n",
       "        -0.01205705, -0.01205705, -0.01179943, -0.01179943, -0.01179943,\n",
       "        -0.01179943, -0.01179943, -0.01179943, -0.01179943, -0.01160425,\n",
       "        -0.01160425, -0.01160425, -0.01160425, -0.01160425, -0.01160425,\n",
       "        -0.01160425, -0.01175296, -0.01175296, -0.01175296, -0.01175296,\n",
       "        -0.01175296, -0.01175296, -0.01175296, -0.011802  , -0.011802  ,\n",
       "        -0.011802  , -0.011802  , -0.011802  , -0.011802  , -0.011802  ,\n",
       "        -0.01262891, -0.01262891, -0.01262891, -0.01262891, -0.01262891,\n",
       "        -0.01262891, -0.01262891]),\n",
       " 'split3_test_score': array([-0.01900372, -0.01900372, -0.01900372, -0.01900372, -0.01900372,\n",
       "        -0.01900372, -0.01900372, -0.01879038, -0.01879038, -0.01879038,\n",
       "        -0.01879038, -0.01879038, -0.01879038, -0.01879038, -0.01901558,\n",
       "        -0.01901558, -0.01901558, -0.01901558, -0.01901558, -0.01901558,\n",
       "        -0.01901558, -0.01892517, -0.01892517, -0.01892517, -0.01892517,\n",
       "        -0.01892517, -0.01892517, -0.01892517, -0.01876117, -0.01876117,\n",
       "        -0.01876117, -0.01876117, -0.01876117, -0.01876117, -0.01876117,\n",
       "        -0.01853109, -0.01853109, -0.01853109, -0.01853109, -0.01853109,\n",
       "        -0.01853109, -0.01853109]),\n",
       " 'split4_test_score': array([-0.02090715, -0.02090715, -0.02090715, -0.02090715, -0.02090715,\n",
       "        -0.02090715, -0.02090715, -0.02173261, -0.02173261, -0.02173261,\n",
       "        -0.02173261, -0.02173261, -0.02173261, -0.02173261, -0.02009692,\n",
       "        -0.02009692, -0.02009692, -0.02009692, -0.02009692, -0.02009692,\n",
       "        -0.02009692, -0.01965859, -0.01965859, -0.01965859, -0.01965859,\n",
       "        -0.01965859, -0.01965859, -0.01965859, -0.02006828, -0.02006828,\n",
       "        -0.02006828, -0.02006828, -0.02006828, -0.02006828, -0.02006828,\n",
       "        -0.02008988, -0.02008988, -0.02008988, -0.02008988, -0.02008988,\n",
       "        -0.02008988, -0.02008988]),\n",
       " 'split5_test_score': array([-0.01167846, -0.01167846, -0.01167846, -0.01167846, -0.01167846,\n",
       "        -0.01167846, -0.01167846, -0.01103099, -0.01103099, -0.01103099,\n",
       "        -0.01103099, -0.01103099, -0.01103099, -0.01103099, -0.01104557,\n",
       "        -0.01104557, -0.01104557, -0.01104557, -0.01104557, -0.01104557,\n",
       "        -0.01104557, -0.01062617, -0.01062617, -0.01062617, -0.01062617,\n",
       "        -0.01062617, -0.01062617, -0.01062617, -0.01056728, -0.01056728,\n",
       "        -0.01056728, -0.01056728, -0.01056728, -0.01056728, -0.01056728,\n",
       "        -0.01083225, -0.01083225, -0.01083225, -0.01083225, -0.01083225,\n",
       "        -0.01083225, -0.01083225]),\n",
       " 'split6_test_score': array([-0.0157218 , -0.0157218 , -0.0157218 , -0.0157218 , -0.0157218 ,\n",
       "        -0.0157218 , -0.0157218 , -0.01665497, -0.01665497, -0.01665497,\n",
       "        -0.01665497, -0.01665497, -0.01665497, -0.01665497, -0.01574816,\n",
       "        -0.01574816, -0.01574816, -0.01574816, -0.01574816, -0.01574816,\n",
       "        -0.01574816, -0.01510465, -0.01510465, -0.01510465, -0.01510465,\n",
       "        -0.01510465, -0.01510465, -0.01510465, -0.01513369, -0.01513369,\n",
       "        -0.01513369, -0.01513369, -0.01513369, -0.01513369, -0.01513369,\n",
       "        -0.01596419, -0.01596419, -0.01596419, -0.01596419, -0.01596419,\n",
       "        -0.01596419, -0.01596419]),\n",
       " 'split7_test_score': array([-0.01036502, -0.01036502, -0.01036502, -0.01036502, -0.01036502,\n",
       "        -0.01036502, -0.01036502, -0.0100519 , -0.0100519 , -0.0100519 ,\n",
       "        -0.0100519 , -0.0100519 , -0.0100519 , -0.0100519 , -0.01013619,\n",
       "        -0.01013619, -0.01013619, -0.01013619, -0.01013619, -0.01013619,\n",
       "        -0.01013619, -0.00979155, -0.00979155, -0.00979155, -0.00979155,\n",
       "        -0.00979155, -0.00979155, -0.00979155, -0.009452  , -0.009452  ,\n",
       "        -0.009452  , -0.009452  , -0.009452  , -0.009452  , -0.009452  ,\n",
       "        -0.00950701, -0.00950701, -0.00950701, -0.00950701, -0.00950701,\n",
       "        -0.00950701, -0.00950701]),\n",
       " 'split8_test_score': array([-0.01003241, -0.01003241, -0.01003241, -0.01003241, -0.01003241,\n",
       "        -0.01003241, -0.01003241, -0.01084854, -0.01084854, -0.01084854,\n",
       "        -0.01084854, -0.01084854, -0.01084854, -0.01084854, -0.01071489,\n",
       "        -0.01071489, -0.01071489, -0.01071489, -0.01071489, -0.01071489,\n",
       "        -0.01071489, -0.0104782 , -0.0104782 , -0.0104782 , -0.0104782 ,\n",
       "        -0.0104782 , -0.0104782 , -0.0104782 , -0.01049808, -0.01049808,\n",
       "        -0.01049808, -0.01049808, -0.01049808, -0.01049808, -0.01049808,\n",
       "        -0.01094665, -0.01094665, -0.01094665, -0.01094665, -0.01094665,\n",
       "        -0.01094665, -0.01094665]),\n",
       " 'split9_test_score': array([-0.01738242, -0.01738242, -0.01738242, -0.01738242, -0.01738242,\n",
       "        -0.01738242, -0.01738242, -0.01751912, -0.01751912, -0.01751912,\n",
       "        -0.01751912, -0.01751912, -0.01751912, -0.01751912, -0.01703894,\n",
       "        -0.01703894, -0.01703894, -0.01703894, -0.01703894, -0.01703894,\n",
       "        -0.01703894, -0.01721068, -0.01721068, -0.01721068, -0.01721068,\n",
       "        -0.01721068, -0.01721068, -0.01721068, -0.01730231, -0.01730231,\n",
       "        -0.01730231, -0.01730231, -0.01730231, -0.01730231, -0.01730231,\n",
       "        -0.01627843, -0.01627843, -0.01627843, -0.01627843, -0.01627843,\n",
       "        -0.01627843, -0.01627843]),\n",
       " 'std_fit_time': array([0.02995692, 0.03221625, 0.02486426, 0.02477082, 0.10118581,\n",
       "        0.0307797 , 0.02571764, 0.03039573, 0.02286745, 0.01973387,\n",
       "        0.08559329, 0.10049078, 0.02589198, 0.03248321, 0.02640132,\n",
       "        0.02489779, 0.02604344, 0.02894159, 0.04429941, 0.04764793,\n",
       "        0.04314328, 0.20049996, 0.02029442, 0.0124204 , 0.01221111,\n",
       "        0.01811285, 0.01710625, 0.01366431, 0.01689867, 0.06272926,\n",
       "        0.01876536, 0.02003151, 0.01690002, 0.02803441, 0.01565388,\n",
       "        0.01703166, 0.0277592 , 0.02854613, 0.02343211, 0.01933291,\n",
       "        0.20650739, 0.02305705]),\n",
       " 'std_score_time': array([0.00104891, 0.0014939 , 0.00059832, 0.00122863, 0.00104626,\n",
       "        0.00057913, 0.00066101, 0.0006573 , 0.00074979, 0.00072324,\n",
       "        0.0010915 , 0.00181011, 0.0004712 , 0.00169062, 0.00108222,\n",
       "        0.00108235, 0.0011225 , 0.00100622, 0.00055177, 0.00312339,\n",
       "        0.00109075, 0.00348297, 0.00156827, 0.00127052, 0.00090116,\n",
       "        0.00052781, 0.00164137, 0.00065264, 0.00049705, 0.00083709,\n",
       "        0.00072403, 0.00074284, 0.00170303, 0.0003979 , 0.00303572,\n",
       "        0.00065568, 0.00075797, 0.0012494 , 0.00057074, 0.00173606,\n",
       "        0.00331839, 0.00075656]),\n",
       " 'std_test_score': array([0.00377599, 0.00377599, 0.00377599, 0.00377599, 0.00377599,\n",
       "        0.00377599, 0.00377599, 0.00402726, 0.00402726, 0.00402726,\n",
       "        0.00402726, 0.00402726, 0.00402726, 0.00402726, 0.00363791,\n",
       "        0.00363791, 0.00363791, 0.00363791, 0.00363791, 0.00363791,\n",
       "        0.00363791, 0.00363237, 0.00363237, 0.00363237, 0.00363237,\n",
       "        0.00363237, 0.00363237, 0.00363237, 0.00372678, 0.00372678,\n",
       "        0.00372678, 0.00372678, 0.00372678, 0.00372678, 0.00372678,\n",
       "        0.00355457, 0.00355457, 0.00355457, 0.00355457, 0.00355457,\n",
       "        0.00355457, 0.00355457])}"
      ]
     },
     "execution_count": 33,
     "metadata": {
      "tags": []
     },
     "output_type": "execute_result"
    }
   ],
   "source": [
    "result"
   ]
  },
  {
   "cell_type": "markdown",
   "metadata": {
    "colab_type": "text",
    "id": "VDHz9gIrupX9"
   },
   "source": [
    "#### 5、reg_alpha和reg_lambda"
   ]
  },
  {
   "cell_type": "code",
   "execution_count": 35,
   "metadata": {
    "colab": {
     "base_uri": "https://localhost:8080/",
     "height": 106
    },
    "colab_type": "code",
    "executionInfo": {
     "elapsed": 667499,
     "status": "ok",
     "timestamp": 1594033654312,
     "user": {
      "displayName": "Harold Ran",
      "photoUrl": "",
      "userId": "00745499557779892259"
     },
     "user_tz": -480
    },
    "id": "xhAIyP9Funqe",
    "outputId": "bb74685f-1b78-4787-86e1-82d841b15031"
   },
   "outputs": [
    {
     "name": "stdout",
     "output_type": "stream",
     "text": [
      "Fitting 10 folds for each of 42 candidates, totalling 420 fits\n"
     ]
    },
    {
     "name": "stderr",
     "output_type": "stream",
     "text": [
      "[Parallel(n_jobs=1)]: Using backend SequentialBackend with 1 concurrent workers.\n",
      "[Parallel(n_jobs=1)]: Done 420 out of 420 | elapsed: 11.1min finished\n"
     ]
    },
    {
     "name": "stdout",
     "output_type": "stream",
     "text": [
      "参数的最佳取值：{'reg_alpha': 0, 'reg_lambda': 0.05}\n",
      "最佳模型得分:-0.013749403416544945\n"
     ]
    }
   ],
   "source": [
    "params = {'learning_rate': 0.01,\n",
    "      'n_estimators': 1850, \n",
    "      'max_depth': 4,\n",
    "      'num_leaves': 20,\n",
    "      'subsample': 0.6,\n",
    "      'colsample_bytree': 0.6,\n",
    "      'min_child_weight': 0.001,\n",
    "      'min_child_samples': 21,\n",
    "      'random_state': 42,\n",
    "      'reg_alpha': 0,\n",
    "      'reg_lambda': 1}\n",
    "cv_params = {'reg_alpha': [0, 0.05, 0.1, 0.5, 1, 2, 3], 'reg_lambda': [0.05, 0.1, 0.5, 1, 2, 3]}\n",
    "lgbr = lgb.LGBMRegressor(**params)\n",
    "grid_lgbr = GridSearchCV(estimator=lgbr, param_grid=cv_params, scoring='neg_mean_squared_error', cv=10, verbose=1)\n",
    "grid_lgbr.fit(np.array(train), np.array(y))\n",
    "result = grid_lgbr.cv_results_\n",
    "#print('每轮迭代运行结果:{}, {}'.format(result['mean_train_score'], result['std_train_score']))\n",
    "print('参数的最佳取值：{}'.format(grid_lgbr.best_params_))\n",
    "print('最佳模型得分:{}'.format(grid_lgbr.best_score_))"
   ]
  },
  {
   "cell_type": "code",
   "execution_count": 36,
   "metadata": {
    "colab": {
     "base_uri": "https://localhost:8080/",
     "height": 1000
    },
    "colab_type": "code",
    "executionInfo": {
     "elapsed": 811,
     "status": "ok",
     "timestamp": 1594034324240,
     "user": {
      "displayName": "Harold Ran",
      "photoUrl": "",
      "userId": "00745499557779892259"
     },
     "user_tz": -480
    },
    "id": "lmT0U-8bu6dB",
    "outputId": "fdfda2ff-399d-46e5-9d16-82cec38edb22"
   },
   "outputs": [
    {
     "data": {
      "text/plain": [
       "{'mean_fit_time': array([1.60859127, 1.61338716, 1.60780816, 1.61030126, 1.60379112,\n",
       "        1.60750716, 1.73709533, 1.66381371, 1.66974664, 1.65426681,\n",
       "        1.63110368, 1.61240075, 1.66580362, 1.67241127, 1.66642861,\n",
       "        1.69009402, 1.79282868, 1.6476521 , 1.68173707, 1.70654979,\n",
       "        1.70440319, 1.6709168 , 1.71427481, 1.64946387, 1.70986683,\n",
       "        1.65124054, 1.63689225, 1.6239141 , 1.65973372, 1.6339812 ,\n",
       "        1.42474692, 1.39159753, 1.39166746, 1.40600307, 1.39640951,\n",
       "        1.46104305, 1.1930007 , 1.1818526 , 1.16700189, 1.19942396,\n",
       "        1.18900833, 1.21089697]),\n",
       " 'mean_score_time': array([0.02449822, 0.02509604, 0.02481582, 0.02446148, 0.02442393,\n",
       "        0.02439198, 0.02581816, 0.02522902, 0.02544799, 0.02483044,\n",
       "        0.02589951, 0.02522395, 0.0260618 , 0.02442043, 0.02490325,\n",
       "        0.02516918, 0.02645836, 0.02480161, 0.02537348, 0.02605722,\n",
       "        0.02639475, 0.02529082, 0.02680974, 0.02574973, 0.02864285,\n",
       "        0.0255151 , 0.02489049, 0.0248965 , 0.02641051, 0.0260129 ,\n",
       "        0.0236001 , 0.02338319, 0.02375166, 0.02332695, 0.02393961,\n",
       "        0.02505455, 0.01826093, 0.01825647, 0.0179997 , 0.01886647,\n",
       "        0.01873972, 0.01912775]),\n",
       " 'mean_test_score': array([-0.0137494 , -0.01377541, -0.01381379, -0.01381828, -0.01386698,\n",
       "        -0.01396762, -0.01378068, -0.01380959, -0.01382666, -0.01379645,\n",
       "        -0.0138135 , -0.01394468, -0.01384042, -0.013835  , -0.0138161 ,\n",
       "        -0.01385222, -0.01392922, -0.01405628, -0.01412583, -0.01417443,\n",
       "        -0.01412443, -0.01421274, -0.01418524, -0.01430556, -0.01458833,\n",
       "        -0.01461076, -0.01470853, -0.01471551, -0.01483725, -0.01498058,\n",
       "        -0.01584572, -0.01581198, -0.01582201, -0.01586905, -0.01587204,\n",
       "        -0.01594619, -0.0170868 , -0.0170735 , -0.0171371 , -0.01714987,\n",
       "        -0.01713418, -0.01717068]),\n",
       " 'param_reg_alpha': masked_array(data=[0, 0, 0, 0, 0, 0, 0.05, 0.05, 0.05, 0.05, 0.05, 0.05,\n",
       "                    0.1, 0.1, 0.1, 0.1, 0.1, 0.1, 0.5, 0.5, 0.5, 0.5, 0.5,\n",
       "                    0.5, 1, 1, 1, 1, 1, 1, 2, 2, 2, 2, 2, 2, 3, 3, 3, 3, 3,\n",
       "                    3],\n",
       "              mask=[False, False, False, False, False, False, False, False,\n",
       "                    False, False, False, False, False, False, False, False,\n",
       "                    False, False, False, False, False, False, False, False,\n",
       "                    False, False, False, False, False, False, False, False,\n",
       "                    False, False, False, False, False, False, False, False,\n",
       "                    False, False],\n",
       "        fill_value='?',\n",
       "             dtype=object),\n",
       " 'param_reg_lambda': masked_array(data=[0.05, 0.1, 0.5, 1, 2, 3, 0.05, 0.1, 0.5, 1, 2, 3, 0.05,\n",
       "                    0.1, 0.5, 1, 2, 3, 0.05, 0.1, 0.5, 1, 2, 3, 0.05, 0.1,\n",
       "                    0.5, 1, 2, 3, 0.05, 0.1, 0.5, 1, 2, 3, 0.05, 0.1, 0.5,\n",
       "                    1, 2, 3],\n",
       "              mask=[False, False, False, False, False, False, False, False,\n",
       "                    False, False, False, False, False, False, False, False,\n",
       "                    False, False, False, False, False, False, False, False,\n",
       "                    False, False, False, False, False, False, False, False,\n",
       "                    False, False, False, False, False, False, False, False,\n",
       "                    False, False],\n",
       "        fill_value='?',\n",
       "             dtype=object),\n",
       " 'params': [{'reg_alpha': 0, 'reg_lambda': 0.05},\n",
       "  {'reg_alpha': 0, 'reg_lambda': 0.1},\n",
       "  {'reg_alpha': 0, 'reg_lambda': 0.5},\n",
       "  {'reg_alpha': 0, 'reg_lambda': 1},\n",
       "  {'reg_alpha': 0, 'reg_lambda': 2},\n",
       "  {'reg_alpha': 0, 'reg_lambda': 3},\n",
       "  {'reg_alpha': 0.05, 'reg_lambda': 0.05},\n",
       "  {'reg_alpha': 0.05, 'reg_lambda': 0.1},\n",
       "  {'reg_alpha': 0.05, 'reg_lambda': 0.5},\n",
       "  {'reg_alpha': 0.05, 'reg_lambda': 1},\n",
       "  {'reg_alpha': 0.05, 'reg_lambda': 2},\n",
       "  {'reg_alpha': 0.05, 'reg_lambda': 3},\n",
       "  {'reg_alpha': 0.1, 'reg_lambda': 0.05},\n",
       "  {'reg_alpha': 0.1, 'reg_lambda': 0.1},\n",
       "  {'reg_alpha': 0.1, 'reg_lambda': 0.5},\n",
       "  {'reg_alpha': 0.1, 'reg_lambda': 1},\n",
       "  {'reg_alpha': 0.1, 'reg_lambda': 2},\n",
       "  {'reg_alpha': 0.1, 'reg_lambda': 3},\n",
       "  {'reg_alpha': 0.5, 'reg_lambda': 0.05},\n",
       "  {'reg_alpha': 0.5, 'reg_lambda': 0.1},\n",
       "  {'reg_alpha': 0.5, 'reg_lambda': 0.5},\n",
       "  {'reg_alpha': 0.5, 'reg_lambda': 1},\n",
       "  {'reg_alpha': 0.5, 'reg_lambda': 2},\n",
       "  {'reg_alpha': 0.5, 'reg_lambda': 3},\n",
       "  {'reg_alpha': 1, 'reg_lambda': 0.05},\n",
       "  {'reg_alpha': 1, 'reg_lambda': 0.1},\n",
       "  {'reg_alpha': 1, 'reg_lambda': 0.5},\n",
       "  {'reg_alpha': 1, 'reg_lambda': 1},\n",
       "  {'reg_alpha': 1, 'reg_lambda': 2},\n",
       "  {'reg_alpha': 1, 'reg_lambda': 3},\n",
       "  {'reg_alpha': 2, 'reg_lambda': 0.05},\n",
       "  {'reg_alpha': 2, 'reg_lambda': 0.1},\n",
       "  {'reg_alpha': 2, 'reg_lambda': 0.5},\n",
       "  {'reg_alpha': 2, 'reg_lambda': 1},\n",
       "  {'reg_alpha': 2, 'reg_lambda': 2},\n",
       "  {'reg_alpha': 2, 'reg_lambda': 3},\n",
       "  {'reg_alpha': 3, 'reg_lambda': 0.05},\n",
       "  {'reg_alpha': 3, 'reg_lambda': 0.1},\n",
       "  {'reg_alpha': 3, 'reg_lambda': 0.5},\n",
       "  {'reg_alpha': 3, 'reg_lambda': 1},\n",
       "  {'reg_alpha': 3, 'reg_lambda': 2},\n",
       "  {'reg_alpha': 3, 'reg_lambda': 3}],\n",
       " 'rank_test_score': array([ 1,  2,  7,  9, 14, 17,  3,  5, 10,  4,  6, 16, 12, 11,  8, 13, 15,\n",
       "        18, 20, 21, 19, 23, 22, 24, 25, 26, 27, 28, 29, 30, 33, 31, 32, 34,\n",
       "        35, 36, 38, 37, 40, 41, 39, 42], dtype=int32),\n",
       " 'split0_test_score': array([-0.01458856, -0.01450107, -0.01458297, -0.01476743, -0.01442179,\n",
       "        -0.01460148, -0.01431642, -0.01451075, -0.01445347, -0.01427564,\n",
       "        -0.01425039, -0.01448702, -0.01442967, -0.01459359, -0.014384  ,\n",
       "        -0.01448151, -0.01437206, -0.0145921 , -0.01416252, -0.01408255,\n",
       "        -0.01389463, -0.01390873, -0.01410202, -0.01410524, -0.01411279,\n",
       "        -0.01405747, -0.01420348, -0.01446286, -0.01440295, -0.01479116,\n",
       "        -0.01496832, -0.01496958, -0.01505017, -0.01501965, -0.01511614,\n",
       "        -0.01530566, -0.01638283, -0.01634005, -0.01631315, -0.01637768,\n",
       "        -0.01646207, -0.01654087]),\n",
       " 'split1_test_score': array([-0.00985122, -0.00995423, -0.00984216, -0.00983057, -0.00981241,\n",
       "        -0.00993864, -0.00964997, -0.00982053, -0.00999057, -0.0098171 ,\n",
       "        -0.00983857, -0.0100333 , -0.00982082, -0.00987119, -0.0098114 ,\n",
       "        -0.00985218, -0.0099753 , -0.0101902 , -0.01027428, -0.01022529,\n",
       "        -0.01030264, -0.01035366, -0.01050246, -0.01042381, -0.01098254,\n",
       "        -0.01095006, -0.01089761, -0.01082125, -0.01081956, -0.01097281,\n",
       "        -0.01153834, -0.01145299, -0.01146688, -0.01165576, -0.01162547,\n",
       "        -0.01163267, -0.01245405, -0.01243526, -0.01259139, -0.01243131,\n",
       "        -0.01232415, -0.01239417]),\n",
       " 'split2_test_score': array([-0.01171996, -0.01164978, -0.01165696, -0.011802  , -0.01188037,\n",
       "        -0.01201359, -0.01163563, -0.01183827, -0.0117773 , -0.01186675,\n",
       "        -0.011705  , -0.01207164, -0.01179636, -0.01165055, -0.01190038,\n",
       "        -0.01196859, -0.01189891, -0.01213272, -0.01236186, -0.01244244,\n",
       "        -0.01240588, -0.01259822, -0.01250688, -0.01275231, -0.01302086,\n",
       "        -0.0132092 , -0.01322824, -0.01319693, -0.01327245, -0.01351563,\n",
       "        -0.01416789, -0.01418438, -0.01428696, -0.01419622, -0.01409615,\n",
       "        -0.01411057, -0.0152831 , -0.01515911, -0.01547505, -0.0153901 ,\n",
       "        -0.01530176, -0.01537438]),\n",
       " 'split3_test_score': array([-0.01885163, -0.01859301, -0.01877397, -0.01876117, -0.01906865,\n",
       "        -0.0191807 , -0.01880223, -0.01878703, -0.01879359, -0.01883131,\n",
       "        -0.01891468, -0.01891676, -0.01890648, -0.01889896, -0.01880937,\n",
       "        -0.01872622, -0.01908191, -0.01905606, -0.01910886, -0.01910286,\n",
       "        -0.01900458, -0.0191377 , -0.01895597, -0.01916657, -0.0192298 ,\n",
       "        -0.01906386, -0.01919   , -0.01948188, -0.01984205, -0.0198949 ,\n",
       "        -0.02102276, -0.02090752, -0.02095959, -0.02106793, -0.02111412,\n",
       "        -0.02140247, -0.02175235, -0.02196728, -0.02208204, -0.0220939 ,\n",
       "        -0.02220517, -0.02205966]),\n",
       " 'split4_test_score': array([-0.01999836, -0.02018723, -0.02020863, -0.02006828, -0.02006709,\n",
       "        -0.02019306, -0.02014646, -0.02002466, -0.02011626, -0.020061  ,\n",
       "        -0.02007225, -0.02020214, -0.02014834, -0.02000766, -0.01989632,\n",
       "        -0.0199443 , -0.02016309, -0.02041008, -0.02010523, -0.02020602,\n",
       "        -0.02037324, -0.02051807, -0.02026162, -0.02033988, -0.02051397,\n",
       "        -0.02070328, -0.02077187, -0.02074887, -0.02092896, -0.02114122,\n",
       "        -0.0226559 , -0.02265458, -0.02279733, -0.02263907, -0.02259585,\n",
       "        -0.02269879, -0.02466582, -0.02455069, -0.02463992, -0.02470228,\n",
       "        -0.02473557, -0.02485612]),\n",
       " 'split5_test_score': array([-0.01049703, -0.01035499, -0.01049867, -0.01056728, -0.01060906,\n",
       "        -0.01032621, -0.01041054, -0.01032707, -0.01034887, -0.01035706,\n",
       "        -0.01036972, -0.01029329, -0.01025812, -0.01052665, -0.01048829,\n",
       "        -0.01043749, -0.0103106 , -0.01023229, -0.01050578, -0.010516  ,\n",
       "        -0.0103893 , -0.01053912, -0.01030817, -0.01050102, -0.01125243,\n",
       "        -0.01112056, -0.0112711 , -0.01115019, -0.01122695, -0.01125282,\n",
       "        -0.01259999, -0.01254102, -0.012404  , -0.01263563, -0.01242147,\n",
       "        -0.01247275, -0.01353561, -0.01344406, -0.0135087 , -0.01334004,\n",
       "        -0.0133832 , -0.01336445]),\n",
       " 'split6_test_score': array([-0.0148311 , -0.01521364, -0.01504048, -0.01513369, -0.01523709,\n",
       "        -0.01553295, -0.01535839, -0.01538901, -0.01528033, -0.01534431,\n",
       "        -0.01535644, -0.01552835, -0.01553086, -0.01533789, -0.0154514 ,\n",
       "        -0.01539893, -0.01546902, -0.01561307, -0.01581008, -0.0157742 ,\n",
       "        -0.01582534, -0.01561217, -0.01594931, -0.0160748 , -0.01617747,\n",
       "        -0.01640113, -0.01671194, -0.01681971, -0.01682789, -0.0168052 ,\n",
       "        -0.01713991, -0.01712268, -0.01703641, -0.01708974, -0.01718984,\n",
       "        -0.01696929, -0.01801533, -0.01801391, -0.01809903, -0.0179863 ,\n",
       "        -0.01808973, -0.01819365]),\n",
       " 'split7_test_score': array([-0.00953582, -0.0096995 , -0.00963811, -0.009452  , -0.0095982 ,\n",
       "        -0.00968646, -0.00969384, -0.00950479, -0.00961365, -0.00955638,\n",
       "        -0.00973645, -0.00982494, -0.0095747 , -0.00960635, -0.00946844,\n",
       "        -0.00966102, -0.00979324, -0.00992894, -0.00999436, -0.01025758,\n",
       "        -0.01020867, -0.01026462, -0.01022647, -0.01053106, -0.01035444,\n",
       "        -0.01032727, -0.01053864, -0.01045344, -0.01066713, -0.01084709,\n",
       "        -0.01180374, -0.01174813, -0.01182938, -0.01195862, -0.0119186 ,\n",
       "        -0.01208391, -0.01327912, -0.01326931, -0.01320814, -0.01333394,\n",
       "        -0.01338856, -0.01335071]),\n",
       " 'split8_test_score': array([-0.01060532, -0.01062167, -0.01063914, -0.01049808, -0.01065642,\n",
       "        -0.01076501, -0.01060792, -0.01059759, -0.01069401, -0.01065548,\n",
       "        -0.01060317, -0.01093622, -0.0107959 , -0.01070452, -0.0106965 ,\n",
       "        -0.01057701, -0.01088339, -0.01091804, -0.01125719, -0.01137372,\n",
       "        -0.01137585, -0.01147035, -0.0114171 , -0.01157095, -0.0122514 ,\n",
       "        -0.01232766, -0.01226474, -0.01228726, -0.01231957, -0.0125193 ,\n",
       "        -0.01370863, -0.01372211, -0.01356792, -0.01371854, -0.01367982,\n",
       "        -0.01375308, -0.01566652, -0.01558807, -0.0156531 , -0.01586017,\n",
       "        -0.01573105, -0.01580422]),\n",
       " 'split9_test_score': array([-0.01701504, -0.01697901, -0.01725681, -0.01730231, -0.01731871,\n",
       "        -0.01743811, -0.01718542, -0.01729617, -0.01719854, -0.01719949,\n",
       "        -0.01728829, -0.01715311, -0.01714298, -0.01715261, -0.01725493,\n",
       "        -0.01747494, -0.01734472, -0.01748931, -0.01767815, -0.01776359,\n",
       "        -0.01746416, -0.0177248 , -0.01762243, -0.01758991, -0.01798758,\n",
       "        -0.01794715, -0.01800768, -0.01773269, -0.01806498, -0.01806564,\n",
       "        -0.01885175, -0.01881683, -0.0188215 , -0.01870931, -0.01896298,\n",
       "        -0.01903268, -0.01983327, -0.01996727, -0.01980045, -0.01998295,\n",
       "        -0.01972055, -0.01976853]),\n",
       " 'std_fit_time': array([0.01586684, 0.01531196, 0.01361342, 0.02530303, 0.02514901,\n",
       "        0.02652601, 0.1002385 , 0.01047231, 0.01736939, 0.02703496,\n",
       "        0.01673715, 0.01544952, 0.01910366, 0.02117962, 0.01997613,\n",
       "        0.02351247, 0.10632436, 0.02235206, 0.02416306, 0.03505595,\n",
       "        0.02770506, 0.03511639, 0.05575259, 0.02685244, 0.13287885,\n",
       "        0.08518395, 0.03052845, 0.01359763, 0.03203807, 0.02804464,\n",
       "        0.03479413, 0.0347192 , 0.02108172, 0.03501989, 0.02454466,\n",
       "        0.065407  , 0.06743125, 0.03884028, 0.04444843, 0.02806568,\n",
       "        0.04625568, 0.03294937]),\n",
       " 'std_score_time': array([0.00050117, 0.00140467, 0.0010915 , 0.00030746, 0.0007221 ,\n",
       "        0.00039917, 0.00119183, 0.00080979, 0.00143799, 0.00100196,\n",
       "        0.00345249, 0.00164694, 0.00231975, 0.00055681, 0.00076783,\n",
       "        0.00093309, 0.00157102, 0.00082041, 0.00056212, 0.00102261,\n",
       "        0.00277959, 0.00068593, 0.00344826, 0.00176187, 0.00640965,\n",
       "        0.00165919, 0.00052451, 0.00077467, 0.00201607, 0.00216039,\n",
       "        0.00081917, 0.00126527, 0.00144367, 0.00066924, 0.00081789,\n",
       "        0.00175848, 0.00148513, 0.00104029, 0.00112353, 0.00081504,\n",
       "        0.00193834, 0.0012614 ]),\n",
       " 'std_test_score': array([0.00367631, 0.0036682 , 0.00371993, 0.00372678, 0.00372999,\n",
       "        0.00377789, 0.0037403 , 0.00373255, 0.00369701, 0.00371528,\n",
       "        0.00372658, 0.00367609, 0.00374433, 0.00369725, 0.00368972,\n",
       "        0.00369166, 0.00372663, 0.0037419 , 0.00363854, 0.00362332,\n",
       "        0.00362439, 0.00364006, 0.00359668, 0.00357323, 0.0034776 ,\n",
       "        0.00350285, 0.00351982, 0.00356313, 0.00363428, 0.00360881,\n",
       "        0.00370769, 0.00370775, 0.0037436 , 0.00366144, 0.00371591,\n",
       "        0.00374326, 0.00376765, 0.00380372, 0.00379042, 0.00383283,\n",
       "        0.00384854, 0.00384901])}"
      ]
     },
     "execution_count": 36,
     "metadata": {
      "tags": []
     },
     "output_type": "execute_result"
    }
   ],
   "source": [
    "result"
   ]
  },
  {
   "cell_type": "markdown",
   "metadata": {
    "colab_type": "text",
    "id": "rolDANRx2ZAe"
   },
   "source": [
    "#### 6、模型评估"
   ]
  },
  {
   "cell_type": "code",
   "execution_count": 37,
   "metadata": {
    "colab": {
     "base_uri": "https://localhost:8080/",
     "height": 35
    },
    "colab_type": "code",
    "executionInfo": {
     "elapsed": 16978,
     "status": "ok",
     "timestamp": 1594034429820,
     "user": {
      "displayName": "Harold Ran",
      "photoUrl": "",
      "userId": "00745499557779892259"
     },
     "user_tz": -480
    },
    "id": "MG06bYl92X8L",
    "outputId": "d1a77b3c-ed4a-4a83-b734-dd60161c1274"
   },
   "outputs": [
    {
     "name": "stdout",
     "output_type": "stream",
     "text": [
      "RMSE of LightGBM: 0.118318792967013(0.010364808635531306)\n"
     ]
    }
   ],
   "source": [
    "params = {'learning_rate': 0.01,\n",
    "      'n_estimators': 1850, \n",
    "      'max_depth': 4,\n",
    "      'num_leaves': 20,\n",
    "      'subsample': 0.6,\n",
    "      'colsample_bytree': 0.6,\n",
    "      'min_child_weight': 0.001,\n",
    "      'min_child_samples': 21,\n",
    "      'random_state': 42,\n",
    "      'reg_alpha': 0,\n",
    "      'reg_lambda': 0.05}\n",
    "lgbr = lgb.LGBMRegressor(**params)\n",
    "score = rmse_cv(lgbr)\n",
    "print('RMSE of LightGBM: {}({})'.format(score.mean(), score.std()))"
   ]
  },
  {
   "cell_type": "markdown",
   "metadata": {
    "colab_type": "text",
    "id": "xKdM6EjK21cG"
   },
   "source": [
    "#### 7、在训练集上训练并提交预测结果"
   ]
  },
  {
   "cell_type": "code",
   "execution_count": 38,
   "metadata": {
    "colab": {
     "base_uri": "https://localhost:8080/",
     "height": 35
    },
    "colab_type": "code",
    "executionInfo": {
     "elapsed": 2801,
     "status": "ok",
     "timestamp": 1594034494114,
     "user": {
      "displayName": "Harold Ran",
      "photoUrl": "",
      "userId": "00745499557779892259"
     },
     "user_tz": -480
    },
    "id": "WrvpnkUi2two",
    "outputId": "51a02feb-17b8-42ea-a5a2-d07a1c345fec"
   },
   "outputs": [
    {
     "name": "stdout",
     "output_type": "stream",
     "text": [
      "RMSE of LightGBM: 0.0641626832182992\n"
     ]
    }
   ],
   "source": [
    "lgbr_trained = lgbr.fit(np.array(train), np.array(y))\n",
    "y_preds = lgbr.predict(np.array(train))\n",
    "model_score = rmse(y, y_preds)\n",
    "print('RMSE of LightGBM: {}'.format(model_score))"
   ]
  },
  {
   "cell_type": "code",
   "execution_count": 39,
   "metadata": {
    "colab": {},
    "colab_type": "code",
    "executionInfo": {
     "elapsed": 747,
     "status": "ok",
     "timestamp": 1594034538809,
     "user": {
      "displayName": "Harold Ran",
      "photoUrl": "",
      "userId": "00745499557779892259"
     },
     "user_tz": -480
    },
    "id": "xMH63XkL3A7-"
   },
   "outputs": [],
   "source": [
    "lgbr_preds = lgbr.predict(np.array(test))\n",
    "lgbr_submission = pd.DataFrame({'Id': sample_submission['Id'], 'SalePrice': np.expm1(lgbr_preds)})\n",
    "lgbr_submission.to_csv('lgb_optimation_submission.csv', index=False)"
   ]
  },
  {
   "cell_type": "markdown",
   "metadata": {
    "colab_type": "text",
    "id": "t9Xde9dr3k7n"
   },
   "source": [
    "### Gradient Boosting调参"
   ]
  },
  {
   "cell_type": "markdown",
   "metadata": {
    "colab_type": "text",
    "id": "7UNFdhV27QDp"
   },
   "source": [
    "#### 1、n_estimators"
   ]
  },
  {
   "cell_type": "code",
   "execution_count": 41,
   "metadata": {
    "colab": {
     "base_uri": "https://localhost:8080/",
     "height": 106
    },
    "colab_type": "code",
    "executionInfo": {
     "elapsed": 360969,
     "status": "ok",
     "timestamp": 1594036111477,
     "user": {
      "displayName": "Harold Ran",
      "photoUrl": "",
      "userId": "00745499557779892259"
     },
     "user_tz": -480
    },
    "id": "a-svzmWS3MWg",
    "outputId": "eae14b6d-1375-4158-c507-10bb02fb5e21"
   },
   "outputs": [
    {
     "name": "stdout",
     "output_type": "stream",
     "text": [
      "Fitting 10 folds for each of 8 candidates, totalling 80 fits\n"
     ]
    },
    {
     "name": "stderr",
     "output_type": "stream",
     "text": [
      "[Parallel(n_jobs=1)]: Using backend SequentialBackend with 1 concurrent workers.\n",
      "[Parallel(n_jobs=1)]: Done  80 out of  80 | elapsed:  5.9min finished\n"
     ]
    },
    {
     "name": "stdout",
     "output_type": "stream",
     "text": [
      "参数的最佳取值：{'n_estimators': 600}\n",
      "最佳模型得分:-0.014977598979614168\n"
     ]
    }
   ],
   "source": [
    "params = {'loss': 'huber',\n",
    "      'criterion': 'mse', \n",
    "      'learning_rate': 0.1,\n",
    "      'n_estimators': 300, \n",
    "      'max_depth': 6,\n",
    "      'subsample': 0.6,\n",
    "      'min_samples_split': 5,\n",
    "      'min_samples_leaf': 5,\n",
    "      'max_features': 0.6,\n",
    "      'random_state': 32,\n",
    "      'alpha': 0.5}\n",
    "cv_params = {'n_estimators': [80, 100, 200, 300, 400, 500, 600, 800]}\n",
    "gbr = GradientBoostingRegressor(**params)\n",
    "grid_gbr = GridSearchCV(estimator=gbr, param_grid=cv_params, scoring='neg_mean_squared_error', cv=10, verbose=1)\n",
    "grid_gbr.fit(np.array(train), np.array(y))\n",
    "result = grid_gbr.cv_results_\n",
    "#print('每轮迭代运行结果:{}, {}'.format(result['mean_train_score'], result['std_train_score']))\n",
    "print('参数的最佳取值：{}'.format(grid_gbr.best_params_))\n",
    "print('最佳模型得分:{}'.format(grid_gbr.best_score_))"
   ]
  },
  {
   "cell_type": "code",
   "execution_count": 42,
   "metadata": {
    "colab": {
     "base_uri": "https://localhost:8080/",
     "height": 106
    },
    "colab_type": "code",
    "executionInfo": {
     "elapsed": 389109,
     "status": "ok",
     "timestamp": 1594036590321,
     "user": {
      "displayName": "Harold Ran",
      "photoUrl": "",
      "userId": "00745499557779892259"
     },
     "user_tz": -480
    },
    "id": "nkOPt1pj9RTF",
    "outputId": "b14094a8-42ad-4383-8929-f127e80517cd"
   },
   "outputs": [
    {
     "name": "stdout",
     "output_type": "stream",
     "text": [
      "Fitting 10 folds for each of 5 candidates, totalling 50 fits\n"
     ]
    },
    {
     "name": "stderr",
     "output_type": "stream",
     "text": [
      "[Parallel(n_jobs=1)]: Using backend SequentialBackend with 1 concurrent workers.\n",
      "[Parallel(n_jobs=1)]: Done  50 out of  50 | elapsed:  6.3min finished\n"
     ]
    },
    {
     "name": "stdout",
     "output_type": "stream",
     "text": [
      "参数的最佳取值：{'n_estimators': 600}\n",
      "最佳模型得分:-0.014977598979614168\n"
     ]
    }
   ],
   "source": [
    "params = {'loss': 'huber',\n",
    "      'criterion': 'mse', \n",
    "      'learning_rate': 0.1,\n",
    "      'n_estimators': 600, \n",
    "      'max_depth': 6,\n",
    "      'subsample': 0.6,\n",
    "      'min_samples_split': 5,\n",
    "      'min_samples_leaf': 5,\n",
    "      'max_features': 0.6,\n",
    "      'random_state': 32,\n",
    "      'alpha': 0.5}\n",
    "cv_params = {'n_estimators': [550, 600, 650, 700, 750]}\n",
    "gbr = GradientBoostingRegressor(**params)\n",
    "grid_gbr = GridSearchCV(estimator=gbr, param_grid=cv_params, scoring='neg_mean_squared_error', cv=10, verbose=1)\n",
    "grid_gbr.fit(np.array(train), np.array(y))\n",
    "result = grid_gbr.cv_results_\n",
    "#print('每轮迭代运行结果:{}, {}'.format(result['mean_train_score'], result['std_train_score']))\n",
    "print('参数的最佳取值：{}'.format(grid_gbr.best_params_))\n",
    "print('最佳模型得分:{}'.format(grid_gbr.best_score_))"
   ]
  },
  {
   "cell_type": "code",
   "execution_count": 43,
   "metadata": {
    "colab": {
     "base_uri": "https://localhost:8080/",
     "height": 497
    },
    "colab_type": "code",
    "executionInfo": {
     "elapsed": 815,
     "status": "ok",
     "timestamp": 1594036595120,
     "user": {
      "displayName": "Harold Ran",
      "photoUrl": "",
      "userId": "00745499557779892259"
     },
     "user_tz": -480
    },
    "id": "XODdlueg7yQX",
    "outputId": "1ad801b0-c9b7-40e6-fed3-c625ac7af186"
   },
   "outputs": [
    {
     "data": {
      "text/plain": [
       "{'mean_fit_time': array([6.40975561, 7.02159927, 7.5259428 , 8.44443698, 8.6572866 ]),\n",
       " 'mean_score_time': array([0.00456064, 0.00480833, 0.00509157, 0.00554054, 0.00577326]),\n",
       " 'mean_test_score': array([-0.01498572, -0.0149776 , -0.01498595, -0.01499545, -0.01500083]),\n",
       " 'param_n_estimators': masked_array(data=[550, 600, 650, 700, 750],\n",
       "              mask=[False, False, False, False, False],\n",
       "        fill_value='?',\n",
       "             dtype=object),\n",
       " 'params': [{'n_estimators': 550},\n",
       "  {'n_estimators': 600},\n",
       "  {'n_estimators': 650},\n",
       "  {'n_estimators': 700},\n",
       "  {'n_estimators': 750}],\n",
       " 'rank_test_score': array([2, 1, 3, 4, 5], dtype=int32),\n",
       " 'split0_test_score': array([-0.01573263, -0.01573707, -0.01579655, -0.01580227, -0.01581406]),\n",
       " 'split1_test_score': array([-0.01196664, -0.01191671, -0.01192112, -0.0119674 , -0.01196313]),\n",
       " 'split2_test_score': array([-0.01088311, -0.01082731, -0.01073828, -0.01074316, -0.01077002]),\n",
       " 'split3_test_score': array([-0.01870238, -0.01866833, -0.01869071, -0.01867164, -0.01871024]),\n",
       " 'split4_test_score': array([-0.02123277, -0.02110311, -0.02108943, -0.02106653, -0.02104729]),\n",
       " 'split5_test_score': array([-0.01241977, -0.01247672, -0.01246776, -0.01251208, -0.01252336]),\n",
       " 'split6_test_score': array([-0.01563126, -0.015629  , -0.01566516, -0.01560305, -0.01549251]),\n",
       " 'split7_test_score': array([-0.01163673, -0.01170579, -0.01173721, -0.01176596, -0.0117741 ]),\n",
       " 'split8_test_score': array([-0.01135047, -0.01129212, -0.01132549, -0.01132127, -0.01135701]),\n",
       " 'split9_test_score': array([-0.02030145, -0.02041981, -0.02042782, -0.02050111, -0.02055661]),\n",
       " 'std_fit_time': array([0.05984124, 0.04975167, 0.03466665, 0.36833933, 0.04898896]),\n",
       " 'std_score_time': array([1.63675598e-04, 9.32045406e-05, 3.53959984e-05, 1.30967518e-04,\n",
       "        1.82576452e-04]),\n",
       " 'std_test_score': array([0.0037287 , 0.0037269 , 0.00373417, 0.00372897, 0.00372885])}"
      ]
     },
     "execution_count": 43,
     "metadata": {
      "tags": []
     },
     "output_type": "execute_result"
    }
   ],
   "source": [
    "result"
   ]
  },
  {
   "cell_type": "markdown",
   "metadata": {
    "colab_type": "text",
    "id": "VKa9x7mR_KoC"
   },
   "source": [
    "#### 2、max_depth和min_samples_split"
   ]
  },
  {
   "cell_type": "code",
   "execution_count": 44,
   "metadata": {
    "colab": {
     "base_uri": "https://localhost:8080/",
     "height": 106
    },
    "colab_type": "code",
    "executionInfo": {
     "elapsed": 2487855,
     "status": "ok",
     "timestamp": 1594039402748,
     "user": {
      "displayName": "Harold Ran",
      "photoUrl": "",
      "userId": "00745499557779892259"
     },
     "user_tz": -480
    },
    "id": "tTJ7Bj0N_CWe",
    "outputId": "a9e0731c-bb2b-42fc-c44f-0c21d7ca83b8"
   },
   "outputs": [
    {
     "name": "stdout",
     "output_type": "stream",
     "text": [
      "Fitting 10 folds for each of 35 candidates, totalling 350 fits\n"
     ]
    },
    {
     "name": "stderr",
     "output_type": "stream",
     "text": [
      "[Parallel(n_jobs=1)]: Using backend SequentialBackend with 1 concurrent workers.\n",
      "[Parallel(n_jobs=1)]: Done 350 out of 350 | elapsed: 41.4min finished\n"
     ]
    },
    {
     "name": "stdout",
     "output_type": "stream",
     "text": [
      "参数的最佳取值：{'max_depth': 4, 'min_samples_split': 20}\n",
      "最佳模型得分:-0.013549971127499515\n"
     ]
    }
   ],
   "source": [
    "params = {'loss': 'huber',\n",
    "      'criterion': 'mse', \n",
    "      'learning_rate': 0.1,\n",
    "      'n_estimators': 600, \n",
    "      'max_depth': 6,\n",
    "      'subsample': 0.6,\n",
    "      'min_samples_split': 5,\n",
    "      'min_samples_leaf': 5,\n",
    "      'max_features': 0.6,\n",
    "      'random_state': 32,\n",
    "      'alpha': 0.5}\n",
    "cv_params = {'max_depth': [4, 5, 6, 7, 8, 9, 10], 'min_samples_split': [5, 10, 15, 20, 30]}\n",
    "gbr = GradientBoostingRegressor(**params)\n",
    "grid_gbr = GridSearchCV(estimator=gbr, param_grid=cv_params, scoring='neg_mean_squared_error', cv=10, verbose=1)\n",
    "grid_gbr.fit(np.array(train), np.array(y))\n",
    "result = grid_gbr.cv_results_\n",
    "#print('每轮迭代运行结果:{}, {}'.format(result['mean_train_score'], result['std_train_score']))\n",
    "print('参数的最佳取值：{}'.format(grid_gbr.best_params_))\n",
    "print('最佳模型得分:{}'.format(grid_gbr.best_score_))"
   ]
  },
  {
   "cell_type": "code",
   "execution_count": 45,
   "metadata": {
    "colab": {
     "base_uri": "https://localhost:8080/",
     "height": 1000
    },
    "colab_type": "code",
    "executionInfo": {
     "elapsed": 1459,
     "status": "ok",
     "timestamp": 1594042357952,
     "user": {
      "displayName": "Harold Ran",
      "photoUrl": "",
      "userId": "00745499557779892259"
     },
     "user_tz": -480
    },
    "id": "ouT9TC9YAQnU",
    "outputId": "60aecb7e-ecdf-451d-d8cc-b89d75a5042a"
   },
   "outputs": [
    {
     "data": {
      "text/plain": [
       "{'mean_fit_time': array([4.69205875, 4.71579618, 4.58660986, 4.56870308, 4.44460218,\n",
       "        5.79943779, 5.81757364, 5.63409076, 5.58850024, 5.50859115,\n",
       "        7.00632105, 6.96717567, 6.59292946, 6.3695153 , 6.26778316,\n",
       "        8.13781629, 8.25375459, 7.68779619, 7.75606222, 6.9371448 ,\n",
       "        8.13292999, 8.17464676, 8.65023701, 8.1903275 , 7.79353244,\n",
       "        7.70653279, 7.86326833, 8.84036481, 8.92861869, 8.48641727,\n",
       "        7.42953613, 7.43896382, 8.42958648, 9.5050421 , 9.07760022]),\n",
       " 'mean_score_time': array([0.00349917, 0.00336659, 0.00342677, 0.0035326 , 0.00359862,\n",
       "        0.00412784, 0.00414326, 0.00415456, 0.00438585, 0.00429909,\n",
       "        0.00489256, 0.00482271, 0.00471992, 0.00462916, 0.00457733,\n",
       "        0.00560069, 0.00571196, 0.00558443, 0.00552766, 0.00520067,\n",
       "        0.00560374, 0.00561574, 0.00610831, 0.00597327, 0.00592606,\n",
       "        0.0053899 , 0.00546293, 0.00631795, 0.00640659, 0.00640326,\n",
       "        0.00524132, 0.0052357 , 0.0060138 , 0.00679586, 0.00672843]),\n",
       " 'mean_test_score': array([-0.01384361, -0.01384361, -0.01403755, -0.01354997, -0.01369305,\n",
       "        -0.01489744, -0.01489744, -0.01501674, -0.01476502, -0.01436734,\n",
       "        -0.0149776 , -0.0149776 , -0.01475305, -0.01447596, -0.01474877,\n",
       "        -0.01540557, -0.01540557, -0.01552457, -0.01524997, -0.01519893,\n",
       "        -0.01591952, -0.01591952, -0.01532005, -0.0150868 , -0.01503933,\n",
       "        -0.01651076, -0.01651076, -0.01589934, -0.01519639, -0.01525906,\n",
       "        -0.01631348, -0.01631348, -0.01627063, -0.01560393, -0.01499441]),\n",
       " 'param_max_depth': masked_array(data=[4, 4, 4, 4, 4, 5, 5, 5, 5, 5, 6, 6, 6, 6, 6, 7, 7, 7,\n",
       "                    7, 7, 8, 8, 8, 8, 8, 9, 9, 9, 9, 9, 10, 10, 10, 10, 10],\n",
       "              mask=[False, False, False, False, False, False, False, False,\n",
       "                    False, False, False, False, False, False, False, False,\n",
       "                    False, False, False, False, False, False, False, False,\n",
       "                    False, False, False, False, False, False, False, False,\n",
       "                    False, False, False],\n",
       "        fill_value='?',\n",
       "             dtype=object),\n",
       " 'param_min_samples_split': masked_array(data=[5, 10, 15, 20, 30, 5, 10, 15, 20, 30, 5, 10, 15, 20,\n",
       "                    30, 5, 10, 15, 20, 30, 5, 10, 15, 20, 30, 5, 10, 15,\n",
       "                    20, 30, 5, 10, 15, 20, 30],\n",
       "              mask=[False, False, False, False, False, False, False, False,\n",
       "                    False, False, False, False, False, False, False, False,\n",
       "                    False, False, False, False, False, False, False, False,\n",
       "                    False, False, False, False, False, False, False, False,\n",
       "                    False, False, False],\n",
       "        fill_value='?',\n",
       "             dtype=object),\n",
       " 'params': [{'max_depth': 4, 'min_samples_split': 5},\n",
       "  {'max_depth': 4, 'min_samples_split': 10},\n",
       "  {'max_depth': 4, 'min_samples_split': 15},\n",
       "  {'max_depth': 4, 'min_samples_split': 20},\n",
       "  {'max_depth': 4, 'min_samples_split': 30},\n",
       "  {'max_depth': 5, 'min_samples_split': 5},\n",
       "  {'max_depth': 5, 'min_samples_split': 10},\n",
       "  {'max_depth': 5, 'min_samples_split': 15},\n",
       "  {'max_depth': 5, 'min_samples_split': 20},\n",
       "  {'max_depth': 5, 'min_samples_split': 30},\n",
       "  {'max_depth': 6, 'min_samples_split': 5},\n",
       "  {'max_depth': 6, 'min_samples_split': 10},\n",
       "  {'max_depth': 6, 'min_samples_split': 15},\n",
       "  {'max_depth': 6, 'min_samples_split': 20},\n",
       "  {'max_depth': 6, 'min_samples_split': 30},\n",
       "  {'max_depth': 7, 'min_samples_split': 5},\n",
       "  {'max_depth': 7, 'min_samples_split': 10},\n",
       "  {'max_depth': 7, 'min_samples_split': 15},\n",
       "  {'max_depth': 7, 'min_samples_split': 20},\n",
       "  {'max_depth': 7, 'min_samples_split': 30},\n",
       "  {'max_depth': 8, 'min_samples_split': 5},\n",
       "  {'max_depth': 8, 'min_samples_split': 10},\n",
       "  {'max_depth': 8, 'min_samples_split': 15},\n",
       "  {'max_depth': 8, 'min_samples_split': 20},\n",
       "  {'max_depth': 8, 'min_samples_split': 30},\n",
       "  {'max_depth': 9, 'min_samples_split': 5},\n",
       "  {'max_depth': 9, 'min_samples_split': 10},\n",
       "  {'max_depth': 9, 'min_samples_split': 15},\n",
       "  {'max_depth': 9, 'min_samples_split': 20},\n",
       "  {'max_depth': 9, 'min_samples_split': 30},\n",
       "  {'max_depth': 10, 'min_samples_split': 5},\n",
       "  {'max_depth': 10, 'min_samples_split': 10},\n",
       "  {'max_depth': 10, 'min_samples_split': 15},\n",
       "  {'max_depth': 10, 'min_samples_split': 20},\n",
       "  {'max_depth': 10, 'min_samples_split': 30}],\n",
       " 'rank_test_score': array([ 3,  3,  5,  1,  2, 11, 11, 16, 10,  6, 13, 13,  9,  7,  8, 24, 24,\n",
       "        26, 21, 20, 29, 29, 23, 18, 17, 34, 34, 28, 19, 22, 32, 32, 31, 27,\n",
       "        15], dtype=int32),\n",
       " 'split0_test_score': array([-0.01316324, -0.01316324, -0.0146538 , -0.01380506, -0.01381352,\n",
       "        -0.01587639, -0.01587639, -0.01661362, -0.01522888, -0.01446505,\n",
       "        -0.01573707, -0.01573707, -0.01624228, -0.01397396, -0.01650186,\n",
       "        -0.01573998, -0.01573998, -0.01589075, -0.01672187, -0.01529291,\n",
       "        -0.01758015, -0.01758015, -0.01542949, -0.01630075, -0.01535031,\n",
       "        -0.01846806, -0.01846806, -0.01608747, -0.01795332, -0.01646721,\n",
       "        -0.01659068, -0.01659068, -0.01774764, -0.01579725, -0.01480456]),\n",
       " 'split1_test_score': array([-0.00987058, -0.00987058, -0.01010728, -0.00848648, -0.00946323,\n",
       "        -0.01003398, -0.01003398, -0.01061833, -0.00981152, -0.00972932,\n",
       "        -0.01191671, -0.01191671, -0.00903976, -0.01039427, -0.00970865,\n",
       "        -0.01045485, -0.01045485, -0.00964289, -0.0099395 , -0.01026207,\n",
       "        -0.0111935 , -0.0111935 , -0.01129233, -0.01092123, -0.01085523,\n",
       "        -0.01148058, -0.01148058, -0.01093499, -0.01094262, -0.01217413,\n",
       "        -0.01179002, -0.01179002, -0.01175963, -0.01153589, -0.01093587]),\n",
       " 'split2_test_score': array([-0.01187398, -0.01187398, -0.01185506, -0.01104128, -0.01180153,\n",
       "        -0.01171591, -0.01171591, -0.01187474, -0.01182476, -0.01243862,\n",
       "        -0.01082731, -0.01082731, -0.01364081, -0.01220491, -0.0130828 ,\n",
       "        -0.01354942, -0.01354942, -0.01254445, -0.01312492, -0.01331422,\n",
       "        -0.01327472, -0.01327472, -0.01324392, -0.01321377, -0.01353485,\n",
       "        -0.01467587, -0.01467587, -0.01399309, -0.0123682 , -0.01281531,\n",
       "        -0.01454162, -0.01454162, -0.01370325, -0.014683  , -0.01402188]),\n",
       " 'split3_test_score': array([-0.01919163, -0.01919163, -0.01916063, -0.01920902, -0.01971059,\n",
       "        -0.01965732, -0.01965732, -0.01995383, -0.02023165, -0.01896078,\n",
       "        -0.01866833, -0.01866833, -0.02042372, -0.01971648, -0.01984929,\n",
       "        -0.02073069, -0.02073069, -0.02195994, -0.0214425 , -0.02108812,\n",
       "        -0.02150653, -0.02150653, -0.01943635, -0.02157331, -0.02007751,\n",
       "        -0.0228298 , -0.0228298 , -0.02026914, -0.02137521, -0.01932631,\n",
       "        -0.02163545, -0.02163545, -0.01954932, -0.02053684, -0.01928892]),\n",
       " 'split4_test_score': array([-0.0197259 , -0.0197259 , -0.02000097, -0.0204864 , -0.01896545,\n",
       "        -0.02115144, -0.02115144, -0.02029967, -0.0208932 , -0.02153545,\n",
       "        -0.02110311, -0.02110311, -0.02037685, -0.02020319, -0.01985825,\n",
       "        -0.02060178, -0.02060178, -0.02276939, -0.02238814, -0.02262742,\n",
       "        -0.02362611, -0.02362611, -0.02110099, -0.0207875 , -0.02094542,\n",
       "        -0.02322637, -0.02322637, -0.02222014, -0.01945895, -0.02179663,\n",
       "        -0.024034  , -0.024034  , -0.02284766, -0.02284984, -0.02219015]),\n",
       " 'split5_test_score': array([-0.01058921, -0.01058921, -0.01121641, -0.01130454, -0.01096216,\n",
       "        -0.01196958, -0.01196958, -0.01314373, -0.01189528, -0.0112199 ,\n",
       "        -0.01247672, -0.01247672, -0.01165363, -0.01222213, -0.01288124,\n",
       "        -0.01105835, -0.01105835, -0.01206616, -0.01185446, -0.01217825,\n",
       "        -0.01220911, -0.01220911, -0.01126002, -0.0116733 , -0.01168558,\n",
       "        -0.01279118, -0.01279118, -0.01176889, -0.01099653, -0.01179538,\n",
       "        -0.01255049, -0.01255049, -0.01279895, -0.01097582, -0.0100365 ]),\n",
       " 'split6_test_score': array([-0.01480367, -0.01480367, -0.01523124, -0.01400235, -0.01430659,\n",
       "        -0.01670699, -0.01670699, -0.01652103, -0.01559912, -0.01546267,\n",
       "        -0.015629  , -0.015629  , -0.01545057, -0.01573576, -0.0159224 ,\n",
       "        -0.01709113, -0.01709113, -0.01666767, -0.01634814, -0.01587736,\n",
       "        -0.01722306, -0.01722306, -0.01590945, -0.01475441, -0.01649295,\n",
       "        -0.01738248, -0.01738248, -0.01813422, -0.01637794, -0.01787947,\n",
       "        -0.01770798, -0.01770798, -0.01734949, -0.01712011, -0.01694943]),\n",
       " 'split7_test_score': array([-0.01025731, -0.01025731, -0.01060861, -0.01065023, -0.01110682,\n",
       "        -0.01165069, -0.01165069, -0.01176528, -0.01063958, -0.01274012,\n",
       "        -0.01170579, -0.01170579, -0.01005409, -0.011166  , -0.01110353,\n",
       "        -0.01296515, -0.01296515, -0.01266892, -0.01087787, -0.01162633,\n",
       "        -0.01198818, -0.01198818, -0.01278862, -0.01073917, -0.0112907 ,\n",
       "        -0.01188063, -0.01188063, -0.01165258, -0.01234883, -0.01130395,\n",
       "        -0.01129547, -0.01129547, -0.01281745, -0.01206113, -0.01248789]),\n",
       " 'split8_test_score': array([-0.01020682, -0.01020682, -0.00955258, -0.00959503, -0.00971651,\n",
       "        -0.01112982, -0.01112982, -0.00940753, -0.01088407, -0.00944633,\n",
       "        -0.01129212, -0.01129212, -0.01114064, -0.01106897, -0.01027888,\n",
       "        -0.01185029, -0.01185029, -0.01071884, -0.01029215, -0.01094455,\n",
       "        -0.01195803, -0.01195803, -0.01174956, -0.01093011, -0.01044912,\n",
       "        -0.01196809, -0.01196809, -0.0133546 , -0.01019652, -0.01061127,\n",
       "        -0.01366495, -0.01366495, -0.01170524, -0.01031222, -0.01040519]),\n",
       " 'split9_test_score': array([-0.01875379, -0.01875379, -0.01798889, -0.01691932, -0.01708416,\n",
       "        -0.01908232, -0.01908232, -0.01996968, -0.02064213, -0.01767512,\n",
       "        -0.02041981, -0.02041981, -0.01950815, -0.01807396, -0.01830086,\n",
       "        -0.02001409, -0.02001409, -0.02031665, -0.01951019, -0.01877806,\n",
       "        -0.01863582, -0.01863582, -0.02098983, -0.01997446, -0.0197116 ,\n",
       "        -0.02040455, -0.02040455, -0.02057826, -0.0199458 , -0.01842094,\n",
       "        -0.01932419, -0.01932419, -0.02242771, -0.02016716, -0.01882371]),\n",
       " 'std_fit_time': array([0.03372488, 0.05236652, 0.03863772, 0.10675292, 0.11676586,\n",
       "        0.03474609, 0.02921505, 0.05868434, 0.05496704, 0.28522028,\n",
       "        0.03768821, 0.03990741, 0.04353601, 0.04868068, 0.18058859,\n",
       "        0.07800453, 0.092555  , 0.05793586, 0.69804898, 0.03210264,\n",
       "        0.45283842, 0.46492317, 0.1651301 , 0.04425629, 0.05300863,\n",
       "        0.3836904 , 0.41798459, 0.38927398, 0.04978136, 0.19462074,\n",
       "        0.45503289, 0.44513695, 0.75165827, 0.48979184, 0.05568453]),\n",
       " 'std_score_time': array([1.38931692e-04, 5.92535407e-05, 1.72411764e-04, 3.42934671e-04,\n",
       "        7.21899222e-04, 8.65093658e-05, 1.08703261e-04, 1.49309975e-04,\n",
       "        5.08365319e-04, 3.41419868e-04, 1.21834388e-04, 3.63954297e-05,\n",
       "        8.86308554e-05, 1.32500531e-04, 9.37456911e-05, 1.27950124e-04,\n",
       "        1.78422087e-04, 4.26636611e-04, 4.13417858e-04, 1.26739235e-04,\n",
       "        2.38971160e-04, 2.92565117e-04, 1.50791579e-04, 1.33875336e-04,\n",
       "        5.50066241e-04, 2.29399251e-04, 2.89637221e-04, 2.79422225e-04,\n",
       "        9.26603801e-05, 4.78193176e-04, 2.21635585e-04, 2.67417945e-04,\n",
       "        4.89785801e-04, 3.98872451e-04, 1.16515501e-04]),\n",
       " 'std_test_score': array([0.00380842, 0.00380842, 0.00373186, 0.00390878, 0.00356831,\n",
       "        0.00388071, 0.00388071, 0.00395462, 0.00419986, 0.00382928,\n",
       "        0.0037269 , 0.0037269 , 0.00409529, 0.0035286 , 0.00366229,\n",
       "        0.00380786, 0.00380786, 0.00452761, 0.0044583 , 0.0041359 ,\n",
       "        0.00420342, 0.00420342, 0.00372884, 0.00410778, 0.00387872,\n",
       "        0.00435156, 0.00435156, 0.0039474 , 0.00405882, 0.00377275,\n",
       "        0.00411062, 0.00411062, 0.00408684, 0.00423516, 0.00397599])}"
      ]
     },
     "execution_count": 45,
     "metadata": {
      "tags": []
     },
     "output_type": "execute_result"
    }
   ],
   "source": [
    "result"
   ]
  },
  {
   "cell_type": "markdown",
   "metadata": {
    "colab_type": "text",
    "id": "dl_wCkgZVLtM"
   },
   "source": [
    "#### 3、min_samples_leaf"
   ]
  },
  {
   "cell_type": "code",
   "execution_count": 46,
   "metadata": {
    "colab": {
     "base_uri": "https://localhost:8080/",
     "height": 106
    },
    "colab_type": "code",
    "executionInfo": {
     "elapsed": 183345,
     "status": "ok",
     "timestamp": 1594042766917,
     "user": {
      "displayName": "Harold Ran",
      "photoUrl": "",
      "userId": "00745499557779892259"
     },
     "user_tz": -480
    },
    "id": "iOQlpnU6VA_L",
    "outputId": "eec14736-d311-4868-9e3f-5bd181f78e1a"
   },
   "outputs": [
    {
     "name": "stdout",
     "output_type": "stream",
     "text": [
      "Fitting 10 folds for each of 4 candidates, totalling 40 fits\n"
     ]
    },
    {
     "name": "stderr",
     "output_type": "stream",
     "text": [
      "[Parallel(n_jobs=1)]: Using backend SequentialBackend with 1 concurrent workers.\n",
      "[Parallel(n_jobs=1)]: Done  40 out of  40 | elapsed:  3.0min finished\n"
     ]
    },
    {
     "name": "stdout",
     "output_type": "stream",
     "text": [
      "参数的最佳取值：{'min_samples_leaf': 5}\n",
      "最佳模型得分:-0.013549971127499515\n"
     ]
    }
   ],
   "source": [
    "params = {'loss': 'huber',\n",
    "      'criterion': 'mse', \n",
    "      'learning_rate': 0.1,\n",
    "      'n_estimators': 600, \n",
    "      'max_depth': 4,\n",
    "      'subsample': 0.6,\n",
    "      'min_samples_split': 20,\n",
    "      'min_samples_leaf': 5,\n",
    "      'max_features': 0.6,\n",
    "      'random_state': 32,\n",
    "      'alpha': 0.5}\n",
    "cv_params = {'min_samples_leaf': [5, 10, 15, 20]}\n",
    "gbr = GradientBoostingRegressor(**params)\n",
    "grid_gbr = GridSearchCV(estimator=gbr, param_grid=cv_params, scoring='neg_mean_squared_error', cv=10, verbose=1)\n",
    "grid_gbr.fit(np.array(train), np.array(y))\n",
    "result = grid_gbr.cv_results_\n",
    "#print('每轮迭代运行结果:{}, {}'.format(result['mean_train_score'], result['std_train_score']))\n",
    "print('参数的最佳取值：{}'.format(grid_gbr.best_params_))\n",
    "print('最佳模型得分:{}'.format(grid_gbr.best_score_))"
   ]
  },
  {
   "cell_type": "code",
   "execution_count": 47,
   "metadata": {
    "colab": {
     "base_uri": "https://localhost:8080/",
     "height": 461
    },
    "colab_type": "code",
    "executionInfo": {
     "elapsed": 1333,
     "status": "ok",
     "timestamp": 1594042775697,
     "user": {
      "displayName": "Harold Ran",
      "photoUrl": "",
      "userId": "00745499557779892259"
     },
     "user_tz": -480
    },
    "id": "lsmZIn3XV4fO",
    "outputId": "7ea64aed-be23-4066-9824-81e69ab7f45a"
   },
   "outputs": [
    {
     "data": {
      "text/plain": [
       "{'mean_fit_time': array([4.47414668, 4.53486431, 4.4072844 , 4.32847376]),\n",
       " 'mean_score_time': array([0.00344181, 0.00361266, 0.0035955 , 0.00360644]),\n",
       " 'mean_test_score': array([-0.01354997, -0.0141878 , -0.01371437, -0.01441598]),\n",
       " 'param_min_samples_leaf': masked_array(data=[5, 10, 15, 20],\n",
       "              mask=[False, False, False, False],\n",
       "        fill_value='?',\n",
       "             dtype=object),\n",
       " 'params': [{'min_samples_leaf': 5},\n",
       "  {'min_samples_leaf': 10},\n",
       "  {'min_samples_leaf': 15},\n",
       "  {'min_samples_leaf': 20}],\n",
       " 'rank_test_score': array([1, 3, 2, 4], dtype=int32),\n",
       " 'split0_test_score': array([-0.01380506, -0.01496863, -0.01375436, -0.01428024]),\n",
       " 'split1_test_score': array([-0.00848648, -0.01014579, -0.00891929, -0.00973996]),\n",
       " 'split2_test_score': array([-0.01104128, -0.01169375, -0.01161256, -0.01210855]),\n",
       " 'split3_test_score': array([-0.01920902, -0.01982954, -0.0196035 , -0.02027373]),\n",
       " 'split4_test_score': array([-0.0204864 , -0.02099082, -0.01935932, -0.02013519]),\n",
       " 'split5_test_score': array([-0.01130454, -0.0111107 , -0.0102108 , -0.01115449]),\n",
       " 'split6_test_score': array([-0.01400235, -0.01552877, -0.01501418, -0.01747508]),\n",
       " 'split7_test_score': array([-0.01065023, -0.00969021, -0.01024981, -0.01028682]),\n",
       " 'split8_test_score': array([-0.00959503, -0.00975807, -0.01065134, -0.01152538]),\n",
       " 'split9_test_score': array([-0.01691932, -0.01816175, -0.0177685 , -0.01718037]),\n",
       " 'std_fit_time': array([0.02829084, 0.17548019, 0.04248251, 0.07411272]),\n",
       " 'std_score_time': array([1.45123609e-04, 3.25573140e-04, 1.03541387e-04, 7.44408515e-05]),\n",
       " 'std_test_score': array([0.00390878, 0.00410107, 0.00381766, 0.00383762])}"
      ]
     },
     "execution_count": 47,
     "metadata": {
      "tags": []
     },
     "output_type": "execute_result"
    }
   ],
   "source": [
    "result"
   ]
  },
  {
   "cell_type": "markdown",
   "metadata": {
    "colab_type": "text",
    "id": "d5wand54WRbj"
   },
   "source": [
    "#### 4、max_features"
   ]
  },
  {
   "cell_type": "code",
   "execution_count": 48,
   "metadata": {
    "colab": {
     "base_uri": "https://localhost:8080/",
     "height": 106
    },
    "colab_type": "code",
    "executionInfo": {
     "elapsed": 317767,
     "status": "ok",
     "timestamp": 1594043174899,
     "user": {
      "displayName": "Harold Ran",
      "photoUrl": "",
      "userId": "00745499557779892259"
     },
     "user_tz": -480
    },
    "id": "N_fwLKjxWVRC",
    "outputId": "7fe723c6-a47e-4780-e49f-f5819c88cc09"
   },
   "outputs": [
    {
     "name": "stdout",
     "output_type": "stream",
     "text": [
      "Fitting 10 folds for each of 6 candidates, totalling 60 fits\n"
     ]
    },
    {
     "name": "stderr",
     "output_type": "stream",
     "text": [
      "[Parallel(n_jobs=1)]: Using backend SequentialBackend with 1 concurrent workers.\n",
      "[Parallel(n_jobs=1)]: Done  60 out of  60 | elapsed:  5.2min finished\n"
     ]
    },
    {
     "name": "stdout",
     "output_type": "stream",
     "text": [
      "参数的最佳取值：{'max_features': 0.6}\n",
      "最佳模型得分:-0.013549971127499515\n"
     ]
    }
   ],
   "source": [
    "params = {'loss': 'huber',\n",
    "      'criterion': 'mse', \n",
    "      'learning_rate': 0.1,\n",
    "      'n_estimators': 600, \n",
    "      'max_depth': 4,\n",
    "      'subsample': 0.6,\n",
    "      'min_samples_split': 20,\n",
    "      'min_samples_leaf': 5,\n",
    "      'max_features': 0.6,\n",
    "      'random_state': 32,\n",
    "      'alpha': 0.5}\n",
    "cv_params = {'max_features': [0.5, 0.6, 0.7, 0.8, 0.9, 1.0]}\n",
    "gbr = GradientBoostingRegressor(**params)\n",
    "grid_gbr = GridSearchCV(estimator=gbr, param_grid=cv_params, scoring='neg_mean_squared_error', cv=10, verbose=1)\n",
    "grid_gbr.fit(np.array(train), np.array(y))\n",
    "result = grid_gbr.cv_results_\n",
    "#print('每轮迭代运行结果:{}, {}'.format(result['mean_train_score'], result['std_train_score']))\n",
    "print('参数的最佳取值：{}'.format(grid_gbr.best_params_))\n",
    "print('最佳模型得分:{}'.format(grid_gbr.best_score_))"
   ]
  },
  {
   "cell_type": "code",
   "execution_count": 49,
   "metadata": {
    "colab": {
     "base_uri": "https://localhost:8080/",
     "height": 781
    },
    "colab_type": "code",
    "executionInfo": {
     "elapsed": 892,
     "status": "ok",
     "timestamp": 1594043374602,
     "user": {
      "displayName": "Harold Ran",
      "photoUrl": "",
      "userId": "00745499557779892259"
     },
     "user_tz": -480
    },
    "id": "vMMpwJNVXCTU",
    "outputId": "0ba11326-1f1f-473e-ea22-40ac8e07bef0"
   },
   "outputs": [
    {
     "data": {
      "text/plain": [
       "{'mean_fit_time': array([4.0276861 , 4.48107996, 4.99831038, 5.39778967, 6.00730252,\n",
       "        6.28444765]),\n",
       " 'mean_score_time': array([0.00360675, 0.00338058, 0.00338416, 0.00342782, 0.00344207,\n",
       "        0.00345123]),\n",
       " 'mean_test_score': array([-0.01398766, -0.01354997, -0.01413735, -0.01412094, -0.01393782,\n",
       "        -0.01441619]),\n",
       " 'param_max_features': masked_array(data=[0.5, 0.6, 0.7, 0.8, 0.9, 1.0],\n",
       "              mask=[False, False, False, False, False, False],\n",
       "        fill_value='?',\n",
       "             dtype=object),\n",
       " 'params': [{'max_features': 0.5},\n",
       "  {'max_features': 0.6},\n",
       "  {'max_features': 0.7},\n",
       "  {'max_features': 0.8},\n",
       "  {'max_features': 0.9},\n",
       "  {'max_features': 1.0}],\n",
       " 'rank_test_score': array([3, 1, 5, 4, 2, 6], dtype=int32),\n",
       " 'split0_test_score': array([-0.01533972, -0.01380506, -0.01477462, -0.01454269, -0.01446978,\n",
       "        -0.0154407 ]),\n",
       " 'split1_test_score': array([-0.00986073, -0.00848648, -0.00944819, -0.00959854, -0.00943181,\n",
       "        -0.00921154]),\n",
       " 'split2_test_score': array([-0.01265824, -0.01104128, -0.01139019, -0.01219035, -0.01203955,\n",
       "        -0.0126449 ]),\n",
       " 'split3_test_score': array([-0.02006059, -0.01920902, -0.01841154, -0.02019171, -0.02081231,\n",
       "        -0.0214854 ]),\n",
       " 'split4_test_score': array([-0.01938481, -0.0204864 , -0.02078164, -0.01981363, -0.01990263,\n",
       "        -0.02059205]),\n",
       " 'split5_test_score': array([-0.01068883, -0.01130454, -0.01267139, -0.0116273 , -0.0110136 ,\n",
       "        -0.01055537]),\n",
       " 'split6_test_score': array([-0.01534824, -0.01400235, -0.01607202, -0.01644327, -0.01486099,\n",
       "        -0.01557993]),\n",
       " 'split7_test_score': array([-0.01001228, -0.01065023, -0.01065399, -0.0098907 , -0.01058263,\n",
       "        -0.01032576]),\n",
       " 'split8_test_score': array([-0.00956117, -0.00959503, -0.00967289, -0.01014598, -0.0096093 ,\n",
       "        -0.00978681]),\n",
       " 'split9_test_score': array([-0.01696198, -0.01691932, -0.01749701, -0.01676526, -0.01665559,\n",
       "        -0.01853944]),\n",
       " 'std_fit_time': array([0.04102678, 0.04516117, 0.11852904, 0.04832817, 0.20920871,\n",
       "        0.04021994]),\n",
       " 'std_score_time': array([5.04039306e-04, 9.31230619e-05, 7.98850829e-05, 8.80679021e-05,\n",
       "        1.44589790e-04, 1.38135464e-04]),\n",
       " 'std_test_score': array([0.00378964, 0.00390878, 0.00376299, 0.00381991, 0.00392187,\n",
       "        0.00436823])}"
      ]
     },
     "execution_count": 49,
     "metadata": {
      "tags": []
     },
     "output_type": "execute_result"
    }
   ],
   "source": [
    "result"
   ]
  },
  {
   "cell_type": "markdown",
   "metadata": {
    "colab_type": "text",
    "id": "Wz0Q2TNZWV67"
   },
   "source": [
    "#### 5、subsample"
   ]
  },
  {
   "cell_type": "code",
   "execution_count": 50,
   "metadata": {
    "colab": {
     "base_uri": "https://localhost:8080/",
     "height": 106
    },
    "colab_type": "code",
    "executionInfo": {
     "elapsed": 315400,
     "status": "ok",
     "timestamp": 1594043708831,
     "user": {
      "displayName": "Harold Ran",
      "photoUrl": "",
      "userId": "00745499557779892259"
     },
     "user_tz": -480
    },
    "id": "U3thchDsXBdh",
    "outputId": "29697ce0-a6b8-48ec-b801-c67b0949ed30"
   },
   "outputs": [
    {
     "name": "stdout",
     "output_type": "stream",
     "text": [
      "Fitting 10 folds for each of 6 candidates, totalling 60 fits\n"
     ]
    },
    {
     "name": "stderr",
     "output_type": "stream",
     "text": [
      "[Parallel(n_jobs=1)]: Using backend SequentialBackend with 1 concurrent workers.\n",
      "[Parallel(n_jobs=1)]: Done  60 out of  60 | elapsed:  5.2min finished\n"
     ]
    },
    {
     "name": "stdout",
     "output_type": "stream",
     "text": [
      "参数的最佳取值：{'subsample': 0.6}\n",
      "最佳模型得分:-0.013549971127499515\n"
     ]
    }
   ],
   "source": [
    "params = {'loss': 'huber',\n",
    "      'criterion': 'mse', \n",
    "      'learning_rate': 0.1,\n",
    "      'n_estimators': 600, \n",
    "      'max_depth': 4,\n",
    "      'subsample': 0.6,\n",
    "      'min_samples_split': 20,\n",
    "      'min_samples_leaf': 5,\n",
    "      'max_features': 0.6,\n",
    "      'random_state': 32,\n",
    "      'alpha': 0.5}\n",
    "cv_params = {'subsample': [0.5, 0.6, 0.7, 0.8, 0.9, 1.0]}\n",
    "gbr = GradientBoostingRegressor(**params)\n",
    "grid_gbr = GridSearchCV(estimator=gbr, param_grid=cv_params, scoring='neg_mean_squared_error', cv=10, verbose=1)\n",
    "grid_gbr.fit(np.array(train), np.array(y))\n",
    "result = grid_gbr.cv_results_\n",
    "#print('每轮迭代运行结果:{}, {}'.format(result['mean_train_score'], result['std_train_score']))\n",
    "print('参数的最佳取值：{}'.format(grid_gbr.best_params_))\n",
    "print('最佳模型得分:{}'.format(grid_gbr.best_score_))"
   ]
  },
  {
   "cell_type": "markdown",
   "metadata": {
    "colab_type": "text",
    "id": "-KnTEqNpdHyo"
   },
   "source": [
    "#### 6、alpha"
   ]
  },
  {
   "cell_type": "code",
   "execution_count": 10,
   "metadata": {
    "colab": {
     "base_uri": "https://localhost:8080/",
     "height": 106
    },
    "colab_type": "code",
    "executionInfo": {
     "elapsed": 134144,
     "status": "ok",
     "timestamp": 1594044934161,
     "user": {
      "displayName": "Harold Ran",
      "photoUrl": "",
      "userId": "00745499557779892259"
     },
     "user_tz": -480
    },
    "id": "iW9dMKdrY-Tq",
    "outputId": "d6ea2373-bc66-444c-9830-18f91418cefa"
   },
   "outputs": [
    {
     "name": "stdout",
     "output_type": "stream",
     "text": [
      "Fitting 10 folds for each of 7 candidates, totalling 70 fits\n"
     ]
    },
    {
     "name": "stderr",
     "output_type": "stream",
     "text": [
      "[Parallel(n_jobs=1)]: Using backend SequentialBackend with 1 concurrent workers.\n",
      "[Parallel(n_jobs=1)]: Done  70 out of  70 | elapsed:  2.1min finished\n"
     ]
    },
    {
     "name": "stdout",
     "output_type": "stream",
     "text": [
      "参数的最佳取值：{'alpha': 0.5}\n",
      "最佳模型得分:-0.013549971127499515\n"
     ]
    }
   ],
   "source": [
    "params = {'loss': 'huber',\n",
    "      'criterion': 'mse', \n",
    "      'learning_rate': 0.1,\n",
    "      'n_estimators': 600, \n",
    "      'max_depth': 4,\n",
    "      'subsample': 0.6,\n",
    "      'min_samples_split': 20,\n",
    "      'min_samples_leaf': 5,\n",
    "      'max_features': 0.6,\n",
    "      'random_state': 32,\n",
    "      'alpha': 0.5}\n",
    "cv_params = {'alpha': [0, 0.2, 0.5, 0.8, 1, 2, 3]}\n",
    "gbr = GradientBoostingRegressor(**params)\n",
    "grid_gbr = GridSearchCV(estimator=gbr, param_grid=cv_params, scoring='neg_mean_squared_error', cv=10, verbose=1)\n",
    "grid_gbr.fit(np.array(train), np.array(y))\n",
    "result = grid_gbr.cv_results_\n",
    "#print('每轮迭代运行结果:{}, {}'.format(result['mean_train_score'], result['std_train_score']))\n",
    "print('参数的最佳取值：{}'.format(grid_gbr.best_params_))\n",
    "print('最佳模型得分:{}'.format(grid_gbr.best_score_))"
   ]
  },
  {
   "cell_type": "markdown",
   "metadata": {
    "colab_type": "text",
    "id": "KRIPtDkBi7gA"
   },
   "source": [
    "#### 7、模型评估"
   ]
  },
  {
   "cell_type": "code",
   "execution_count": 11,
   "metadata": {
    "colab": {
     "base_uri": "https://localhost:8080/",
     "height": 35
    },
    "colab_type": "code",
    "executionInfo": {
     "elapsed": 44995,
     "status": "ok",
     "timestamp": 1594046214999,
     "user": {
      "displayName": "Harold Ran",
      "photoUrl": "",
      "userId": "00745499557779892259"
     },
     "user_tz": -480
    },
    "id": "J5fB-RrZdpfU",
    "outputId": "70509d5c-e93b-4134-e0bf-ae29893b8590"
   },
   "outputs": [
    {
     "name": "stdout",
     "output_type": "stream",
     "text": [
      "RMSE of Gradient Boosting: 0.11865538871859024(0.009497984510023386)\n"
     ]
    }
   ],
   "source": [
    "params = {'loss': 'huber',\n",
    "      'criterion': 'mse', \n",
    "      'learning_rate': 0.1,\n",
    "      'n_estimators': 600, \n",
    "      'max_depth': 4,\n",
    "      'subsample': 0.6,\n",
    "      'min_samples_split': 20,\n",
    "      'min_samples_leaf': 5,\n",
    "      'max_features': 0.6,\n",
    "      'random_state': 32,\n",
    "      'alpha': 0.5}\n",
    "gbr = GradientBoostingRegressor(**params)\n",
    "score = rmse_cv(gbr)\n",
    "print('RMSE of Gradient Boosting: {}({})'.format(score.mean(), score.std()))"
   ]
  },
  {
   "cell_type": "code",
   "execution_count": 12,
   "metadata": {
    "colab": {
     "base_uri": "https://localhost:8080/",
     "height": 35
    },
    "colab_type": "code",
    "executionInfo": {
     "elapsed": 5994,
     "status": "ok",
     "timestamp": 1594046232002,
     "user": {
      "displayName": "Harold Ran",
      "photoUrl": "",
      "userId": "00745499557779892259"
     },
     "user_tz": -480
    },
    "id": "U0cvPAkFjkHb",
    "outputId": "c22786e3-8be3-43c6-8f4d-202afb9079b1"
   },
   "outputs": [
    {
     "name": "stdout",
     "output_type": "stream",
     "text": [
      "RMSE of Gradient Boosting: 0.06583064311955181\n"
     ]
    }
   ],
   "source": [
    "gbr_trained = gbr.fit(np.array(train), np.array(y))\n",
    "y_preds = gbr.predict(np.array(train))\n",
    "model_score = rmse(y, y_preds)\n",
    "print('RMSE of Gradient Boosting: {}'.format(model_score))"
   ]
  },
  {
   "cell_type": "code",
   "execution_count": 13,
   "metadata": {
    "colab": {},
    "colab_type": "code",
    "executionInfo": {
     "elapsed": 2185,
     "status": "ok",
     "timestamp": 1594046336962,
     "user": {
      "displayName": "Harold Ran",
      "photoUrl": "",
      "userId": "00745499557779892259"
     },
     "user_tz": -480
    },
    "id": "vh9tOfwajx2K"
   },
   "outputs": [],
   "source": [
    "sample_submission = pd.read_csv('sample_submission.csv')\n",
    "gbr_preds = gbr.predict(np.array(test))\n",
    "gbr_submission = pd.DataFrame({'Id': sample_submission['Id'], 'SalePrice': np.expm1(gbr_preds)})\n",
    "gbr_submission.to_csv('gbr_optimation_submission.csv', index=False)"
   ]
  },
  {
   "cell_type": "code",
   "execution_count": null,
   "metadata": {
    "colab": {},
    "colab_type": "code",
    "id": "8Cl9PLKKkMTh"
   },
   "outputs": [],
   "source": []
  }
 ],
 "metadata": {
  "colab": {
   "authorship_tag": "ABX9TyNaOvELZEKsSEnUIVwlKClx",
   "collapsed_sections": [],
   "name": "test1.ipynb",
   "provenance": []
  },
  "kernelspec": {
   "display_name": "Python 3",
   "language": "python",
   "name": "python3"
  },
  "language_info": {
   "codemirror_mode": {
    "name": "ipython",
    "version": 3
   },
   "file_extension": ".py",
   "mimetype": "text/x-python",
   "name": "python",
   "nbconvert_exporter": "python",
   "pygments_lexer": "ipython3",
   "version": "3.7.3"
  }
 },
 "nbformat": 4,
 "nbformat_minor": 1
}
