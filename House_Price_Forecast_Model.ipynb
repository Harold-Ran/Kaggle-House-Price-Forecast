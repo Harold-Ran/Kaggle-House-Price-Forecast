{
 "cells": [
  {
   "cell_type": "code",
   "execution_count": 1,
   "metadata": {
    "colab": {
     "base_uri": "https://localhost:8080/",
     "height": 126
    },
    "colab_type": "code",
    "executionInfo": {
     "elapsed": 38700,
     "status": "ok",
     "timestamp": 1594046803488,
     "user": {
      "displayName": "Harold Ran",
      "photoUrl": "",
      "userId": "00745499557779892259"
     },
     "user_tz": -480
    },
    "id": "zFg6rvE9iIm5",
    "outputId": "769149d6-4bac-4889-be1d-092cbfa0aad1"
   },
   "outputs": [
    {
     "name": "stdout",
     "output_type": "stream",
     "text": [
      "Go to this URL in a browser: https://accounts.google.com/o/oauth2/auth?client_id=947318989803-6bn6qk8qdgf4n4g3pfee6491hc0brc4i.apps.googleusercontent.com&redirect_uri=urn%3aietf%3awg%3aoauth%3a2.0%3aoob&response_type=code&scope=email%20https%3a%2f%2fwww.googleapis.com%2fauth%2fdocs.test%20https%3a%2f%2fwww.googleapis.com%2fauth%2fdrive%20https%3a%2f%2fwww.googleapis.com%2fauth%2fdrive.photos.readonly%20https%3a%2f%2fwww.googleapis.com%2fauth%2fpeopleapi.readonly\n",
      "\n",
      "Enter your authorization code:\n",
      "··········\n",
      "Mounted at /content/drive\n"
     ]
    }
   ],
   "source": [
    "from google.colab import drive\n",
    "drive.mount('/content/drive')"
   ]
  },
  {
   "cell_type": "code",
   "execution_count": 2,
   "metadata": {
    "colab": {
     "base_uri": "https://localhost:8080/",
     "height": 35
    },
    "colab_type": "code",
    "executionInfo": {
     "elapsed": 1680,
     "status": "ok",
     "timestamp": 1594046813979,
     "user": {
      "displayName": "Harold Ran",
      "photoUrl": "",
      "userId": "00745499557779892259"
     },
     "user_tz": -480
    },
    "id": "rEcVSFUeimJ0",
    "outputId": "1251ff5f-a959-40c1-abfe-06cc57be7658"
   },
   "outputs": [
    {
     "name": "stdout",
     "output_type": "stream",
     "text": [
      "/content/drive/My Drive/House-price-forecast\n"
     ]
    }
   ],
   "source": [
    "%cd '/content/drive/My Drive/House-price-forecast'"
   ]
  },
  {
   "cell_type": "markdown",
   "metadata": {
    "colab_type": "text",
    "id": "Ayu9ETvBjLQr"
   },
   "source": [
    "### 1、导入所需的库"
   ]
  },
  {
   "cell_type": "code",
   "execution_count": 3,
   "metadata": {
    "colab": {
     "base_uri": "https://localhost:8080/",
     "height": 72
    },
    "colab_type": "code",
    "executionInfo": {
     "elapsed": 3243,
     "status": "ok",
     "timestamp": 1594046829454,
     "user": {
      "displayName": "Harold Ran",
      "photoUrl": "",
      "userId": "00745499557779892259"
     },
     "user_tz": -480
    },
    "id": "gZWJjDsfjKR4",
    "outputId": "6d93ab0e-bfc9-47e2-c1a1-44616e55eee7"
   },
   "outputs": [
    {
     "name": "stderr",
     "output_type": "stream",
     "text": [
      "/usr/local/lib/python3.6/dist-packages/statsmodels/tools/_testing.py:19: FutureWarning: pandas.util.testing is deprecated. Use the functions in the public API at pandas.testing instead.\n",
      "  import pandas.util.testing as tm\n"
     ]
    }
   ],
   "source": [
    "#基础\n",
    "import numpy as np\n",
    "import pandas as pd\n",
    "import time\n",
    "\n",
    "#绘图\n",
    "import seaborn as sns\n",
    "import matplotlib.pyplot as plt\n",
    "%matplotlib inline\n",
    "\n",
    "#模型\n",
    "from sklearn.linear_model import Lasso, LassoCV, ElasticNet, ElasticNetCV, Ridge, RidgeCV\n",
    "from sklearn.ensemble import RandomForestRegressor, GradientBoostingRegressor, StackingRegressor\n",
    "from mlxtend.regressor import StackingCVRegressor\n",
    "from sklearn.svm import SVR\n",
    "import lightgbm as lgb\n",
    "import xgboost as xgb\n",
    "\n",
    "#模型相关\n",
    "from sklearn.pipeline import make_pipeline\n",
    "from sklearn.preprocessing import RobustScaler\n",
    "from sklearn.model_selection import KFold, cross_val_score\n",
    "from sklearn.metrics import mean_squared_error\n",
    "\n",
    "#忽略警告\n",
    "import warnings\n",
    "def ignore_warn(*args, **kwargs):\n",
    "    pass\n",
    "warnings.warn = ignore_warn"
   ]
  },
  {
   "cell_type": "markdown",
   "metadata": {
    "colab_type": "text",
    "id": "QiehEb07p_Rl"
   },
   "source": [
    "### 2、读取数据集，对正偏斜的目标值取对数处理"
   ]
  },
  {
   "cell_type": "code",
   "execution_count": 4,
   "metadata": {
    "colab": {
     "base_uri": "https://localhost:8080/",
     "height": 52
    },
    "colab_type": "code",
    "executionInfo": {
     "elapsed": 3173,
     "status": "ok",
     "timestamp": 1594046836252,
     "user": {
      "displayName": "Harold Ran",
      "photoUrl": "",
      "userId": "00745499557779892259"
     },
     "user_tz": -480
    },
    "id": "BiYSUSOip3tE",
    "outputId": "9a7e1595-053f-489a-8d9b-1ff95cc6b1ec"
   },
   "outputs": [
    {
     "name": "stdout",
     "output_type": "stream",
     "text": [
      "The shape of training data: (1458, 160)\n",
      "The shape of testing data: (1459, 159)\n"
     ]
    }
   ],
   "source": [
    "train = pd.read_csv('train_data.csv')\n",
    "test = pd.read_csv('test_data.csv')\n",
    "print('The shape of training data:', train.shape)\n",
    "print('The shape of testing data:', test.shape)"
   ]
  },
  {
   "cell_type": "code",
   "execution_count": 5,
   "metadata": {
    "colab": {
     "base_uri": "https://localhost:8080/",
     "height": 35
    },
    "colab_type": "code",
    "executionInfo": {
     "elapsed": 1639,
     "status": "ok",
     "timestamp": 1594046839189,
     "user": {
      "displayName": "Harold Ran",
      "photoUrl": "",
      "userId": "00745499557779892259"
     },
     "user_tz": -480
    },
    "id": "v8Rd7OkErAOj",
    "outputId": "b6cb27ae-71ba-49e3-a107-eb25a86583c8"
   },
   "outputs": [
    {
     "data": {
      "text/plain": [
       "False"
      ]
     },
     "execution_count": 5,
     "metadata": {
      "tags": []
     },
     "output_type": "execute_result"
    }
   ],
   "source": [
    "train.isnull().sum().any()"
   ]
  },
  {
   "cell_type": "code",
   "execution_count": 6,
   "metadata": {
    "colab": {
     "base_uri": "https://localhost:8080/",
     "height": 325
    },
    "colab_type": "code",
    "executionInfo": {
     "elapsed": 2516,
     "status": "ok",
     "timestamp": 1594046842452,
     "user": {
      "displayName": "Harold Ran",
      "photoUrl": "",
      "userId": "00745499557779892259"
     },
     "user_tz": -480
    },
    "id": "cElCQZKaqjK9",
    "outputId": "0296d8a1-99bf-44f2-f0a5-27af535f0239"
   },
   "outputs": [
    {
     "name": "stdout",
     "output_type": "stream",
     "text": [
      "Skewness of target: 1.8812964895244009\n",
      "kurtosis of target: 6.523066888485879\n"
     ]
    },
    {
     "data": {
      "image/png": "[encoded data removed]",
      "text/plain": [
       "<Figure size 432x288 with 1 Axes>"
      ]
     },
     "metadata": {
      "needs_background": "light",
      "tags": []
     },
     "output_type": "display_data"
    }
   ],
   "source": [
    "from scipy.stats import skew, kurtosis, norm\n",
    "\n",
    "y = train['SalePrice']\n",
    "print('Skewness of target:', y.skew())\n",
    "print('kurtosis of target:', y.kurtosis())\n",
    "sns.distplot(y, fit=norm);"
   ]
  },
  {
   "cell_type": "markdown",
   "metadata": {
    "colab_type": "text",
    "id": "ofirXxP4tixy"
   },
   "source": [
    "可以看出，未处理的目标值明显右偏，不满足正态分布"
   ]
  },
  {
   "cell_type": "code",
   "execution_count": 7,
   "metadata": {
    "colab": {
     "base_uri": "https://localhost:8080/",
     "height": 315
    },
    "colab_type": "code",
    "executionInfo": {
     "elapsed": 2140,
     "status": "ok",
     "timestamp": 1594046849860,
     "user": {
      "displayName": "Harold Ran",
      "photoUrl": "",
      "userId": "00745499557779892259"
     },
     "user_tz": -480
    },
    "id": "bHnBmsBds0yz",
    "outputId": "3e9b8d1b-f386-4917-ea85-35e308591654"
   },
   "outputs": [
    {
     "name": "stdout",
     "output_type": "stream",
     "text": [
      "Skewness of target: 0.12157976050304879\n",
      "kurtosis of target: 0.8047507917418972\n"
     ]
    },
    {
     "data": {
      "image/png": "[encoded data removed]",
      "text/plain": [
       "<Figure size 432x288 with 1 Axes>"
      ]
     },
     "metadata": {
      "needs_background": "light",
      "tags": []
     },
     "output_type": "display_data"
    }
   ],
   "source": [
    "y = np.log1p(y)\n",
    "print('Skewness of target:', y.skew())\n",
    "print('kurtosis of target:', y.kurtosis())\n",
    "sns.distplot(y, fit=norm);"
   ]
  },
  {
   "cell_type": "markdown",
   "metadata": {
    "colab_type": "text",
    "id": "GaoIEj67uOQG"
   },
   "source": [
    "处理后的目标值接近正态分布"
   ]
  },
  {
   "cell_type": "code",
   "execution_count": 8,
   "metadata": {
    "colab": {
     "base_uri": "https://localhost:8080/",
     "height": 70
    },
    "colab_type": "code",
    "executionInfo": {
     "elapsed": 1553,
     "status": "ok",
     "timestamp": 1594046855061,
     "user": {
      "displayName": "Harold Ran",
      "photoUrl": "",
      "userId": "00745499557779892259"
     },
     "user_tz": -480
    },
    "id": "Xo_HHYu-unZ8",
    "outputId": "4c2255f9-04b6-44aa-ad9a-47123710d7d7"
   },
   "outputs": [
    {
     "name": "stdout",
     "output_type": "stream",
     "text": [
      "The shape of training data: (1458, 159)\n",
      "The length of y: 1458\n",
      "The shape of testing data: (1459, 159)\n"
     ]
    }
   ],
   "source": [
    "train = train.drop('SalePrice', axis=1)\n",
    "\n",
    "#检查训练集与测试集的维度是否一致\n",
    "print('The shape of training data:', train.shape)\n",
    "print('The length of y:', len(y))\n",
    "print('The shape of testing data:', test.shape)"
   ]
  },
  {
   "cell_type": "code",
   "execution_count": 9,
   "metadata": {
    "colab": {
     "base_uri": "https://localhost:8080/",
     "height": 35
    },
    "colab_type": "code",
    "executionInfo": {
     "elapsed": 1243,
     "status": "ok",
     "timestamp": 1594046857065,
     "user": {
      "displayName": "Harold Ran",
      "photoUrl": "",
      "userId": "00745499557779892259"
     },
     "user_tz": -480
    },
    "id": "8hhfRwYUmwPB",
    "outputId": "fa3239a3-24e0-426a-fb13-3675f44e2ac2"
   },
   "outputs": [
    {
     "data": {
      "text/plain": [
       "0"
      ]
     },
     "execution_count": 9,
     "metadata": {
      "tags": []
     },
     "output_type": "execute_result"
    }
   ],
   "source": [
    "y.isnull().sum()"
   ]
  },
  {
   "cell_type": "markdown",
   "metadata": {
    "colab_type": "text",
    "id": "Lc5XoL5buY7O"
   },
   "source": [
    "### 3、定义交叉验证策略及评估方法"
   ]
  },
  {
   "cell_type": "code",
   "execution_count": 10,
   "metadata": {
    "colab": {},
    "colab_type": "code",
    "executionInfo": {
     "elapsed": 1467,
     "status": "ok",
     "timestamp": 1594046861125,
     "user": {
      "displayName": "Harold Ran",
      "photoUrl": "",
      "userId": "00745499557779892259"
     },
     "user_tz": -480
    },
    "id": "HReKvYssuZpK"
   },
   "outputs": [],
   "source": [
    "#采用十折交叉验证\n",
    "n_folds = 10\n",
    "\n",
    "def rmse_cv(model):\n",
    "  kf = KFold(n_folds, shuffle=True, random_state=20)\n",
    "  rmse = np.sqrt(-cross_val_score(model, train.values, y, scoring='neg_mean_squared_error', cv=kf))\n",
    "  return(rmse)"
   ]
  },
  {
   "cell_type": "markdown",
   "metadata": {
    "colab_type": "text",
    "id": "Hh52XgCbzDx0"
   },
   "source": [
    "### 4、单个模型参数设置\n",
    "采用六个模型：\n",
    "* Lasso\n",
    "* ElasticNet\n",
    "* Ridge\n",
    "* Gradient Boosting\n",
    "* LightGBM\n",
    "* XGBoost"
   ]
  },
  {
   "cell_type": "code",
   "execution_count": 11,
   "metadata": {
    "colab": {},
    "colab_type": "code",
    "executionInfo": {
     "elapsed": 1612,
     "status": "ok",
     "timestamp": 1594046911001,
     "user": {
      "displayName": "Harold Ran",
      "photoUrl": "",
      "userId": "00745499557779892259"
     },
     "user_tz": -480
    },
    "id": "Y0LAA6EKzAVC"
   },
   "outputs": [],
   "source": [
    "#Lasso\n",
    "lasso_alpha = [0.00005, 0.0001, 0.0002, 0.0005, 0.001, 0.002, 0.005, 0.01, 0.02, 0.05, 0.1, 0.2, 0.5, 1.0]\n",
    "lasso = make_pipeline(RobustScaler(), LassoCV(alphas=lasso_alpha, random_state=2))"
   ]
  },
  {
   "cell_type": "code",
   "execution_count": 12,
   "metadata": {
    "colab": {},
    "colab_type": "code",
    "executionInfo": {
     "elapsed": 1045,
     "status": "ok",
     "timestamp": 1594046912971,
     "user": {
      "displayName": "Harold Ran",
      "photoUrl": "",
      "userId": "00745499557779892259"
     },
     "user_tz": -480
    },
    "id": "Q7vHrf0d1ECo"
   },
   "outputs": [],
   "source": [
    "#ElasticNet\n",
    "enet_beta = [0.1, 0.2, 0.5, 0.6, 0.8, 0.9]\n",
    "enet_alpha = [0.00005, 0.0001, 0.0002, 0.0005, 0.001, 0.002, 0.005, 0.01]\n",
    "ENet = make_pipeline(RobustScaler(), ElasticNetCV(l1_ratio=enet_beta, alphas=enet_alpha, random_state=12))"
   ]
  },
  {
   "cell_type": "code",
   "execution_count": 13,
   "metadata": {
    "colab": {},
    "colab_type": "code",
    "executionInfo": {
     "elapsed": 2500,
     "status": "ok",
     "timestamp": 1594046916462,
     "user": {
      "displayName": "Harold Ran",
      "photoUrl": "",
      "userId": "00745499557779892259"
     },
     "user_tz": -480
    },
    "id": "nxFYm2JR2r_Z"
   },
   "outputs": [],
   "source": [
    "#Ridge\n",
    "rid_alpha = [0.00005, 0.0001, 0.0002, 0.0005, 0.001, 0.002, 0.005, 0.01, 0.02, 0.05, 0.1, 0.2, 0.5, 1.0]\n",
    "rid = make_pipeline(RobustScaler(), RidgeCV(alphas=rid_alpha))"
   ]
  },
  {
   "cell_type": "code",
   "execution_count": 14,
   "metadata": {
    "colab": {},
    "colab_type": "code",
    "executionInfo": {
     "elapsed": 3369,
     "status": "ok",
     "timestamp": 1594047022703,
     "user": {
      "displayName": "Harold Ran",
      "photoUrl": "",
      "userId": "00745499557779892259"
     },
     "user_tz": -480
    },
    "id": "4HSlme2FDJOA"
   },
   "outputs": [],
   "source": [
    "#Gradient Boosting\n",
    "gbr_params = {'loss': 'huber',\n",
    "      'criterion': 'mse', \n",
    "      'learning_rate': 0.1,\n",
    "      'n_estimators': 600, \n",
    "      'max_depth': 4,\n",
    "      'subsample': 0.6,\n",
    "      'min_samples_split': 20,\n",
    "      'min_samples_leaf': 5,\n",
    "      'max_features': 0.6,\n",
    "      'random_state': 32,\n",
    "      'alpha': 0.5}\n",
    "gbr = GradientBoostingRegressor(**gbr_params)"
   ]
  },
  {
   "cell_type": "code",
   "execution_count": 15,
   "metadata": {
    "colab": {},
    "colab_type": "code",
    "executionInfo": {
     "elapsed": 1356,
     "status": "ok",
     "timestamp": 1594047079504,
     "user": {
      "displayName": "Harold Ran",
      "photoUrl": "",
      "userId": "00745499557779892259"
     },
     "user_tz": -480
    },
    "id": "UvWDEC4VFaRv"
   },
   "outputs": [],
   "source": [
    "#LightGBM\n",
    "lgbr_params = {'learning_rate': 0.01,\n",
    "      'n_estimators': 1850, \n",
    "      'max_depth': 4,\n",
    "      'num_leaves': 20,\n",
    "      'subsample': 0.6,\n",
    "      'colsample_bytree': 0.6,\n",
    "      'min_child_weight': 0.001,\n",
    "      'min_child_samples': 21,\n",
    "      'random_state': 42,\n",
    "      'reg_alpha': 0,\n",
    "      'reg_lambda': 0.05}\n",
    "lgbr = lgb.LGBMRegressor(**lgbr_params)"
   ]
  },
  {
   "cell_type": "code",
   "execution_count": 17,
   "metadata": {
    "colab": {},
    "colab_type": "code",
    "executionInfo": {
     "elapsed": 2236,
     "status": "ok",
     "timestamp": 1594047146040,
     "user": {
      "displayName": "Harold Ran",
      "photoUrl": "",
      "userId": "00745499557779892259"
     },
     "user_tz": -480
    },
    "id": "0pkCHAxZLCq7"
   },
   "outputs": [],
   "source": [
    "#XGBoost\n",
    "xgbr_params = {'learning_rate': 0.01,\n",
    "      'n_estimators': 3000, \n",
    "      'max_depth': 5,\n",
    "      'subsample': 0.6,\n",
    "      'colsample_bytree': 0.7,\n",
    "      'min_child_weight': 3,\n",
    "      'seed': 52,\n",
    "      'gamma': 0,\n",
    "      'reg_alpha': 0,\n",
    "      'reg_lambda': 1}\n",
    "xgbr = xgb.XGBRegressor(**xgbr_params)"
   ]
  },
  {
   "cell_type": "markdown",
   "metadata": {
    "colab_type": "text",
    "id": "HPNihjcYMBDN"
   },
   "source": [
    "### 5、单个模型评估"
   ]
  },
  {
   "cell_type": "code",
   "execution_count": 18,
   "metadata": {
    "colab": {
     "base_uri": "https://localhost:8080/",
     "height": 301
    },
    "colab_type": "code",
    "executionInfo": {
     "elapsed": 315101,
     "status": "ok",
     "timestamp": 1594047483733,
     "user": {
      "displayName": "Harold Ran",
      "photoUrl": "",
      "userId": "00745499557779892259"
     },
     "user_tz": -480
    },
    "id": "Zbau73K1L05K",
    "outputId": "2bc390c1-5733-4f82-9942-00cf717803db"
   },
   "outputs": [
    {
     "name": "stdout",
     "output_type": "stream",
     "text": [
      "Lasso score: 0.11068147519566576(0.0073942264704033155)\n",
      "ElasticNet score: 0.11091904371233648(0.007532173448331412)\n",
      "Ridge score: 0.11119303368441777(0.00758400106291327)\n",
      "Gradient Boosting score: 0.11865538871859024(0.009497984510023386)\n",
      "LightGBM score: 0.118318792967013(0.010364808635531306)\n",
      "[14:54:12] WARNING: /workspace/src/objective/regression_obj.cu:152: reg:linear is now deprecated in favor of reg:squarederror.\n",
      "[14:54:36] WARNING: /workspace/src/objective/regression_obj.cu:152: reg:linear is now deprecated in favor of reg:squarederror.\n",
      "[14:54:59] WARNING: /workspace/src/objective/regression_obj.cu:152: reg:linear is now deprecated in favor of reg:squarederror.\n",
      "[14:55:22] WARNING: /workspace/src/objective/regression_obj.cu:152: reg:linear is now deprecated in favor of reg:squarederror.\n",
      "[14:55:45] WARNING: /workspace/src/objective/regression_obj.cu:152: reg:linear is now deprecated in favor of reg:squarederror.\n",
      "[14:56:08] WARNING: /workspace/src/objective/regression_obj.cu:152: reg:linear is now deprecated in favor of reg:squarederror.\n",
      "[14:56:31] WARNING: /workspace/src/objective/regression_obj.cu:152: reg:linear is now deprecated in favor of reg:squarederror.\n",
      "[14:56:54] WARNING: /workspace/src/objective/regression_obj.cu:152: reg:linear is now deprecated in favor of reg:squarederror.\n",
      "[14:57:17] WARNING: /workspace/src/objective/regression_obj.cu:152: reg:linear is now deprecated in favor of reg:squarederror.\n",
      "[14:57:40] WARNING: /workspace/src/objective/regression_obj.cu:152: reg:linear is now deprecated in favor of reg:squarederror.\n",
      "XGBoost score: 0.11765395230885649(0.008765082104957694)\n"
     ]
    }
   ],
   "source": [
    "models_name = ['Lasso', 'ElasticNet', 'Ridge', 'Gradient Boosting', 'LightGBM', 'XGBoost']\n",
    "models = [lasso, ENet, rid, gbr, lgbr, xgbr]\n",
    "for i, model in enumerate(models):\n",
    "  score = rmse_cv(model)\n",
    "  print('{} score: {}({})'.format(models_name[i], score.mean(), score.std()))"
   ]
  },
  {
   "cell_type": "markdown",
   "metadata": {
    "colab_type": "text",
    "id": "TzmW7xGE3uZ9"
   },
   "source": [
    "### 6、设置Stacking模型参数"
   ]
  },
  {
   "cell_type": "code",
   "execution_count": 19,
   "metadata": {
    "colab": {},
    "colab_type": "code",
    "executionInfo": {
     "elapsed": 1352,
     "status": "ok",
     "timestamp": 1594047502152,
     "user": {
      "displayName": "Harold Ran",
      "photoUrl": "",
      "userId": "00745499557779892259"
     },
     "user_tz": -480
    },
    "id": "pNI7oYjDUYF5"
   },
   "outputs": [],
   "source": [
    "stack_model = StackingCVRegressor(regressors=(lasso, ENet, rid, gbr, lgbr, xgbr), meta_regressor=lasso, use_features_in_secondary=True)"
   ]
  },
  {
   "cell_type": "markdown",
   "metadata": {
    "colab_type": "text",
    "id": "-S55z63y8hKm"
   },
   "source": [
    "### 7、在整个训练集上训练各模型"
   ]
  },
  {
   "cell_type": "code",
   "execution_count": 20,
   "metadata": {
    "colab": {},
    "colab_type": "code",
    "executionInfo": {
     "elapsed": 1595,
     "status": "ok",
     "timestamp": 1594047507814,
     "user": {
      "displayName": "Harold Ran",
      "photoUrl": "",
      "userId": "00745499557779892259"
     },
     "user_tz": -480
    },
    "id": "fCo52Iz16pnw"
   },
   "outputs": [],
   "source": [
    "#Lasso\n",
    "lasso_trained = lasso.fit(np.array(train), np.array(y))"
   ]
  },
  {
   "cell_type": "code",
   "execution_count": 21,
   "metadata": {
    "colab": {},
    "colab_type": "code",
    "executionInfo": {
     "elapsed": 4218,
     "status": "ok",
     "timestamp": 1594047514191,
     "user": {
      "displayName": "Harold Ran",
      "photoUrl": "",
      "userId": "00745499557779892259"
     },
     "user_tz": -480
    },
    "id": "UxdUAhC2601D"
   },
   "outputs": [],
   "source": [
    "#ElasticNet\n",
    "ENet_trained = ENet.fit(np.array(train), np.array(y))"
   ]
  },
  {
   "cell_type": "code",
   "execution_count": 22,
   "metadata": {
    "colab": {},
    "colab_type": "code",
    "executionInfo": {
     "elapsed": 1945,
     "status": "ok",
     "timestamp": 1594047540149,
     "user": {
      "displayName": "Harold Ran",
      "photoUrl": "",
      "userId": "00745499557779892259"
     },
     "user_tz": -480
    },
    "id": "9Zd5v_SG9JgU"
   },
   "outputs": [],
   "source": [
    "#Ridge\n",
    "rid_trained = rid.fit(np.array(train), np.array(y))"
   ]
  },
  {
   "cell_type": "code",
   "execution_count": 23,
   "metadata": {
    "colab": {},
    "colab_type": "code",
    "executionInfo": {
     "elapsed": 6045,
     "status": "ok",
     "timestamp": 1594047552836,
     "user": {
      "displayName": "Harold Ran",
      "photoUrl": "",
      "userId": "00745499557779892259"
     },
     "user_tz": -480
    },
    "id": "GjZ1IFwU9aiG"
   },
   "outputs": [],
   "source": [
    "#Gradient Boosting\n",
    "gbr_trained = gbr.fit(np.array(train), np.array(y))"
   ]
  },
  {
   "cell_type": "code",
   "execution_count": 24,
   "metadata": {
    "colab": {},
    "colab_type": "code",
    "executionInfo": {
     "elapsed": 3514,
     "status": "ok",
     "timestamp": 1594047557347,
     "user": {
      "displayName": "Harold Ran",
      "photoUrl": "",
      "userId": "00745499557779892259"
     },
     "user_tz": -480
    },
    "id": "1gZo2yEf9gX5"
   },
   "outputs": [],
   "source": [
    "#LightGBM\n",
    "lgbr_trained = lgbr.fit(np.array(train), np.array(y))"
   ]
  },
  {
   "cell_type": "code",
   "execution_count": 25,
   "metadata": {
    "colab": {
     "base_uri": "https://localhost:8080/",
     "height": 35
    },
    "colab_type": "code",
    "executionInfo": {
     "elapsed": 27332,
     "status": "ok",
     "timestamp": 1594047585741,
     "user": {
      "displayName": "Harold Ran",
      "photoUrl": "",
      "userId": "00745499557779892259"
     },
     "user_tz": -480
    },
    "id": "EL4jQlg59nGY",
    "outputId": "94e1e861-9e71-479c-f849-77ef4a394cbd"
   },
   "outputs": [
    {
     "name": "stdout",
     "output_type": "stream",
     "text": [
      "[14:59:20] WARNING: /workspace/src/objective/regression_obj.cu:152: reg:linear is now deprecated in favor of reg:squarederror.\n"
     ]
    }
   ],
   "source": [
    "#XGBoost\n",
    "xgbr_trained = xgbr.fit(np.array(train), np.array(y))"
   ]
  },
  {
   "cell_type": "code",
   "execution_count": 26,
   "metadata": {
    "colab": {
     "base_uri": "https://localhost:8080/",
     "height": 124
    },
    "colab_type": "code",
    "executionInfo": {
     "elapsed": 191391,
     "status": "ok",
     "timestamp": 1594047768311,
     "user": {
      "displayName": "Harold Ran",
      "photoUrl": "",
      "userId": "00745499557779892259"
     },
     "user_tz": -480
    },
    "id": "xNopcHPA9rwo",
    "outputId": "c909d08e-ec8f-4cc6-9883-ef5079d9d71e"
   },
   "outputs": [
    {
     "name": "stdout",
     "output_type": "stream",
     "text": [
      "[15:00:26] WARNING: /workspace/src/objective/regression_obj.cu:152: reg:linear is now deprecated in favor of reg:squarederror.\n",
      "[15:00:46] WARNING: /workspace/src/objective/regression_obj.cu:152: reg:linear is now deprecated in favor of reg:squarederror.\n",
      "[15:01:07] WARNING: /workspace/src/objective/regression_obj.cu:152: reg:linear is now deprecated in favor of reg:squarederror.\n",
      "[15:01:28] WARNING: /workspace/src/objective/regression_obj.cu:152: reg:linear is now deprecated in favor of reg:squarederror.\n",
      "[15:01:49] WARNING: /workspace/src/objective/regression_obj.cu:152: reg:linear is now deprecated in favor of reg:squarederror.\n",
      "[15:02:20] WARNING: /workspace/src/objective/regression_obj.cu:152: reg:linear is now deprecated in favor of reg:squarederror.\n"
     ]
    }
   ],
   "source": [
    "#Stacking\n",
    "stack_model_trained = stack_model.fit(np.array(train), np.array(y))"
   ]
  },
  {
   "cell_type": "markdown",
   "metadata": {
    "colab_type": "text",
    "id": "tyf7CKlgMUcz"
   },
   "source": [
    "### 8、评估各个模型在完整训练集上的表现"
   ]
  },
  {
   "cell_type": "code",
   "execution_count": 27,
   "metadata": {
    "colab": {},
    "colab_type": "code",
    "executionInfo": {
     "elapsed": 1595,
     "status": "ok",
     "timestamp": 1594047781904,
     "user": {
      "displayName": "Harold Ran",
      "photoUrl": "",
      "userId": "00745499557779892259"
     },
     "user_tz": -480
    },
    "id": "U4VMRxy9M2eq"
   },
   "outputs": [],
   "source": [
    "def rmse(y, y_preds):\n",
    "  return np.sqrt(mean_squared_error(y, y_preds))"
   ]
  },
  {
   "cell_type": "code",
   "execution_count": 28,
   "metadata": {
    "colab": {
     "base_uri": "https://localhost:8080/",
     "height": 141
    },
    "colab_type": "code",
    "executionInfo": {
     "elapsed": 2842,
     "status": "ok",
     "timestamp": 1594047785790,
     "user": {
      "displayName": "Harold Ran",
      "photoUrl": "",
      "userId": "00745499557779892259"
     },
     "user_tz": -480
    },
    "id": "8Hu9r4VMMTlQ",
    "outputId": "2063da46-8038-40ee-fc00-c2e5be3b7166"
   },
   "outputs": [
    {
     "name": "stdout",
     "output_type": "stream",
     "text": [
      "RMSE of Lasso: 0.0989275731446597\n",
      "RMSE of ElasticNet: 0.09866027051143429\n",
      "RMSE of Ridge: 0.09681908262749463\n",
      "RMSE of Gradient Boosting: 0.06583064311955181\n",
      "RMSE of LightGBM: 0.0641626832182992\n",
      "RMSE of XGBoost: 0.02286417135304461\n",
      "RMSE of Stacking_model: 0.09431153828814741\n"
     ]
    }
   ],
   "source": [
    "models.append(stack_model)\n",
    "models_name.append('Stacking_model')\n",
    "for i, model in enumerate(models):\n",
    "  y_preds = model.predict(np.array(train))\n",
    "  model_score = rmse(y, y_preds)\n",
    "  print('RMSE of {}: {}'.format(models_name[i], model_score))"
   ]
  },
  {
   "cell_type": "markdown",
   "metadata": {
    "colab_type": "text",
    "id": "gxadmKsV_hiy"
   },
   "source": [
    "### 9、提交各个模型的预测结果"
   ]
  },
  {
   "cell_type": "code",
   "execution_count": 31,
   "metadata": {
    "colab": {
     "base_uri": "https://localhost:8080/",
     "height": 141
    },
    "colab_type": "code",
    "executionInfo": {
     "elapsed": 3636,
     "status": "ok",
     "timestamp": 1594047893813,
     "user": {
      "displayName": "Harold Ran",
      "photoUrl": "",
      "userId": "00745499557779892259"
     },
     "user_tz": -480
    },
    "id": "CekX2u6n-wC3",
    "outputId": "8ab6a3c2-d031-4317-f213-098fcaf82e34"
   },
   "outputs": [
    {
     "name": "stdout",
     "output_type": "stream",
     "text": [
      "Lasso finished.\n",
      "ElasticNet finished.\n",
      "Ridge finished.\n",
      "Gradient Boosting finished.\n",
      "LightGBM finished.\n",
      "XGBoost finished.\n",
      "Stacking_model finished.\n"
     ]
    }
   ],
   "source": [
    "sample_submission = pd.read_csv('sample_submission.csv')\n",
    "for i, model in enumerate(models):\n",
    "  preds = model.predict(np.array(test))\n",
    "  submission = pd.DataFrame({'Id': sample_submission['Id'], 'SalePrice': np.expm1(preds)})\n",
    "  submission.to_csv('House_Price_submission_'+models_name[i]+'_optimation.csv', index=False)\n",
    "  print('{} finished.'.format(models_name[i]))"
   ]
  },
  {
   "cell_type": "markdown",
   "metadata": {
    "colab_type": "text",
    "id": "LQraj1I8Fa1I"
   },
   "source": [
    "### 10、均值融合"
   ]
  },
  {
   "cell_type": "code",
   "execution_count": 29,
   "metadata": {
    "colab": {},
    "colab_type": "code",
    "executionInfo": {
     "elapsed": 3226,
     "status": "ok",
     "timestamp": 1594047831393,
     "user": {
      "displayName": "Harold Ran",
      "photoUrl": "",
      "userId": "00745499557779892259"
     },
     "user_tz": -480
    },
    "id": "vDdj5162B0Tr"
   },
   "outputs": [],
   "source": [
    "preds_in_train = np.zeros((len(y), len(models)))\n",
    "for i, model in enumerate(models):\n",
    "  preds_in_train[:, i] = model.predict(np.array(train))\n",
    "average_preds_in_train = preds_in_train.mean(axis=1)"
   ]
  },
  {
   "cell_type": "code",
   "execution_count": 30,
   "metadata": {
    "colab": {
     "base_uri": "https://localhost:8080/",
     "height": 35
    },
    "colab_type": "code",
    "executionInfo": {
     "elapsed": 2098,
     "status": "ok",
     "timestamp": 1594047836088,
     "user": {
      "displayName": "Harold Ran",
      "photoUrl": "",
      "userId": "00745499557779892259"
     },
     "user_tz": -480
    },
    "id": "VvJZlZf0Hj6y",
    "outputId": "00a22a3f-43ca-43f0-c031-4246a186a5dd"
   },
   "outputs": [
    {
     "name": "stdout",
     "output_type": "stream",
     "text": [
      "RMSE of average model on training data: 0.07286858974899155\n"
     ]
    }
   ],
   "source": [
    "average_score = rmse(y, average_preds_in_train)\n",
    "print('RMSE of average model on training data:', average_score)"
   ]
  },
  {
   "cell_type": "code",
   "execution_count": 32,
   "metadata": {
    "colab": {},
    "colab_type": "code",
    "executionInfo": {
     "elapsed": 5012,
     "status": "ok",
     "timestamp": 1594047906634,
     "user": {
      "displayName": "Harold Ran",
      "photoUrl": "",
      "userId": "00745499557779892259"
     },
     "user_tz": -480
    },
    "id": "F3s3-jevIMwp"
   },
   "outputs": [],
   "source": [
    "#提交均值融合预测结果\n",
    "preds_in_test = np.zeros((len(test), len(models)))\n",
    "for i, model in enumerate(models):\n",
    "  preds_in_test[:, i] = model.predict(np.array(test))\n",
    "average_preds_in_test = preds_in_test.mean(axis=1)\n",
    "\n",
    "average_submission = pd.DataFrame({'Id': sample_submission['Id'], 'SalePrice': np.expm1(average_preds_in_test)})\n",
    "average_submission.to_csv('House_Price_submission_average_model_optimation.csv', index=False)"
   ]
  },
  {
   "cell_type": "markdown",
   "metadata": {
    "colab_type": "text",
    "id": "3SHlR5myJNzl"
   },
   "source": [
    "### 11、权值融合"
   ]
  },
  {
   "cell_type": "code",
   "execution_count": 33,
   "metadata": {
    "colab": {
     "base_uri": "https://localhost:8080/",
     "height": 35
    },
    "colab_type": "code",
    "executionInfo": {
     "elapsed": 1256,
     "status": "ok",
     "timestamp": 1594049009036,
     "user": {
      "displayName": "Harold Ran",
      "photoUrl": "",
      "userId": "00745499557779892259"
     },
     "user_tz": -480
    },
    "id": "ReqI0h8jKJiE",
    "outputId": "cdf747e0-36d5-4802-895a-f9ac038aad5e"
   },
   "outputs": [
    {
     "name": "stdout",
     "output_type": "stream",
     "text": [
      "RMSE of weight model on training data: 0.07525884061133567\n"
     ]
    }
   ],
   "source": [
    "model_weights = [0.15, 0.12, 0.08, 0.08, 0.12, 0.15, 0.3]\n",
    "weight_preds_in_train = np.matmul(preds_in_train, model_weights)\n",
    "\n",
    "weight_score = rmse(y, weight_preds_in_train)\n",
    "print('RMSE of weight model on training data:', weight_score)"
   ]
  },
  {
   "cell_type": "code",
   "execution_count": 34,
   "metadata": {
    "colab": {},
    "colab_type": "code",
    "executionInfo": {
     "elapsed": 1382,
     "status": "ok",
     "timestamp": 1594049030932,
     "user": {
      "displayName": "Harold Ran",
      "photoUrl": "",
      "userId": "00745499557779892259"
     },
     "user_tz": -480
    },
    "id": "9SgKxrMCI8S2"
   },
   "outputs": [],
   "source": [
    "#提交权值融合预测结果\n",
    "weight_preds_in_test = np.matmul(preds_in_test, model_weights)\n",
    "\n",
    "weight_submission = pd.DataFrame({'Id': sample_submission['Id'], 'SalePrice': np.expm1(weight_preds_in_test)})\n",
    "weight_submission.to_csv('House_Price_submission_weight_model_optimation.csv', index=False)"
   ]
  },
  {
   "cell_type": "markdown",
   "metadata": {
    "colab_type": "text",
    "id": "2lr7EJvKxIcR"
   },
   "source": [
    "#### 12、保存预测结果"
   ]
  },
  {
   "cell_type": "code",
   "execution_count": 35,
   "metadata": {
    "colab": {
     "base_uri": "https://localhost:8080/",
     "height": 200
    },
    "colab_type": "code",
    "executionInfo": {
     "elapsed": 1248,
     "status": "ok",
     "timestamp": 1594049871905,
     "user": {
      "displayName": "Harold Ran",
      "photoUrl": "",
      "userId": "00745499557779892259"
     },
     "user_tz": -480
    },
    "id": "YOWSoDmrxNns",
    "outputId": "b5ec2be6-406b-4907-ff73-8a50ec173556"
   },
   "outputs": [
    {
     "data": {
      "text/html": [
       "<div>\n",
       "<style scoped>\n",
       "    .dataframe tbody tr th:only-of-type {\n",
       "        vertical-align: middle;\n",
       "    }\n",
       "\n",
       "    .dataframe tbody tr th {\n",
       "        vertical-align: top;\n",
       "    }\n",
       "\n",
       "    .dataframe thead th {\n",
       "        text-align: right;\n",
       "    }\n",
       "</style>\n",
       "<table border=\"1\" class=\"dataframe\">\n",
       "  <thead>\n",
       "    <tr style=\"text-align: right;\">\n",
       "      <th></th>\n",
       "      <th>Lasso</th>\n",
       "      <th>ElasticNet</th>\n",
       "      <th>Ridge</th>\n",
       "      <th>Gradient Boosting</th>\n",
       "      <th>LightGBM</th>\n",
       "      <th>XGBoost</th>\n",
       "      <th>Stacking_model</th>\n",
       "    </tr>\n",
       "  </thead>\n",
       "  <tbody>\n",
       "    <tr>\n",
       "      <th>0</th>\n",
       "      <td>12.243033</td>\n",
       "      <td>12.242942</td>\n",
       "      <td>12.243642</td>\n",
       "      <td>12.252759</td>\n",
       "      <td>12.205982</td>\n",
       "      <td>12.240190</td>\n",
       "      <td>12.247418</td>\n",
       "    </tr>\n",
       "    <tr>\n",
       "      <th>1</th>\n",
       "      <td>12.138067</td>\n",
       "      <td>12.140639</td>\n",
       "      <td>12.162185</td>\n",
       "      <td>12.108321</td>\n",
       "      <td>12.054906</td>\n",
       "      <td>12.098722</td>\n",
       "      <td>12.163911</td>\n",
       "    </tr>\n",
       "    <tr>\n",
       "      <th>2</th>\n",
       "      <td>12.263182</td>\n",
       "      <td>12.262274</td>\n",
       "      <td>12.261112</td>\n",
       "      <td>12.290725</td>\n",
       "      <td>12.262509</td>\n",
       "      <td>12.296590</td>\n",
       "      <td>12.275705</td>\n",
       "    </tr>\n",
       "    <tr>\n",
       "      <th>3</th>\n",
       "      <td>12.054507</td>\n",
       "      <td>12.053744</td>\n",
       "      <td>12.044724</td>\n",
       "      <td>11.960368</td>\n",
       "      <td>11.940389</td>\n",
       "      <td>11.873365</td>\n",
       "      <td>12.029737</td>\n",
       "    </tr>\n",
       "    <tr>\n",
       "      <th>4</th>\n",
       "      <td>12.576098</td>\n",
       "      <td>12.575636</td>\n",
       "      <td>12.573866</td>\n",
       "      <td>12.474674</td>\n",
       "      <td>12.522560</td>\n",
       "      <td>12.470411</td>\n",
       "      <td>12.533831</td>\n",
       "    </tr>\n",
       "  </tbody>\n",
       "</table>\n",
       "</div>"
      ],
      "text/plain": [
       "       Lasso  ElasticNet      Ridge  ...   LightGBM    XGBoost  Stacking_model\n",
       "0  12.243033   12.242942  12.243642  ...  12.205982  12.240190       12.247418\n",
       "1  12.138067   12.140639  12.162185  ...  12.054906  12.098722       12.163911\n",
       "2  12.263182   12.262274  12.261112  ...  12.262509  12.296590       12.275705\n",
       "3  12.054507   12.053744  12.044724  ...  11.940389  11.873365       12.029737\n",
       "4  12.576098   12.575636  12.573866  ...  12.522560  12.470411       12.533831\n",
       "\n",
       "[5 rows x 7 columns]"
      ]
     },
     "execution_count": 35,
     "metadata": {
      "tags": []
     },
     "output_type": "execute_result"
    }
   ],
   "source": [
    "#保存训练集上的预测结果\n",
    "train_prediction = pd.DataFrame(preds_in_train, columns=models_name)\n",
    "train_prediction.head()"
   ]
  },
  {
   "cell_type": "code",
   "execution_count": 36,
   "metadata": {
    "colab": {
     "base_uri": "https://localhost:8080/",
     "height": 35
    },
    "colab_type": "code",
    "executionInfo": {
     "elapsed": 1731,
     "status": "ok",
     "timestamp": 1594049893392,
     "user": {
      "displayName": "Harold Ran",
      "photoUrl": "",
      "userId": "00745499557779892259"
     },
     "user_tz": -480
    },
    "id": "WUicsa9Bxrqh",
    "outputId": "52b2e20a-14eb-4a6c-c913-47379424aa28"
   },
   "outputs": [
    {
     "data": {
      "text/plain": [
       "(1458, 7)"
      ]
     },
     "execution_count": 36,
     "metadata": {
      "tags": []
     },
     "output_type": "execute_result"
    }
   ],
   "source": [
    "train_prediction.shape"
   ]
  },
  {
   "cell_type": "code",
   "execution_count": 37,
   "metadata": {
    "colab": {},
    "colab_type": "code",
    "executionInfo": {
     "elapsed": 1315,
     "status": "ok",
     "timestamp": 1594049966535,
     "user": {
      "displayName": "Harold Ran",
      "photoUrl": "",
      "userId": "00745499557779892259"
     },
     "user_tz": -480
    },
    "id": "h6JtLd4hxwuK"
   },
   "outputs": [],
   "source": [
    "train_prediction.to_csv('train_prediction_of_7_models.csv', index=False)"
   ]
  },
  {
   "cell_type": "code",
   "execution_count": 38,
   "metadata": {
    "colab": {
     "base_uri": "https://localhost:8080/",
     "height": 200
    },
    "colab_type": "code",
    "executionInfo": {
     "elapsed": 1550,
     "status": "ok",
     "timestamp": 1594050038222,
     "user": {
      "displayName": "Harold Ran",
      "photoUrl": "",
      "userId": "00745499557779892259"
     },
     "user_tz": -480
    },
    "id": "jbuklfYryCst",
    "outputId": "386e25ef-a347-43f9-8036-8ea9df7461fb"
   },
   "outputs": [
    {
     "data": {
      "text/html": [
       "<div>\n",
       "<style scoped>\n",
       "    .dataframe tbody tr th:only-of-type {\n",
       "        vertical-align: middle;\n",
       "    }\n",
       "\n",
       "    .dataframe tbody tr th {\n",
       "        vertical-align: top;\n",
       "    }\n",
       "\n",
       "    .dataframe thead th {\n",
       "        text-align: right;\n",
       "    }\n",
       "</style>\n",
       "<table border=\"1\" class=\"dataframe\">\n",
       "  <thead>\n",
       "    <tr style=\"text-align: right;\">\n",
       "      <th></th>\n",
       "      <th>Lasso</th>\n",
       "      <th>ElasticNet</th>\n",
       "      <th>Ridge</th>\n",
       "      <th>Gradient Boosting</th>\n",
       "      <th>LightGBM</th>\n",
       "      <th>XGBoost</th>\n",
       "      <th>Stacking_model</th>\n",
       "    </tr>\n",
       "  </thead>\n",
       "  <tbody>\n",
       "    <tr>\n",
       "      <th>0</th>\n",
       "      <td>11.686103</td>\n",
       "      <td>11.689379</td>\n",
       "      <td>11.707030</td>\n",
       "      <td>11.727196</td>\n",
       "      <td>11.712525</td>\n",
       "      <td>11.732334</td>\n",
       "      <td>11.678234</td>\n",
       "    </tr>\n",
       "    <tr>\n",
       "      <th>1</th>\n",
       "      <td>11.938668</td>\n",
       "      <td>11.932496</td>\n",
       "      <td>11.929884</td>\n",
       "      <td>11.968118</td>\n",
       "      <td>11.957699</td>\n",
       "      <td>12.001780</td>\n",
       "      <td>11.933534</td>\n",
       "    </tr>\n",
       "    <tr>\n",
       "      <th>2</th>\n",
       "      <td>12.114848</td>\n",
       "      <td>12.115056</td>\n",
       "      <td>12.111930</td>\n",
       "      <td>12.121909</td>\n",
       "      <td>12.123789</td>\n",
       "      <td>12.155682</td>\n",
       "      <td>12.131703</td>\n",
       "    </tr>\n",
       "    <tr>\n",
       "      <th>3</th>\n",
       "      <td>12.188549</td>\n",
       "      <td>12.187790</td>\n",
       "      <td>12.178972</td>\n",
       "      <td>12.175942</td>\n",
       "      <td>12.166634</td>\n",
       "      <td>12.173287</td>\n",
       "      <td>12.194356</td>\n",
       "    </tr>\n",
       "    <tr>\n",
       "      <th>4</th>\n",
       "      <td>12.217765</td>\n",
       "      <td>12.219003</td>\n",
       "      <td>12.224793</td>\n",
       "      <td>12.113195</td>\n",
       "      <td>12.168493</td>\n",
       "      <td>12.098944</td>\n",
       "      <td>12.220582</td>\n",
       "    </tr>\n",
       "  </tbody>\n",
       "</table>\n",
       "</div>"
      ],
      "text/plain": [
       "       Lasso  ElasticNet      Ridge  ...   LightGBM    XGBoost  Stacking_model\n",
       "0  11.686103   11.689379  11.707030  ...  11.712525  11.732334       11.678234\n",
       "1  11.938668   11.932496  11.929884  ...  11.957699  12.001780       11.933534\n",
       "2  12.114848   12.115056  12.111930  ...  12.123789  12.155682       12.131703\n",
       "3  12.188549   12.187790  12.178972  ...  12.166634  12.173287       12.194356\n",
       "4  12.217765   12.219003  12.224793  ...  12.168493  12.098944       12.220582\n",
       "\n",
       "[5 rows x 7 columns]"
      ]
     },
     "execution_count": 38,
     "metadata": {
      "tags": []
     },
     "output_type": "execute_result"
    }
   ],
   "source": [
    "#保存测试集上的预测结果\n",
    "test_prediction = pd.DataFrame(preds_in_test, columns=models_name)\n",
    "test_prediction.head()"
   ]
  },
  {
   "cell_type": "code",
   "execution_count": 39,
   "metadata": {
    "colab": {
     "base_uri": "https://localhost:8080/",
     "height": 35
    },
    "colab_type": "code",
    "executionInfo": {
     "elapsed": 1050,
     "status": "ok",
     "timestamp": 1594050060137,
     "user": {
      "displayName": "Harold Ran",
      "photoUrl": "",
      "userId": "00745499557779892259"
     },
     "user_tz": -480
    },
    "id": "g2jkgGAvyULn",
    "outputId": "bbf087f9-f202-47b8-c609-b16a04b1759a"
   },
   "outputs": [
    {
     "data": {
      "text/plain": [
       "(1459, 7)"
      ]
     },
     "execution_count": 39,
     "metadata": {
      "tags": []
     },
     "output_type": "execute_result"
    }
   ],
   "source": [
    "test_prediction.shape"
   ]
  },
  {
   "cell_type": "code",
   "execution_count": 40,
   "metadata": {
    "colab": {},
    "colab_type": "code",
    "executionInfo": {
     "elapsed": 1229,
     "status": "ok",
     "timestamp": 1594050099140,
     "user": {
      "displayName": "Harold Ran",
      "photoUrl": "",
      "userId": "00745499557779892259"
     },
     "user_tz": -480
    },
    "id": "wZjnZ5EryZeS"
   },
   "outputs": [],
   "source": [
    "test_prediction.to_csv('test_prediction_of_7_models.csv', index=False)"
   ]
  },
  {
   "cell_type": "code",
   "execution_count": null,
   "metadata": {
    "colab": {},
    "colab_type": "code",
    "id": "b2L2bApLyjJ2"
   },
   "outputs": [],
   "source": []
  }
 ],
 "metadata": {
  "colab": {
   "authorship_tag": "ABX9TyPsYX/v8U/6vjFeE6rjbiAH",
   "collapsed_sections": [],
   "name": "House_Price_Forecast_Model.ipynb",
   "provenance": []
  },
  "kernelspec": {
   "display_name": "Python 3",
   "language": "python",
   "name": "python3"
  },
  "language_info": {
   "codemirror_mode": {
    "name": "ipython",
    "version": 3
   },
   "file_extension": ".py",
   "mimetype": "text/x-python",
   "name": "python",
   "nbconvert_exporter": "python",
   "pygments_lexer": "ipython3",
   "version": "3.7.3"
  }
 },
 "nbformat": 4,
 "nbformat_minor": 2
}
